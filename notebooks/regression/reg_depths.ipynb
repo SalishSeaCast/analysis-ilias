{
 "cells": [
  {
   "cell_type": "markdown",
   "metadata": {},
   "source": [
    "# Importing"
   ]
  },
  {
   "cell_type": "code",
   "execution_count": null,
   "metadata": {},
   "outputs": [],
   "source": [
    "import xarray as xr\n",
    "import numpy as np\n",
    "import pandas as pd\n",
    "import matplotlib.pyplot as plt\n",
    "\n",
    "import salishsea_tools.viz_tools as sa_vi\n",
    "\n",
    "from sklearn.neural_network import MLPRegressor\n",
    "from sklearn.model_selection import train_test_split\n",
    "from sklearn import preprocessing\n",
    "\n",
    "from sklearn.metrics import r2_score\n",
    "from sklearn.metrics import mean_squared_error as mse\n"
   ]
  },
  {
   "cell_type": "markdown",
   "metadata": {},
   "source": [
    "# Datasets Preparation"
   ]
  },
  {
   "cell_type": "code",
   "execution_count": null,
   "metadata": {},
   "outputs": [],
   "source": [
    "def datasets_preparation():\n",
    "\n",
    "   # Driver variables\n",
    "    temp = ds.votemper.where(mask==1)\n",
    "    saline = ds.vosaline.where(mask==1)\n",
    "\n",
    "    # Biological variables\n",
    "    sil = ds_bio.silicon.where(mask==1)\n",
    "    nitr = ds_bio.nitrate.where(mask==1)\n",
    "    ammo = ds_bio.ammonium.where(mask==1)\n",
    "\n",
    "    # Phytoplankton variables\n",
    "    diat = ds_bio.diatoms.where(mask==1)\n",
    "    flag = ds_bio.flagellates.where(mask==1)\n",
    "    \n",
    "    # Zooplankton variables\n",
    "    micro = ds_bio.microzooplankton.where(mask==1)\n",
    "    meso = ds_bio.mesozooplankton.where(mask==1)\n",
    "    \n",
    "    return (temp, saline, sil, nitr, ammo, diat, flag, micro, meso)\n"
   ]
  },
  {
   "cell_type": "markdown",
   "metadata": {},
   "source": [
    "# MLPRegressor"
   ]
  },
  {
   "cell_type": "code",
   "execution_count": null,
   "metadata": {},
   "outputs": [],
   "source": [
    "def regressor (inputs, targets, variable_name):\n",
    "\n",
    "    # Pre processing \n",
    "    indx = np.where(~np.isnan(inputs).any(axis=0))\n",
    "    inputs2 = inputs[:,indx[0]]\n",
    "    inputs2 = inputs2.transpose()\n",
    "\n",
    "    targets2 = np.ravel(targets)\n",
    "    targets2 = targets2[indx[0]]\n",
    "    \n",
    "    # Regressor\n",
    "    scale = preprocessing.StandardScaler()\n",
    "    inputs2 = scale.fit_transform(inputs2)\n",
    "    X_train, X_test, y_train, y_test = train_test_split(inputs2, targets2, random_state=1)\n",
    "    regr = MLPRegressor(hidden_layer_sizes = 100, activation = 'relu', solver = 'adam', max_iter=1500, random_state=1, learning_rate_init=0.01).fit(X_train, y_train)\n",
    "    outputs_test = regr.predict(X_test)\n",
    "    outputs = regr.predict(inputs2)\n",
    "\n",
    "    scatter_plot(y_test, outputs_test, variable_name + ' (Testing dataset)')\n",
    "    scatter_plot(targets2,outputs,variable_name)\n",
    "\n",
    "    # Post processing\n",
    "    indx2 = np.full(inputs[0,:].size,np.nan)\n",
    "    indx2[indx[0]] = outputs\n",
    "    model = np.reshape(indx2,(898,398)) \n",
    "\n",
    "    # Preparation of the dataarray \n",
    "    model = xr.DataArray(model,\n",
    "                    coords = {'y': temp.y, 'x': temp.x},\n",
    "                    dims = ['y','x'],\n",
    "                    attrs=dict( long_name = variable_name + \" Concentration\",\n",
    "                                units=\"mmol m-2\"),\n",
    "                        )\n",
    "\n",
    "    plotting(targets2, model, targets, variable_name)\n",
    "\n",
    "    return (regr)"
   ]
  },
  {
   "cell_type": "markdown",
   "metadata": {},
   "source": [
    "# Printing"
   ]
  },
  {
   "cell_type": "code",
   "execution_count": null,
   "metadata": {},
   "outputs": [],
   "source": [
    "def printing (targets,outputs,m):\n",
    "\n",
    "    print ('The slope of the best fitting line is ', np.round(m,3))\n",
    "    print ('The correlation coefficient is:', np.round(r2_score(targets, outputs),3))\n",
    "    print (' The mean square error is:', np.round(mse(targets,outputs),5))\n"
   ]
  },
  {
   "cell_type": "markdown",
   "metadata": {},
   "source": [
    "## Scatter Plot"
   ]
  },
  {
   "cell_type": "code",
   "execution_count": null,
   "metadata": {},
   "outputs": [],
   "source": [
    "def scatter_plot(targets, outputs, variable_name):\n",
    "\n",
    "    # compute slope m and intercept b\n",
    "    m, b = np.polyfit(targets, outputs, deg=1)\n",
    "\n",
    "    printing (targets, outputs, m)\n",
    "    \n",
    "    fig, ax = plt.subplots()\n",
    "\n",
    "    plt.scatter(targets,outputs, alpha = 0.2, s = 10)\n",
    "    plt.xlabel('targets')\n",
    "    plt.ylabel('outputs')\n",
    "\n",
    "    lims = [\n",
    "        np.min([ax.get_xlim(), ax.get_ylim()]),  # min of both axes\n",
    "        np.max([ax.get_xlim(), ax.get_ylim()]),  # max of both axes\n",
    "    ]\n",
    "\n",
    "    # plot fitted y = m*x + b\n",
    "    plt.axline(xy1=(0, b), slope=m, color='r')\n",
    "\n",
    "    ax.set_aspect('equal')\n",
    "    ax.set_xlim(lims)\n",
    "    ax.set_ylim(lims)\n",
    "\n",
    "    ax.plot(lims, lims,linestyle = '--',color = 'k')\n",
    "\n",
    "    fig.suptitle(str(date.date[0]) + ', Depth: ' + str(np.round(ds['deptht'][depth].values,2)) + ' meters' + ', ' + variable_name)\n",
    "\n",
    "    plt.show()\n"
   ]
  },
  {
   "cell_type": "markdown",
   "metadata": {},
   "source": [
    "# Plotting"
   ]
  },
  {
   "cell_type": "code",
   "execution_count": null,
   "metadata": {},
   "outputs": [],
   "source": [
    "def plotting (targets, model, variable, variable_name):\n",
    "\n",
    "    fig, ax = plt.subplots(2,2, figsize = (10,15))\n",
    "\n",
    "    cmap = plt.get_cmap('cubehelix')\n",
    "    cmap.set_bad('gray')\n",
    "\n",
    "    variable.plot(ax=ax[0,0], cmap=cmap, vmin = targets.min(), vmax =targets.max(), cbar_kwargs={'label': variable_name + ' Concentration  [mmol m-3]'})\n",
    "    model.plot(ax=ax[0,1], cmap=cmap, vmin = targets.min(), vmax = targets.max(), cbar_kwargs={'label': variable_name + ' Concentration  [mmol m-3]'})\n",
    "    ((variable-model)/variable*100).plot(ax=ax[1,0], cmap=cmap, cbar_kwargs={'label': variable_name + ' Concentration  [percentage]'})\n",
    "\n",
    "    plt.subplots_adjust(left=0.1,\n",
    "        bottom=0.1, \n",
    "        right=0.95, \n",
    "        top=0.95, \n",
    "        wspace=0.35, \n",
    "        hspace=0.35)\n",
    "\n",
    "    sa_vi.set_aspect(ax[0,0])\n",
    "    sa_vi.set_aspect(ax[0,1])\n",
    "    sa_vi.set_aspect(ax[1,0])\n",
    "\n",
    "    ax[0,0].title.set_text(variable_name + ' (targets)')\n",
    "    ax[0,1].title.set_text(variable_name + ' (outputs)')\n",
    "    ax[1,0].title.set_text('targets - outputs')\n",
    "    ax[1,1].axis('off')\n",
    "\n",
    "    fig.suptitle(str(date.date[0]) + ', Depth: ' + str(np.round(ds['deptht'][depth].values,2)) + ' meters')\n",
    "\n",
    "    plt.show()\n",
    "    "
   ]
  },
  {
   "cell_type": "markdown",
   "metadata": {},
   "source": [
    "# Regressor for Other Depths"
   ]
  },
  {
   "cell_type": "code",
   "execution_count": null,
   "metadata": {},
   "outputs": [],
   "source": [
    "def regressor2 (inputs,targets, variable_name, reg_variable):\n",
    "    \n",
    "    # Pre processing \n",
    "    indx = np.where(~np.isnan(inputs).any(axis=0))\n",
    "    inputs2 = inputs[:,indx[0]]\n",
    "    inputs2 = inputs2.transpose()\n",
    "\n",
    "    targets2 = np.ravel(targets)\n",
    "    targets2 = targets2[indx[0]]\n",
    "\n",
    "    # Regressor\n",
    "    scale = preprocessing.StandardScaler()\n",
    "    inputs2 = scale.fit_transform(inputs2)\n",
    "    outputs = reg_variable.predict(inputs2)\n",
    "\n",
    "    # Post processing\n",
    "    indx2 = np.full(inputs[0,:].size,np.nan)\n",
    "    indx2[indx[0]] = outputs\n",
    "    model = np.reshape(indx2,(898,398)) \n",
    "    \n",
    "    scatter_plot(targets2,outputs,variable_name)\n",
    "\n",
    "    # Preparation of the dataarray \n",
    "    model = xr.DataArray(model,\n",
    "                    coords = {'y': temp.y, 'x': temp.x},\n",
    "                    dims = ['y','x'],\n",
    "                    attrs=dict( long_name = variable_name + \" Concentration\",\n",
    "                                units=\"mmol m-2\"),\n",
    "                        )\n",
    "\n",
    "    plotting(targets2, model, targets, variable_name)\n",
    "                  \n",
    "    return ()"
   ]
  },
  {
   "cell_type": "markdown",
   "metadata": {},
   "source": [
    "# Main Body"
   ]
  },
  {
   "cell_type": "code",
   "execution_count": null,
   "metadata": {},
   "outputs": [],
   "source": [
    "# Dataset and date\n",
    "ds = xr.open_dataset ('/results2/SalishSea/nowcast-green.202111/20mar22/SalishSea_1d_20220320_20220320_grid_T.nc')\n",
    "ds_bio = xr. open_dataset ('/results2/SalishSea/nowcast-green.202111/20mar22/SalishSea_1d_20220320_20220320_biol_T.nc')\n",
    "date = pd.DatetimeIndex(ds['time_counter'].values)\n",
    "\n",
    "# Open the mesh mask\n",
    "mesh = xr.open_dataset('/home/sallen/MEOPAR/grid/mesh_mask202108.nc')\n",
    "mask = mesh.tmask.to_numpy()\n",
    "\n",
    "temp, saline, sil, nitr, ammo, diat, flag, micro, meso = datasets_preparation()\n",
    "\n",
    "\n",
    "for depth in range (11, 12):\n",
    "\n",
    "    # Potential input variables\n",
    "    drivers = np.stack([np.ravel(temp[0,depth]), np.ravel(saline[0,depth])])\n",
    "    nutrients = np.stack([np.ravel(sil[0,depth]), np.ravel(nitr[0,depth]), np.ravel(ammo[0,depth])])\n",
    "    phyto = np.stack([np.ravel(diat[0,depth]), np.ravel(flag[0,depth])])\n",
    "    zoo = np.stack([np.ravel(micro[0,depth]), np.ravel(meso[0,depth])])\n",
    "\n",
    "    reg_sil = regressor (drivers,sil[0,depth], 'Silicon')\n",
    "    reg_nitr = regressor (drivers,nitr[0,depth], 'Nitrate')\n",
    "    reg_ammo = regressor (drivers, ammo[0,depth], 'Ammonium')\n",
    "\n",
    "    reg_diat = regressor(drivers, diat[0,depth], 'Diatom')\n",
    "    reg_flag = regressor(drivers, flag[0,depth], 'Flagellate')\n",
    "\n",
    "    reg_micro = regressor(drivers, micro[0,depth], 'Microzooplankton')\n",
    "    reg_meso = regressor(drivers, meso[0,depth], 'Mesozooplankton')\n"
   ]
  },
  {
   "cell_type": "markdown",
   "metadata": {},
   "source": [
    "# Next Depth"
   ]
  },
  {
   "cell_type": "code",
   "execution_count": null,
   "metadata": {},
   "outputs": [],
   "source": [
    "for depth in range (13, 16):\n",
    "\n",
    "    # Potential input variables\n",
    "    drivers = np.stack([np.ravel(temp[0,depth]), np.ravel(saline[0,depth])])\n",
    "    nutrients = np.stack([np.ravel(sil[0,depth]), np.ravel(nitr[0,depth]), np.ravel(ammo[0,depth])])\n",
    "    phyto = np.stack([np.ravel(diat[0,depth]), np.ravel(flag[0,depth])])\n",
    "    zoo = np.stack([np.ravel(micro[0,depth]), np.ravel(meso[0,depth])])\n",
    "\n",
    "    regressor2 (drivers,sil[0,depth], 'Silicon', reg_sil)\n",
    "    regressor2 (drivers,nitr[0,depth], 'Nitrate', reg_nitr)\n",
    "    regressor2 (drivers, ammo[0,depth], 'Ammonium', reg_ammo)\n",
    "\n",
    "    regressor2 (drivers, diat[0,depth], 'Diatom', reg_diat)\n",
    "    regressor2 (drivers, flag[0,depth], 'Flagellate', reg_flag)\n",
    "\n",
    "    regressor2 (drivers, micro[0,depth], 'Microzooplankton', reg_micro)\n",
    "    regressor2 (drivers, meso[0,depth], 'Mesozooplankton', reg_meso)"
   ]
  }
 ],
 "metadata": {
  "kernelspec": {
   "display_name": "analysis-ilias",
   "language": "python",
   "name": "python3"
  },
  "language_info": {
   "codemirror_mode": {
    "name": "ipython",
    "version": 3
   },
   "file_extension": ".py",
   "mimetype": "text/x-python",
   "name": "python",
   "nbconvert_exporter": "python",
   "pygments_lexer": "ipython3",
   "version": "3.11.6"
  }
 },
 "nbformat": 4,
 "nbformat_minor": 2
}
