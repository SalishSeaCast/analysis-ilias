{
 "cells": [
  {
   "cell_type": "markdown",
   "metadata": {},
   "source": [
    "# Predicting Diatom concentration with functional regression based on the oceanographic boxes (grid points)"
   ]
  },
  {
   "cell_type": "markdown",
   "metadata": {},
   "source": [
    "## Importing"
   ]
  },
  {
   "cell_type": "code",
   "execution_count": null,
   "metadata": {},
   "outputs": [],
   "source": [
    "import xarray as xr\n",
    "import numpy as np\n",
    "import pandas as pd\n",
    "import matplotlib.pyplot as plt\n",
    "import xskillscore as xs\n",
    "\n",
    "from sklearn.compose import make_column_transformer\n",
    "from sklearn.preprocessing import MinMaxScaler\n",
    "from sklearn.preprocessing import StandardScaler\n",
    "from sklearn.feature_selection import r_regression\n",
    "\n",
    "from skfda.representation.grid import FDataGrid\n",
    "from skfda.ml.clustering import KMeans\n",
    "\n",
    "from skfda.ml.regression import HistoricalLinearRegression\n",
    "\n",
    "from skfda.misc.hat_matrix import NadarayaWatsonHatMatrix, LocalLinearRegressionHatMatrix, KNeighborsHatMatrix\n",
    "from skfda.preprocessing.smoothing import KernelSmoother\n",
    "\n",
    "from sklearn.metrics import root_mean_squared_error as rmse\n",
    "\n",
    "import os\n",
    "import lzma\n",
    "import dill\n",
    "\n",
    "from tqdm import tqdm\n",
    "\n",
    "import random\n",
    "\n",
    "import cmocean.cm as cm\n",
    "import salishsea_tools.viz_tools as sa_vi\n"
   ]
  },
  {
   "cell_type": "markdown",
   "metadata": {},
   "source": [
    "## Datasets Preparation (Function)"
   ]
  },
  {
   "cell_type": "code",
   "execution_count": null,
   "metadata": {},
   "outputs": [],
   "source": [
    "# Creation of the training - testing datasets\n",
    "def datasets_preparation(dataset, dataset2, regions0, name, inputs_names):\n",
    "    \n",
    "    indx = np.where((dataset.time_counter.dt.month==2) & (dataset.time_counter.dt.day==29))\n",
    "    \n",
    "    targets = dataset[name].to_numpy().reshape(*dataset[name].to_numpy().shape[:1],-1)\n",
    "    \n",
    "    inputs = []\n",
    "    \n",
    "    for i in inputs_names:\n",
    "        inputs.append(dataset2[i].to_numpy().reshape(*dataset2[i].to_numpy().shape[:1],-1))\n",
    "\n",
    "    inputs = np.array(inputs)\n",
    "\n",
    "    # Deleting 29 of February\n",
    "    inputs = np.delete(inputs,indx,axis=1)\n",
    "    targets = np.delete(targets,indx,axis=0)\n",
    "\n",
    "    # Splitting in years\n",
    "    inputs = np.split(inputs,len(np.unique(dataset.time_counter.dt.year)),axis=1)\n",
    "    targets = np.split(targets,len(np.unique(dataset.time_counter.dt.year)),axis=0)\n",
    "\n",
    "    # Grouping all the years (amount of days for one year * amount of grid boxes)\n",
    "    inputs = np.concatenate(inputs,axis=2)\n",
    "    targets = np.concatenate(targets,axis=1)\n",
    "\n",
    "    x = np.tile(dataset.x, len(np.unique(dataset.time_counter.dt.year))*len(dataset.y))\n",
    "    y = np.tile(np.repeat(dataset.y, len(dataset.x)), len(np.unique(dataset.time_counter.dt.year)))\n",
    "\n",
    "    indx = np.where((~np.isnan(targets).any(axis=0))& (x>10) & ((x>100) | (y<880)))\n",
    "    inputs = inputs[:,:,indx[0]]\n",
    "    targets = targets[:,indx[0]]\n",
    "\n",
    "    regions = np.tile(np.ravel(regions0), len(dataset.time_counter))\n",
    "    regions = regions[indx[0]]\n",
    "\n",
    "    return(inputs, targets, indx, regions)\n"
   ]
  },
  {
   "cell_type": "markdown",
   "metadata": {},
   "source": [
    "## Datasets Preparation 2 (Function)"
   ]
  },
  {
   "cell_type": "code",
   "execution_count": null,
   "metadata": {},
   "outputs": [],
   "source": [
    "# Creation of the data arrays\n",
    "def datasets_preparation2(variable, name, units, dataset, indx):\n",
    "\n",
    "    dates = pd.DatetimeIndex(dataset['time_counter'].values)\n",
    "    indx2 = ~((dataset.time_counter.dt.month==2) & (dataset.time_counter.dt.day==29))\n",
    "    dates = dates[indx2]\n",
    "    \n",
    "    # Creating the maps size (with nans)\n",
    "    variable_all = np.full((len(variable), len(dataset.y) * len(dataset.x)),np.nan)\n",
    "    variable_all[:,indx[0]] = variable\n",
    "    variable_all = np.reshape(variable_all,(len(dates),len(dataset.y),len(dataset.x)))\n",
    "\n",
    "    # Preparation of the dataarray \n",
    "    array = xr.DataArray(variable_all,\n",
    "        coords = {'time_counter': dates,'y': dataset.y, 'x': dataset.x},\n",
    "        dims = ['time_counter','y','x'],\n",
    "        attrs=dict(description= name,\n",
    "        units=units))\n",
    "        \n",
    "    return (array)\n"
   ]
  },
  {
   "cell_type": "markdown",
   "metadata": {},
   "source": [
    "## File Creation (Function)"
   ]
  },
  {
   "cell_type": "code",
   "execution_count": null,
   "metadata": {},
   "outputs": [],
   "source": [
    "def file_creation(path, variable, name):\n",
    "\n",
    "    temp = variable.to_dataset(name=name)\n",
    "    temp.to_netcdf(path = path + 'targets_predictions.nc', mode='a', encoding={name:{\"zlib\": True, \"complevel\": 9}})\n",
    "    "
   ]
  },
  {
   "cell_type": "markdown",
   "metadata": {},
   "source": [
    "## Regressor (Function)"
   ]
  },
  {
   "cell_type": "code",
   "execution_count": null,
   "metadata": {},
   "outputs": [],
   "source": [
    "def regressor (inputs, targets, j, r_inputs):\n",
    "\n",
    "    # Printing of the correlation coefficients\n",
    "    temp_inputs = np.reshape(inputs,(len(inputs),inputs.shape[1]*inputs.shape[2]))\n",
    "    temp_inputs = temp_inputs.transpose()\n",
    "    temp_targets = np.ravel(targets)\n",
    "\n",
    "    r_inputs[j] = np.round(r_regression(temp_inputs,temp_targets),2)\n",
    "\n",
    "    # Scaling the inputs\n",
    "    scaler_inputs = make_column_transformer((StandardScaler(), np.arange(0,len(inputs))))\n",
    "    temp_inputs = scaler_inputs.fit_transform(temp_inputs)\n",
    "    temp_inputs = temp_inputs.transpose()\n",
    "    inputs = np.reshape(temp_inputs,(len(inputs),inputs.shape[1],inputs.shape[2]))   \n",
    "    inputs = np.transpose(inputs,axes=(2,1,0))\n",
    "    \n",
    "    # Scaling the targets\n",
    "    scaler_targets = StandardScaler()\n",
    "    temp_targets = np.expand_dims(temp_targets,-1)\n",
    "    temp_targets = scaler_targets.fit_transform(temp_targets)\n",
    "    targets = temp_targets.reshape(targets.shape)\n",
    "\n",
    "    # Final transformations\n",
    "    targets = targets.transpose()\n",
    "    inputs = FDataGrid(data_matrix=inputs, grid_points=np.arange(0,len(targets[0])))\n",
    "    targets = FDataGrid(data_matrix=targets, grid_points=np.arange(0,len(targets[0])))\n",
    "\n",
    "    ## Smoothing\n",
    "    # targets = targets.to_basis(FourierBasis(n_basis=10)\n",
    "    kernel_estimator = LocalLinearRegressionHatMatrix(bandwidth=1)\n",
    "    smoother = KernelSmoother(kernel_estimator=kernel_estimator)\n",
    "    inputs = smoother.fit_transform(inputs)\n",
    "\n",
    "    model = HistoricalLinearRegression(n_intervals=3,lag=74)\n",
    "    regr = model.fit(inputs,targets)\n",
    "\n",
    "    return(regr,scaler_inputs,scaler_targets,smoother,r_inputs)\n"
   ]
  },
  {
   "cell_type": "markdown",
   "metadata": {},
   "source": [
    "## Scaling (Function)"
   ]
  },
  {
   "cell_type": "code",
   "execution_count": null,
   "metadata": {},
   "outputs": [],
   "source": [
    "def scaling(regr,inputs,scaler_inputs,targets,scaler_targets,smoother):\n",
    "\n",
    "    # Scaling the inputs\n",
    "    temp = np.reshape(inputs,(len(inputs),inputs.shape[1]*inputs.shape[2]))\n",
    "    temp = temp.transpose()\n",
    "    temp = scaler_inputs.transform(temp)\n",
    "    temp = temp.transpose()        \n",
    "    inputs = np.reshape(temp,(len(inputs),inputs.shape[1],inputs.shape[2]))\n",
    "        \n",
    "    inputs = np.transpose(inputs,axes=(2,1,0))\n",
    "    inputs = FDataGrid(data_matrix=inputs, grid_points=np.arange(0,len(targets)))\n",
    "\n",
    "    inputs = smoother.transform(inputs)\n",
    "\n",
    "    predictions = regr.predict(inputs)\n",
    "\n",
    "    # Post-processing of predictions\n",
    "    predictions = np.array(predictions.to_grid(np.arange(0,len(targets))).data_matrix)\n",
    "    predictions = np.squeeze(predictions,2)\n",
    "\n",
    "    # Scaling the predictions\n",
    "    temp = np.ravel(predictions)\n",
    "    temp = np.expand_dims(temp,axis=-1)\n",
    "    temp = scaler_targets.inverse_transform(temp)\n",
    "    predictions = temp.reshape(predictions.shape)\n",
    "    predictions = predictions.transpose()\n",
    "\n",
    "    return(predictions)\n"
   ]
  },
  {
   "cell_type": "markdown",
   "metadata": {},
   "source": [
    "## Scatter Plot (Function)"
   ]
  },
  {
   "cell_type": "code",
   "execution_count": null,
   "metadata": {},
   "outputs": [],
   "source": [
    "def scatter_plot(targets, predictions, name):\n",
    "\n",
    "    # compute slope m and intercept b\n",
    "    m, b = np.polyfit(targets, predictions, deg=1)\n",
    "\n",
    "    fig, ax = plt.subplots(2, figsize=(5,10), layout='constrained')\n",
    "\n",
    "    ax[0].scatter(targets,predictions, alpha = 0.2, s = 10)\n",
    "\n",
    "    lims = [np.min([ax[0].get_xlim(), ax[0].get_ylim()]),\n",
    "        np.max([ax[0].get_xlim(), ax[0].get_ylim()])]\n",
    "\n",
    "    # plot fitted y = m*x + b\n",
    "    ax[0].axline(xy1=(0, b), slope=m, color='r')\n",
    "\n",
    "    ax[0].set_xlabel('targets')\n",
    "    ax[0].set_ylabel('predictions')\n",
    "    ax[0].set_xlim(lims)\n",
    "    ax[0].set_ylim(lims)\n",
    "    ax[0].set_aspect('equal')\n",
    "\n",
    "    ax[0].plot(lims, lims,linestyle = '--',color = 'k')\n",
    "\n",
    "    h = ax[1].hist2d(targets,predictions, bins=100, cmap='jet', \n",
    "        range=[lims,lims], cmin=0.1, norm='log')\n",
    "    \n",
    "    ax[1].plot(lims, lims,linestyle = '--',color = 'k')\n",
    "\n",
    "    # plot fitted y = m*x + b\n",
    "    ax[1].axline(xy1=(0, b), slope=m, color='r')\n",
    "\n",
    "    ax[1].set_xlabel('targets')\n",
    "    ax[1].set_ylabel('predictions')\n",
    "    ax[1].set_aspect('equal')\n",
    "\n",
    "    fig.colorbar(h[3],ax=ax[1], location='bottom')\n",
    "\n",
    "    fig.suptitle(name)\n",
    "\n",
    "    plt.show()\n",
    "\n",
    "    return(m)\n"
   ]
  },
  {
   "cell_type": "markdown",
   "metadata": {},
   "source": [
    "## Plotting (Regions)"
   ]
  },
  {
   "cell_type": "code",
   "execution_count": null,
   "metadata": {},
   "outputs": [],
   "source": [
    "def plot_box(ax, corn, colour):\n",
    "\n",
    "    ax.plot([corn[2], corn[3], corn[3], corn[2], corn[2]], \n",
    "    [corn[0], corn[0], corn[1], corn[1], corn[0]], '-', color=colour)"
   ]
  },
  {
   "cell_type": "markdown",
   "metadata": {},
   "source": [
    "## Plotting Criteria (Function)"
   ]
  },
  {
   "cell_type": "code",
   "execution_count": null,
   "metadata": {},
   "outputs": [],
   "source": [
    "def plotting_criteria(dates, variable, year_variable, title):\n",
    "    \n",
    "    indx = pd.DatetimeIndex(dates)\n",
    "    fig, ax = plt.subplots()\n",
    "\n",
    "    scatter= ax.scatter(dates,variable, marker='.', c=indx.month)\n",
    "    plt.xticks(rotation=70)\n",
    "    ax.legend(handles=scatter.legend_elements()[0], labels=['February','March','April'])\n",
    "    ax.plot(dates[(indx.month == 3) & (indx.day == 15)], year_variable,color='red',marker='*')\n",
    "    fig.suptitle(title + ' (15 Feb - 30 Apr)')\n",
    "    \n",
    "    fig.show()\n"
   ]
  },
  {
   "cell_type": "markdown",
   "metadata": {},
   "source": [
    "## Plotting Mean Values (Function)"
   ]
  },
  {
   "cell_type": "code",
   "execution_count": null,
   "metadata": {},
   "outputs": [],
   "source": [
    "def plotting_mean_values(dates, targets_mean, predictions_mean, i, units, category, region, boxnames):\n",
    "\n",
    "    r_train = np.round(np.corrcoef(np.ravel(targets_mean), np.ravel(predictions_mean))[0][1],3)\n",
    "    rms_train = rmse(np.ravel(targets_mean), np.ravel(predictions_mean))\n",
    "    m,_ = np.polyfit(np.ravel(targets_mean), np.ravel(predictions_mean), deg=1)\n",
    "    slope_train = np.round(m,3)\n",
    "\n",
    "    temp = pd.DataFrame(np.vstack((r_train,rms_train,slope_train)).transpose(),index=[boxnames[i]],columns=['r','rms','slope'])\n",
    "    display(temp)\n",
    "\n",
    "    years = np.unique(dates.year)\n",
    "    ticks = [0]\n",
    "    \n",
    "    fig, _ = plt.subplots(figsize=(19,5))\n",
    "    \n",
    "    targets_mean = np.ma.array(targets_mean)\n",
    "    predictions_mean = np.ma.array(predictions_mean)\n",
    "\n",
    "    for year in years[:-1]:\n",
    "        ticks.append((np.where(dates.year==year)[0][-1]+1))\n",
    "        targets_mean[(np.where(dates.year==year)[0][-1]+1)] = np.ma.masked\n",
    "        predictions_mean[(np.where(dates.year==year)[0][-1]+1)] = np.ma.masked\n",
    "\n",
    "    plt.plot(targets_mean, label = 'targets')\n",
    "    plt.plot(predictions_mean, label = 'predictions')\n",
    "    plt.xlabel('Years')\n",
    "    plt.xticks(ticks,years)\n",
    "    plt.suptitle('Mean '+category + ' ' +units + ' (15 Feb - 30 Apr) ' + region + ' ' + boxnames[i])\n",
    "    plt.legend()\n",
    "    plt.show()\n",
    "\n",
    "    return(r_train,rms_train,slope_train)\n",
    "    "
   ]
  },
  {
   "cell_type": "markdown",
   "metadata": {},
   "source": [
    "## Plotting Maps (Function)"
   ]
  },
  {
   "cell_type": "code",
   "execution_count": null,
   "metadata": {},
   "outputs": [],
   "source": [
    "def plotting_maps(targets, predictions, name, units):\n",
    "\n",
    "    fig, ax = plt.subplots(2,2, figsize = (10,15), layout='tight')\n",
    "\n",
    "    cmap = plt.get_cmap('cubehelix')\n",
    "    cmap.set_bad('gray')\n",
    "\n",
    "    targets.plot(ax=ax[0,0], cmap=cmap, vmin = targets.min(), vmax = targets.max(), cbar_kwargs={'label': name + ' ' + units})\n",
    "    predictions.plot(ax=ax[0,1], cmap=cmap, vmin = targets.min(), vmax = targets.max(), cbar_kwargs={'label': name + ' ' + units})\n",
    "    (targets-predictions).plot(ax=ax[1,0], cmap=cmap, cbar_kwargs={'label': name + ' ' + units})\n",
    "\n",
    "    plt.subplots_adjust(left=0.1,\n",
    "        bottom=0.1, \n",
    "        right=0.95, \n",
    "        top=0.95, \n",
    "        wspace=0.35, \n",
    "        hspace=0.35)\n",
    "\n",
    "    sa_vi.set_aspect(ax[0,0])\n",
    "    sa_vi.set_aspect(ax[0,1])\n",
    "    sa_vi.set_aspect(ax[1,0])\n",
    "\n",
    "    ax[0,0].title.set_text('Targets')\n",
    "    ax[0,1].title.set_text('Predictions')\n",
    "    ax[1,0].title.set_text('Targets-Predictions')\n",
    "    ax[1,1].axis('off')\n",
    "\n",
    "    fig.suptitle(name + ' '+ str(targets.time_counter.dt.date.values))\n",
    "\n",
    "    plt.show()\n",
    "    "
   ]
  },
  {
   "cell_type": "markdown",
   "metadata": {},
   "source": [
    "## Post Processing (Function)"
   ]
  },
  {
   "cell_type": "code",
   "execution_count": null,
   "metadata": {},
   "outputs": [],
   "source": [
    "def post_processing(dates,regions,boxes,targets,predictions,units,category,boxnames):\n",
    "\n",
    "    targets_mean = np.zeros((len(boxes),len(dates)))\n",
    "    predictions_mean = np.zeros((len(boxes),len(dates)))\n",
    "    \n",
    "    r_train = np.zeros(len(boxes))\n",
    "    rms_train = np.zeros(len(boxes))\n",
    "    slope_train = np.zeros(len(boxes))\n",
    "\n",
    "    for i in range (0,len(boxes)):\n",
    "\n",
    "        indx2 = np.where(regions==i) # indexes of the j cluster\n",
    "        targets2 = targets[:,indx2[0]] # inputs of the j cluster\n",
    "        predictions2 = predictions[:,indx2[0]] # predictions of the j cluster\n",
    "\n",
    "        # for the daily mean plot\n",
    "        targets_mean_temp = np.split(targets2,len(np.unique(dates.year)),axis=1)\n",
    "        targets_mean_temp = np.ravel(targets_mean_temp)\n",
    "        targets_mean_temp = np.reshape(targets_mean_temp,(len(dates),int(len(indx2[0])/len(np.unique(dates.year)))))\n",
    "        targets_mean[i] = np.mean(targets_mean_temp,axis=1)\n",
    "\n",
    "        predictions_mean_temp = np.split(predictions2,len(np.unique(dates.year)),axis=1)\n",
    "        predictions_mean_temp = np.ravel(predictions_mean_temp)\n",
    "        predictions_mean_temp = np.reshape(predictions_mean_temp,(len(dates),int(len(indx2[0])/len(np.unique(dates.year)))))\n",
    "        predictions_mean[i] = np.mean(predictions_mean_temp,axis=1)\n",
    "\n",
    "        r_train[i], rms_train[i], slope_train[i] = plotting_mean_values(dates, targets_mean[i], predictions_mean[i], i, units, category, '', boxnames)\n",
    "\n",
    "    return(r_train,rms_train,slope_train,targets_mean,predictions_mean)\n"
   ]
  },
  {
   "cell_type": "markdown",
   "metadata": {},
   "source": [
    "## Evaluation (Function)"
   ]
  },
  {
   "cell_type": "code",
   "execution_count": null,
   "metadata": {},
   "outputs": [],
   "source": [
    "def evaluation (years, regr_all, boxes, regions0, dataset, dataset2, name, units, scaler_inputs_all, scaler_targets_all, smoother_all,inputs_names):\n",
    "\n",
    "    # For every year\n",
    "    r_years,rms_years,slope_years = np.array([]),np.array([]),np.array([])\n",
    "\n",
    "    # For the metrics \n",
    "    targets_temp,predictions_temp = [],[]\n",
    "\n",
    "    # The data arrays \n",
    "    targets_all,predictions_all = [],[]\n",
    "\n",
    "    for year in (years):\n",
    "\n",
    "        dataset_temp = dataset.sel(time_counter=str(year))\n",
    "        dataset2_temp = dataset2.sel(time_counter=str(year))\n",
    "\n",
    "        inputs, targets, indx, regions  = datasets_preparation(dataset_temp, dataset2_temp, regions0, name, inputs_names)\n",
    "\n",
    "        # Predictions for each regressor\n",
    "        predictions = np.full(targets.shape,np.nan) # size of targets without nans\n",
    "\n",
    "        for i in range (0,len(boxes)):\n",
    "            \n",
    "            indx2 = np.where(regions==i) # indexes of the i cluster\n",
    "            inputs2 = inputs[:,:,indx2[0]] # inputs of the i cluster\n",
    "            targets2 = targets[:,indx2[0]] # targets of the i cluster\n",
    "            predictions2 = scaling(regr_all[i],inputs2,scaler_inputs_all[i],targets,scaler_targets_all[i],smoother_all[i])\n",
    "            predictions[:,indx2[0]] = predictions2 # putting them in the right place\n",
    "\n",
    "            targets_temp.extend(np.ravel(targets2))\n",
    "            predictions_temp.extend(np.ravel(predictions2))\n",
    "\n",
    "        # Calculating the annual time-series\n",
    "        m_year = scatter_plot(np.ravel(targets), np.ravel(predictions), name + ' for '+ str(year)) \n",
    "        r_year = np.corrcoef(np.ravel(targets), np.ravel(predictions))[0][1]\n",
    "        rms_year = rmse(np.ravel(targets), np.ravel(predictions))\n",
    "        \n",
    "        r_years = np.append(r_years,r_year)\n",
    "        rms_years = np.append(rms_years,rms_year)\n",
    "        slope_years = np.append(slope_years,m_year)\n",
    "\n",
    "        # Daily arrays\n",
    "        targets_all.append (datasets_preparation2(targets, name + ' _targets', units, dataset_temp, indx))\n",
    "        predictions_all.append(datasets_preparation2(predictions, name + ' _predictions', units, dataset_temp, indx))   \n",
    "\n",
    "    # Daily arrays\n",
    "    targets_all = xr.concat(targets_all, dim='time_counter')\n",
    "    predictions_all = xr.concat(predictions_all, dim='time_counter')\n",
    "        \n",
    "    return(r_years, rms_years, slope_years, targets_all, predictions_all)\n"
   ]
  },
  {
   "cell_type": "markdown",
   "metadata": {},
   "source": [
    "## Initiation"
   ]
  },
  {
   "cell_type": "code",
   "execution_count": null,
   "metadata": {},
   "outputs": [],
   "source": [
    "name = 'Diatom'\n",
    "units = '[mmol m-2]'\n",
    "category = 'Concentrations'\n",
    "\n",
    "if name == 'Diatom':\n",
    "    inputs_names = ['Summation_of_solar_radiation','Mean_wind_speed','Mean_air_temperature']\n",
    "else:\n",
    "    inputs_names = ['Summation_of_solar_radiation','Mean_air_temperature','Mean_pressure', 'Mean_precipitation', 'Mean_specific_humidity']\n",
    "\n",
    "ds = xr.open_dataset('/data/ibougoudis/MOAD/files/integrated_original.nc')\n",
    "ds2 = xr.open_dataset('/data/ibougoudis/MOAD/files/external_inputs.nc')\n"
   ]
  },
  {
   "cell_type": "markdown",
   "metadata": {},
   "source": [
    "## Regions"
   ]
  },
  {
   "cell_type": "code",
   "execution_count": null,
   "metadata": {},
   "outputs": [],
   "source": [
    "fig, ax = plt.subplots(1, 1, figsize=(5, 9))\n",
    "mycmap = cm.deep\n",
    "mycmap.set_bad('grey')\n",
    "ax.pcolormesh(ds['Diatom'][0], cmap=mycmap)\n",
    "sa_vi.set_aspect(ax)\n",
    "\n",
    "SoG_north = [650, 730, 100, 200]\n",
    "plot_box(ax, SoG_north, 'g')\n",
    "SoG_center = [450, 550, 200, 300]\n",
    "plot_box(ax, SoG_center, 'b')\n",
    "Fraser_plume = [380, 460, 260, 330]\n",
    "plot_box(ax, Fraser_plume, 'm')\n",
    "SoG_south = [320, 380, 280, 350]\n",
    "plot_box(ax, SoG_south, 'k')\n",
    "Haro_Boundary = [290, 350, 210, 280]\n",
    "plot_box(ax, Haro_Boundary, 'm')\n",
    "JdF_west = [250, 425, 25, 125]\n",
    "plot_box(ax, JdF_west, 'c')\n",
    "JdF_east = [200, 290, 150, 260]\n",
    "plot_box(ax, JdF_east, 'w')\n",
    "PS_all = [0, 200, 80, 320]\n",
    "plot_box(ax, PS_all, 'm')\n",
    "PS_main = [20, 150, 200, 280]\n",
    "plot_box(ax, PS_main, 'r')\n",
    "\n",
    "boxnames = ['SoG_north','SoG_center','Fraser_plume','SoG_south', 'Haro_Boundary', 'JdF_west', 'JdF_east', 'PS_all', 'PS_main']\n",
    "fig.legend(boxnames)\n",
    "\n",
    "boxes = [SoG_north,SoG_center,Fraser_plume,SoG_south,Haro_Boundary,JdF_west,JdF_east,PS_all,PS_main]\n",
    "\n",
    "regions0 = np.full((len(ds.y),len(ds.x)),np.nan)\n",
    "\n",
    "for i in range (0, len(boxes)):\n",
    "    regions0[boxes[i][0]:boxes[i][1], boxes[i][2]:boxes[i][3]] = i\n",
    "\n",
    "regions0 = xr.DataArray(regions0,dims = ['y','x'])\n",
    "\n",
    "# Low resolution\n",
    "temp = []\n",
    "\n",
    "for i in boxes:\n",
    "    temp.append([x//5 for x in i])\n",
    "\n",
    "boxes = temp\n"
   ]
  },
  {
   "cell_type": "markdown",
   "metadata": {},
   "source": [
    "## Training"
   ]
  },
  {
   "cell_type": "code",
   "execution_count": null,
   "metadata": {},
   "outputs": [],
   "source": [
    "# Low resolution\n",
    "\n",
    "ds = ds.isel(y=(np.arange(ds.y[0], ds.y[-1], 5)), \n",
    "    x=(np.arange(ds.x[0], ds.x[-1], 5)))\n",
    "\n",
    "ds2 = ds2.isel(y=(np.arange(ds2.y[0], ds2.y[-1], 5)), \n",
    "    x=(np.arange(ds2.x[0], ds2.x[-1], 5)))\n",
    "\n",
    "regions0 = regions0.isel(y=(np.arange(regions0.y[0], regions0.y[-1], 5)), \n",
    "    x=(np.arange(regions0.x[0], regions0.x[-1], 5)))\n",
    "\n",
    "ds = ds.where(regions0>-1)\n",
    "ds2 = ds2.where(regions0>-1)\n",
    "\n",
    "r_inputs = np.zeros((len(boxnames), len(inputs_names)))\n",
    "\n",
    "regr_all = []\n",
    "scaler_inputs_all = []\n",
    "scaler_targets_all = []\n",
    "smoother_all = []\n",
    "\n",
    "dataset = ds.sel(time_counter = slice('2007', '2020'))\n",
    "dataset2 = ds2.sel(time_counter = slice('2007', '2020'))\n",
    "\n",
    "inputs, targets, indx, regions = datasets_preparation(dataset, dataset2, regions0, name, inputs_names)\n",
    "\n",
    "predictions = np.full(targets.shape,np.nan) # size of targets without nans\n",
    "\n",
    "for i in tqdm(range (0, len(boxes))):\n",
    "\n",
    "    indx2 = np.where(regions==i) # indexes of the i region\n",
    "    inputs2 = inputs[:,:,indx2[0]] # inputs of the i region\n",
    "    targets2 = targets[:,indx2[0]] # targets of the i region\n",
    "    \n",
    "    regr,scaler_inputs,scaler_targets,smoother,r_inputs = regressor(inputs2, targets2, i, r_inputs)\n",
    "\n",
    "    scaler_inputs_all.append(scaler_inputs)\n",
    "    scaler_targets_all.append(scaler_targets)\n",
    "    smoother_all.append(smoother)\n",
    "\n",
    "    regr_all.append(regr)\n",
    "    \n",
    "    predictions[:,indx2[0]] = scaling(regr_all[i],inputs2,scaler_inputs_all[i],targets,scaler_targets_all[i],smoother_all[i]) # putting them in the right place\n",
    "\n",
    "print('Metrics between input features and '+name)\n",
    "temp = pd.DataFrame(r_inputs,index=boxnames, columns=['Summation of solar radiation','Mean wind speed','Mean air temperature'])\n",
    "display(temp)\n"
   ]
  },
  {
   "cell_type": "markdown",
   "metadata": {},
   "source": [
    "## Heatmaps"
   ]
  },
  {
   "cell_type": "code",
   "execution_count": null,
   "metadata": {},
   "outputs": [],
   "source": [
    "for i in range(0,len(inputs_names)):\n",
    "\n",
    "    fig, axs = plt.subplots(1,len(boxes), figsize = (28,6), layout='constrained')\n",
    "\n",
    "    for j in range(0,len(boxes)):\n",
    "\n",
    "        temp = regr_all[j].coef_\n",
    "        coeff = temp.data_matrix\n",
    "        coeff = np.where(coeff==0,np.nan,coeff)\n",
    "\n",
    "        if j==0: #first time for this input feature\n",
    "\n",
    "            vmin = np.nanmin(coeff[0,:,:,i])\n",
    "            vmax = np.nanmax(coeff[0,:,:,i])\n",
    "\n",
    "        h = axs[j].imshow(coeff[0,:,:,i], cmap='bwr',aspect='auto', vmin=-np.maximum(np.abs(vmin),vmax), vmax=np.maximum(np.abs(vmin),vmax))\n",
    "        axs[j].set_ylim(axs[j].get_ylim()[::-1])\n",
    "        cbar = fig.colorbar(h)\n",
    "        axs[j].set_title(boxnames[j])\n",
    "        axs[j].set_xlabel('Day')\n",
    "        axs[j].set_ylabel('Day')\n",
    "        fig.suptitle(inputs_names[i])\n"
   ]
  },
  {
   "cell_type": "markdown",
   "metadata": {},
   "source": [
    "## Time-series (Training)"
   ]
  },
  {
   "cell_type": "code",
   "execution_count": null,
   "metadata": {},
   "outputs": [],
   "source": [
    "dates = pd.DatetimeIndex(dataset['time_counter'].values)\n",
    "indx2 = ~((dataset.time_counter.dt.month==2) & (dataset.time_counter.dt.day==29))\n",
    "dates = dates[indx2]\n",
    "\n",
    "r_train,rms_train,slope_train,targets_mean,predictions_mean = post_processing(dates,regions,boxes,targets,predictions,units,category, boxnames)\n",
    "\n",
    "season = np.reshape(targets_mean, ((len(boxes)), len(targets), len(np.unique(dates.year))), order = 'F')\n",
    "season = np.mean(season,axis=2)\n",
    "\n",
    "plt.plot(season.transpose())\n",
    "plt.legend(boxnames)\n",
    "plt.suptitle('Long-term seasonalities (2007-2020)')\n",
    "plt.show()\n",
    "\n",
    "season_train = np.tile(season,len(np.unique(dates.year))) # Broadcasting season to all training years\n",
    "\n",
    "r_train_season = np.zeros(len(boxes))\n",
    "slope_train_season = np.zeros(len(boxes))\n",
    "\n",
    "for i in range (0,len(boxes)):\n",
    "\n",
    "    r_train_season[i], _, slope_train_season[i] = plotting_mean_values(dates, targets_mean[i]-season_train[i], predictions_mean[i]-season_train[i], i, units, category, \n",
    "        '(removed seasonality) ', boxnames)\n"
   ]
  },
  {
   "cell_type": "markdown",
   "metadata": {},
   "source": [
    "## Other Years"
   ]
  },
  {
   "cell_type": "code",
   "execution_count": null,
   "metadata": {},
   "outputs": [],
   "source": [
    "dataset = ds.sel(time_counter = slice('2021', '2024'))\n",
    "dataset2 = ds2.sel(time_counter = slice('2021', '2024'))\n",
    "\n",
    "dates = pd.DatetimeIndex(dataset['time_counter'].values)\n",
    "\n",
    "indx = ~((dataset.time_counter.dt.month==2) & (dataset.time_counter.dt.day==29))\n",
    "dates = dates[indx]\n",
    "\n",
    "years = np.unique(dates.year)\n",
    "\n",
    "r_years, rms_years, slope_years, targets_all, predictions_all= evaluation(years,regr_all,boxes,regions0,dataset,dataset2,name,units,scaler_inputs_all,scaler_targets_all,smoother_all,inputs_names)\n",
    "\n",
    "r_days = xr.corr(targets_all,predictions_all, dim=['x','y'])\n",
    "rms_days = xs.rmse(targets_all,predictions_all, dim=['x','y'], skipna=True)\n",
    "slope_days = xs.linslope(targets_all,predictions_all, dim=['x','y'], skipna=True)\n",
    "\n",
    "plotting_criteria(dates, r_days, r_years, 'Correlation Coefficients')\n",
    "plotting_criteria(dates, rms_days, rms_years, 'Root Mean Square Errors')\n",
    "plotting_criteria(dates, slope_days, slope_years, 'Slopes of the best fitting line')\n",
    "\n",
    "# # Daily maps\n",
    "# maps = random.sample(sorted(np.arange(0,len(targets_all.time_counter))),10)\n",
    "# for i in maps:\n",
    "\n",
    "#     idx = np.isfinite(np.ravel(targets_all[i]))\n",
    "#     scatter_plot(np.ravel(targets_all[i])[idx], np.ravel(predictions_all[i])[idx], name + ' '+ str(targets_all[i].time_counter.dt.date.values))\n",
    "\n",
    "#     plotting_maps(targets_all[i], predictions_all[i], name, units)\n"
   ]
  },
  {
   "cell_type": "markdown",
   "metadata": {},
   "source": [
    "## Variable Initialization"
   ]
  },
  {
   "cell_type": "code",
   "execution_count": null,
   "metadata": {},
   "outputs": [],
   "source": [
    "r_test, rms_test, slope_test = np.zeros(len(boxes)),  np.zeros(len(boxes)), np.zeros(len(boxes))\n",
    "\n",
    "r_test_season, slope_test_season = np.zeros(len(boxes)),  np.zeros(len(boxes))\n",
    "\n",
    "targets_sum = np.zeros((len(boxes),len(np.unique(dates.year))))\n",
    "predictions_sum = np.zeros((len(boxes),len(np.unique(dates.year))))\n",
    "\n",
    "targets_mean = np.zeros((len(boxes),len(np.unique(dates.year))))\n",
    "predictions_mean = np.zeros((len(boxes),len(np.unique(dates.year))))\n",
    "\n",
    "targets_diff, predictions_diff = np.zeros((len(boxes),len(targets_all))), np.zeros((len(boxes),len(targets_all)))\n",
    "\n",
    "rss = np.zeros(len(boxes))\n",
    "\n",
    "targets_s = np.zeros((len(targets2),len(np.unique(dates.year)),len(boxes)))\n",
    "predictions_s = np.zeros((len(targets2),len(np.unique(dates.year)),len(boxes)))\n",
    "\n",
    "season_test = np.tile(season,len(np.unique(dates.year))) # Broadcasting season to all training years\n"
   ]
  },
  {
   "cell_type": "markdown",
   "metadata": {},
   "source": [
    "## Time-series (Testing)"
   ]
  },
  {
   "cell_type": "code",
   "execution_count": null,
   "metadata": {},
   "outputs": [],
   "source": [
    "for i in range (0,len(boxes)):\n",
    "\n",
    "    targets = targets_all.where(regions0==i).mean(['y','x'])\n",
    "    predictions = predictions_all.where(regions0==i).mean(['y','x'])\n",
    "\n",
    "    r_test[i] = xr.corr(targets,predictions)\n",
    "    rms_test[i] = xs.rmse(targets,predictions,skipna=True)\n",
    "    slope_test[i] = xs.linslope(targets,predictions,skipna=True)\n",
    "\n",
    "    targets_sum[i] = (targets-season_test[i]).groupby(targets.time_counter.dt.year).sum().values\n",
    "    predictions_sum[i] =  (predictions-season_test[i]).groupby(predictions.time_counter.dt.year).sum().values\n",
    "\n",
    "    targets_mean[i] = (targets-season_test[i]).groupby(targets.time_counter.dt.year).mean().values\n",
    "    predictions_mean[i] =  (predictions-season_test[i]).groupby(predictions.time_counter.dt.year).mean().values\n",
    "\n",
    "    rss[i] = ((targets-predictions)**2).sum().values # Similar to rms, is not affected by the seasonality\n",
    "\n",
    "    r_test_season[i], _, slope_test_season[i] = plotting_mean_values(dates, targets-season_test[i], predictions-season_test[i], i, \n",
    "        units, category, '(removed seasonality)', boxnames)\n",
    "\n",
    "    mean = (targets).groupby(targets.time_counter.dt.year).mean().values\n",
    "    std = (targets).groupby(targets.time_counter.dt.year).std().values\n",
    "\n",
    "    diff = mean + 1*std\n",
    "    diff = xr.DataArray(diff, coords = {'year': np.unique(targets.time_counter.dt.year)}, dims = ['year'])\n",
    "\n",
    "    targets_diff[i] = (targets).groupby(targets.time_counter.dt.year).where((targets).groupby(targets.time_counter.dt.year)>diff)\n",
    "    predictions_diff[i] = (predictions).groupby(predictions.time_counter.dt.year).where((predictions).groupby(predictions.time_counter.dt.year)>diff)\n",
    "\n",
    "    # Saving them to the same format as the spatial means notebook\n",
    "    targets, predictions = np.array(targets), np.array(predictions)\n",
    "    targets_s[:,:,i] = np.reshape(targets, (len(targets2),len(np.unique(targets_all.time_counter.dt.year))), order='F')\n",
    "    predictions_s[:,:,i] = np.reshape(predictions, (len(targets2),len(np.unique(targets_all.time_counter.dt.year))), order='F')\n",
    "\n",
    "    plt.plot(targets_diff[i])\n",
    "    plt.plot(predictions_diff[i])\n",
    "    plt.show()\n"
   ]
  },
  {
   "cell_type": "markdown",
   "metadata": {},
   "source": [
    "## Saving"
   ]
  },
  {
   "cell_type": "code",
   "execution_count": null,
   "metadata": {},
   "outputs": [],
   "source": [
    "# path = '/data/ibougoudis/MOAD/files/results/' + name + '/func_reg_box2/'\n",
    "\n",
    "# os.makedirs(path, exist_ok=True)\n",
    "# with lzma.open(path + 'regr_all.xz', 'wb') as f:\n",
    "    \n",
    "#     dill.dump(regr_all, f)\n",
    "\n",
    "# with open(path + 'train_metrics.pkl', 'wb') as f:\n",
    "#     dill.dump([r_train,rms_train,slope_train,r_train_season,slope_train_season,season], f)\n",
    "\n",
    "# with open(path + 'test_metrics.pkl', 'wb') as f:\n",
    "#     dill.dump([r_test,rms_test,slope_test,r_test_season,slope_test_season,targets_sum,predictions_sum,targets_mean,predictions_mean,targets_diff,predictions_diff,rss], f)\n",
    "\n",
    "# with open(path + 'targets-predictions.pkl', 'wb') as f:\n",
    "#     dill.dump([targets_s,predictions_s], f)\n",
    "\n",
    "# file_creation(path, targets_all, 'Targets')\n",
    "# file_creation(path, predictions_all, 'Predictions')\n",
    "# file_creation(path, (targets_all-predictions_all), 'Targets - Predictions')\n"
   ]
  },
  {
   "cell_type": "code",
   "execution_count": null,
   "metadata": {},
   "outputs": [],
   "source": []
  }
 ],
 "metadata": {
  "kernelspec": {
   "display_name": "analysis-ilias",
   "language": "python",
   "name": "python3"
  },
  "language_info": {
   "codemirror_mode": {
    "name": "ipython",
    "version": 3
   },
   "file_extension": ".py",
   "mimetype": "text/x-python",
   "name": "python",
   "nbconvert_exporter": "python",
   "pygments_lexer": "ipython3",
   "version": "3.11.8"
  }
 },
 "nbformat": 4,
 "nbformat_minor": 2
}
