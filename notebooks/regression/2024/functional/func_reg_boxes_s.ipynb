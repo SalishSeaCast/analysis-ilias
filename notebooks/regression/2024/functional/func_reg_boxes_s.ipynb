{
 "cells": [
  {
   "cell_type": "markdown",
   "metadata": {},
   "source": [
    "# Predicting Diatom concentration with functional regression based on the oceanographic boxes (spatial means)"
   ]
  },
  {
   "cell_type": "markdown",
   "metadata": {},
   "source": [
    "## Importing"
   ]
  },
  {
   "cell_type": "code",
   "execution_count": 43,
   "metadata": {},
   "outputs": [],
   "source": [
    "import xarray as xr\n",
    "import numpy as np\n",
    "import pandas as pd\n",
    "import matplotlib.pyplot as plt\n",
    "import xskillscore as xs\n",
    "\n",
    "from sklearn.compose import make_column_transformer\n",
    "from sklearn.preprocessing import MinMaxScaler\n",
    "from sklearn.preprocessing import StandardScaler\n",
    "from sklearn.feature_selection import r_regression\n",
    "\n",
    "from skfda.representation.grid import FDataGrid\n",
    "from skfda.ml.clustering import KMeans\n",
    "\n",
    "from skfda.misc.hat_matrix import NadarayaWatsonHatMatrix, LocalLinearRegressionHatMatrix, KNeighborsHatMatrix\n",
    "from skfda.preprocessing.smoothing import KernelSmoother\n",
    "\n",
    "from skfda.ml.regression import HistoricalLinearRegression\n",
    "\n",
    "from sklearn.metrics import root_mean_squared_error as rmse\n",
    "\n",
    "import os\n",
    "import lzma\n",
    "import dill\n",
    "\n",
    "from tqdm import tqdm\n",
    "\n",
    "import cmocean.cm as cm\n",
    "import salishsea_tools.viz_tools as sa_vi\n",
    "\n",
    "np.warnings.filterwarnings('ignore') # For the nan mean warning\n"
   ]
  },
  {
   "cell_type": "markdown",
   "metadata": {},
   "source": [
    "## Datasets Preparation"
   ]
  },
  {
   "cell_type": "code",
   "execution_count": 44,
   "metadata": {},
   "outputs": [],
   "source": [
    "# Creation of the training - testing datasets\n",
    "def datasets_preparation(dataset, dataset2, regions, name, inputs_names):\n",
    "    \n",
    "    indx = np.where((dataset.time_counter.dt.month==2) & (dataset.time_counter.dt.day==29))\n",
    "    \n",
    "    targets = dataset[name].to_numpy().reshape(*dataset[name].to_numpy().shape[:1],-1)\n",
    "\n",
    "    inputs = []\n",
    "    \n",
    "    for i in inputs_names:\n",
    "        inputs.append(dataset2[i].to_numpy().reshape(*dataset2[i].to_numpy().shape[:1],-1))\n",
    "\n",
    "    inputs = np.array(inputs)\n",
    "\n",
    "    # Deleting 29 of February\n",
    "    inputs = np.delete(inputs,indx,axis=1)\n",
    "    targets = np.delete(targets,indx,axis=0)\n",
    "\n",
    "    # Splitting in years\n",
    "    inputs = np.split(inputs,len(np.unique(dataset.time_counter.dt.year)),axis=1)\n",
    "    targets = np.split(targets,len(np.unique(dataset.time_counter.dt.year)),axis=0)\n",
    "\n",
    "    # Means\n",
    "    inputs = np.nanmean(inputs,axis=0)\n",
    "    targets = np.nanmean(targets,axis=0)\n",
    "\n",
    "    x =  np.tile(dataset2.x, len(dataset2.y))\n",
    "    y =  np.tile(np.repeat(dataset2.y, len(dataset2.x)),1)\n",
    "\n",
    "    indx = np.where((~np.isnan(targets).any(axis=0)) & (x>10) & ((x>100) | (y<880)))\n",
    "    inputs = inputs[:,:,indx[0]]\n",
    "    targets = targets[:,indx[0]]\n",
    "\n",
    "    regions = np.tile(np.ravel(regions), len(dataset.time_counter))\n",
    "    regions = regions[indx[0]]\n",
    "\n",
    "    return(inputs, targets, indx, regions)\n"
   ]
  },
  {
   "cell_type": "markdown",
   "metadata": {},
   "source": [
    "## File Creation"
   ]
  },
  {
   "cell_type": "code",
   "execution_count": 45,
   "metadata": {},
   "outputs": [],
   "source": [
    "def file_creation(path, variable, name):\n",
    "\n",
    "    temp = variable.to_dataset(name=name)\n",
    "    temp.to_netcdf(path = path + 'targets_predictions.nc', mode='a', encoding={name:{\"zlib\": True, \"complevel\": 9}})\n",
    "    "
   ]
  },
  {
   "cell_type": "markdown",
   "metadata": {},
   "source": [
    "## Regressor"
   ]
  },
  {
   "cell_type": "code",
   "execution_count": 116,
   "metadata": {},
   "outputs": [],
   "source": [
    "def regressor (inputs, targets, j, r_inputs, lag):\n",
    "\n",
    "    # Printing of the correlation coefficients\n",
    "    temp_inputs = np.reshape(inputs,(len(inputs),inputs.shape[1]*inputs.shape[2]), order='F')\n",
    "    temp_inputs = temp_inputs.transpose()\n",
    "    temp_targets = np.reshape(targets, (targets.shape[0]*targets.shape[1]), order='F')\n",
    "\n",
    "    r_inputs[j] = np.round(r_regression(temp_inputs,temp_targets),2)\n",
    "\n",
    "    # Scaling the inputs\n",
    "    scaler_inputs = make_column_transformer((StandardScaler(), np.arange(0,len(inputs))))\n",
    "    temp_inputs = scaler_inputs.fit_transform(temp_inputs)\n",
    "    temp_inputs = temp_inputs.transpose()\n",
    "    inputs = np.reshape(temp_inputs,(len(inputs),inputs.shape[1],inputs.shape[2]), order='F')   \n",
    "    \n",
    "    # Scaling the targets\n",
    "    scaler_targets = StandardScaler()\n",
    "    temp_targets = np.expand_dims(temp_targets,-1)\n",
    "    temp_targets = scaler_targets.fit_transform(temp_targets)\n",
    "    targets = temp_targets.reshape(targets.shape, order='F')\n",
    "\n",
    "    # Final transformations\n",
    "    inputs = np.transpose(inputs,axes=(2,1,0))\n",
    "    targets = targets.transpose()\n",
    "    inputs = FDataGrid(data_matrix=inputs, grid_points=np.arange(0,len(targets[0])))\n",
    "    targets = FDataGrid(data_matrix=targets, grid_points=np.arange(0,len(targets[0])))\n",
    "\n",
    "    # Smoothing\n",
    "    # targets = targets.to_basis(FourierBasis(n_basis=10))\n",
    "    kernel_estimator = LocalLinearRegressionHatMatrix(bandwidth=1)\n",
    "    smoother = KernelSmoother(kernel_estimator=kernel_estimator)\n",
    "    inputs = smoother.fit_transform(inputs)\n",
    "\n",
    "    model = HistoricalLinearRegression(n_intervals=3, lag=lag)\n",
    "    regr = model.fit(inputs,targets)\n",
    "\n",
    "    return(regr,scaler_inputs,scaler_targets,smoother,r_inputs)\n"
   ]
  },
  {
   "cell_type": "markdown",
   "metadata": {},
   "source": [
    "## Scaling"
   ]
  },
  {
   "cell_type": "code",
   "execution_count": 127,
   "metadata": {},
   "outputs": [],
   "source": [
    "def scaling(regr,inputs,scaler_inputs,targets,scaler_targets,smoother):\n",
    "\n",
    "    # Scaling the inputs\n",
    "    temp = np.reshape(inputs,(len(inputs),inputs.shape[1]*inputs.shape[2]), order='F')\n",
    "    temp = temp.transpose()\n",
    "    temp = scaler_inputs.transform(temp)\n",
    "    temp = temp.transpose()        \n",
    "    inputs = np.reshape(temp,(len(inputs),inputs.shape[1],inputs.shape[2]), order='F')\n",
    "        \n",
    "    inputs = np.transpose(inputs,axes=(2,1,0))\n",
    "    inputs = FDataGrid(data_matrix=inputs, grid_points=np.arange(0,len(targets)))\n",
    "\n",
    "    inputs = smoother.transform(inputs)\n",
    "\n",
    "    predictions = regr.predict(inputs)\n",
    "\n",
    "    # Post-processing of predictions\n",
    "    predictions = np.array(predictions.to_grid(np.arange(0,len(targets))).data_matrix)\n",
    "    predictions = np.squeeze(predictions,2)\n",
    "\n",
    "    # Scaling the predictions\n",
    "    temp = np.reshape(predictions, (targets.shape[0]*targets.shape[1]), order='F')\n",
    "    temp = np.expand_dims(temp,axis=-1)\n",
    "    temp = scaler_targets.inverse_transform(temp)\n",
    "    predictions = temp.reshape(predictions.shape, order='F')\n",
    "    predictions = predictions.transpose()\n",
    "\n",
    "    return(predictions)\n"
   ]
  },
  {
   "cell_type": "markdown",
   "metadata": {},
   "source": [
    "## Scatter Plot"
   ]
  },
  {
   "cell_type": "code",
   "execution_count": 48,
   "metadata": {},
   "outputs": [],
   "source": [
    "def scatter_plot(dates,targets, predictions, name):\n",
    "\n",
    "    indx = pd.DatetimeIndex(dates[0:75]) # From the first year\n",
    "\n",
    "    # compute slope m and intercept b\n",
    "    m, b = np.polyfit(targets, predictions, deg=1)\n",
    "\n",
    "    fig, ax = plt.subplots()\n",
    "\n",
    "    scatter = ax.scatter(targets,predictions, s = 10, c= indx.month)\n",
    "\n",
    "    lims = [np.min([ax.get_xlim(), ax.get_ylim()]),\n",
    "        np.max([ax.get_xlim(), ax.get_ylim()])]\n",
    "\n",
    "    # plot fitted y = m*x + b\n",
    "    ax.axline(xy1=(0, b), slope=m, color='r')\n",
    "\n",
    "    ax.set_xlabel('targets')\n",
    "    ax.set_ylabel('predictions')\n",
    "    ax.set_xlim(lims)\n",
    "    ax.set_ylim(lims)\n",
    "    ax.set_aspect('equal')\n",
    "    ax.legend(handles=scatter.legend_elements()[0], labels=['February','March','April'])\n",
    "\n",
    "    ax.plot(lims, lims,linestyle = '--',color = 'k')\n",
    "\n",
    "    fig.suptitle(name)\n",
    "\n",
    "    plt.show()\n",
    "\n",
    "    return(m)"
   ]
  },
  {
   "cell_type": "markdown",
   "metadata": {},
   "source": [
    "## Pre-training"
   ]
  },
  {
   "cell_type": "code",
   "execution_count": 49,
   "metadata": {},
   "outputs": [],
   "source": [
    "def pre_training(dataset,dataset2,boxes,regions0,name,inputs_names):\n",
    "\n",
    "    np.warnings.filterwarnings('ignore') # For the nan mean warning\n",
    "\n",
    "    regions_indiv_t = np.zeros((len(np.unique(dataset.time_counter.dt.dayofyear))-1,len(np.unique(dataset.time_counter.dt.year)),len(boxes)))\n",
    "    regions_indiv_d = np.zeros((len(inputs_names),len(np.unique(dataset.time_counter.dt.dayofyear))-1,len(np.unique(dataset.time_counter.dt.year)),len(boxes)))\n",
    "\n",
    "    ds = dataset\n",
    "    ds2 = dataset2\n",
    "\n",
    "    for i in range(0, len(np.unique(ds.time_counter.dt.year))):\n",
    "\n",
    "        dataset = ds.sel(time_counter = slice(str(np.unique(ds.time_counter.dt.year)[i]), str(np.unique(ds.time_counter.dt.year)[i])))\n",
    "        dataset2 = ds2.sel(time_counter = slice(str(np.unique(ds2.time_counter.dt.year)[i]), str(np.unique(ds2.time_counter.dt.year)[i])))\n",
    "\n",
    "        inputs, targets, indx, _ = datasets_preparation(dataset, dataset2, regions0, name, inputs_names)\n",
    "\n",
    "        regions1 = np.ravel(regions0)[indx]\n",
    "\n",
    "        for j in range (0,len(boxes)):\n",
    "\n",
    "            temp = xr.where(regions1==j, inputs, np.nan)\n",
    "            regions_indiv_d[:,:,i,j] = np.nanmean(temp,axis=2)\n",
    "\n",
    "            temp = xr.where(regions1==j, targets, np.nan)\n",
    "            regions_indiv_t[:,i,j] = np.nanmean(temp,axis=1)\n",
    "\n",
    "    return(regions_indiv_d,regions_indiv_t,indx)\n"
   ]
  },
  {
   "cell_type": "markdown",
   "metadata": {},
   "source": [
    "## Plotting (Mean Values)"
   ]
  },
  {
   "cell_type": "code",
   "execution_count": 50,
   "metadata": {},
   "outputs": [],
   "source": [
    "def plotting_mean_values(dates,boxes,targets,predictions,r_train,rms_train,slope_train,category,units,region,boxnames):\n",
    "\n",
    "    years = np.unique(dates.year)\n",
    "    \n",
    "    ticks = []\n",
    "    for i in range (0,targets.shape[0]*targets.shape[1],targets.shape[0]):\n",
    "        ticks.append(i)\n",
    "\n",
    "    targets = np.reshape(targets,(targets.shape[0]*targets.shape[1],targets.shape[2]), order = 'F')\n",
    "    predictions = np.reshape(predictions,(predictions.shape[0]*predictions.shape[1],predictions.shape[2]), order = 'F')\n",
    "    \n",
    "    targets_masked = np.ma.array(targets)\n",
    "    predictions_masked = np.ma.array(predictions)\n",
    "\n",
    "    targets_masked[ticks] = np.ma.masked\n",
    "    predictions_masked[ticks] = np.ma.masked\n",
    "\n",
    "    for i in range (0,len(boxes)):\n",
    "\n",
    "        fig, _ = plt.subplots(figsize=(19,5))\n",
    "\n",
    "        temp = pd.DataFrame(np.vstack((r_train[i],rms_train[i],slope_train[i])).transpose(),index=[boxnames[i]],columns=['r','rms','slope'])\n",
    "        display(temp)\n",
    "\n",
    "        plt.plot(targets_masked[:,i], label = 'targets')\n",
    "        plt.plot(predictions_masked[:,i], label = 'predictions')\n",
    "        plt.xlabel('Years')\n",
    "        plt.xticks(ticks,years)\n",
    "        plt.suptitle('Mean '+category + ' ' +units + ' (15 Feb - 30 Apr) ' + region + ' ' + boxnames[i])\n",
    "        plt.legend()\n",
    "\n",
    "        plt.show()\n"
   ]
  },
  {
   "cell_type": "markdown",
   "metadata": {},
   "source": [
    "## Plotting (Mean Peaks)"
   ]
  },
  {
   "cell_type": "code",
   "execution_count": 51,
   "metadata": {},
   "outputs": [],
   "source": [
    "def plotting_mean_peaks(dates,boxes,targets,predictions,category,units,region,boxnames):\n",
    "\n",
    "    years = np.unique(dates.year)\n",
    "    \n",
    "    ticks = []\n",
    "    for i in range (0,targets.shape[0]*targets.shape[1],targets.shape[0]):\n",
    "        ticks.append(i)\n",
    "\n",
    "    targets = np.reshape(targets,(targets.shape[0]*targets.shape[1],targets.shape[2]), order = 'F')\n",
    "    predictions = np.reshape(predictions,(predictions.shape[0]*predictions.shape[1],predictions.shape[2]), order = 'F')\n",
    "    \n",
    "    targets_masked = np.ma.array(targets)\n",
    "    predictions_masked = np.ma.array(predictions)\n",
    "\n",
    "    targets_masked[ticks] = np.ma.masked\n",
    "    predictions_masked[ticks] = np.ma.masked\n",
    "\n",
    "    for i in range (0,len(boxes)):\n",
    "\n",
    "        fig, _ = plt.subplots(figsize=(19,5))\n",
    "\n",
    "        plt.plot(targets_masked[:,i], label = 'targets')\n",
    "        plt.plot(predictions_masked[:,i], label = 'predictions')\n",
    "        plt.xlabel('Years')\n",
    "        plt.xticks(ticks,years)\n",
    "        plt.suptitle('Mean '+category + ' ' +units + ' (15 Feb - 30 Apr) ' + region + ' ' + boxnames[i])\n",
    "        plt.legend()\n",
    "\n",
    "        plt.show()\n"
   ]
  },
  {
   "cell_type": "markdown",
   "metadata": {},
   "source": [
    "## Plotting (Mean Inputs)"
   ]
  },
  {
   "cell_type": "code",
   "execution_count": 150,
   "metadata": {},
   "outputs": [],
   "source": [
    "def plotting_mean_inputs(dates,boxes,inputs,inputs_names,region,boxnames):\n",
    "\n",
    "    years = np.unique(dates.year)\n",
    "    \n",
    "    ticks = []\n",
    "    for i in range (0,inputs.shape[1]*inputs.shape[2],inputs.shape[1]):\n",
    "        ticks.append(i)\n",
    "\n",
    "    inputs = np.reshape(inputs,(len(inputs), inputs.shape[1]*inputs.shape[2], inputs.shape[3]), order='F')\n",
    "\n",
    "    for i in range (0,len(boxes)):\n",
    "\n",
    "        fig, _ = plt.subplots(figsize=(19,5))\n",
    "\n",
    "        for j in range (0, len(inputs_names)):\n",
    "\n",
    "            temp_inputs = np.reshape(inputs,(len(inputs),inputs.shape[1]*inputs.shape[2]), order='F')\n",
    "            temp_inputs = temp_inputs.transpose()\n",
    "            scaler_inputs = make_column_transformer((MinMaxScaler(), np.arange(0,len(inputs))))\n",
    "            temp_inputs = scaler_inputs.fit_transform(temp_inputs)\n",
    "            temp_inputs = temp_inputs.transpose()\n",
    "            temp_inputs = np.reshape(temp_inputs,(len(inputs),inputs.shape[1],inputs.shape[2]), order='F')\n",
    "\n",
    "            inputs_masked = np.ma.array(temp_inputs)\n",
    "            inputs_masked[:,ticks] = np.ma.masked\n",
    "           \n",
    "            plt.plot(inputs_masked[j,:,i], label = inputs_names[j])\n",
    "\n",
    "\n",
    "        plt.xlabel('Years')\n",
    "        plt.xticks(ticks,years)\n",
    "        plt.suptitle('Mean inputs (15 Feb - 30 Apr) ' + region + ' ' + boxnames[i])\n",
    "        plt.legend()\n",
    "\n",
    "        plt.show()"
   ]
  },
  {
   "cell_type": "markdown",
   "metadata": {},
   "source": [
    "## Post-Training"
   ]
  },
  {
   "cell_type": "code",
   "execution_count": 53,
   "metadata": {},
   "outputs": [],
   "source": [
    "def post_training(dates,boxes,targets,predictions,category,units,region,boxnames):\n",
    "\n",
    "    r_train = np.full(len(boxes),np.nan)\n",
    "    rms_train = np.full(len(boxes),np.nan)\n",
    "    slope_train = np.full(len(boxes),np.nan)\n",
    "\n",
    "    for i in range (0,len(boxes)):\n",
    "\n",
    "        r_train[i] = np.round(np.corrcoef(np.ravel(targets[:,:,i]),np.ravel(predictions[:,:,i]))[0][1],3)\n",
    "        rms_train[i] = rmse(np.ravel(targets[:,:,i]),np.ravel(predictions[:,:,i]))\n",
    "        m,_ = np.polyfit(np.ravel(targets[:,:,i]),np.ravel(predictions[:,:,i]), deg=1)\n",
    "        slope_train[i] = np.round(m,3)\n",
    "    \n",
    "    plotting_mean_values(dates,boxes,targets,predictions,r_train,rms_train,slope_train,category,units,region,boxnames)\n",
    "\n",
    "    return(r_train,rms_train,slope_train)\n"
   ]
  },
  {
   "cell_type": "markdown",
   "metadata": {},
   "source": [
    "## Plotting (regions)"
   ]
  },
  {
   "cell_type": "code",
   "execution_count": 54,
   "metadata": {},
   "outputs": [],
   "source": [
    "def plot_box(ax, corn, colour):\n",
    "\n",
    "    ax.plot([corn[2], corn[3], corn[3], corn[2], corn[2]], \n",
    "    [corn[0], corn[0], corn[1], corn[1], corn[0]], '-', color=colour)\n",
    "    "
   ]
  },
  {
   "cell_type": "markdown",
   "metadata": {},
   "source": [
    "## Initiation"
   ]
  },
  {
   "cell_type": "code",
   "execution_count": 55,
   "metadata": {},
   "outputs": [],
   "source": [
    "name = 'Diatom'\n",
    "units = '[mmol m-2]'\n",
    "category = 'Concentrations'\n",
    "\n",
    "if name == 'Diatom':\n",
    "    inputs_names = ['Summation_of_solar_radiation','Mean_wind_speed','Mean_air_temperature']\n",
    "    lags = [74,49.3,49.3,74,49.3,49.3,49.3,24.6,24.6] # n_intervals=3\n",
    "    # lags = [55.5,55.5,55.5,37,37,55.5,55.5,37,37] # n_intervals=4\n",
    "\n",
    "else:\n",
    "    inputs_names = ['Summation_of_solar_radiation','Mean_air_temperature','Mean_pressure', 'Mean_precipitation', 'Mean_specific_humidity']\n",
    "    lags = [24.6,24.6,24.6,24.6,24.6,24.6,24.6,24.6,24.6] # n_intervals=3\n",
    "    # lags = [18.5,18.5,18.5,18.5,18.5,18.5,18.5,37,37] # n_intervals=4\n",
    "\n",
    "ds = xr.open_dataset('/data/ibougoudis/MOAD/files/integrated_original.nc')\n",
    "ds2 = xr.open_dataset('/data/ibougoudis/MOAD/files/external_inputs.nc')\n"
   ]
  },
  {
   "cell_type": "markdown",
   "metadata": {},
   "source": [
    "## Regions"
   ]
  },
  {
   "cell_type": "code",
   "execution_count": null,
   "metadata": {},
   "outputs": [],
   "source": [
    "fig, ax = plt.subplots(1, 1, figsize=(5, 9))\n",
    "mycmap = cm.deep\n",
    "mycmap.set_bad('grey')\n",
    "ax.pcolormesh(ds['Diatom'][0], cmap=mycmap)\n",
    "sa_vi.set_aspect(ax)\n",
    "\n",
    "SoG_north = [650, 730, 100, 200]\n",
    "plot_box(ax, SoG_north, 'g')\n",
    "SoG_center = [450, 550, 200, 300]\n",
    "plot_box(ax, SoG_center, 'b')\n",
    "Fraser_plume = [380, 460, 260, 330]\n",
    "plot_box(ax, Fraser_plume, 'm')\n",
    "SoG_south = [320, 380, 280, 350]\n",
    "plot_box(ax, SoG_south, 'k')\n",
    "Haro_Boundary = [290, 350, 210, 280]\n",
    "plot_box(ax, Haro_Boundary, 'm')\n",
    "JdF_west = [250, 425, 25, 125]\n",
    "plot_box(ax, JdF_west, 'c')\n",
    "JdF_east = [200, 290, 150, 260]\n",
    "plot_box(ax, JdF_east, 'w')\n",
    "PS_all = [0, 200, 80, 320]\n",
    "plot_box(ax, PS_all, 'm')\n",
    "PS_main = [20, 150, 200, 280]\n",
    "plot_box(ax, PS_main, 'r')\n",
    "\n",
    "boxnames = ['SoG_north','SoG_center','Fraser_plume','SoG_south', 'Haro_Boundary', 'JdF_west', 'JdF_east', 'PS_all', 'PS_main']\n",
    "fig.legend(boxnames)\n",
    "\n",
    "boxes = [SoG_north,SoG_center,Fraser_plume,SoG_south,Haro_Boundary,JdF_west,JdF_east,PS_all,PS_main]\n",
    "\n",
    "regions0 = np.full((len(ds.y),len(ds.x)),np.nan)\n",
    "\n",
    "for i in range (0, len(boxes)):\n",
    "    regions0[boxes[i][0]:boxes[i][1], boxes[i][2]:boxes[i][3]] = i\n",
    "\n",
    "regions0 = xr.DataArray(regions0,dims = ['y','x'])\n",
    "\n",
    "# # Low resolution\n",
    "# temp = []\n",
    "\n",
    "# for i in boxes:\n",
    "#     temp.append([x//5 for x in i])\n",
    "\n",
    "# boxes = temp"
   ]
  },
  {
   "cell_type": "code",
   "execution_count": 69,
   "metadata": {},
   "outputs": [],
   "source": [
    "# Low resolution\n",
    "\n",
    "# ds = ds.isel(y=(np.arange(ds.y[0], ds.y[-1], 5)), \n",
    "#     x=(np.arange(ds.x[0], ds.x[-1], 5)))\n",
    "\n",
    "# ds2 = ds2.isel(y=(np.arange(ds2.y[0], ds2.y[-1], 5)), \n",
    "#     x=(np.arange(ds2.x[0], ds2.x[-1], 5)))\n",
    "\n",
    "# regions0 = regions0.isel(y=(np.arange(regions0.y[0], regions0.y[-1], 5)), \n",
    "#     x=(np.arange(regions0.x[0], regions0.x[-1], 5)))\n",
    "\n",
    "dataset = ds.sel(time_counter = slice('2007', '2020'))\n",
    "dataset2 = ds2.sel(time_counter = slice('2007', '2020'))\n",
    "\n",
    "years = np.unique(dataset.time_counter.dt.year)\n",
    "\n",
    "r_inputs = np.zeros((len(boxnames), len(inputs_names)))\n",
    "\n",
    "inputs,targets,indx = pre_training(dataset,dataset2,boxes,regions0,name,inputs_names)\n"
   ]
  },
  {
   "cell_type": "markdown",
   "metadata": {},
   "source": [
    "## Training"
   ]
  },
  {
   "cell_type": "code",
   "execution_count": null,
   "metadata": {},
   "outputs": [],
   "source": [
    "dataset = ds.sel(time_counter = slice('2007', '2020'))\n",
    "dates = pd.DatetimeIndex(dataset['time_counter'].values)\n",
    "indx2 = ~((dataset.time_counter.dt.month==2) & (dataset.time_counter.dt.day==29))\n",
    "dates = dates[indx2]\n",
    "\n",
    "regr_all = []\n",
    "scaler_inputs_all = []\n",
    "scaler_targets_all = []\n",
    "smoother_all = []\n",
    "\n",
    "predictions = np.full(targets.shape,np.nan)\n",
    "\n",
    "for i in range (0,len(boxes)):\n",
    "\n",
    "    inputs2 = inputs[:,:,:,i] # inputs of the i cluster\n",
    "    targets2 = targets[:,:,i] # targets of the i cluster\n",
    "    regr, scaler_inputs,scaler_targets,smoother,r_inputs = regressor(inputs2,targets2,i,r_inputs,lags[i])\n",
    "\n",
    "    scaler_inputs_all.append(scaler_inputs)\n",
    "    scaler_targets_all.append(scaler_targets)\n",
    "    smoother_all.append(smoother)\n",
    "\n",
    "    regr_all.append(regr)\n",
    "\n",
    "    predictions[:,:,i] = scaling(regr_all[i],inputs2,scaler_inputs_all[i],targets2,scaler_targets_all[i],smoother_all[i]) # putting them in the right place\n",
    "\n",
    "print('Metrics between input features and '+name)\n",
    "temp = pd.DataFrame(r_inputs, index=boxnames, columns=inputs_names)\n",
    "display(temp)\n"
   ]
  },
  {
   "cell_type": "markdown",
   "metadata": {},
   "source": [
    "## Heatmaps"
   ]
  },
  {
   "cell_type": "code",
   "execution_count": null,
   "metadata": {},
   "outputs": [],
   "source": [
    "for i in range(0,len(inputs_names)):\n",
    "\n",
    "    fig, axs = plt.subplots(1,len(boxes), figsize = (28,6), layout='constrained')\n",
    "\n",
    "    for j in range(0,len(boxes)):\n",
    "\n",
    "        temp = regr_all[j].coef_\n",
    "        coeff = temp.data_matrix\n",
    "        coeff = np.where(coeff==0,np.nan,coeff)\n",
    "\n",
    "        if j==0: # first time for this input feature\n",
    "\n",
    "            vmin = np.nanmin(coeff[0,:,:,i])\n",
    "            vmax = np.nanmax(coeff[0,:,:,i])\n",
    "\n",
    "        h = axs[j].imshow(coeff[0,:,:,i], cmap='bwr',aspect='auto', vmin=-np.maximum(np.abs(vmin),vmax), vmax=np.maximum(np.abs(vmin),vmax))\n",
    "        axs[j].set_ylim(axs[j].get_ylim()[::-1])\n",
    "        cbar = fig.colorbar(h)\n",
    "        axs[j].set_title('Region ' + boxnames[j])\n",
    "        axs[j].set_xlabel('Day')\n",
    "        axs[j].set_ylabel('Day')\n",
    "        fig.suptitle(inputs_names[i])\n"
   ]
  },
  {
   "cell_type": "markdown",
   "metadata": {},
   "source": [
    "## Time-series (Training)"
   ]
  },
  {
   "cell_type": "code",
   "execution_count": null,
   "metadata": {},
   "outputs": [],
   "source": [
    "dates = pd.DatetimeIndex(dataset['time_counter'].values)\n",
    "indx2 = ~((dataset.time_counter.dt.month==2) & (dataset.time_counter.dt.day==29))\n",
    "dates = dates[indx2]\n",
    "\n",
    "r_train,rms_train,slope_train = post_training(dates,boxes,targets,predictions,units,category,' ',boxnames)\n",
    "\n",
    "season = np.mean(targets,axis=1)\n",
    "\n",
    "season_train = np.tile(season,len(np.unique(dates.year))) # Broadcasting season to all training years\n",
    "season_train = np.reshape(season_train,targets.shape)\n",
    "\n",
    "plt.plot(season)\n",
    "plt.legend(boxnames)\n",
    "plt.suptitle('Long-term seasonalities (2007-2020, targets)')\n",
    "plt.show()\n",
    "\n",
    "# r_train_season,_,slope_train_season = post_training(dates,boxes,targets-season_train,predictions-season_train,units,category,'(removed seasonality)',boxnames)\n",
    "\n",
    "# Peaks for the testing time-series\n",
    "peak = np.zeros(len(boxes))\n",
    "std_targets = np.zeros(len(boxes))\n",
    "std_season = np.zeros(len(boxes))\n",
    "std_predictions = np.zeros(len(boxes))\n",
    "\n",
    "for i in range (0, len(boxes)):\n",
    "    mean = np.mean(targets[:,:,i])\n",
    "    std_targets[i] = np.std(targets[:,:,i])\n",
    "    peak[i] = mean + 0*std_targets[i]\n",
    "    \n",
    "    std_season[i] = np.std(season[:,i])\n",
    "    std_predictions[i] = np.std(predictions[:,:,i])\n"
   ]
  },
  {
   "cell_type": "markdown",
   "metadata": {},
   "source": [
    "## Other Years"
   ]
  },
  {
   "cell_type": "code",
   "execution_count": 143,
   "metadata": {},
   "outputs": [],
   "source": [
    "dataset = ds.sel(time_counter = slice('2021', '2024'))\n",
    "dataset2 = ds2.sel(time_counter = slice('2021', '2024'))\n",
    "\n",
    "dates = pd.DatetimeIndex(dataset['time_counter'].values)\n",
    "indx = ~((dataset.time_counter.dt.month==2) & (dataset.time_counter.dt.day==29))\n",
    "dates = dates[indx]\n",
    "\n",
    "years = np.unique(dataset.time_counter.dt.year)\n",
    "\n",
    "inputs_test,targets_test,indx_test = pre_training(dataset,dataset2,boxes,regions0,name,inputs_names)\n",
    "\n",
    "season_test = np.tile(season,len(years)) # Broadcasting season to all testing years\n",
    "season_test = np.reshape(season_test,(targets_test.shape[0],len(years),len(boxes)))\n",
    "\n",
    "predictions = np.full(targets_test.shape,np.nan)\n",
    "std_targets_test = np.zeros(len(boxes))\n",
    "std_predictions_test = np.zeros(len(boxes))\n",
    "\n",
    "for i in range (0,len(boxes)):\n",
    "\n",
    "    inputs2 = inputs_test[:,:,:,i] # inputs of the i cluster\n",
    "    targets2 = targets_test[:,:,i] # targets of the i cluster\n",
    "    predictions[:,:,i] = scaling(regr_all[i],inputs2,scaler_inputs_all[i],targets2,scaler_targets_all[i],smoother_all[i]) # putting them in the right place\n",
    "\n",
    "    std_targets_test[i] = np.std(targets2)\n",
    "    std_predictions_test[i] = np.std(predictions[:,:,i])\n"
   ]
  },
  {
   "cell_type": "markdown",
   "metadata": {},
   "source": [
    "## Standard deviations plots"
   ]
  },
  {
   "cell_type": "code",
   "execution_count": 144,
   "metadata": {},
   "outputs": [],
   "source": [
    "# plt.plot(std_targets)\n",
    "# plt.plot(std_season)\n",
    "# plt.plot(std_targets_test)\n",
    "# plt.plot(std_targets-std_season)\n",
    "# plt.plot(std_targets_test-std_season)\n",
    "\n",
    "# plt.plot(std_predictions)\n",
    "# plt.plot(std_predictions_test)\n",
    "# plt.plot(std_predictions-std_season)\n",
    "# plt.plot(std_predictions_test-std_season)\n",
    "\n",
    "# plt.xticks(ticks=np.arange(0,len(boxes)), labels=boxnames)\n",
    "# plt.xticks(rotation=45)\n",
    "# plt.legend(('targets','season','targets_test','targets-season','targets_test-season','predictions','predictions_test','predictions-season','predictions_test-season'))\n",
    "# plt.suptitle('Standard Deviations for training-seasonanlity-testing')\n",
    "# plt.show()\n",
    "\n",
    "# plt.plot((std_targets_test-std_season)*100/std_targets_test)\n",
    "# plt.xticks(ticks=np.arange(0,len(boxes)), labels=boxnames)\n",
    "# plt.xticks(rotation=45)\n",
    "# plt.suptitle('Percentage of difference between testing')\n"
   ]
  },
  {
   "cell_type": "code",
   "execution_count": null,
   "metadata": {},
   "outputs": [],
   "source": [
    "plotting_mean_inputs(dates,boxes,inputs_test,inputs_names,'',boxnames)"
   ]
  },
  {
   "cell_type": "markdown",
   "metadata": {},
   "source": [
    "## Time-series (Testing)"
   ]
  },
  {
   "cell_type": "code",
   "execution_count": null,
   "metadata": {},
   "outputs": [],
   "source": [
    "r_test,rms_test,slope_test = np.zeros(len(boxes)), np.zeros(len(boxes)), np.zeros(len(boxes))\n",
    "\n",
    "r_test_season, slope_test_season = np.zeros(len(boxes)), np.zeros(len(boxes))\n",
    "\n",
    "targets_sum, predictions_sum = np.zeros((len(boxes),len(years))), np.zeros((len(boxes),len(years)))\n",
    "\n",
    "targets_mean, predictions_mean = np.zeros((len(boxes),len(years))), np.zeros((len(boxes),len(years)))\n",
    "\n",
    "targets_diff, predictions_diff = np.zeros((len(boxes),targets.shape[0],len(years))), np.zeros((len(boxes),targets.shape[0],len(years)))\n",
    "\n",
    "rss = np.zeros(len(boxes))\n",
    "\n",
    "r_test_season,_,slope_test_season = post_training(dates,boxes,targets_test-season_test,predictions-season_test,units,category,'(removed Seasonality)',boxnames)\n",
    "\n",
    "for i in range (0,len(boxes)):\n",
    "\n",
    "    r_test[i] = np.round(np.corrcoef(np.ravel(targets_test[:,:,i]),np.ravel(predictions[:,:,i]))[0][1],3)\n",
    "    rms_test[i] = rmse(np.ravel(targets_test[:,:,i]),np.ravel(predictions[:,:,i]))\n",
    "    m,_ = np.polyfit(np.ravel(targets_test[:,:,i]),np.ravel(predictions[:,:,i]), deg=1)\n",
    "    slope_test[i] = np.round(m,3)\n",
    "\n",
    "    rss[i] = np.sum((np.ravel(targets_test[:,:,i])-np.ravel(predictions[:,:,i]))**2) # Similar to rms, is not affected by the seasonality\n",
    "\n",
    "    for j in range (0, len(years)):\n",
    "\n",
    "        targets_sum[i,j] = np.sum(targets_test[:,j,i]-season_test[:,j,i])\n",
    "        predictions_sum[i,j] = np.sum(predictions[:,j,i]-season_test[:,j,i])\n",
    "\n",
    "        targets_mean[i,j] = np.mean(targets_test[:,j,i]-season_test[:,j,i])\n",
    "        predictions_mean[i,j] = np.mean(predictions[:,j,i]-season_test[:,j,i])\n",
    "\n",
    "        targets_diff[i,:,j] = np.where(targets_test[:,j,i]>peak[i],targets_test[:,j,i], np.nan)\n",
    "        predictions_diff[i,:,j] = np.where(predictions[:,j,i]>peak[i],predictions[:,j,i], np.nan)\n",
    "\n",
    "targets_diff = np.transpose(targets_diff,(1,2,0))\n",
    "predictions_diff = np.transpose(predictions_diff,(1,2,0))\n",
    "plotting_mean_peaks(dates,boxes,targets_diff,predictions_diff,category,units,'Peaks',boxnames)\n"
   ]
  },
  {
   "cell_type": "markdown",
   "metadata": {},
   "source": [
    "## Saving"
   ]
  },
  {
   "cell_type": "code",
   "execution_count": 146,
   "metadata": {},
   "outputs": [],
   "source": [
    "# path = '/data/ibougoudis/MOAD/files/results/' + name + '/func_reg_boxes_s27/'\n",
    "\n",
    "# os.makedirs(path, exist_ok=True)\n",
    "# with lzma.open(path + 'regr_all.xz', 'wb') as f:\n",
    "    \n",
    "#     dill.dump(regr_all, f)\n",
    "\n",
    "# with open(path + 'train_metrics.pkl', 'wb') as f:\n",
    "#     dill.dump([r_train,rms_train,slope_train,r_train_season,slope_train_season,season.transpose()], f)\n",
    "\n",
    "# with open(path + 'test_metrics.pkl', 'wb') as f:\n",
    "#     dill.dump([r_test,rms_test,slope_test,r_test_season,slope_test_season,targets_sum,predictions_sum,targets_mean,predictions_mean,targets_diff,predictions_diff,rss], f)\n",
    "\n",
    "# with open(path + 'targets-predictions.pkl', 'wb') as f:\n",
    "#     dill.dump([targets_test,predictions], f)\n"
   ]
  },
  {
   "cell_type": "code",
   "execution_count": 97,
   "metadata": {},
   "outputs": [],
   "source": []
  }
 ],
 "metadata": {
  "kernelspec": {
   "display_name": "analysis-ilias",
   "language": "python",
   "name": "python3"
  },
  "language_info": {
   "codemirror_mode": {
    "name": "ipython",
    "version": 3
   },
   "file_extension": ".py",
   "mimetype": "text/x-python",
   "name": "python",
   "nbconvert_exporter": "python",
   "pygments_lexer": "ipython3",
   "version": "3.11.8"
  }
 },
 "nbformat": 4,
 "nbformat_minor": 2
}
