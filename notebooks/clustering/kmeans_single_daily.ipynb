{
 "cells": [
  {
   "cell_type": "markdown",
   "metadata": {},
   "source": [
    "# Daily Clustering"
   ]
  },
  {
   "cell_type": "markdown",
   "metadata": {},
   "source": [
    "## Importing"
   ]
  },
  {
   "cell_type": "code",
   "execution_count": null,
   "metadata": {},
   "outputs": [],
   "source": [
    "import xarray as xr\n",
    "import numpy as np\n",
    "import pandas as pd\n",
    "import matplotlib.pyplot as plt\n",
    "\n",
    "from sklearn.cluster import KMeans\n",
    "from sklearn.cluster import BisectingKMeans\n",
    "from sklearn_som.som import SOM\n",
    "\n",
    "from tqdm import tqdm\n"
   ]
  },
  {
   "cell_type": "markdown",
   "metadata": {},
   "source": [
    "## Datasets Preparation"
   ]
  },
  {
   "cell_type": "code",
   "execution_count": null,
   "metadata": {},
   "outputs": [],
   "source": [
    "def datasets_preparation(coords):\n",
    "\n",
    "    clusters = xr.DataArray(coords=coords, dims = ['time_counter', 'y', 'x'],\n",
    "        attrs=dict(description=\"Clusters produced by the k-means algorithm\",\n",
    "        long_name =\"Cluster\",\n",
    "        units=\"count\"))\n",
    "        \n",
    "    return (clusters)\n"
   ]
  },
  {
   "cell_type": "markdown",
   "metadata": {},
   "source": [
    "## Clustering"
   ]
  },
  {
   "cell_type": "code",
   "execution_count": null,
   "metadata": {},
   "outputs": [],
   "source": [
    "def clustering(dataset, name):\n",
    "\n",
    "    variable = np.ravel(dataset[name])\n",
    "\n",
    "    # Pre processing \n",
    "    indx = np.where(~np.isnan(variable))\n",
    "    inputs = variable[indx]\n",
    "    inputs = inputs.reshape(len(inputs),1)\n",
    "\n",
    "    kmeans = KMeans(n_clusters=6).fit(inputs)\n",
    "    predictions = kmeans.predict(inputs)\n",
    "\n",
    "    # The index to sort the clusters\n",
    "    indx3 = np.argsort(np.argsort(np.squeeze(kmeans.cluster_centers_, axis=1))) # For the complete map we need the double np.argsort\n",
    "\n",
    "    # Sorting\n",
    "    for j in np.arange(0,len(np.unique(predictions))):\n",
    "        predictions = xr.where(kmeans.labels_==j, indx3[j], predictions)\n",
    "\n",
    "    # Post processing\n",
    "    indx2 = np.full(variable.size,np.nan)\n",
    "    indx2[indx] = predictions\n",
    "    clusters = np.reshape(indx2,(len(dataset.y),len(dataset.x))) \n",
    "\n",
    "    return(clusters)\n",
    "    "
   ]
  },
  {
   "cell_type": "markdown",
   "metadata": {},
   "source": [
    "## File Creation"
   ]
  },
  {
   "cell_type": "code",
   "execution_count": null,
   "metadata": {},
   "outputs": [],
   "source": [
    "def file_creation(variable, name):\n",
    "\n",
    "    temp = variable.to_dataset(name=name)\n",
    "    temp.to_netcdf(path='/data/ibougoudis/MOAD/files/feb_apr_daily_clustering.nc', mode='a', encoding={name:{\"zlib\": True, \"complevel\": 9}})\n",
    "    temp.close()\n"
   ]
  },
  {
   "cell_type": "markdown",
   "metadata": {},
   "source": [
    "## Main Body"
   ]
  },
  {
   "cell_type": "code",
   "execution_count": null,
   "metadata": {},
   "outputs": [],
   "source": [
    "ds = xr.open_dataset('/data/ibougoudis/MOAD/files/feb_apr_c.nc')\n",
    "\n",
    "# ds = ds.isel(\n",
    "#     y=(np.arange(ds.y[0], ds.y[-1], 5)), \n",
    "#     x=(np.arange(ds.x[0], ds.x[-1], 5)))\n",
    "\n",
    "dataset = ds.sel(time_counter = slice('2007', '2024'))\n",
    "years = np.unique(dataset.time_counter.dt.year)\n",
    "\n",
    "coords = dict(time_counter=ds.time_counter, y=ds.y, x=ds.x) \n",
    "\n",
    "names = list(ds.keys())\n",
    "del names[names.index('Summation_of_solar_radiation'):names.index('Day_of_year')+1] # These are continuous \n",
    "\n",
    "name = 'Z1_Z1'\n",
    "\n",
    "clusters = datasets_preparation(coords)\n",
    "    \n",
    "for i in tqdm(range (0, len(ds.time_counter))):        \n",
    "\n",
    "    dataset = ds.isel(time_counter=i)        \n",
    "    clusters[i] = clustering(dataset, name)\n",
    "\n",
    "# Calling file creation\n",
    "file_creation(clusters, name)\n"
   ]
  },
  {
   "cell_type": "code",
   "execution_count": null,
   "metadata": {},
   "outputs": [],
   "source": []
  }
 ],
 "metadata": {
  "kernelspec": {
   "display_name": "Python 3",
   "language": "python",
   "name": "python3"
  },
  "language_info": {
   "codemirror_mode": {
    "name": "ipython",
    "version": 3
   },
   "file_extension": ".py",
   "mimetype": "text/x-python",
   "name": "python",
   "nbconvert_exporter": "python",
   "pygments_lexer": "ipython3",
   "version": "3.11.11"
  }
 },
 "nbformat": 4,
 "nbformat_minor": 2
}
