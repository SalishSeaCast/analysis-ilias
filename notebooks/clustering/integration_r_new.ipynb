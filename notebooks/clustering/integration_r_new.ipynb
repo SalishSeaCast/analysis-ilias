{
 "cells": [
  {
   "cell_type": "markdown",
   "metadata": {},
   "source": [
    "## Importing"
   ]
  },
  {
   "cell_type": "code",
   "execution_count": null,
   "metadata": {},
   "outputs": [],
   "source": [
    "import xarray as xr\n",
    "import numpy as np\n",
    "\n",
    "from sklearn import preprocessing\n",
    "from sklearn_som.som import SOM\n",
    "\n",
    "from tqdm.auto import tqdm\n"
   ]
  },
  {
   "cell_type": "markdown",
   "metadata": {},
   "source": [
    "## SOM (Drivers)"
   ]
  },
  {
   "cell_type": "code",
   "execution_count": null,
   "metadata": {},
   "outputs": [],
   "source": [
    "def som (inputs, m, n):\n",
    "\n",
    "    # Pre processing \n",
    "    indx = np.where(~np.isnan(inputs).any(axis=0))\n",
    "    inputs2 = inputs[:,indx[0]]\n",
    "    inputs3 = preprocessing.normalize(inputs2, norm= 'max')\n",
    "    inputs3 = inputs3.transpose()\n",
    "\n",
    "    # SOM\n",
    "    temp_som = SOM(m, n, dim= inputs3[0,:].size, lr = 0.1)\n",
    "    temp_som.fit(inputs3, epochs = 5)\n",
    "    predictions = temp_som.predict(inputs3)\n",
    "\n",
    "    # Post processing\n",
    "    unique, counts = np.unique(predictions, return_counts=True)\n",
    "    indx2 = np.full(inputs[0,:].size,np.nan)\n",
    "    indx2[indx[0]] = predictions\n",
    "    clusters = np.reshape(indx2,(898,398)) \n",
    "    \n",
    "    clusters = datasets_preparation(clusters)\n",
    "\n",
    "    return(clusters)\n",
    "    "
   ]
  },
  {
   "cell_type": "markdown",
   "metadata": {},
   "source": [
    "## Datasets Preparataion"
   ]
  },
  {
   "cell_type": "code",
   "execution_count": null,
   "metadata": {},
   "outputs": [],
   "source": [
    "def datasets_preparation(clusters):\n",
    "\n",
    "    coords = dict(time_counter=dataset.time_counter, y=dataset.y, x=dataset.x) \n",
    "    clusters= xr.DataArray(clusters,\n",
    "        coords = coords,\n",
    "        dims = ['y', 'x'],\n",
    "        attrs=dict(description=\"Clusters of the performed self organizing map algorithm\",\n",
    "        long_name =\"Cluster\",\n",
    "        units=\"count\"))\n",
    "    clusters = xr.concat([clusters],'time_counter')\n",
    "\n",
    "    return(clusters)\n"
   ]
  },
  {
   "cell_type": "markdown",
   "metadata": {},
   "source": [
    "## File Creation"
   ]
  },
  {
   "cell_type": "code",
   "execution_count": null,
   "metadata": {},
   "outputs": [],
   "source": [
    "def file_creation(variable, name):\n",
    "\n",
    "    temp = variable.to_dataset(name=name)\n",
    "    temp.to_netcdf(path='D:\\\\nc\\clustering.nc', mode='a', encoding={name:{\"zlib\": True, \"complevel\": 9}})\n"
   ]
  },
  {
   "cell_type": "markdown",
   "metadata": {},
   "source": [
    "## Main Body"
   ]
  },
  {
   "cell_type": "code",
   "execution_count": null,
   "metadata": {},
   "outputs": [],
   "source": [
    "ds = xr.open_dataset('D:\\\\nc\\integrated_original.nc')\n",
    "\n",
    "# Dimensions of the map\n",
    "m = 3\n",
    "n = 2\n",
    "    \n",
    "for i in tqdm(range (0, len(ds.time_counter)), leave=False):        \n",
    "\n",
    "    dataset = ds.isel(time_counter=i)        \n",
    "   \n",
    "    drivers = np.stack([np.ravel(dataset['Temperature_(0m-15m)']),\n",
    "        np.ravel(dataset['Temperature_(15m-100m)']), \n",
    "        np.ravel(dataset['Salinity_(0m-15m)']),\n",
    "        np.ravel(dataset['Salinity_(15m-100m)'])])\n",
    "\n",
    "    # nutrients = np.stack([np.ravel(dataset['Silicon']),\n",
    "    #     np.ravel(dataset['Nitrate']), np.ravel(dataset['Ammonium'])])\n",
    "\n",
    "    # phyto = np.stack([np.ravel(dataset['Diatom']),\n",
    "    #     np.ravel(dataset['Flagellate'])])\n",
    "\n",
    "    # zoo = np.stack([np.ravel(dataset['Microzooplankton']),\n",
    "    #     np.ravel(dataset['Mesozooplankton'])])\n",
    "    \n",
    "    clusters = som(drivers, m, n)\n",
    "\n",
    "    if i ==0:\n",
    "        \n",
    "        clusters_all = clusters\n",
    "    \n",
    "    else:\n",
    "\n",
    "        clusters_all = xr.concat((clusters_all, clusters), dim='time_counter')\n",
    "\n",
    "# Calling file creation\n",
    "\n",
    "file_creation(clusters_all, 'Clusters')\n"
   ]
  },
  {
   "cell_type": "code",
   "execution_count": null,
   "metadata": {},
   "outputs": [],
   "source": []
  },
  {
   "cell_type": "code",
   "execution_count": null,
   "metadata": {},
   "outputs": [],
   "source": []
  }
 ],
 "metadata": {
  "kernelspec": {
   "display_name": "analysis-ilias",
   "language": "python",
   "name": "python3"
  },
  "language_info": {
   "codemirror_mode": {
    "name": "ipython",
    "version": 3
   },
   "file_extension": ".py",
   "mimetype": "text/x-python",
   "name": "python",
   "nbconvert_exporter": "python",
   "pygments_lexer": "ipython3",
   "version": "3.10.12"
  }
 },
 "nbformat": 4,
 "nbformat_minor": 2
}
