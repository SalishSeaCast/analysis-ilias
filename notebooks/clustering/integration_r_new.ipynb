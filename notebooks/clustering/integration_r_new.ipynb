{
 "cells": [
  {
   "cell_type": "markdown",
   "metadata": {},
   "source": [
    "## Importing"
   ]
  },
  {
   "cell_type": "code",
   "execution_count": 34,
   "metadata": {},
   "outputs": [],
   "source": [
    "import xarray as xr\n",
    "import numpy as np\n",
    "\n",
    "from sklearn import preprocessing\n",
    "from sklearn_som.som import SOM\n",
    "\n",
    "from tqdm.auto import tqdm\n"
   ]
  },
  {
   "cell_type": "markdown",
   "metadata": {},
   "source": [
    "## Datasets Preparation"
   ]
  },
  {
   "cell_type": "code",
   "execution_count": 35,
   "metadata": {},
   "outputs": [],
   "source": [
    "def datasets_preparation():\n",
    "\n",
    "    clusters = xr.DataArray(coords=coords, dims = ['time_counter', 'y', 'x'],\n",
    "        attrs=dict(description=\"Clusters of the performed self organizing map algorithm\",\n",
    "        long_name =\"Cluster\",\n",
    "        units=\"count\"))\n",
    "        \n",
    "    return (clusters)"
   ]
  },
  {
   "cell_type": "markdown",
   "metadata": {},
   "source": [
    "## SOM (Drivers)"
   ]
  },
  {
   "cell_type": "code",
   "execution_count": 36,
   "metadata": {},
   "outputs": [],
   "source": [
    "def som (inputs, m, n):\n",
    "\n",
    "    # Pre processing \n",
    "    indx = np.where(~np.isnan(inputs).any(axis=0))\n",
    "    inputs2 = inputs[:,indx[0]]\n",
    "    inputs2 = preprocessing.normalize(inputs2, norm= 'max')\n",
    "    inputs2 = inputs2.transpose()\n",
    "\n",
    "    # SOM\n",
    "    temp_som = SOM(m, n, dim= inputs2[0,:].size, lr = 0.1)\n",
    "    temp_som.fit(inputs2, epochs = 5)\n",
    "    predictions = temp_som.predict(inputs2)\n",
    "\n",
    "    # Post processing\n",
    "    indx2 = np.full(inputs[0,:].size,np.nan)\n",
    "    indx2[indx[0]] = predictions\n",
    "    clusters = np.reshape(indx2,(898,398)) \n",
    "\n",
    "    return(clusters)\n",
    "    "
   ]
  },
  {
   "cell_type": "markdown",
   "metadata": {},
   "source": [
    "## File Creation"
   ]
  },
  {
   "cell_type": "code",
   "execution_count": 37,
   "metadata": {},
   "outputs": [],
   "source": [
    "def file_creation(variable, name):\n",
    "\n",
    "    temp = variable.to_dataset(name=name)\n",
    "    temp.to_netcdf(path='D:\\\\nc\\clustering.nc', mode='a', encoding={name:{\"zlib\": True, \"complevel\": 9}})\n"
   ]
  },
  {
   "cell_type": "markdown",
   "metadata": {},
   "source": [
    "## Main Body"
   ]
  },
  {
   "cell_type": "code",
   "execution_count": 38,
   "metadata": {},
   "outputs": [
    {
     "name": "stderr",
     "output_type": "stream",
     "text": [
      "                                               \r"
     ]
    }
   ],
   "source": [
    "ds = xr.open_dataset('D:\\\\nc\\integrated_original.nc')\n",
    "\n",
    "# Dimensions of the map\n",
    "m = 3\n",
    "n = 2\n",
    "\n",
    "coords = dict(time_counter=ds.time_counter, y=ds.y, x=ds.x) \n",
    "\n",
    "clusters_d = datasets_preparation()\n",
    "clusters_n = datasets_preparation()\n",
    "clusters_p = datasets_preparation()\n",
    "clusters_z = datasets_preparation()\n",
    " \n",
    "for i in tqdm(range (0, len(ds.time_counter)+1), leave=False):        \n",
    "\n",
    "    dataset = ds.isel(time_counter=i)        \n",
    "   \n",
    "    drivers = np.stack([np.ravel(dataset['Temperature_(0m-15m)']),\n",
    "        np.ravel(dataset['Temperature_(15m-100m)']), \n",
    "        np.ravel(dataset['Salinity_(0m-15m)']),\n",
    "        np.ravel(dataset['Salinity_(15m-100m)'])])\n",
    "\n",
    "    nutrients = np.stack([np.ravel(dataset['Silicon']),\n",
    "        np.ravel(dataset['Nitrate']), np.ravel(dataset['Ammonium'])])\n",
    "\n",
    "    phyto = np.stack([np.ravel(dataset['Diatom']),\n",
    "        np.ravel(dataset['Flagellate'])])\n",
    "\n",
    "    zoo = np.stack([np.ravel(dataset['Microzooplankton']),\n",
    "        np.ravel(dataset['Mesozooplankton'])])\n",
    "    \n",
    "    clusters_d[i] = som(drivers, m, n)\n",
    "    clusters_n[i] = som(nutrients, m, n)\n",
    "    clusters_p[i] = som(phyto, m, n)\n",
    "    clusters_z[i] = som(zoo, m, n)\n",
    "\n",
    "# Calling file creation\n",
    "\n",
    "file_creation(clusters_d, 'Clusters_Drivers')\n",
    "file_creation(clusters_n, 'Clusters_Nutrients')\n",
    "file_creation(clusters_p, 'Clusters_Phytoplankton')\n",
    "file_creation(clusters_z, 'Clusters_Zooplankton')\n"
   ]
  },
  {
   "cell_type": "code",
   "execution_count": null,
   "metadata": {},
   "outputs": [],
   "source": []
  }
 ],
 "metadata": {
  "kernelspec": {
   "display_name": "analysis-ilias",
   "language": "python",
   "name": "python3"
  },
  "language_info": {
   "codemirror_mode": {
    "name": "ipython",
    "version": 3
   },
   "file_extension": ".py",
   "mimetype": "text/x-python",
   "name": "python",
   "nbconvert_exporter": "python",
   "pygments_lexer": "ipython3",
   "version": "3.10.12"
  }
 },
 "nbformat": 4,
 "nbformat_minor": 2
}
