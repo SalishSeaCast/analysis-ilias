{
 "cells": [
  {
   "cell_type": "markdown",
   "metadata": {},
   "source": [
    "# Example notebook for collecting data, training and evaluating the model"
   ]
  },
  {
   "cell_type": "markdown",
   "metadata": {},
   "source": [
    "## Importing"
   ]
  },
  {
   "cell_type": "code",
   "execution_count": null,
   "metadata": {},
   "outputs": [],
   "source": [
    "import xarray as xr\n",
    "import numpy as np\n",
    "import pandas as pd\n",
    "import matplotlib.pyplot as plt\n",
    "\n",
    "from skfda.ml.clustering import FuzzyCMeans, KMeans\n",
    "\n",
    "\n",
    "import salishsea_tools.viz_tools as sa_vi"
   ]
  },
  {
   "cell_type": "markdown",
   "metadata": {},
   "source": [
    "## Files Reading"
   ]
  },
  {
   "cell_type": "code",
   "execution_count": 65,
   "metadata": {},
   "outputs": [],
   "source": [
    "# The location of the file\n",
    "ds = xr.open_dataset('/data/ibougoudis/MOAD/files/integrated_original.nc')\n",
    "\n",
    "# # Downgrading the resolution\n",
    "# ds = ds.isel(time_counter = (np.arange(0, len(ds.time_counter),2)), \n",
    "#     y=(np.arange(ds.y[0], ds.y[-1], 5)), \n",
    "#     x=(np.arange(ds.x[0], ds.x[-1], 5)))\n",
    "\n",
    "# Selecting the first 2 years\n",
    "dataset = ds.sel(time_counter = slice('2007-2-15', '2009-2-15'))\n",
    "dates = pd.DatetimeIndex(dataset['time_counter'].values)\n"
   ]
  },
  {
   "cell_type": "markdown",
   "metadata": {},
   "source": [
    "## Opening the dataset and its features"
   ]
  },
  {
   "cell_type": "code",
   "execution_count": null,
   "metadata": {},
   "outputs": [],
   "source": [
    "# Printing the features of the dataset\n",
    "print(dataset)\n",
    "\n",
    "# Plotting diatoms for the first day\n",
    "dataset.Diatom[0].plot()"
   ]
  },
  {
   "cell_type": "code",
   "execution_count": null,
   "metadata": {},
   "outputs": [],
   "source": [
    "test.shape"
   ]
  },
  {
   "cell_type": "markdown",
   "metadata": {},
   "source": [
    "## Datasets Preparation"
   ]
  },
  {
   "cell_type": "code",
   "execution_count": 66,
   "metadata": {},
   "outputs": [
    {
     "name": "stdout",
     "output_type": "stream",
     "text": [
      "(4, 54325408)\n",
      "(4, 7064808)\n",
      "(54325408,)\n",
      "(7064808,)\n"
     ]
    },
    {
     "data": {
      "text/plain": [
       "array([ 8.534305,  8.593387, 28.23707 , 28.385187], dtype=float32)"
      ]
     },
     "execution_count": 66,
     "metadata": {},
     "output_type": "execute_result"
    }
   ],
   "source": [
    "# Here I am packing all of them in one variable, named drivers\n",
    "\n",
    "drivers = np.stack([np.ravel(dataset['Temperature_(0m-15m)']),\n",
    "    np.ravel(dataset['Temperature_(15m-100m)']), \n",
    "    np.ravel(dataset['Salinity_(0m-15m)']),\n",
    "    np.ravel(dataset['Salinity_(15m-100m)']),\n",
    "    ])\n",
    "\n",
    "print(drivers.shape)\n",
    "# Removing of nans\n",
    "indx = np.where(~np.isnan(drivers).any(axis=0))\n",
    "drivers = drivers[:,indx[0]]\n",
    "print(drivers.shape)\n",
    "\n",
    "diat = np.ravel(dataset['Diatom'])\n",
    "print(diat.shape)\n",
    "diat = diat[indx]\n",
    "print(diat.shape)\n",
    "\n",
    "# Transpose to bring it to the format (samples, features)\n",
    "drivers = drivers.transpose()\n",
    "\n",
    "# 1st sample - grid box\n",
    "drivers[0]"
   ]
  },
  {
   "cell_type": "code",
   "execution_count": 67,
   "metadata": {},
   "outputs": [],
   "source": [
    "test = np.reshape(np.ravel(dataset.Diatom), (len(dataset.time_counter), len(dataset.y) * len(dataset.x)))\n",
    "\n",
    "indx = np.where(~np.isnan(test).any(axis=0))\n",
    "test = test[:, indx[0]]\n"
   ]
  },
  {
   "cell_type": "code",
   "execution_count": 68,
   "metadata": {},
   "outputs": [],
   "source": [
    "from skfda.representation.grid import FDataGrid\n",
    "test2 = FDataGrid(test.transpose())"
   ]
  },
  {
   "cell_type": "markdown",
   "metadata": {},
   "source": [
    "## Training "
   ]
  },
  {
   "cell_type": "code",
   "execution_count": 69,
   "metadata": {},
   "outputs": [
    {
     "data": {
      "text/plain": [
       "2"
      ]
     },
     "execution_count": 69,
     "metadata": {},
     "output_type": "execute_result"
    }
   ],
   "source": [
    "n_clusters = 6\n",
    "kmeans = KMeans(n_clusters=n_clusters)\n",
    "kmeans.fit(test2)\n",
    "clusters = kmeans.predict(test2)\n",
    "clusters\n"
   ]
  }
 ],
 "metadata": {
  "kernelspec": {
   "display_name": "analysis-ilias",
   "language": "python",
   "name": "python3"
  },
  "language_info": {
   "codemirror_mode": {
    "name": "ipython",
    "version": 3
   },
   "file_extension": ".py",
   "mimetype": "text/x-python",
   "name": "python",
   "nbconvert_exporter": "python",
   "pygments_lexer": "ipython3",
   "version": "3.11.8"
  }
 },
 "nbformat": 4,
 "nbformat_minor": 2
}
