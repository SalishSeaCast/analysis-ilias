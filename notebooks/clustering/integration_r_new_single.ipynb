{
 "cells": [
  {
   "cell_type": "markdown",
   "metadata": {},
   "source": [
    "# Creating a netcdf file with clustering results from a single input variable"
   ]
  },
  {
   "cell_type": "markdown",
   "metadata": {},
   "source": [
    "## Importing"
   ]
  },
  {
   "cell_type": "code",
   "execution_count": 1,
   "metadata": {},
   "outputs": [],
   "source": [
    "import xarray as xr\n",
    "import numpy as np\n",
    "\n",
    "from sklearn import preprocessing\n",
    "from sklearn_som.som import SOM\n",
    "\n",
    "from tqdm.auto import tqdm\n"
   ]
  },
  {
   "cell_type": "markdown",
   "metadata": {},
   "source": [
    "## Datasets Preparation"
   ]
  },
  {
   "cell_type": "code",
   "execution_count": 2,
   "metadata": {},
   "outputs": [],
   "source": [
    "def datasets_preparation():\n",
    "\n",
    "    clusters = xr.DataArray(coords=coords, dims = ['time_counter', 'y', 'x'],\n",
    "        attrs=dict(description=\"Clusters of the performed self organizing map algorithm\",\n",
    "        long_name =\"Cluster\",\n",
    "        units=\"count\"))\n",
    "        \n",
    "    return (clusters)\n"
   ]
  },
  {
   "cell_type": "markdown",
   "metadata": {},
   "source": [
    "## SOM (Drivers)"
   ]
  },
  {
   "cell_type": "code",
   "execution_count": 3,
   "metadata": {},
   "outputs": [],
   "source": [
    "def som (inputs, m, n):\n",
    "\n",
    "    # Pre processing \n",
    "    indx = np.where(~np.isnan(inputs))\n",
    "    inputs2 = inputs[indx]\n",
    "    inputs2 = inputs2.reshape(len(inputs2),1)\n",
    "\n",
    "    # SOM\n",
    "    temp_som = SOM(m, n, dim= inputs2[0].size, lr = 0.1)\n",
    "    temp_som.fit(inputs2, epochs = 5)\n",
    "    predictions = temp_som.predict(inputs2)\n",
    "\n",
    "    # Post processing\n",
    "    indx2 = np.full(inputs.size,np.nan)\n",
    "    indx2[indx] = predictions\n",
    "    clusters = np.reshape(indx2,(898,398)) \n",
    "\n",
    "    return(clusters)\n",
    "    "
   ]
  },
  {
   "cell_type": "markdown",
   "metadata": {},
   "source": [
    "## File Creation"
   ]
  },
  {
   "cell_type": "code",
   "execution_count": 4,
   "metadata": {},
   "outputs": [],
   "source": [
    "def file_creation(variable, name):\n",
    "\n",
    "    temp = variable.to_dataset(name=name)\n",
    "    temp.to_netcdf(path='/data/ibougoudis/MOAD/files/clustering_diatom.nc', mode='a', encoding={name:{\"zlib\": True, \"complevel\": 9}})\n"
   ]
  },
  {
   "cell_type": "markdown",
   "metadata": {},
   "source": [
    "## Main Body"
   ]
  },
  {
   "cell_type": "code",
   "execution_count": null,
   "metadata": {},
   "outputs": [],
   "source": [
    "ds = xr.open_dataset('/data/ibougoudis/MOAD/files/integrated_original.nc')\n",
    "\n",
    "# Dimensions of the map\n",
    "m = 3\n",
    "n = 2\n",
    "\n",
    "coords = dict(time_counter=ds.time_counter, y=ds.y, x=ds.x) \n",
    "\n",
    "clusters_p = datasets_preparation()\n",
    " \n",
    "for i in tqdm(range (0, len(ds.time_counter)), leave=False):        \n",
    "\n",
    "    dataset = ds.isel(time_counter=i)        \n",
    "\n",
    "    phyto = np.ravel(dataset['Diatom'])\n",
    "\n",
    "    clusters_p[i] = som(phyto, m, n)\n",
    "\n",
    "# Calling file creation\n",
    "file_creation(clusters_p, 'Clusters_Diatom')\n"
   ]
  },
  {
   "cell_type": "code",
   "execution_count": null,
   "metadata": {},
   "outputs": [],
   "source": []
  }
 ],
 "metadata": {
  "kernelspec": {
   "display_name": "analysis-ilias",
   "language": "python",
   "name": "python3"
  },
  "language_info": {
   "codemirror_mode": {
    "name": "ipython",
    "version": 3
   },
   "file_extension": ".py",
   "mimetype": "text/x-python",
   "name": "python",
   "nbconvert_exporter": "python",
   "pygments_lexer": "ipython3",
   "version": "3.11.8"
  }
 },
 "nbformat": 4,
 "nbformat_minor": 2
}
