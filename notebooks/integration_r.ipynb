{
 "cells": [
  {
   "cell_type": "markdown",
   "metadata": {},
   "source": [
    "## Importing"
   ]
  },
  {
   "cell_type": "code",
   "execution_count": 67,
   "metadata": {},
   "outputs": [],
   "source": [
    "import xarray as xr\n",
    "import numpy as np\n",
    "import pandas as pd\n",
    "import matplotlib.pyplot as plt\n",
    "from sklearn_som.som import SOM\n",
    "import salishsea_tools.viz_tools as sa_vi\n",
    "from sklearn import preprocessing\n",
    "import os\n"
   ]
  },
  {
   "cell_type": "markdown",
   "metadata": {},
   "source": [
    "## Datasets Preparation"
   ]
  },
  {
   "cell_type": "code",
   "execution_count": 68,
   "metadata": {},
   "outputs": [],
   "source": [
    "def datasets_preparation ():\n",
    "    \n",
    "    # Dataset and date    \n",
    "    ds_name = ('/results2/SalishSea/nowcast-green.202111/' + i + '/SalishSea_1d_' + '20' + str(i[5:7]) + str(dict_month[i[2:5]])+str(i[0:2]) + '_' + '20' + str(i[5:7]) + str(dict_month[i[2:5]]) + str(i[0:2]) + '_grid_T.nc')\n",
    "    \n",
    "    ds_bio_name = ('/results2/SalishSea/nowcast-green.202111/' + i + '/SalishSea_1d_'  + '20' + str(i[5:7]) + str(dict_month[i[2:5]])+str(i[0:2]) + '_' + '20' + str(i[5:7]) + str(dict_month[i[2:5]]) + str(i[0:2]) + '_biol_T.nc')\n",
    "    \n",
    "    ds = xr.open_dataset (ds_name)\n",
    "    ds_bio = xr. open_dataset (ds_bio_name)\n",
    "\n",
    "    date = pd.DatetimeIndex(ds['time_counter'].values)\n",
    "    \n",
    "    # Driver variables\n",
    "    temp = ds.votemper\n",
    "    saline = ds.vosaline\n",
    "    e3t = ds.e3t\n",
    "\n",
    "    # Biological variables\n",
    "    sil = ds_bio.silicon\n",
    "    nitr = ds_bio.nitrate\n",
    "    ammo = ds_bio.ammonium\n",
    "\n",
    "    # Phytoplankton variables\n",
    "    flag = ds_bio.flagellates\n",
    "    diat = ds_bio.diatoms\n",
    "\n",
    "    # Zooplankton variables\n",
    "    micro = ds_bio.microzooplankton\n",
    "    meso = ds_bio.mesozooplankton\n",
    "\n",
    "    # Applying the mask\n",
    "    temp = temp.where(mask==1)\n",
    "    saline = saline.where(mask==1)\n",
    "    e3t = e3t.where(mask==1)\n",
    "\n",
    "    sil = sil.where(mask==1)\n",
    "    nitr= nitr.where(mask==1)\n",
    "    ammo = ammo.where(mask==1)\n",
    "\n",
    "    flag = flag.where(mask==1)\n",
    "    diat = diat.where(mask==1)\n",
    "\n",
    "    micro = micro.where(mask==1)\n",
    "    meso = meso.where(mask==1)\n",
    "\n",
    "    # Integrating the variables\n",
    "    temp_i1 = (temp[0,0:15] * e3t[0,0:15]).sum('deptht', skipna = True, min_count = 15) / mesh.gdepw_0[0,15]\n",
    "    temp_i2 = (temp[0,15:27] * e3t[0,15:27]).sum('deptht', skipna = True, min_count = 12) / (mesh.gdepw_0[0,27] - mesh.gdepw_0[0,14])\n",
    "    saline_i1 = (saline[0,0:15] * e3t[0,0:15]).sum('deptht', skipna = True, min_count = 15) / mesh.gdepw_0[0,17]\n",
    "    saline_i2 = (saline[0,15:27] * e3t[0,15:27]).sum('deptht', skipna = True, min_count = 12) / (mesh.gdepw_0[0,27] - mesh.gdepw_0[0,14])\n",
    "\n",
    "    sil_i = (sil[0,0:27] * e3t[0,0:27]).sum('deptht', skipna = True, min_count = 27) / mesh.gdepw_0[0,27]\n",
    "    nitr_i = (nitr[0,0:27] * e3t[0,0:27]).sum('deptht', skipna = True, min_count = 27) / mesh.gdepw_0[0,27]\n",
    "    ammo_i = (ammo[0,0:27] * e3t[0,0:27]).sum('deptht', skipna = True, min_count = 27) / mesh.gdepw_0[0,27]\n",
    "\n",
    "    flag_i = (flag[0,0:27] * e3t[0,0:27]).sum('deptht', skipna = True, min_count = 27) / mesh.gdepw_0[0,27]\n",
    "    diat_i = (diat[0,0:27] * e3t[0,0:27]).sum('deptht', skipna = True, min_count = 27) / mesh.gdepw_0[0,27]\n",
    "\n",
    "    micro_i = (micro[0,0:27] * e3t[0,0:27]).sum('deptht', skipna = True, min_count = 27) / mesh.gdepw_0[0,27]\n",
    "    meso_i = (meso[0,0:27] * e3t[0,0:27]).sum('deptht', skipna = True, min_count = 27) / mesh.gdepw_0[0,27]\n",
    "\n",
    "    return (date, temp_i1, temp_i2, saline_i1, saline_i2, sil_i, nitr_i, ammo_i, diat_i,  flag_i, micro_i, meso_i)\n"
   ]
  },
  {
   "cell_type": "markdown",
   "metadata": {},
   "source": [
    "## SOM (Drivers)"
   ]
  },
  {
   "cell_type": "code",
   "execution_count": 69,
   "metadata": {},
   "outputs": [],
   "source": [
    "def som ():\n",
    "\n",
    "    # Post processing \n",
    "    inputs = np.stack([temp_i1.values.flatten(), temp_i2.values.flatten(), saline_i1.values.flatten(), saline_i2.values.flatten()])\n",
    "    indx = np.argwhere(~np.isnan(inputs[0]) & ~np.isnan(inputs[1]) & ~np.isnan(inputs[2])& ~np.isnan(inputs[3])) \n",
    "    inputs2 = inputs[:,indx[:,0]]\n",
    "    inputs3 = preprocessing.normalize(inputs2, norm= 'max')\n",
    "    inputs3 = inputs3.transpose()\n",
    "\n",
    "    # SOM\n",
    "    temp_som = SOM(m=3, n=2, dim= inputs3[0,:].size, lr = 0.1)\n",
    "    temp_som.fit(inputs3, epochs = 5)\n",
    "    predictions = temp_som.predict(inputs3)\n",
    "\n",
    "    # Post processing\n",
    "    unique, counts = np.unique(predictions, return_counts=True)\n",
    "    indx2 = np.full(inputs[0,:].size,np.nan)\n",
    "    indx2[indx[:,0]] = predictions\n",
    "    clusters = np.reshape(indx2,(898,398)) \n",
    "\n",
    "    # Preparation of the dataarray \n",
    "    clusters= xr.DataArray(clusters,\n",
    "                    coords = {'y': temp_i1.y, 'x': temp_i1.x},\n",
    "                    dims = ['y','x'],\n",
    "                    attrs=dict(description=\"Clusters of the performed self organizing map algorithm\",\n",
    "                                long_name =\"Cluster\",\n",
    "                                units=\"count\"),\n",
    "                    )\n",
    "    \n",
    "    return (clusters, unique, counts)\n",
    "    "
   ]
  },
  {
   "cell_type": "markdown",
   "metadata": {},
   "source": [
    "# Printing"
   ]
  },
  {
   "cell_type": "code",
   "execution_count": 70,
   "metadata": {},
   "outputs": [],
   "source": [
    "def printing ():\n",
    "\n",
    "    lines = ['Date: ' + str(date.date[0]), '\\n']\n",
    "    for i in unique:\n",
    "        lines.append(['The amount of grid boxes for cluster ' + str(i), ' is ' + str(counts[i]),'\\n'])\n",
    "\n",
    "        lines.append(['The minimum temperature for cluster '+ str(i), ' is ' + str(np.round(xr.concat([temp_i1.where(clusters==i),temp_i2.where(clusters==i)], 'y').min().values,2)), ' degrees_C m'])\n",
    "        lines.append(['The maximum temperature for cluster '+ str(i), ' is ' + str(np.round(xr.concat([temp_i1.where(clusters==i),temp_i2.where(clusters==i)], 'y').max().values,2)), ' degrees_C m'])\n",
    "        lines.append(['The mean temperature for cluster '+ str(i), ' is ' + str(np.round(xr.concat([temp_i1.where(clusters==i),temp_i2.where(clusters==i)], 'y').mean().values,2)), ' degrees_C m', '\\n'])\n",
    "\n",
    "        lines.append(['The minimum salinity for cluster '+ str(i), ' is ' + str(np.round(xr.concat([saline_i1.where(clusters==i),saline_i2.where(clusters==i)], 'y').min().values,2)), ' g m kg-1'])\n",
    "        lines.append(['The maximum salinity for cluster '+ str(i), ' is ' + str(np.round(xr.concat([saline_i1.where(clusters==i),saline_i2.where(clusters==i)], 'y').max().values,2)), ' g m kg-1'])\n",
    "        lines.append(['The mean salinity for cluster '+ str(i), ' is ' + str(np.round(xr.concat([saline_i1.where(clusters==i),saline_i2.where(clusters==i)], 'y').mean().values,2)), ' g m kg-1', '\\n'*2])\n",
    "        \n",
    "    \n",
    "        lines.append(['The minimum silicon concentration for cluster '+ str(i), ' is ' + str(np.round(sil_i.where(clusters==i).min().values,2)), ' mmol m-2'])\n",
    "        lines.append(['The maximum silicon concentration for cluster '+ str(i), ' is ' + str(np.round(sil_i.where(clusters==i).max().values,2)), ' mmol m-2'])\n",
    "        lines.append(['The mean silicon concentration for cluster '+ str(i), ' is ' + str(np.round(sil_i.where(clusters==i).mean().values,2)), ' mmol m-2', '\\n'])\n",
    "\n",
    "        lines.append(['The minimum nitrate concentration for cluster '+ str(i), ' is ' + str(np.round(nitr_i.where(clusters==i).min().values,2)), ' mmol m-2'])\n",
    "        lines.append(['The maximum nitrate concentration for cluster '+ str(i), ' is ' + str(np.round(nitr_i.where(clusters==i).max().values,2)), ' mmol m-2'])\n",
    "        lines.append(['The mean nitrate concentration for cluster '+ str(i), ' is ' + str(np.round(nitr_i.where(clusters==i).mean().values,2)), ' mmol m-2', '\\n'])\n",
    "\n",
    "        lines.append(['The minimum ammonium concentration for cluster '+ str(i), ' is ' + str(np.round(ammo_i.where(clusters==i).min().values,2)), ' mmol m-2'])\n",
    "        lines.append(['The maximum ammonium concentration for cluster '+ str(i), ' is ' + str(np.round(ammo_i.where(clusters==i).max().values,2)), ' mmol m-2'])\n",
    "        lines.append(['The mean ammonium concentration for cluster '+ str(i), ' is ' + str(np.round(ammo_i.where(clusters==i).mean().values,2)), ' mmol m-2', '\\n'*2])\n",
    "\n",
    "\n",
    "        lines.append(['The minimum diatom concentration for cluster '+ str(i), ' is ' + str(np.round(diat_i.where(clusters==i).min().values,2)), ' mmol m-2'])\n",
    "        lines.append(['The maximum diatom concentration for cluster '+ str(i), ' is ' + str(np.round(diat_i.where(clusters==i).max().values,2)), ' mmol m-2'])\n",
    "        lines.append(['The mean diatom concentration for cluster '+ str(i), ' is ' + str(np.round(diat_i.where(clusters==i).mean().values,2)), ' mmol m-2', '\\n'])\n",
    "\n",
    "        lines.append(['The minimum flagellate concentration for cluster '+ str(i), ' is ' + str(np.round(flag_i.where(clusters==i).min().values,2)), ' mmol m-2'])\n",
    "        lines.append(['The maximum flagellate concentration for cluster '+ str(i), ' is ' + str(np.round(flag_i.where(clusters==i).max().values,2)), ' mmol m-2'])\n",
    "        lines.append(['The mean flagellate concentration for cluster '+ str(i), ' is ' + str(np.round(flag_i.where(clusters==i).mean().values,2)), ' mmol m-2', '\\n'*2])\n",
    "\n",
    "\n",
    "        lines.append(['The minimum microzooplankton concentration for cluster '+ str(i), ' is ' + str(np.round(micro_i.where(clusters==i).min().values,2)), ' mmol m-2'])\n",
    "        lines.append(['The maximum microzooplankton concentration for cluster '+ str(i), ' is ' + str(np.round(micro_i.where(clusters==i).max().values,2)), ' mmol m-2'])\n",
    "        lines.append(['The mean microzooplankton concentration for cluster '+ str(i), ' is ' + str(np.round(micro_i.where(clusters==i).mean().values,2)), ' mmol m-2', '\\n'])\n",
    "\n",
    "        lines.append(['The minimum mesozooplankton concentration for cluster '+ str(i), ' is ' + str(np.round(meso_i.where(clusters==i).min().values,2)), ' mmol m-2'])\n",
    "        lines.append(['The maximum mesozooplankton concentration for cluster '+ str(i), ' is ' + str(np.round(meso_i.where(clusters==i).max().values,2)), ' mmol m-2'])\n",
    "        lines.append(['The mean mesozooplankton concentration for cluster '+ str(i), ' is ' + str(np.round(meso_i.where(clusters==i).mean().values,2)), ' mmol m-2', '\\n'*2])\n",
    "\n",
    "\n",
    "    f = open(\"Statistics.txt\", \"a\")\n",
    "    for line in lines:\n",
    "          f.writelines(line)\n",
    "          f.write('\\n')\n",
    "\n",
    "    f.close()"
   ]
  },
  {
   "cell_type": "markdown",
   "metadata": {},
   "source": [
    "## Plotting"
   ]
  },
  {
   "cell_type": "code",
   "execution_count": 71,
   "metadata": {},
   "outputs": [],
   "source": [
    "def plotting (labels, titles, variables, filename):\n",
    "    \n",
    "    fig, ax = plt.subplots(2,2, figsize=(10, 15))\n",
    "\n",
    "    if variables[0].all() == clusters.all():\n",
    "\n",
    "        cmap = plt.get_cmap('tab20', unique.max()+1)\n",
    "        cmap.set_bad('gray')\n",
    "        clus = variables[0].plot.pcolormesh(ax=ax[0,0], cmap=cmap, vmin = unique.min(), vmax = unique.max()+1, add_colorbar=False)\n",
    "\n",
    "        cbar = fig.colorbar(clus, ticks = unique+0.5) \n",
    "        cbar.set_ticklabels(unique)\n",
    "        cbar.set_label(labels[0])\n",
    "\n",
    "    else:\n",
    "        \n",
    "        cmap = plt.get_cmap('cubehelix')\n",
    "        cmap.set_bad('gray')\n",
    "        variables[0].plot.pcolormesh(ax=ax[0,0], cmap=cmap, cbar_kwargs={'label': labels[0]})\n",
    "\n",
    "    plt.subplots_adjust(left=0.1,\n",
    "        bottom=0.1, \n",
    "        right=0.9, \n",
    "        top=0.95, \n",
    "        wspace=0.15, \n",
    "        hspace=0.15)\n",
    "        \n",
    "    cmap = plt.get_cmap('cubehelix')\n",
    "    cmap.set_bad('gray')\n",
    "\n",
    "    variables[1].plot.pcolormesh(ax=ax[0,1], cmap=cmap, cbar_kwargs={'label': labels[1]})\n",
    "    variables[2].plot.pcolormesh(ax=ax[1,0], cmap=cmap, cbar_kwargs={'label': labels[2]})\n",
    "\n",
    "    sa_vi.set_aspect(ax[0,0])\n",
    "    sa_vi.set_aspect(ax[0,1])\n",
    "    sa_vi.set_aspect(ax[1,0])\n",
    "\n",
    "    ax[0,0].title.set_text(titles[0])\n",
    "    ax[0,1].title.set_text(titles[1])\n",
    "    ax[1,0].title.set_text(titles[2])\n",
    "\n",
    "    if len(titles) == 3:\n",
    "\n",
    "        ax[1,1].axis('off')\n",
    "    \n",
    "    else:\n",
    "\n",
    "        variables[3].plot.pcolormesh(ax=ax[1,1], cmap=cmap, cbar_kwargs={'label': labels[3]})\n",
    "        sa_vi.set_aspect(ax[1,1])\n",
    "        ax[1,1].title.set_text(titles[3])\n",
    "\n",
    "    fig.suptitle(date.date[0])\n",
    "\n",
    "    fig.savefig(filename)\n",
    "    \n",
    "    plt.close(fig)\n"
   ]
  },
  {
   "cell_type": "markdown",
   "metadata": {},
   "source": [
    "## Main Body"
   ]
  },
  {
   "cell_type": "code",
   "execution_count": 72,
   "metadata": {},
   "outputs": [
    {
     "name": "stdout",
     "output_type": "stream",
     "text": [
      "1 / 1564\n",
      "2 / 1564\n",
      "3 / 1564\n",
      "4 / 1564\n",
      "5 / 1564\n",
      "6 / 1564\n",
      "7 / 1564\n"
     ]
    },
    {
     "name": "stdout",
     "output_type": "stream",
     "text": [
      "8 / 1564\n"
     ]
    },
    {
     "ename": "KeyboardInterrupt",
     "evalue": "",
     "output_type": "error",
     "traceback": [
      "\u001b[0;31m---------------------------------------------------------------------------\u001b[0m",
      "\u001b[0;31mKeyboardInterrupt\u001b[0m                         Traceback (most recent call last)",
      "Cell \u001b[0;32mIn[72], line 54\u001b[0m\n\u001b[1;32m     50\u001b[0m os\u001b[38;5;241m.\u001b[39mchdir(os\u001b[38;5;241m.\u001b[39mpath\u001b[38;5;241m.\u001b[39mjoin(parent_dir, i))\n\u001b[1;32m     52\u001b[0m date, temp_i1, temp_i2, saline_i1, saline_i2, sil_i, nitr_i, ammo_i, diat_i, flag_i, micro_i, meso_i \u001b[38;5;241m=\u001b[39m datasets_preparation()\n\u001b[0;32m---> 54\u001b[0m clusters, unique, counts \u001b[38;5;241m=\u001b[39m \u001b[43msom\u001b[49m\u001b[43m \u001b[49m\u001b[43m(\u001b[49m\u001b[43m)\u001b[49m\n\u001b[1;32m     56\u001b[0m printing ()\n\u001b[1;32m     58\u001b[0m plotting (labels_dr, titles_dr, variables \u001b[38;5;241m=\u001b[39m [temp_i1, temp_i2, saline_i1, saline_i2], filename \u001b[38;5;241m=\u001b[39m \u001b[38;5;124m'\u001b[39m\u001b[38;5;124mDrivers.png\u001b[39m\u001b[38;5;124m'\u001b[39m)\n",
      "Cell \u001b[0;32mIn[69], line 13\u001b[0m, in \u001b[0;36msom\u001b[0;34m()\u001b[0m\n\u001b[1;32m     11\u001b[0m temp_som \u001b[38;5;241m=\u001b[39m SOM(m\u001b[38;5;241m=\u001b[39m\u001b[38;5;241m3\u001b[39m, n\u001b[38;5;241m=\u001b[39m\u001b[38;5;241m2\u001b[39m, dim\u001b[38;5;241m=\u001b[39m inputs3[\u001b[38;5;241m0\u001b[39m,:]\u001b[38;5;241m.\u001b[39msize, lr \u001b[38;5;241m=\u001b[39m \u001b[38;5;241m0.1\u001b[39m)\n\u001b[1;32m     12\u001b[0m temp_som\u001b[38;5;241m.\u001b[39mfit(inputs3, epochs \u001b[38;5;241m=\u001b[39m \u001b[38;5;241m5\u001b[39m)\n\u001b[0;32m---> 13\u001b[0m predictions \u001b[38;5;241m=\u001b[39m \u001b[43mtemp_som\u001b[49m\u001b[38;5;241;43m.\u001b[39;49m\u001b[43mpredict\u001b[49m\u001b[43m(\u001b[49m\u001b[43minputs3\u001b[49m\u001b[43m)\u001b[49m\n\u001b[1;32m     15\u001b[0m \u001b[38;5;66;03m# Post processing\u001b[39;00m\n\u001b[1;32m     16\u001b[0m unique, counts \u001b[38;5;241m=\u001b[39m np\u001b[38;5;241m.\u001b[39munique(predictions, return_counts\u001b[38;5;241m=\u001b[39m\u001b[38;5;28;01mTrue\u001b[39;00m)\n",
      "File \u001b[0;32m~/conda_envs/analysis-ilias/lib/python3.11/site-packages/sklearn_som/som.py:205\u001b[0m, in \u001b[0;36mSOM.predict\u001b[0;34m(self, X)\u001b[0m\n\u001b[1;32m    202\u001b[0m \u001b[38;5;28;01massert\u001b[39;00m \u001b[38;5;28mlen\u001b[39m(X\u001b[38;5;241m.\u001b[39mshape) \u001b[38;5;241m==\u001b[39m \u001b[38;5;241m2\u001b[39m, \u001b[38;5;124mf\u001b[39m\u001b[38;5;124m'\u001b[39m\u001b[38;5;124mX should have two dimensions, not \u001b[39m\u001b[38;5;132;01m{\u001b[39;00m\u001b[38;5;28mlen\u001b[39m(X\u001b[38;5;241m.\u001b[39mshape)\u001b[38;5;132;01m}\u001b[39;00m\u001b[38;5;124m'\u001b[39m\n\u001b[1;32m    203\u001b[0m \u001b[38;5;28;01massert\u001b[39;00m X\u001b[38;5;241m.\u001b[39mshape[\u001b[38;5;241m1\u001b[39m] \u001b[38;5;241m==\u001b[39m \u001b[38;5;28mself\u001b[39m\u001b[38;5;241m.\u001b[39mdim, \u001b[38;5;124mf\u001b[39m\u001b[38;5;124m'\u001b[39m\u001b[38;5;124mThis SOM has dimesnion \u001b[39m\u001b[38;5;132;01m{\u001b[39;00m\u001b[38;5;28mself\u001b[39m\u001b[38;5;241m.\u001b[39mdim\u001b[38;5;132;01m}\u001b[39;00m\u001b[38;5;124m. Received input with dimension \u001b[39m\u001b[38;5;132;01m{\u001b[39;00mX\u001b[38;5;241m.\u001b[39mshape[\u001b[38;5;241m1\u001b[39m]\u001b[38;5;132;01m}\u001b[39;00m\u001b[38;5;124m'\u001b[39m\n\u001b[0;32m--> 205\u001b[0m labels \u001b[38;5;241m=\u001b[39m np\u001b[38;5;241m.\u001b[39marray(\u001b[43m[\u001b[49m\u001b[38;5;28;43mself\u001b[39;49m\u001b[38;5;241;43m.\u001b[39;49m\u001b[43m_find_bmu\u001b[49m\u001b[43m(\u001b[49m\u001b[43mx\u001b[49m\u001b[43m)\u001b[49m\u001b[43m \u001b[49m\u001b[38;5;28;43;01mfor\u001b[39;49;00m\u001b[43m \u001b[49m\u001b[43mx\u001b[49m\u001b[43m \u001b[49m\u001b[38;5;129;43;01min\u001b[39;49;00m\u001b[43m \u001b[49m\u001b[43mX\u001b[49m\u001b[43m]\u001b[49m)\n\u001b[1;32m    206\u001b[0m \u001b[38;5;28;01mreturn\u001b[39;00m labels\n",
      "File \u001b[0;32m~/conda_envs/analysis-ilias/lib/python3.11/site-packages/sklearn_som/som.py:205\u001b[0m, in \u001b[0;36m<listcomp>\u001b[0;34m(.0)\u001b[0m\n\u001b[1;32m    202\u001b[0m \u001b[38;5;28;01massert\u001b[39;00m \u001b[38;5;28mlen\u001b[39m(X\u001b[38;5;241m.\u001b[39mshape) \u001b[38;5;241m==\u001b[39m \u001b[38;5;241m2\u001b[39m, \u001b[38;5;124mf\u001b[39m\u001b[38;5;124m'\u001b[39m\u001b[38;5;124mX should have two dimensions, not \u001b[39m\u001b[38;5;132;01m{\u001b[39;00m\u001b[38;5;28mlen\u001b[39m(X\u001b[38;5;241m.\u001b[39mshape)\u001b[38;5;132;01m}\u001b[39;00m\u001b[38;5;124m'\u001b[39m\n\u001b[1;32m    203\u001b[0m \u001b[38;5;28;01massert\u001b[39;00m X\u001b[38;5;241m.\u001b[39mshape[\u001b[38;5;241m1\u001b[39m] \u001b[38;5;241m==\u001b[39m \u001b[38;5;28mself\u001b[39m\u001b[38;5;241m.\u001b[39mdim, \u001b[38;5;124mf\u001b[39m\u001b[38;5;124m'\u001b[39m\u001b[38;5;124mThis SOM has dimesnion \u001b[39m\u001b[38;5;132;01m{\u001b[39;00m\u001b[38;5;28mself\u001b[39m\u001b[38;5;241m.\u001b[39mdim\u001b[38;5;132;01m}\u001b[39;00m\u001b[38;5;124m. Received input with dimension \u001b[39m\u001b[38;5;132;01m{\u001b[39;00mX\u001b[38;5;241m.\u001b[39mshape[\u001b[38;5;241m1\u001b[39m]\u001b[38;5;132;01m}\u001b[39;00m\u001b[38;5;124m'\u001b[39m\n\u001b[0;32m--> 205\u001b[0m labels \u001b[38;5;241m=\u001b[39m np\u001b[38;5;241m.\u001b[39marray([\u001b[38;5;28;43mself\u001b[39;49m\u001b[38;5;241;43m.\u001b[39;49m\u001b[43m_find_bmu\u001b[49m\u001b[43m(\u001b[49m\u001b[43mx\u001b[49m\u001b[43m)\u001b[49m \u001b[38;5;28;01mfor\u001b[39;00m x \u001b[38;5;129;01min\u001b[39;00m X])\n\u001b[1;32m    206\u001b[0m \u001b[38;5;28;01mreturn\u001b[39;00m labels\n",
      "File \u001b[0;32m~/conda_envs/analysis-ilias/lib/python3.11/site-packages/sklearn_som/som.py:75\u001b[0m, in \u001b[0;36mSOM._find_bmu\u001b[0;34m(self, x)\u001b[0m\n\u001b[1;32m     73\u001b[0m x_stack \u001b[38;5;241m=\u001b[39m np\u001b[38;5;241m.\u001b[39mstack([x]\u001b[38;5;241m*\u001b[39m(\u001b[38;5;28mself\u001b[39m\u001b[38;5;241m.\u001b[39mm\u001b[38;5;241m*\u001b[39m\u001b[38;5;28mself\u001b[39m\u001b[38;5;241m.\u001b[39mn), axis\u001b[38;5;241m=\u001b[39m\u001b[38;5;241m0\u001b[39m)\n\u001b[1;32m     74\u001b[0m \u001b[38;5;66;03m# Calculate distance between x and each weight\u001b[39;00m\n\u001b[0;32m---> 75\u001b[0m distance \u001b[38;5;241m=\u001b[39m \u001b[43mnp\u001b[49m\u001b[38;5;241;43m.\u001b[39;49m\u001b[43mlinalg\u001b[49m\u001b[38;5;241;43m.\u001b[39;49m\u001b[43mnorm\u001b[49m\u001b[43m(\u001b[49m\u001b[43mx_stack\u001b[49m\u001b[43m \u001b[49m\u001b[38;5;241;43m-\u001b[39;49m\u001b[43m \u001b[49m\u001b[38;5;28;43mself\u001b[39;49m\u001b[38;5;241;43m.\u001b[39;49m\u001b[43mweights\u001b[49m\u001b[43m,\u001b[49m\u001b[43m \u001b[49m\u001b[43maxis\u001b[49m\u001b[38;5;241;43m=\u001b[39;49m\u001b[38;5;241;43m1\u001b[39;49m\u001b[43m)\u001b[49m\n\u001b[1;32m     76\u001b[0m \u001b[38;5;66;03m# Find index of best matching unit\u001b[39;00m\n\u001b[1;32m     77\u001b[0m \u001b[38;5;28;01mreturn\u001b[39;00m np\u001b[38;5;241m.\u001b[39margmin(distance)\n",
      "File \u001b[0;32m~/conda_envs/analysis-ilias/lib/python3.11/site-packages/numpy/linalg/linalg.py:2564\u001b[0m, in \u001b[0;36mnorm\u001b[0;34m(x, ord, axis, keepdims)\u001b[0m\n\u001b[1;32m   2562\u001b[0m \u001b[38;5;28;01melif\u001b[39;00m \u001b[38;5;129;01mnot\u001b[39;00m \u001b[38;5;28misinstance\u001b[39m(axis, \u001b[38;5;28mtuple\u001b[39m):\n\u001b[1;32m   2563\u001b[0m     \u001b[38;5;28;01mtry\u001b[39;00m:\n\u001b[0;32m-> 2564\u001b[0m         axis \u001b[38;5;241m=\u001b[39m \u001b[38;5;28;43mint\u001b[39;49m\u001b[43m(\u001b[49m\u001b[43maxis\u001b[49m\u001b[43m)\u001b[49m\n\u001b[1;32m   2565\u001b[0m     \u001b[38;5;28;01mexcept\u001b[39;00m \u001b[38;5;167;01mException\u001b[39;00m \u001b[38;5;28;01mas\u001b[39;00m e:\n\u001b[1;32m   2566\u001b[0m         \u001b[38;5;28;01mraise\u001b[39;00m \u001b[38;5;167;01mTypeError\u001b[39;00m(\u001b[38;5;124m\"\u001b[39m\u001b[38;5;124m'\u001b[39m\u001b[38;5;124maxis\u001b[39m\u001b[38;5;124m'\u001b[39m\u001b[38;5;124m must be None, an integer or a tuple of integers\u001b[39m\u001b[38;5;124m\"\u001b[39m) \u001b[38;5;28;01mfrom\u001b[39;00m \u001b[38;5;21;01me\u001b[39;00m\n",
      "\u001b[0;31mKeyboardInterrupt\u001b[0m: "
     ]
    }
   ],
   "source": [
    "parent_dir = '/data/ibougoudis/MOAD/analysis-ilias/notebooks/integration_r'\n",
    "os.makedirs(parent_dir, exist_ok= True)\n",
    "\n",
    "dict_month = {'jan': '01',\n",
    "         'feb': '02',\n",
    "         'mar': '03',\n",
    "         'apr': '04',\n",
    "         'may': '05',\n",
    "         'jun': '06',\n",
    "         'jul': '07',\n",
    "         'aug': '08',\n",
    "         'sep': '09',\n",
    "         'oct': '10',\n",
    "         'nov': '11',\n",
    "         'dec': '12'}\n",
    "\n",
    "path = os.listdir('/results2/SalishSea/nowcast-green.202111/')\n",
    "\n",
    "folders = [x for x in path if (x[2:5]=='mar' or x[2:5]=='apr' or x[2:5] == 'may')]\n",
    "folders.sort()\n",
    "\n",
    "# Open the mesh mask\n",
    "mesh = xr.open_dataset('/home/sallen/MEOPAR/grid/mesh_mask202108.nc')\n",
    "mask = mesh.tmask.to_numpy()\n",
    "\n",
    "labels_dr = ['Conservative Temperature [degree_C m]', \n",
    "            'Conservative Temperature [degree_C m]', 'Reference Salinity [g kg-1 m]',\n",
    "            'Reference Salinity [g kg-1 m]']\n",
    "titles_dr = ['Conservative Temperature (0m - 15m)',\n",
    "            'Conservative Temperature (15m - 100m)', 'Reference Salinity (0m - 15m)',\n",
    "            'Reference Salinity (15m - 100m)']\n",
    "\n",
    "labels_nu = ['Clusters [count]', 'Silicon Concentration [mmol m-2]',\n",
    "            'Nitrate Concentration [mmol m-2]', 'Ammonium Concentration [mmol m-2]']\n",
    "titles_nu = ['Clusters', 'Silicon', 'Nitrate', 'Ammonium']\n",
    "\n",
    "labels_ph = ['Clusters [count]', 'Diatoms Concentration [mmol m-2]',\n",
    "            'Flagellates Concentration [mmol m-2]']\n",
    "titles_ph = ['Clusters', 'Diatoms', 'Flagellates']\n",
    "\n",
    "labels_zo = ['Clusters [count]', 'Microzooplankton Concentration [mmol m-2]',\n",
    "            'Mesozooplankton Concentration [mmol m-2]']\n",
    "titles_zo = ['Clusters', 'Microzooplankton', 'Mesozooplankton']\n",
    "\n",
    "for i in folders:\n",
    "\n",
    "    if os.path.exists(os.path.join(parent_dir, i)) == False:\n",
    "\n",
    "        os.makedirs(os.path.join(parent_dir, i), exist_ok= True) \n",
    "        os.chdir(os.path.join(parent_dir, i))\n",
    "\n",
    "        date, temp_i1, temp_i2, saline_i1, saline_i2, sil_i, nitr_i, ammo_i, diat_i, flag_i, micro_i, meso_i = datasets_preparation()\n",
    "\n",
    "        clusters, unique, counts = som ()\n",
    "\n",
    "        printing ()\n",
    "\n",
    "        plotting (labels_dr, titles_dr, variables = [temp_i1, temp_i2, saline_i1, saline_i2], filename = 'Drivers.png')\n",
    "        plotting (labels_nu, titles_nu, variables = [clusters, sil_i, nitr_i, ammo_i], filename = 'Nutrients.png')\n",
    "        plotting (labels_ph, titles_ph, variables = [clusters, diat_i, flag_i], filename = 'Phytoplankton.png')\n",
    "        plotting (labels_zo, titles_zo, variables = [clusters, micro_i, meso_i], filename = 'Zooplankton.png')\n",
    "\n",
    "    elif os.listdir((os.path.join(parent_dir, i))) == []:\n",
    "\n",
    "        os.makedirs(os.path.join(parent_dir, i), exist_ok= True) \n",
    "        os.chdir(os.path.join(parent_dir, i))\n",
    "\n",
    "        date, temp_i1, temp_i2, saline_i1, saline_i2, sil_i, nitr_i, ammo_i, diat_i, flag_i, micro_i, meso_i = datasets_preparation()\n",
    "\n",
    "        clusters, unique, counts = som ()\n",
    "\n",
    "        printing ()\n",
    "\n",
    "        plotting (labels_dr, titles_dr, variables = [temp_i1, temp_i2, saline_i1, saline_i2], filename = 'Drivers.png')\n",
    "        plotting (labels_nu, titles_nu, variables = [clusters, sil_i, nitr_i, ammo_i], filename = 'Nutrients.png')\n",
    "        plotting (labels_ph, titles_ph, variables = [clusters, diat_i, flag_i], filename = 'Phytoplankton.png')\n",
    "        plotting (labels_zo, titles_zo, variables = [clusters, micro_i, meso_i], filename = 'Zooplankton.png')        \n",
    "    \n",
    "    print(str(folders.index(i)+1), '/', str(len(folders)))\n"
   ]
  },
  {
   "cell_type": "code",
   "execution_count": null,
   "metadata": {},
   "outputs": [
    {
     "data": {
      "text/plain": [
       "True"
      ]
     },
     "execution_count": 57,
     "metadata": {},
     "output_type": "execute_result"
    }
   ],
   "source": [
    "os.path.exists(os.path.join(parent_dir, i))"
   ]
  },
  {
   "cell_type": "code",
   "execution_count": null,
   "metadata": {},
   "outputs": [
    {
     "ename": "FileNotFoundError",
     "evalue": "[Errno 2] No such file or directory: '/data/ibougoudis/MOAD/analysis-ilias/notebooks/integration_r/fdsf'",
     "output_type": "error",
     "traceback": [
      "\u001b[0;31m---------------------------------------------------------------------------\u001b[0m",
      "\u001b[0;31mFileNotFoundError\u001b[0m                         Traceback (most recent call last)",
      "Cell \u001b[0;32mIn[60], line 1\u001b[0m\n\u001b[0;32m----> 1\u001b[0m \u001b[43mos\u001b[49m\u001b[38;5;241;43m.\u001b[39;49m\u001b[43mlistdir\u001b[49m\u001b[43m(\u001b[49m\u001b[43m(\u001b[49m\u001b[43mos\u001b[49m\u001b[38;5;241;43m.\u001b[39;49m\u001b[43mpath\u001b[49m\u001b[38;5;241;43m.\u001b[39;49m\u001b[43mjoin\u001b[49m\u001b[43m(\u001b[49m\u001b[43mparent_dir\u001b[49m\u001b[43m,\u001b[49m\u001b[43m \u001b[49m\u001b[38;5;124;43m'\u001b[39;49m\u001b[38;5;124;43mfdsf\u001b[39;49m\u001b[38;5;124;43m'\u001b[39;49m\u001b[43m)\u001b[49m\u001b[43m)\u001b[49m\u001b[43m)\u001b[49m\n",
      "\u001b[0;31mFileNotFoundError\u001b[0m: [Errno 2] No such file or directory: '/data/ibougoudis/MOAD/analysis-ilias/notebooks/integration_r/fdsf'"
     ]
    }
   ],
   "source": [
    "os.listdir((os.path.join(parent_dir, i)))"
   ]
  },
  {
   "cell_type": "code",
   "execution_count": null,
   "metadata": {},
   "outputs": [],
   "source": []
  }
 ],
 "metadata": {
  "kernelspec": {
   "display_name": "analysis-ilias",
   "language": "python",
   "name": "python3"
  },
  "language_info": {
   "codemirror_mode": {
    "name": "ipython",
    "version": 3
   },
   "file_extension": ".py",
   "mimetype": "text/x-python",
   "name": "python",
   "nbconvert_exporter": "python",
   "pygments_lexer": "ipython3",
   "version": "3.11.6"
  }
 },
 "nbformat": 4,
 "nbformat_minor": 2
}
