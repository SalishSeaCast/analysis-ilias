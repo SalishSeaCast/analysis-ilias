{
 "cells": [
  {
   "cell_type": "markdown",
   "metadata": {},
   "source": [
    "# Importing"
   ]
  },
  {
   "cell_type": "code",
   "execution_count": 1,
   "metadata": {},
   "outputs": [],
   "source": [
    "import xarray as xr\n",
    "import numpy as np\n",
    "import matplotlib.pyplot as plt\n",
    "from sklearn_som.som import SOM\n",
    "import cmocean.cm as cm\n",
    "import salishsea_tools.viz_tools as sa_vi"
   ]
  },
  {
   "cell_type": "markdown",
   "metadata": {},
   "source": [
    "# Dataset Inspection"
   ]
  },
  {
   "cell_type": "code",
   "execution_count": 23,
   "metadata": {},
   "outputs": [
    {
     "name": "stdout",
     "output_type": "stream",
     "text": [
      "257641\n",
      "176258 \n",
      "\n",
      "257281\n",
      "176258\n"
     ]
    }
   ],
   "source": [
    "ds = xr.open_dataset ('/results2/SalishSea/nowcast-green.202111/31jul22/SalishSea_1d_20220731_20220731_grid_T.nc')\n",
    "ds\n",
    "\n",
    "# Definition of variables\n",
    "temp = ds.votemper \n",
    "saline = ds.vosaline\n",
    "\n",
    "print(np.count_nonzero(temp[0,0]))\n",
    "print(np.count_nonzero(np.isnan(temp[0,0])),'\\n')\n",
    "\n",
    "print(np.count_nonzero(saline[0,0]))\n",
    "print(np.count_nonzero(np.isnan(saline[0,0])))\n",
    "\n"
   ]
  },
  {
   "cell_type": "code",
   "execution_count": 3,
   "metadata": {},
   "outputs": [],
   "source": [
    "# # Xarray implementation\n",
    "\n",
    "# # First we stack (flatten) temp and saline, then we combine (concat) them in a single dataarray\n",
    "# test = xr.concat([temp[0,0].stack(z=(\"x\", \"y\")),saline[0,0].stack(z=(\"x\", \"y\"))], dim = 'j')\n",
    "\n",
    "# test = test.fillna(test)\n",
    "# test=test.transpose()"
   ]
  },
  {
   "cell_type": "markdown",
   "metadata": {},
   "source": [
    "# Data Wrangling"
   ]
  },
  {
   "cell_type": "code",
   "execution_count": 35,
   "metadata": {},
   "outputs": [],
   "source": [
    "inputs = np.stack((temp[0,0].values.flatten(), saline[0,0].values.flatten()))\n",
    "\n",
    "inputs2 = np.where(inputs==0, np.nan, inputs)\n",
    "test = np.count_nonzero(inputs2[1])\n",
    "\n",
    "indx = np.argwhere(~np.isnan(inputs2[1]))\n",
    "indx3 = np.argwhere(~np.isnan(inputs2[0]) & np.isnan(inputs2[1]))\n",
    "\n",
    "inputs2 = np.transpose(inputs2)\n",
    "\n",
    "inputs3 = inputs2[~np.isnan(inputs2).any(axis=1)]\n",
    "\n",
    "# Define the value for unwanted data (land and nans)\n",
    "\n",
    "\n"
   ]
  },
  {
   "cell_type": "markdown",
   "metadata": {},
   "source": [
    "# SOM - Matrix Grid"
   ]
  },
  {
   "cell_type": "code",
   "execution_count": 5,
   "metadata": {},
   "outputs": [
    {
     "ename": "NameError",
     "evalue": "name 'a' is not defined",
     "output_type": "error",
     "traceback": [
      "\u001b[0;31m---------------------------------------------------------------------------\u001b[0m",
      "\u001b[0;31mNameError\u001b[0m                                 Traceback (most recent call last)",
      "\u001b[1;32m/data/ibougoudis/MOAD/analysis-ilias/notebooks/som_test.ipynb Cell 9\u001b[0m line \u001b[0;36m2\n\u001b[1;32m      <a href='vscode-notebook-cell://ssh-remote%2Bchar/data/ibougoudis/MOAD/analysis-ilias/notebooks/som_test.ipynb#X11sdnNjb2RlLXJlbW90ZQ%3D%3D?line=0'>1</a>\u001b[0m temp_som \u001b[39m=\u001b[39m SOM(m\u001b[39m=\u001b[39m\u001b[39m3\u001b[39m, n\u001b[39m=\u001b[39m\u001b[39m3\u001b[39m, dim\u001b[39m=\u001b[39m\u001b[39m2\u001b[39m)\n\u001b[0;32m----> <a href='vscode-notebook-cell://ssh-remote%2Bchar/data/ibougoudis/MOAD/analysis-ilias/notebooks/som_test.ipynb#X11sdnNjb2RlLXJlbW90ZQ%3D%3D?line=1'>2</a>\u001b[0m temp_som\u001b[39m.\u001b[39mfit(a)\n\u001b[1;32m      <a href='vscode-notebook-cell://ssh-remote%2Bchar/data/ibougoudis/MOAD/analysis-ilias/notebooks/som_test.ipynb#X11sdnNjb2RlLXJlbW90ZQ%3D%3D?line=2'>3</a>\u001b[0m predictions \u001b[39m=\u001b[39m temp_som\u001b[39m.\u001b[39mpredict(a)\n\u001b[1;32m      <a href='vscode-notebook-cell://ssh-remote%2Bchar/data/ibougoudis/MOAD/analysis-ilias/notebooks/som_test.ipynb#X11sdnNjb2RlLXJlbW90ZQ%3D%3D?line=4'>5</a>\u001b[0m \u001b[39m# Post processing \u001b[39;00m\n",
      "\u001b[0;31mNameError\u001b[0m: name 'a' is not defined"
     ]
    }
   ],
   "source": [
    "temp_som = SOM(m=3, n=3, dim=2)\n",
    "temp_som.fit(a)\n",
    "predictions = temp_som.predict(a)\n",
    "\n",
    "# Post processing \n",
    "\n",
    "unique_m, counts_m = np.unique(predictions, return_counts=True)\n",
    "\n",
    "# Finding the unwanted cluster\n",
    "unique_m[counts_m.argmax()]\n",
    "\n",
    "predictions = np.where(predictions==unique_m[counts_m.argmax()], np.nan, predictions)\n",
    "predictions = np.reshape(predictions,(898,398))\n",
    "som_m = xr.DataArray(predictions,\n",
    "                   coords = {'y': temp[0,0].y, 'x': temp[0,0].x},\n",
    "                   dims = ['y','x'],\n",
    "                   attrs=dict(description=\"Clusters of the performed self organizing map algorithm\",\n",
    "                              name =\"Cluster\",\n",
    "                              units=\"count\"),\n",
    "                   )  "
   ]
  },
  {
   "cell_type": "markdown",
   "metadata": {},
   "source": [
    "SOM - Vector Grid"
   ]
  },
  {
   "cell_type": "code",
   "execution_count": null,
   "metadata": {},
   "outputs": [],
   "source": [
    "temp_som = SOM(m=9, n=1, dim=2)\n",
    "temp_som.fit(a)\n",
    "predictions = temp_som.predict(a)\n",
    "\n",
    "# Post processing \n",
    "\n",
    "unique_v, counts_v = np.unique(predictions, return_counts=True)\n",
    "\n",
    "# Finding the unwanted cluster\n",
    "unique_v[counts_v.argmax()]\n",
    "\n",
    "predictions = np.where(predictions==unique_v[counts_v.argmax()], np.nan, predictions)\n",
    "predictions = np.reshape(predictions,(898,398))\n",
    "som_v = xr.DataArray(predictions,\n",
    "                   coords = {'y': temp[0,0].y, 'x': temp[0,0].x},\n",
    "                   dims = ['y','x'],\n",
    "                   attrs=dict(description=\"Clusters of the performed self organizing map algorithm\",\n",
    "                              name =\"Cluster\",\n",
    "                              units=\"count\"),\n",
    "                   )  "
   ]
  },
  {
   "cell_type": "code",
   "execution_count": null,
   "metadata": {},
   "outputs": [],
   "source": [
    "fig, ax = plt.subplots(ncols=2)\n",
    "\n",
    "cmap = 'Accent'\n",
    "plt.subplots_adjust(left=0.1,\n",
    "                    bottom=0.1, \n",
    "                    right=0.9, \n",
    "                    top=0.9, \n",
    "                    wspace=0.8, \n",
    "                    hspace=0.4)\n",
    "\n",
    "som_m.plot(ax=ax[0], cmap=cmap)\n",
    "som_v.plot(ax=ax[1], cmap=cmap)\n",
    "sa_vi.set_aspect(ax[0])\n",
    "sa_vi.set_aspect(ax[1])\n",
    "ax[0].title.set_text('Matrix Grid')\n",
    "ax[1].title.set_text('Vector Grid')\n",
    "\n",
    "\n"
   ]
  },
  {
   "cell_type": "code",
   "execution_count": null,
   "metadata": {},
   "outputs": [],
   "source": []
  },
  {
   "cell_type": "code",
   "execution_count": null,
   "metadata": {},
   "outputs": [],
   "source": []
  }
 ],
 "metadata": {
  "kernelspec": {
   "display_name": "analysis-ilias",
   "language": "python",
   "name": "python3"
  },
  "language_info": {
   "codemirror_mode": {
    "name": "ipython",
    "version": 3
   },
   "file_extension": ".py",
   "mimetype": "text/x-python",
   "name": "python",
   "nbconvert_exporter": "python",
   "pygments_lexer": "ipython3",
   "version": "3.11.6"
  }
 },
 "nbformat": 4,
 "nbformat_minor": 2
}
