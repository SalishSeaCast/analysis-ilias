{
 "cells": [
  {
   "cell_type": "code",
   "execution_count": null,
   "id": "49bbc324",
   "metadata": {},
   "outputs": [],
   "source": [
    "import xarray as xr\n",
    "import numpy as np\n",
    "import os\n",
    "from tqdm import tqdm\n"
   ]
  },
  {
   "cell_type": "code",
   "execution_count": null,
   "id": "13917ba6",
   "metadata": {},
   "outputs": [],
   "source": [
    "ds = xr.open_dataset('/data/ibougoudis/MOAD/files/inputs/apr_jun.nc')\n",
    "ds2 = xr.open_dataset('/data/ibougoudis/MOAD/files/apr_jun_2025.nc')"
   ]
  },
  {
   "cell_type": "code",
   "execution_count": null,
   "id": "d2ab2fe9",
   "metadata": {},
   "outputs": [],
   "source": [
    "ds"
   ]
  },
  {
   "cell_type": "code",
   "execution_count": null,
   "id": "11077ff2",
   "metadata": {},
   "outputs": [],
   "source": [
    "ds2"
   ]
  },
  {
   "cell_type": "code",
   "execution_count": null,
   "id": "c1746b62",
   "metadata": {},
   "outputs": [],
   "source": [
    "test = xr.concat((ds,ds2), dim='time_counter')"
   ]
  },
  {
   "cell_type": "code",
   "execution_count": null,
   "id": "7cf545d8",
   "metadata": {},
   "outputs": [],
   "source": [
    "test.to_netcdf(path='/data/ibougoudis/MOAD/files/apr_jun.nc', mode='a')\n",
    "test.close()\n"
   ]
  },
  {
   "cell_type": "code",
   "execution_count": null,
   "id": "79b235b1",
   "metadata": {},
   "outputs": [],
   "source": [
    "# comp = dict(zlib=True, complevel=9)\n",
    "# encoding = {var: comp for var in test.data_vars}\n",
    "\n",
    "# test.to_netcdf(path='/data/ibougoudis/MOAD/files/jan_apr2.nc', mode='a', encoding=encoding)\n",
    "# test.close()"
   ]
  },
  {
   "cell_type": "code",
   "execution_count": null,
   "id": "77f87d5e",
   "metadata": {},
   "outputs": [],
   "source": []
  }
 ],
 "metadata": {
  "kernelspec": {
   "display_name": "analysis-ilias",
   "language": "python",
   "name": "python3"
  },
  "language_info": {
   "codemirror_mode": {
    "name": "ipython",
    "version": 3
   },
   "file_extension": ".py",
   "mimetype": "text/x-python",
   "name": "python",
   "nbconvert_exporter": "python",
   "pygments_lexer": "ipython3",
   "version": "3.11.11"
  }
 },
 "nbformat": 4,
 "nbformat_minor": 5
}
