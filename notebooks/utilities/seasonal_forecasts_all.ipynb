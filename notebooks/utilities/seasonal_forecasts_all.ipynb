{
 "cells": [
  {
   "cell_type": "markdown",
   "id": "98924521",
   "metadata": {},
   "source": [
    "# Seasonal Forecasts (concatenating all years and creating final datasets)"
   ]
  },
  {
   "cell_type": "markdown",
   "id": "414e7bb0",
   "metadata": {},
   "source": [
    "## Importing"
   ]
  },
  {
   "cell_type": "code",
   "execution_count": null,
   "id": "266d56e6",
   "metadata": {},
   "outputs": [],
   "source": [
    "import xarray as xr\n",
    "import numpy as np\n",
    "import pandas as pd\n",
    "import matplotlib.pyplot as plt\n",
    "\n",
    "import os\n",
    "from tqdm import tqdm\n"
   ]
  },
  {
   "cell_type": "markdown",
   "id": "2aa38cc1",
   "metadata": {},
   "source": [
    "## File Creation"
   ]
  },
  {
   "cell_type": "code",
   "execution_count": null,
   "id": "20f7c99c",
   "metadata": {},
   "outputs": [],
   "source": [
    "def file_creation(all, variable, name):\n",
    "    \n",
    "    temp = all.where(variable, drop=True)\n",
    "\n",
    "    comp = dict(zlib=True, complevel=9)\n",
    "    encoding = {var: comp for var in temp.data_vars}\n",
    "\n",
    "    temp.to_netcdf(path='/data/ibougoudis/MOAD/files/' + name + '.nc', mode='a', encoding=encoding)\n",
    "    temp.close()\n"
   ]
  },
  {
   "cell_type": "markdown",
   "id": "6996903a",
   "metadata": {},
   "source": [
    "## Main"
   ]
  },
  {
   "cell_type": "code",
   "execution_count": null,
   "id": "8683c58c",
   "metadata": {},
   "outputs": [],
   "source": [
    "# Files loading\n",
    "path = '/data/ibougoudis/MOAD/files/'\n",
    "files = os.listdir(path)[0:2]\n",
    "\n",
    "# Collecting them all\n",
    "all = []\n",
    "for i in files:\n",
    "    all.append(xr.open_dataset(path+i))\n",
    "\n",
    "all = xr.concat((all[:]), dim='time_counter')\n",
    "\n",
    "# Time indexes\n",
    "jan_mar_i = ((all.time_counter.dt.month == 1) & (all.time_counter.dt.day > 15) | ((all.time_counter.dt.month == 2) & (all.time_counter.dt.day < 29)) | (all.time_counter.dt.month == 3))\n",
    "jan_apr_i = ((all.time_counter.dt.month == 1) | ((all.time_counter.dt.month == 2) & (all.time_counter.dt.day < 29)) | (all.time_counter.dt.month == 3) | (all.time_counter.dt.month == 4))\n",
    "apr_jun_i = ((all.time_counter.dt.month == 4) & (all.time_counter.dt.day > 15) | (all.time_counter.dt.month == 5) | (all.time_counter.dt.month == 6))\n",
    "\n",
    "# File creation\n",
    "file_creation(all, jan_mar_i, 'jan_mar')\n",
    "file_creation(all, jan_apr_i, 'jan_apr')\n",
    "file_creation(all, apr_jun_i, 'apr_jun')\n"
   ]
  },
  {
   "cell_type": "code",
   "execution_count": null,
   "id": "1c68d392",
   "metadata": {},
   "outputs": [],
   "source": []
  }
 ],
 "metadata": {
  "kernelspec": {
   "display_name": "analysis-ilias",
   "language": "python",
   "name": "python3"
  },
  "language_info": {
   "codemirror_mode": {
    "name": "ipython",
    "version": 3
   },
   "file_extension": ".py",
   "mimetype": "text/x-python",
   "name": "python",
   "nbconvert_exporter": "python",
   "pygments_lexer": "ipython3",
   "version": "3.11.11"
  }
 },
 "nbformat": 4,
 "nbformat_minor": 5
}
