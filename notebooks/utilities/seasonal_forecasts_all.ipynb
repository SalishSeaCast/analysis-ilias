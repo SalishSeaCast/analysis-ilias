{
 "cells": [
  {
   "cell_type": "markdown",
   "id": "98924521",
   "metadata": {},
   "source": [
    "# Seasonal Forecasts (concatenating all years and creating final datasets)"
   ]
  },
  {
   "cell_type": "markdown",
   "id": "414e7bb0",
   "metadata": {},
   "source": [
    "## Importing"
   ]
  },
  {
   "cell_type": "code",
   "execution_count": 1,
   "id": "266d56e6",
   "metadata": {},
   "outputs": [],
   "source": [
    "import xarray as xr\n",
    "import numpy as np\n",
    "import pandas as pd\n",
    "import matplotlib.pyplot as plt\n",
    "\n",
    "import os\n",
    "from tqdm import tqdm\n"
   ]
  },
  {
   "cell_type": "markdown",
   "id": "2aa38cc1",
   "metadata": {},
   "source": [
    "## File Creation"
   ]
  },
  {
   "cell_type": "code",
   "execution_count": 2,
   "id": "20f7c99c",
   "metadata": {},
   "outputs": [],
   "source": [
    "def file_creation(dataset, name):\n",
    "\n",
    "    comp = dict(zlib=True, complevel=9)\n",
    "    encoding = {var: comp for var in dataset.data_vars}\n",
    "\n",
    "    dataset.to_netcdf(path='/data/ibougoudis/MOAD/files/' + name + '.nc', mode='a', encoding=encoding)\n",
    "    dataset.close()\n"
   ]
  },
  {
   "cell_type": "markdown",
   "id": "6996903a",
   "metadata": {},
   "source": [
    "## Main"
   ]
  },
  {
   "cell_type": "code",
   "execution_count": null,
   "id": "8683c58c",
   "metadata": {},
   "outputs": [],
   "source": [
    "# Files loading\n",
    "path = '/data/ibougoudis/MOAD/files/forecasts/'\n",
    "files = sorted(os.listdir(path))\n",
    "\n",
    "files_all = xr.open_mfdataset(path+'*.nc')\n",
    "\n",
    "# Time indexes\n",
    "jan_mar_i = (((files_all.time_counter.dt.month == 1) & (files_all.time_counter.dt.day > 15)) | (files_all.time_counter.dt.month == 2) | (files_all.time_counter.dt.month == 3))\n",
    "jan_apr_i = ((files_all.time_counter.dt.month == 1) | (files_all.time_counter.dt.month == 2) | (files_all.time_counter.dt.month == 3) | (files_all.time_counter.dt.month == 4))\n",
    "apr_jun_i = (((files_all.time_counter.dt.month == 4) & (files_all.time_counter.dt.day > 15)) | (files_all.time_counter.dt.month == 5) | (files_all.time_counter.dt.month == 6))\n",
    "\n",
    "# File creation \n",
    "temp = files_all.where(jan_mar_i, drop=True)\n",
    "name = 'jan_mar'\n",
    "file_creation(temp, name)\n",
    "\n",
    "temp = files_all.where(jan_apr_i, drop=True)\n",
    "name = 'jan_apr'\n",
    "file_creation(temp, name)\n",
    "\n",
    "temp = files_all.where(apr_jun_i, drop=True)\n",
    "name = 'apr_jun'\n",
    "file_creation(temp, name)\n"
   ]
  },
  {
   "cell_type": "code",
   "execution_count": null,
   "id": "580bc3c9",
   "metadata": {},
   "outputs": [],
   "source": []
  }
 ],
 "metadata": {
  "kernelspec": {
   "display_name": "analysis-ilias",
   "language": "python",
   "name": "python3"
  },
  "language_info": {
   "codemirror_mode": {
    "name": "ipython",
    "version": 3
   },
   "file_extension": ".py",
   "mimetype": "text/x-python",
   "name": "python",
   "nbconvert_exporter": "python",
   "pygments_lexer": "ipython3",
   "version": "3.11.11"
  }
 },
 "nbformat": 4,
 "nbformat_minor": 5
}
