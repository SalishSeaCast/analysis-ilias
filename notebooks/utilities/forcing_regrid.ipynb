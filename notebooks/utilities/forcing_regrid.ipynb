{
 "cells": [
  {
   "cell_type": "markdown",
   "metadata": {},
   "source": [
    "# Script to map external files to SalishSeaCast grid and create the respective netcdf file"
   ]
  },
  {
   "cell_type": "markdown",
   "metadata": {},
   "source": [
    "## Importing"
   ]
  },
  {
   "cell_type": "code",
   "execution_count": 1,
   "metadata": {},
   "outputs": [],
   "source": [
    "import xarray as xr\n",
    "import numpy as np\n",
    "import os\n",
    "from tqdm import tqdm\n",
    "from salishsea_tools import grid_tools as gt\n"
   ]
  },
  {
   "cell_type": "markdown",
   "metadata": {},
   "source": [
    "## Loading datasets"
   ]
  },
  {
   "cell_type": "code",
   "execution_count": 2,
   "metadata": {},
   "outputs": [],
   "source": [
    "# Mask loading\n",
    "mesh = xr.open_dataset('/home/sallen/MEOPAR/grid/mesh_mask202108.nc')\n",
    "mask = mesh.tmask.to_numpy()\n",
    "mask = mask[0,0]\n",
    "\n",
    "# Daily dimensions loading\n",
    "ds0 = xr.open_dataset('/data/ibougoudis/MOAD/files/integrated_original.nc')\n",
    "\n",
    "# Obtaining lat and lon\n",
    "lat = mesh.nav_lat\n",
    "lon = mesh.nav_lon\n",
    "\n",
    "lat = np.broadcast_to(lat,(len(ds0.time_counter),len(ds0.y),len(ds0.x)))\n",
    "lon = np.broadcast_to(lon,(len(ds0.time_counter),len(ds0.y),len(ds0.x)))\n"
   ]
  },
  {
   "cell_type": "markdown",
   "metadata": {},
   "source": [
    "## Calculation of the variables"
   ]
  },
  {
   "cell_type": "code",
   "execution_count": 3,
   "metadata": {},
   "outputs": [],
   "source": [
    "def calculation(k):\n",
    "\n",
    "    for j in tqdm(folders): \n",
    "\n",
    "        # Test for the proper date matching\n",
    "        test = xr.open_dataset(path+j)\n",
    "        if test.time_counter.dt.date[12] != ds0.time_counter[k].dt.date:\n",
    "            print (ds0.time_counter[k].dt.date)\n",
    "\n",
    "        inter, grid = gt.build_matrix(weight, (path+j))\n",
    "\n",
    "        for i in range(0,24):\n",
    "\n",
    "            solar_hourly[i] = gt.use_matrix(path+j, inter, grid, 'solar', i)\n",
    "            u_hourly[i] =  gt.use_matrix(path+j, inter, grid, 'u_wind', i)\n",
    "            v_hourly[i] =  gt.use_matrix(path+j, inter, grid, 'v_wind', i)\n",
    "            temp_hourly[i] = gt.use_matrix(path+j, inter, grid, 'tair', i)\n",
    "    \n",
    "            solar2_hourly[i] = gt.use_matrix(path+j, inter, grid, 'therm_rad', i)\n",
    "            pressure_hourly[i] =  gt.use_matrix(path+j, inter, grid, 'atmpres', i)\n",
    "            precip_hourly[i] = gt.use_matrix(path+j, inter, grid, 'precip', i)\n",
    "            humid_hourly[i] = gt.use_matrix(path+j, inter, grid, 'qair', i)\n",
    "\n",
    "        solar[k] = solar_hourly.sum('hour').where(mask==1)\n",
    "        wind_speed[k] = np.sqrt(u_hourly**2 + v_hourly**2).mean('hour').where(mask==1)\n",
    "        temp[k] = temp_hourly.mean('hour').where(mask==1)\n",
    "        \n",
    "        solar2[k] = solar2_hourly.sum('hour').where(mask==1)\n",
    "        pressure[k] = pressure_hourly.mean('hour').where(mask==1)\n",
    "        precip[k] = precip_hourly.mean('hour').where(mask==1)\n",
    "        humid[k] = humid_hourly.mean('hour').where(mask==1)\n",
    "        \n",
    "        k = k + 1\n",
    "    \n",
    "    return k\n"
   ]
  },
  {
   "cell_type": "markdown",
   "metadata": {},
   "source": [
    "## File creation"
   ]
  },
  {
   "cell_type": "code",
   "execution_count": 4,
   "metadata": {},
   "outputs": [],
   "source": [
    "def file_creation(variable, name):\n",
    "\n",
    "    temp = variable.to_dataset(name=name)\n",
    "    temp.to_netcdf(path='/data/ibougoudis/MOAD/external_inputs.nc', mode='a', encoding={name:{\"zlib\": True, \"complevel\": 9}})\n",
    "    "
   ]
  },
  {
   "cell_type": "markdown",
   "metadata": {},
   "source": [
    "## Creation of datasets"
   ]
  },
  {
   "cell_type": "code",
   "execution_count": 5,
   "metadata": {},
   "outputs": [],
   "source": [
    "# Coordinates\n",
    "coords_hourly = dict(hour=np.arange(0,24), y=ds0.y, x=ds0.x)\n",
    "coords = dict(time_counter= ds0.time_counter, y=ds0.y, x=ds0.x)\n",
    "\n",
    "# k is the general counter, j the daily one, i the hourly one\n",
    "k = 0\n",
    "\n",
    "# Hourly arrays\n",
    "solar_hourly = xr.DataArray(coords=coords_hourly, dims = ['hour', 'y', 'x'])\n",
    "u_hourly = xr.DataArray(coords=coords_hourly, dims = ['hour', 'y', 'x'])\n",
    "v_hourly = xr.DataArray(coords=coords_hourly, dims = ['hour', 'y', 'x'])\n",
    "temp_hourly = xr.DataArray(coords=coords_hourly, dims = ['hour', 'y', 'x']) \n",
    "\n",
    "solar2_hourly = xr.DataArray(coords=coords_hourly, dims = ['hour', 'y', 'x'])\n",
    "pressure_hourly = xr.DataArray(coords=coords_hourly, dims = ['hour', 'y', 'x'])\n",
    "precip_hourly = xr.DataArray(coords=coords_hourly, dims = ['hour', 'y', 'x'])\n",
    "humid_hourly = xr.DataArray(coords=coords_hourly, dims = ['hour', 'y', 'x'])\n",
    "\n",
    "# Daily arrays\n",
    "solar = xr.DataArray(coords=coords, dims = ['time_counter', 'y', 'x'])\n",
    "wind_speed = xr.DataArray(coords=coords, dims = ['time_counter', 'y', 'x'])\n",
    "temp = xr.DataArray(coords=coords, dims = ['time_counter', 'y', 'x'])\n",
    "\n",
    "solar2 = xr.DataArray(coords=coords, dims = ['time_counter', 'y', 'x'])\n",
    "pressure = xr.DataArray(coords=coords, dims = ['time_counter', 'y', 'x'])\n",
    "precip = xr.DataArray(coords=coords, dims = ['time_counter', 'y', 'x'])\n",
    "humid = xr.DataArray(coords=coords, dims = ['time_counter', 'y', 'x'])\n",
    "\n",
    "lat = xr.DataArray(data=lat,coords=coords, dims = ['time_counter', 'y', 'x'])\n",
    "lon = xr.DataArray(data=lon,coords=coords, dims = ['time_counter', 'y', 'x'])\n"
   ]
  },
  {
   "cell_type": "markdown",
   "metadata": {},
   "source": [
    "## Calculations"
   ]
  },
  {
   "cell_type": "code",
   "execution_count": null,
   "metadata": {},
   "outputs": [],
   "source": [
    "# Four loops, one for each case\n",
    "\n",
    "# First loop (15 Feb 2007 - 30 Apr 2011, different mask)\n",
    "path = ('/results/forcing/atmospheric/GEM2.5/gemlam/')\n",
    "folders = [x for x in os.listdir(path) if ((x[13:15]=='03' or x[13:15]=='04' or (x[13:15]=='02' and x[16:18] > '14')) and (x[8:12] < '2012'))]\n",
    "folders.sort()\n",
    "folders = [i for i in folders if i[18]=='.'] # Removing four double files\n",
    "weight = ('/home/sallen/MEOPAR/grid/weights-gem2.5-gemlam_201702_pre22sep11.nc')\n",
    "k = calculation(k)\n",
    "\n",
    "# Second loop (15 Feb 2012 - 30 Apr 2014, different mask)\n",
    "path = ('/results/forcing/atmospheric/GEM2.5/gemlam/')\n",
    "folders = [x for x in os.listdir(path) if ((x[13:15]=='03' or x[13:15]=='04' or (x[13:15]=='02' and x[16:18] > '14')) and (x[8:12] > '2011'))]\n",
    "folders.sort()\n",
    "weight = ('/home/sallen/MEOPAR/grid/weights-gem2.5-gemlam_201702_22sep11onward.nc')\n",
    "k = calculation(k)\n",
    "\n",
    "# Third loop (15 Feb 2015 - 22 Feb 2023)\n",
    "path = ('/results/forcing/atmospheric/GEM2.5/operational/')\n",
    "folders = [x for x in os.listdir(path) if ((x[10:12]=='03' or x[10:12]=='04' or (x[10:12]=='02' and x[13:15] > '14')))]\n",
    "folders.sort()\n",
    "folders = [i for i in folders if i[15]=='.'] # Removing one double file\n",
    "weight = ('/home/sallen/MEOPAR/grid/weights-gem2.5-ops.nc') # Created two files, one with each mask for the operational files time period\n",
    "k = calculation(k)\n",
    "\n",
    "# Fourth loop (23 Feb 2023 - 30 Apr 2024)\n",
    "path = ('/results/forcing/atmospheric/continental2.5/nemo_forcing/')\n",
    "folders = [x for x in os.listdir(path) if ((x[12:14]=='03' or x[12:14]=='04' or (x[12:14]=='02' and x[15:17] > '14')) and (x[7:11]<'2025'))]\n",
    "folders.sort()\n",
    "folders = folders[2:] # Cut the first two days in the folder\n",
    "weight = ('/home/sallen/MEOPAR/grid/weights-continental2.5-hrdps_202108_23feb23onward.nc')\n",
    "k = calculation(k)\n"
   ]
  },
  {
   "cell_type": "markdown",
   "metadata": {},
   "source": [
    "## Calling the file creation"
   ]
  },
  {
   "cell_type": "code",
   "execution_count": 7,
   "metadata": {},
   "outputs": [],
   "source": [
    "file_creation(solar, 'Summation_of_solar_radiation')\n",
    "file_creation(wind_speed, 'Mean_wind_speed')\n",
    "file_creation(temp, 'Mean_air_temperature')\n",
    "\n",
    "file_creation(solar2, 'Summation_of_longwave_radiation')\n",
    "file_creation(pressure, 'Mean_pressure')\n",
    "file_creation(precip, 'Mean_precipitation')\n",
    "file_creation(humid, 'Mean_specific_humidity')\n",
    "file_creation(lat, 'Latitude')\n",
    "file_creation(lon, 'Longitude')\n"
   ]
  },
  {
   "cell_type": "code",
   "execution_count": null,
   "metadata": {},
   "outputs": [],
   "source": []
  }
 ],
 "metadata": {
  "kernelspec": {
   "display_name": "analysis-ilias",
   "language": "python",
   "name": "python3"
  },
  "language_info": {
   "codemirror_mode": {
    "name": "ipython",
    "version": 3
   },
   "file_extension": ".py",
   "mimetype": "text/x-python",
   "name": "python",
   "nbconvert_exporter": "python",
   "pygments_lexer": "ipython3",
   "version": "3.11.8"
  }
 },
 "nbformat": 4,
 "nbformat_minor": 2
}
