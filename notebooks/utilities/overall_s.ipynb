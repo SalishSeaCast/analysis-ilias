{
 "cells": [
  {
   "cell_type": "markdown",
   "metadata": {},
   "source": [
    "# Overall comparison of the models' performance (spatial means) (Flagellate)"
   ]
  },
  {
   "cell_type": "markdown",
   "metadata": {},
   "source": [
    "## Importing"
   ]
  },
  {
   "cell_type": "code",
   "execution_count": 1,
   "metadata": {},
   "outputs": [],
   "source": [
    "import xarray as xr\n",
    "import numpy as np\n",
    "import pandas as pd\n",
    "import matplotlib.pyplot as plt\n",
    "import xskillscore as xs\n",
    "from sklearn.metrics import root_mean_squared_error as rmse\n",
    "import dill\n"
   ]
  },
  {
   "cell_type": "markdown",
   "metadata": {},
   "source": [
    "## Plotting"
   ]
  },
  {
   "cell_type": "code",
   "execution_count": 2,
   "metadata": {},
   "outputs": [],
   "source": [
    "def plotting (metric,categories,years,quantity,name):\n",
    "\n",
    "    fig,ax = plt.subplots()\n",
    "\n",
    "    for i in range (0,len(categories)):\n",
    "        ax.plot(years,quantity[i,:],marker= '*', label=categories[i])\n",
    "    plt.xlabel('Years')\n",
    "    plt.suptitle(metric+ ' ' +name+ ' (15 Feb - 30 Apr)')\n",
    "    plt.legend()\n",
    "    plt.show()"
   ]
  },
  {
   "cell_type": "markdown",
   "metadata": {},
   "source": [
    "## Printing"
   ]
  },
  {
   "cell_type": "code",
   "execution_count": 3,
   "metadata": {},
   "outputs": [],
   "source": [
    "def printing(metric,years,data,categories,criteria):\n",
    "\n",
    "     temp = pd.DataFrame(data,columns=years,index=categories)\n",
    "     print(metric+ ' ' +criteria)\n",
    "     display(temp)\n",
    "     "
   ]
  },
  {
   "cell_type": "markdown",
   "metadata": {},
   "source": [
    "## Initiation"
   ]
  },
  {
   "cell_type": "code",
   "execution_count": 4,
   "metadata": {},
   "outputs": [],
   "source": [
    "def initiation(id,years,categories):\n",
    "\n",
    "    if id == 0:\n",
    "\n",
    "        r = np.zeros(len(categories))\n",
    "        rms =  np.zeros(len(categories))\n",
    "        slope = np.zeros(len(categories))\n",
    "\n",
    "    else:\n",
    "\n",
    "        r = np.zeros((len(categories),len(years))) # First axis is the model categories, second the years\n",
    "        rms = np.zeros((len(categories),len(years)))\n",
    "        slope = np.zeros((len(categories),len(years)))\n",
    "\n",
    "    return (r,rms,slope)\n"
   ]
  },
  {
   "cell_type": "markdown",
   "metadata": {},
   "source": [
    "## Summary"
   ]
  },
  {
   "cell_type": "code",
   "execution_count": 5,
   "metadata": {},
   "outputs": [],
   "source": [
    "def summary(years,quantity,categories):\n",
    "\n",
    "    print (quantity[36:-1])\n",
    "    print ('\\n')\n",
    "\n",
    "    r_train,rms_train,slope_train = initiation(0,years,categories) # 0 for training, 1 for testing\n",
    "\n",
    "    r_test,rms_test,slope_test = initiation(1,years,categories)\n",
    "\n",
    "    r_test_season,rms_test_season,slope_test_season = initiation(1,years,categories) \n",
    "\n",
    "    for i in range (0, len(categories)):\n",
    "\n",
    "        with open(quantity+categories[i]+ '/metrics.pkl', 'rb') as f:\n",
    "\n",
    "            metrics = dill.load(f)\n",
    "        \n",
    "        r_train[i], rms_train[i], slope_train[i] = metrics[0:3]\n",
    "        \n",
    "        r_test[i,:], rms_test[i,:], slope_test[i,:] = metrics[3:6]\n",
    "\n",
    "        r_test_season[i,:], rms_test_season[i,:], slope_test_season[i,:] = metrics[6:9]\n",
    "\n",
    "    temp = np.concatenate((r_train,rms_train,slope_train))\n",
    "    temp = temp.reshape(3,len(categories))\n",
    "    \n",
    "    temp = pd.DataFrame(temp.transpose(),columns=['r', 'rms', 'slope'],index=categories)\n",
    "    print('Training')\n",
    "    display(temp)\n",
    "    print ('\\n')\n",
    "\n",
    "    printing('Spatial means',years,r_test,categories,'Correlation coefficient')\n",
    "    plotting('Spatial means',categories,years,r_test,'correlation coefficient')\n",
    "\n",
    "    printing('Spatial means',years,rms_test,categories, 'Root mean square error')\n",
    "    plotting('Spatial means',categories,years,rms_test,'root mean square error')\n",
    "\n",
    "    printing('Spatial means',years,slope_test,categories, 'Slope of the best fitting line')\n",
    "    plotting('Spatial means',categories,years,slope_test,'slope of the best fitting line')\n",
    "\n",
    "    printing('Spatial means (removed seasonality)',years,r_test_season,categories,'Correlation coefficient')\n",
    "    plotting('Spatial means (removed seasonality)',categories,years,r_test_season,'correlation coefficient')\n",
    "\n",
    "    printing('Spatial means (removed seasonality)',years,rms_test_season,categories, 'Root mean square error')\n",
    "    plotting('Spatial means (removed seasonality)',categories,years,rms_test_season,'root mean square error')\n",
    "\n",
    "    printing('Spatial means (removed seasonality)',years,slope_test_season,categories, 'Slope of the best fitting line')\n",
    "    plotting('Spatial means (removed seasonality)',categories,years,slope_test_season,'slope of the best fitting line')\n",
    "    "
   ]
  },
  {
   "cell_type": "markdown",
   "metadata": {},
   "source": [
    "## Main Body"
   ]
  },
  {
   "cell_type": "code",
   "execution_count": null,
   "metadata": {},
   "outputs": [],
   "source": [
    "np.warnings.filterwarnings('ignore', category=np.VisibleDeprecationWarning)\n",
    "\n",
    "# Paths\n",
    "diat = '/data/ibougoudis/MOAD/files/results/Diatom/'\n",
    "flag = '/data/ibougoudis/MOAD/files/results/Flagellate/'\n",
    "\n",
    "categories = ['func_reg_s', 'func_reg_s_sm']\n",
    "\n",
    "years = ['2021','2022','2023','2024']\n",
    "\n",
    "summary(years,diat,categories)\n"
   ]
  },
  {
   "cell_type": "code",
   "execution_count": null,
   "metadata": {},
   "outputs": [],
   "source": []
  }
 ],
 "metadata": {
  "kernelspec": {
   "display_name": "analysis-ilias",
   "language": "python",
   "name": "python3"
  },
  "language_info": {
   "codemirror_mode": {
    "name": "ipython",
    "version": 3
   },
   "file_extension": ".py",
   "mimetype": "text/x-python",
   "name": "python",
   "nbconvert_exporter": "python",
   "pygments_lexer": "ipython3",
   "version": "3.11.8"
  }
 },
 "nbformat": 4,
 "nbformat_minor": 2
}
