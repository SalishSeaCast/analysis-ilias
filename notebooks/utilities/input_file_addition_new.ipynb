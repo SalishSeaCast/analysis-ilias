{
 "cells": [
  {
   "cell_type": "markdown",
   "metadata": {},
   "source": [
    "# Notebook to add a variable to the netcdf file with integrated parameters "
   ]
  },
  {
   "cell_type": "markdown",
   "metadata": {},
   "source": [
    "## Importing"
   ]
  },
  {
   "cell_type": "code",
   "execution_count": null,
   "metadata": {},
   "outputs": [],
   "source": [
    "import xarray as xr\n",
    "import numpy as np\n",
    "import pandas as pd\n",
    "\n",
    "import os\n",
    "\n",
    "from tqdm import tqdm\n"
   ]
  },
  {
   "cell_type": "markdown",
   "metadata": {},
   "source": [
    "## Datasets Preparation"
   ]
  },
  {
   "cell_type": "code",
   "execution_count": null,
   "metadata": {},
   "outputs": [],
   "source": [
    "def datasets_preparation():\n",
    "\n",
    "    ds_name = ('/results2/SalishSea/nowcast-green.202111/' + i[1] + '/SalishSea_1d_' + '20' + str(i[1][5:7]) + str(dict_month[i[1][2:5]])+str(i[1][0:2]) + '_' + '20' + str(i[1][5:7]) + str(dict_month[i[1][2:5]]) + str(i[1][0:2]) + '_grid_T.nc')\n",
    "    ds_prod_name = ('/results2/SalishSea/nowcast-green.202111/' + i[1] + '/SalishSea_1d_'  + '20' + str(i[1][5:7]) + str(dict_month[i[1][2:5]])+str(i[1][0:2]) + '_' + '20' + str(i[1][5:7]) + str(dict_month[i[1][2:5]]) + str(i[1][0:2]) + '_prod_T.nc')\n",
    "    \n",
    "    ds = xr.open_dataset (ds_name)\n",
    "    ds_prod = xr.open_dataset (ds_prod_name)\n",
    "\n",
    "    flag_pr_i = (((ds_prod.PPPHY.where(mask==1)[0,0:27] * ds.e3t.where(mask==1)\n",
    "        [0,0:27]).sum('deptht', skipna = True, min_count = 27) / mesh.gdepw_0[0,27])) / flag_i\n",
    "\n",
    "    return (flag_pr_i)\n"
   ]
  },
  {
   "cell_type": "markdown",
   "metadata": {},
   "source": [
    "## Datasets Preparation 2"
   ]
  },
  {
   "cell_type": "code",
   "execution_count": null,
   "metadata": {},
   "outputs": [],
   "source": [
    "def datasets_preparation2(name, units):\n",
    "\n",
    "    dataset = xr.DataArray(coords=coords, dims = ['time_counter', 'y', 'x'],\n",
    "        attrs=dict(description='Integrated quantity of interest',\n",
    "        long_name =name,\n",
    "        units=units))\n",
    "        \n",
    "    return (dataset)"
   ]
  },
  {
   "cell_type": "markdown",
   "metadata": {},
   "source": [
    "## File Creation"
   ]
  },
  {
   "cell_type": "code",
   "execution_count": null,
   "metadata": {},
   "outputs": [],
   "source": [
    "def file_creation(variable, name):\n",
    "\n",
    "    temp = variable.to_dataset(name=name)\n",
    "    temp.to_netcdf(path='/data/ibougoudis/MOAD/files/integrated_model_var_old.nc', mode='a', encoding={name:{\"zlib\": True, \"complevel\": 9}})\n"
   ]
  },
  {
   "cell_type": "markdown",
   "metadata": {},
   "source": [
    "## Data Collection"
   ]
  },
  {
   "cell_type": "code",
   "execution_count": null,
   "metadata": {},
   "outputs": [],
   "source": [
    "dict_month = {'jan': '01',\n",
    "    'feb': '02',\n",
    "    'mar': '03',\n",
    "    'apr': '04',\n",
    "    'may': '05',\n",
    "    'jun': '06',\n",
    "    'jul': '07',\n",
    "    'aug': '08',\n",
    "    'sep': '09',\n",
    "    'oct': '10',\n",
    "    'nov': '11',\n",
    "    'dec': '12'}\n",
    "\n",
    "path = os.listdir('/results2/SalishSea/nowcast-green.202111/')\n",
    "\n",
    "folders = [x for x in path if ((x[2:5]=='mar' or x[2:5]=='apr' or (x[2:5]=='feb' and x[0:2] > '14')) and (x[5:7]<'24'))]\n",
    "indx_dates=(np.argsort(pd.to_datetime(folders, format=\"%d%b%y\")))\n",
    "folders = [folders[i] for i in indx_dates]\n",
    "\n",
    "# Open the mesh mask\n",
    "mesh = xr.open_dataset('/home/sallen/MEOPAR/grid/mesh_mask202108.nc')\n",
    "mask = mesh.tmask.to_numpy()\n",
    "\n",
    "file = xr.open_dataset('/data/ibougoudis/MOAD/files/integrated_model_var_old.nc')\n",
    "ref = file.Flagellate\n",
    "\n",
    "coords = dict(time_counter=file.time_counter, y=file.y, x=file.x) \n",
    "\n",
    "flag_pr_all = datasets_preparation2('Primary Production of Flagellates', '[mmol N m-2 s-1]')\n",
    "\n",
    "file = xr.open_dataset('/data/ibougoudis/MOAD/files/integrated_model_var_old.nc')\n",
    "ref = file.Flagellate\n",
    "\n",
    "for i in tqdm(enumerate(folders)):\n",
    "\n",
    "    flag_i = ref[i[0]]\n",
    "    flag_pr = datasets_preparation()\n",
    "\n",
    "    flag_pr_all[i[0]] = flag_pr\n",
    "\n",
    "# Calling file creation\n",
    "\n",
    "file_creation(flag_pr_all, 'Flagellate_Production_Rate')\n"
   ]
  },
  {
   "cell_type": "code",
   "execution_count": null,
   "metadata": {},
   "outputs": [],
   "source": []
  }
 ],
 "metadata": {
  "kernelspec": {
   "display_name": "analysis-ilias",
   "language": "python",
   "name": "python3"
  },
  "language_info": {
   "codemirror_mode": {
    "name": "ipython",
    "version": 3
   },
   "file_extension": ".py",
   "mimetype": "text/x-python",
   "name": "python",
   "nbconvert_exporter": "python",
   "pygments_lexer": "ipython3",
   "version": "3.11.8"
  }
 },
 "nbformat": 4,
 "nbformat_minor": 2
}
