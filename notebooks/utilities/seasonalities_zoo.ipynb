{
 "cells": [
  {
   "cell_type": "markdown",
   "id": "701d9880",
   "metadata": {},
   "source": [
    "# File Creation for Zooplankton"
   ]
  },
  {
   "cell_type": "markdown",
   "id": "d35e1da7",
   "metadata": {},
   "source": [
    "## Importing"
   ]
  },
  {
   "cell_type": "code",
   "execution_count": null,
   "id": "b98156a1",
   "metadata": {},
   "outputs": [],
   "source": [
    "import xarray as xr\n",
    "import numpy as np\n",
    "import pandas as pd\n",
    "\n",
    "import os\n",
    "\n",
    "from tqdm import tqdm\n",
    "import matplotlib.pyplot as plt\n"
   ]
  },
  {
   "cell_type": "markdown",
   "id": "9d46913f",
   "metadata": {},
   "source": [
    "## Datasets Preparation"
   ]
  },
  {
   "cell_type": "code",
   "execution_count": null,
   "id": "3ce298a9",
   "metadata": {},
   "outputs": [],
   "source": [
    "def datasets_preparation(name, units, coords):\n",
    "\n",
    "    dataset = xr.DataArray(coords=coords, dims = ['time_counter', 'y', 'x'],\n",
    "        attrs=dict(description='Integrated quantity of interest',\n",
    "        long_name =name,\n",
    "        units=units))\n",
    "        \n",
    "    return (dataset)"
   ]
  },
  {
   "cell_type": "markdown",
   "id": "58891e11",
   "metadata": {},
   "source": [
    "## File Creation"
   ]
  },
  {
   "cell_type": "code",
   "execution_count": null,
   "id": "b264a6ed",
   "metadata": {},
   "outputs": [],
   "source": [
    "def file_creation(variable, name):\n",
    "\n",
    "    temp = variable.to_dataset(name=name)\n",
    "    temp.to_netcdf(path='/data/ibougoudis/MOAD/files/apr_jun.nc', mode='a', encoding={name:{\"zlib\": True, \"complevel\": 9}})\n",
    "    temp.close()\n",
    "    "
   ]
  },
  {
   "cell_type": "markdown",
   "id": "4d26f606",
   "metadata": {},
   "source": [
    "## Data Collection"
   ]
  },
  {
   "cell_type": "code",
   "execution_count": null,
   "id": "c688ed3a",
   "metadata": {},
   "outputs": [],
   "source": [
    "dict_month = {'jan': '01',\n",
    "    'feb': '02',\n",
    "    'mar': '03',\n",
    "    'apr': '04',\n",
    "    'may': '05',\n",
    "    'jun': '06',\n",
    "    'jul': '07',\n",
    "    'aug': '08',\n",
    "    'sep': '09',\n",
    "    'oct': '10',\n",
    "    'nov': '11',\n",
    "    'dec': '12'}\n",
    "\n",
    "path = os.listdir('/results2/SalishSea/nowcast-green.202111/')\n",
    "\n",
    "folders = [x for x in path if ((x[2:5]=='apr' and x[0:2] > '15') or x[2:5] == 'may' or x[2:5] == 'jun')]\n",
    "if '17apr24.aside' in folders:\n",
    "    folders.pop(folders.index('17apr24.aside')) # Removing an unnecessary directory (17apr24.aside)\n",
    "\n",
    "indx_dates=(np.argsort(pd.to_datetime(folders, format=\"%d%b%y\")))\n",
    "folders = [folders[i] for i in indx_dates]\n",
    "\n",
    "# Open the mesh mask\n",
    "mesh = xr.open_dataset('/home/sallen/MEOPAR/grid/mesh_mask202108.nc')\n",
    "mask = mesh.tmask.to_numpy()\n",
    "\n",
    "coords = dict(time_counter=pd.to_datetime(folders, format=\"%d%b%y\"), y=mesh.y, x=mesh.x) \n",
    "\n",
    "micro_i_all = datasets_preparation('Z1 Concentration', 'mmol N m-2', coords)\n",
    "meso_i_all = datasets_preparation('Z2 Concentration', 'mmol N m-2', coords)\n",
    "\n",
    "micro_diat_graz_i_all = datasets_preparation('Z1 Grazing on Diatom', 's-1', coords)\n",
    "micro_flag_graz_i_all = datasets_preparation('Z1 Grazing on Flagellate', 's-1', coords)\n",
    "micro_pon_graz_i_all = datasets_preparation('Z1 Grazing on Pon', 's-1', coords)\n",
    "micro_micro_graz_i_all = datasets_preparation('Z1 Grazing on Z1', 's-1', coords)\n",
    "\n",
    "meso_diat_graz_i_all = datasets_preparation('Z2 Grazing on Diatom', 's-1', coords)\n",
    "meso_flag_graz_i_all = datasets_preparation('Z2 Grazing on Flagellate', 's-1', coords)\n",
    "meso_pon_graz_i_all = datasets_preparation('Z2 Grazing on Pon', 's-1', coords)\n",
    "meso_micro_graz_i_all = datasets_preparation('Z2 Grazing on Z1', 's-1', coords)\n",
    "\n",
    "print(len(folders))\n"
   ]
  },
  {
   "cell_type": "markdown",
   "id": "69d98a01",
   "metadata": {},
   "source": [
    "## Calculations"
   ]
  },
  {
   "cell_type": "code",
   "execution_count": null,
   "id": "c9545a6e",
   "metadata": {},
   "outputs": [],
   "source": [
    "for i in tqdm(enumerate(folders)):\n",
    "\n",
    "    ds_name = ('/results2/SalishSea/nowcast-green.202111/' + i[1] + '/SalishSea_1d_' + '20' + str(i[1][5:7]) + str(dict_month[i[1][2:5]])+str(i[1][0:2]) + '_' + '20' + str(i[1][5:7]) + str(dict_month[i[1][2:5]]) + str(i[1][0:2]) + '_grid_T.nc')\n",
    "    ds_bio_name = ('/results2/SalishSea/nowcast-green.202111/' + i[1] + '/SalishSea_1d_'  + '20' + str(i[1][5:7]) + str(dict_month[i[1][2:5]])+str(i[1][0:2]) + '_' + '20' + str(i[1][5:7]) + str(dict_month[i[1][2:5]]) + str(i[1][0:2]) + '_biol_T.nc')\n",
    "    ds_graz_name = ('/results2/SalishSea/nowcast-green.202111/' + i[1] + '/SalishSea_1d_'  + '20' + str(i[1][5:7]) + str(dict_month[i[1][2:5]])+str(i[1][0:2]) + '_' + '20' + str(i[1][5:7]) + str(dict_month[i[1][2:5]]) + str(i[1][0:2]) + '_graz_T.nc') \n",
    "    \n",
    "    ds = xr.open_dataset (ds_name)\n",
    "    ds_bio = xr.open_dataset (ds_bio_name)\n",
    "    ds_graz = xr.open_dataset (ds_graz_name)\n",
    "\n",
    "    micro_i_all[i[0]] =((ds_bio.microzooplankton.where(mask==1)[0,0:27] * ds.e3t.where(mask==1)\n",
    "        [0,0:27]).sum('deptht', skipna = True, min_count = 27) / mesh.gdepw_0[0,27])\n",
    "    meso_i_all[i[0]] = ((ds_bio.mesozooplankton.where(mask==1)[0,0:27] * ds.e3t.where(mask==1)\n",
    "        [0,0:27]).sum('deptht', skipna = True, min_count = 27) / mesh.gdepw_0[0,27])\n",
    "\n",
    "    micro_diat_graz_i_all[i[0]] = ((ds_graz.GRMICZDIAT.where(mask==1)[0,0:27] * ds.e3t.where(mask==1)\n",
    "        [0,0:27]).sum('deptht', skipna = True, min_count = 27) / mesh.gdepw_0[0,27]) / micro_i_all[i[0]]    \n",
    "    micro_flag_graz_i_all[i[0]] = ((ds_graz.GRMICZPHY.where(mask==1)[0,0:27] * ds.e3t.where(mask==1)\n",
    "        [0,0:27]).sum('deptht', skipna = True, min_count = 27) / mesh.gdepw_0[0,27]) / micro_i_all[i[0]]\n",
    "    micro_pon_graz_i_all[i[0]] = ((ds_graz.GRMICZPON.where(mask==1)[0,0:27] * ds.e3t.where(mask==1)\n",
    "        [0,0:27]).sum('deptht', skipna = True, min_count = 27) / mesh.gdepw_0[0,27]) / micro_i_all[i[0]]\n",
    "    micro_micro_graz_i_all[i[0]] = ((ds_graz.GRMICZMICZ.where(mask==1)[0,0:27] * ds.e3t.where(mask==1)\n",
    "        [0,0:27]).sum('deptht', skipna = True, min_count = 27) / mesh.gdepw_0[0,27]) / micro_i_all[i[0]]\n",
    "    \n",
    "    meso_diat_graz_i_all[i[0]] = ((ds_graz.GRMESZDIAT.where(mask==1)[0,0:27] * ds.e3t.where(mask==1)\n",
    "        [0,0:27]).sum('deptht', skipna = True, min_count = 27) / mesh.gdepw_0[0,27]) / meso_i_all[i[0]]    \n",
    "    meso_flag_graz_i_all[i[0]] = ((ds_graz.GRMESZPHY.where(mask==1)[0,0:27] * ds.e3t.where(mask==1)\n",
    "        [0,0:27]).sum('deptht', skipna = True, min_count = 27) / mesh.gdepw_0[0,27]) / meso_i_all[i[0]]\n",
    "    meso_pon_graz_i_all[i[0]] = ((ds_graz.GRMESZPON.where(mask==1)[0,0:27] * ds.e3t.where(mask==1)\n",
    "        [0,0:27]).sum('deptht', skipna = True, min_count = 27) / mesh.gdepw_0[0,27]) / meso_i_all[i[0]]\n",
    "    meso_micro_graz_i_all[i[0]] = ((ds_graz.GRMESZMICZ.where(mask==1)[0,0:27] * ds.e3t.where(mask==1)\n",
    "        [0,0:27]).sum('deptht', skipna = True, min_count = 27) / mesh.gdepw_0[0,27]) / meso_i_all[i[0]]\n",
    "    "
   ]
  },
  {
   "cell_type": "markdown",
   "id": "e71869ce",
   "metadata": {},
   "source": [
    "## Saving"
   ]
  },
  {
   "cell_type": "code",
   "execution_count": null,
   "id": "caf3146e",
   "metadata": {},
   "outputs": [],
   "source": [
    "file_creation(micro_i_all, 'Z1')\n",
    "file_creation(meso_i_all, 'Z2')\n",
    "\n",
    "file_creation(micro_diat_graz_i_all, 'Z1_Diatom')\n",
    "file_creation(micro_flag_graz_i_all, 'Z1_Flagellate')\n",
    "file_creation(micro_pon_graz_i_all, 'Z1_Pon')\n",
    "file_creation(micro_micro_graz_i_all, 'Z1_Z1')\n",
    "\n",
    "file_creation(meso_diat_graz_i_all, 'Z2_Diatom')\n",
    "file_creation(meso_flag_graz_i_all, 'Z2_Flagellate')\n",
    "file_creation(meso_pon_graz_i_all, 'Z2_Pon')\n",
    "file_creation(meso_micro_graz_i_all, 'Z2_Z1')\n"
   ]
  },
  {
   "cell_type": "code",
   "execution_count": null,
   "id": "cd4c38b6",
   "metadata": {},
   "outputs": [],
   "source": []
  }
 ],
 "metadata": {
  "kernelspec": {
   "display_name": "analysis-ilias",
   "language": "python",
   "name": "python3"
  },
  "language_info": {
   "codemirror_mode": {
    "name": "ipython",
    "version": 3
   },
   "file_extension": ".py",
   "mimetype": "text/x-python",
   "name": "python",
   "nbconvert_exporter": "python",
   "pygments_lexer": "ipython3",
   "version": "3.11.11"
  }
 },
 "nbformat": 4,
 "nbformat_minor": 5
}
