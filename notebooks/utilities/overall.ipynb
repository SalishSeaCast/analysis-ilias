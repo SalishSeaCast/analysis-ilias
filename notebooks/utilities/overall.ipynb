{
 "cells": [
  {
   "cell_type": "markdown",
   "metadata": {},
   "source": [
    "# Overall comparison of the models' performance (Diatom Production Rate)"
   ]
  },
  {
   "cell_type": "markdown",
   "metadata": {},
   "source": [
    "## Importing"
   ]
  },
  {
   "cell_type": "code",
   "execution_count": null,
   "metadata": {},
   "outputs": [],
   "source": [
    "import xarray as xr\n",
    "import numpy as np\n",
    "import pandas as pd\n",
    "import matplotlib.pyplot as plt\n",
    "import xskillscore as xs\n",
    "from sklearn.metrics import root_mean_squared_error as rmse\n"
   ]
  },
  {
   "cell_type": "markdown",
   "metadata": {},
   "source": [
    "## Function for 5% mean"
   ]
  },
  {
   "cell_type": "code",
   "execution_count": null,
   "metadata": {},
   "outputs": [],
   "source": [
    "def low_mean(a):\n",
    "    \n",
    "    return a[0:4].mean(dim=\"time_counter\")\n"
   ]
  },
  {
   "cell_type": "markdown",
   "metadata": {},
   "source": [
    "## Daily calculations"
   ]
  },
  {
   "cell_type": "code",
   "execution_count": null,
   "metadata": {},
   "outputs": [],
   "source": [
    "def daily(r_days,rms_days,slope_days):\n",
    "\n",
    "    r = np.zeros(4)\n",
    "    rms = np.zeros(4)\n",
    "    slope = np.zeros(4)\n",
    "\n",
    "    for j in range(0,4):\n",
    "\n",
    "        r[j] = np.round(r_days[j].values,3)\n",
    "        rms[j] = rms_days[j].values\n",
    "        slope[j] =  np.round(slope_days[j].values,3)\n",
    "    \n",
    "    return(r,rms,slope)\n"
   ]
  },
  {
   "cell_type": "markdown",
   "metadata": {},
   "source": [
    "## Printing (Function)"
   ]
  },
  {
   "cell_type": "code",
   "execution_count": null,
   "metadata": {},
   "outputs": [],
   "source": [
    "def printing(metric,years,r,rms,m):\n",
    "\n",
    "    for j in range (0,len(years)):\n",
    "        print('The '+metric+ ' correlation coefficient for year '+str(years[j])+' is '+str(r[j]))\n",
    "        print('The '+metric+ ' root mean square error for year '+str(years[j])+' is '+str(rms[j]))\n",
    "        print('The '+metric+ ' slope of the best fitting line for year '+str(years[j])+' is '+str(m[j]))\n",
    "        print('\\n')\n"
   ]
  },
  {
   "cell_type": "markdown",
   "metadata": {},
   "source": [
    "## Plotting (Function)"
   ]
  },
  {
   "cell_type": "code",
   "execution_count": null,
   "metadata": {},
   "outputs": [],
   "source": [
    "def plotting (j,metric,categories,years,quantity,name):\n",
    "\n",
    "    fig,ax = plt.subplots()\n",
    "\n",
    "    for i in range (0,len(categories)):\n",
    "        ax.plot(years,quantity[i,:,j],marker= '*', label=categories[i])\n",
    "    plt.xlabel('Years')\n",
    "    plt.suptitle(metric+ ' ' +name+ ' (15 Feb - 30 Apr)')\n",
    "    plt.legend()\n",
    "    fig.show()\n"
   ]
  },
  {
   "cell_type": "markdown",
   "metadata": {},
   "source": [
    "## Calculations"
   ]
  },
  {
   "cell_type": "code",
   "execution_count": null,
   "metadata": {},
   "outputs": [],
   "source": [
    "def calculations(species,category):\n",
    "\n",
    "    r = np.zeros((len(category),4,3)) # First axis is the model categories, second the years, third the calculated metrics\n",
    "    rms = np.zeros((len(category),4,3))\n",
    "    slope = np.zeros((len(category),4,3))\n",
    "\n",
    "    for i in range (0, len(category)):\n",
    "\n",
    "        ds = xr.open_dataset(species+category[i]+'/targets_predictions.nc')\n",
    "        targets_all = ds.Targets\n",
    "        predictions_all = ds.Predictions\n",
    "\n",
    "        # Annual\n",
    "        targets_annual = np.ravel(targets_all.groupby('time_counter.year'))\n",
    "        predictions_annual = np.ravel(predictions_all.groupby('time_counter.year'))\n",
    "\n",
    "        years = []\n",
    "        for j in range(1,8,2):\n",
    "\n",
    "            years.append(targets_annual[j-1])\n",
    "\n",
    "            idx = np.isfinite(np.ravel(targets_annual[j]))\n",
    "\n",
    "            r[i,len(years)-1,0] = np.round(np.corrcoef(np.ravel(targets_annual[j])[idx],np.ravel(predictions_annual[j])[idx])[0][1],3)\n",
    "            rms[i,len(years)-1,0] = rmse(np.ravel(targets_annual[j])[idx],np.ravel(predictions_annual[j])[idx])\n",
    "            m,_ = np.polyfit(np.ravel(targets_annual[j])[idx], np.ravel(predictions_annual[j])[idx], deg=1)\n",
    "            slope[i,len(years)-1,0] = np.round(m,3)\n",
    "\n",
    "        # Daily means\n",
    "        r_days = xr.corr(targets_all,predictions_all, dim=['x','y']).groupby('time_counter.year').mean('time_counter')\n",
    "        rms_days = xs.rmse(targets_all,predictions_all, dim=['x','y'], skipna=True).groupby('time_counter.year').mean('time_counter')\n",
    "        slope_days = xs.linslope(targets_all,predictions_all, dim=['x','y'], skipna=True).groupby('time_counter.year').mean('time_counter')\n",
    "\n",
    "        r[i,:,1],rms[i,:,1],slope[i,:,1] = daily(r_days,rms_days,slope_days)\n",
    "            \n",
    "        # 5% low\n",
    "        r_days = xr.corr(targets_all,predictions_all, dim=['x','y']).sortby(xr.corr(targets_all,predictions_all, dim=['x','y'])).groupby('time_counter.year').map(low_mean)\n",
    "        rms_days = xs.rmse(targets_all,predictions_all, dim=['x','y'], skipna=True).sortby(xs.rmse(targets_all,predictions_all, dim=['x','y'], skipna=True),ascending=False).groupby('time_counter.year').map(low_mean)\n",
    "        slope_days = xs.linslope(targets_all,predictions_all, dim=['x','y'], skipna=True).sortby(xs.linslope(targets_all,predictions_all, dim=['x','y'], skipna=True)).groupby('time_counter.year').map(low_mean)\n",
    "\n",
    "        r[i,:,2],rms[i,:,2],slope[i,:,2] = daily(r_days,rms_days,slope_days)\n",
    "\n",
    "    return(years,r,rms,slope)\n"
   ]
  },
  {
   "cell_type": "markdown",
   "metadata": {},
   "source": [
    "## Main Body"
   ]
  },
  {
   "cell_type": "code",
   "execution_count": null,
   "metadata": {},
   "outputs": [],
   "source": [
    "# Paths\n",
    "diat = '/data/ibougoudis/MOAD/files/results/Diatom/'\n",
    "diat_pr = '/data/ibougoudis/MOAD/files/results/Diatom_Production_Rate/'\n",
    "flag = '/data/ibougoudis/MOAD/files/results/Flagellate/'\n",
    "flag_pr = '/data/ibougoudis/MOAD/files/results/Flagellate_Production_Rate/'\n",
    "\n",
    "# categories = ['hist','hist_xy','hist_nitr','hist_xy_nitr','hist_func_cl','hist_func_cl_nitr','func_reg']\n",
    "categories = ['hist','hist_xy','hist_nitr','hist_xy_nitr','hist_ext', 'hist_xy_ext']\n",
    "\n",
    "metrics = ['Annual', 'Daily mean', '5% low mean']\n",
    "\n",
    "species = diat_pr\n",
    "years,r,rms,slope = calculations(diat_pr,categories)"
   ]
  },
  {
   "cell_type": "markdown",
   "metadata": {},
   "source": [
    "## Plotting"
   ]
  },
  {
   "cell_type": "code",
   "execution_count": null,
   "metadata": {},
   "outputs": [],
   "source": [
    "for i in range (0, len(metrics)):\n",
    "\n",
    "    plotting(i,metrics[i],categories,years,r,'correlation coefficient')\n",
    "    plotting(i,metrics[i],categories,years,rms,'root mean square error')\n",
    "    plotting(i,metrics[i],categories,years,slope,'slope of the best fitting line')\n"
   ]
  },
  {
   "cell_type": "markdown",
   "metadata": {},
   "source": [
    "## Printing"
   ]
  },
  {
   "cell_type": "code",
   "execution_count": null,
   "metadata": {},
   "outputs": [],
   "source": [
    "print(species[36:-1])\n",
    "print('\\n')\n",
    "\n",
    "for i in range (0,len(categories)):\n",
    "\n",
    "    print(categories[i])\n",
    "    printing(metrics[0],years,r[i,:,0],rms[i,:,0],slope[i,:,0])\n",
    "    printing(metrics[1],years,r[i,:,1],rms[i,:,1],slope[i,:,1])\n",
    "    printing(metrics[2],years,r[i,:,2],rms[i,:,2],slope[i,:,2])\n"
   ]
  },
  {
   "cell_type": "markdown",
   "metadata": {},
   "source": [
    "## Tables"
   ]
  },
  {
   "cell_type": "markdown",
   "metadata": {},
   "source": [
    "### Correlation coefficients\n",
    "\n",
    "| Diatom Production Rate | Training | 2021 (annual) | 2021 (mean daily) | 2021 (mean 5% low) | 2022 (annual) | 2022 (mean daily) | 2022 (mean 5% low) | 2023 (annual) | 2023 (mean daily) | 2023 (mean 5% low) | 2024 (annual) | 2024 (mean daily) | 2024 (mean 5% low) |\n",
    "| :-: | :-: | :-: | :-: | :-: | :-: | :-: | :-: | :-: | :-: | :-: | :-: | :-: | :-: |\n",
    "| hist | .9 |  .8 |  .843 | | .7 | 0.8 | | | | | | | | \n",
    "| hist + xy | .9 |  .8 | .843 | | .7 | 0.8 | | | | | | | | \n",
    "| hist + nitr | .9 |  .8 | .843 | | .7 | 0.8 | | | | | | | | \n",
    "| hist + xy + nitr | .9 |  .8 | .843 | | .7 | 0.8 | | | | | | | | \n",
    "| hist + fun_cl | .9 |  .8 | .843 | | .7 | 0.8 | | | | | | | | \n",
    "| hist + fun_cl + nitr | .9 | .8 | .843 | | .7 | 0.8 | | | | | | | | \n",
    "| func_reg | .9 |.8| .843 | | .7 | 0.8  | | | | | | | |"
   ]
  },
  {
   "cell_type": "markdown",
   "metadata": {},
   "source": [
    "### Root mean square errors\n",
    "\n",
    "| Diatom Production Rate | Training | 2021 (annual) | 2021 (mean daily) | 2021 (mean 5% low) | 2022 (annual) | 2022 (mean daily) | 2022 (mean 5% low) | 2023 (annual) | 2023 (mean daily) | 2023 (mean 5% low) | 2024 (annual) | 2024 (mean daily) | 2024 (mean 5% low) |\n",
    "| :-: | :-: | :-: | :-: | :-: | :-: | :-: | :-: | :-: | :-: | :-: | :-: | :-: | :-: |\n",
    "| hist | .9 |  .8 |  .843 | | .7 | 0.8 | | | | | | | | \n",
    "| hist + xy | .9 |  .8 | .843 | | .7 | 0.8 | | | | | | | | \n",
    "| hist + nitr | .9 |  .8 | .843 | | .7 | 0.8 | | | | | | | | \n",
    "| hist + xy + nitr | .9 |  .8 | .843 | | .7 | 0.8 | | | | | | | | \n",
    "| hist + fun_cl | .9 |  .8 | .843 | | .7 | 0.8 | | | | | | | | \n",
    "| hist + fun_cl + nitr | .9 | .8 | .843 | | .7 | 0.8 | | | | | | | | \n",
    "| func_reg | .9 |.8| .843 | | .7 | 0.8  | | | | | | | |"
   ]
  },
  {
   "cell_type": "markdown",
   "metadata": {},
   "source": [
    "### Slope of the best fitting line\n",
    "\n",
    "| Diatom Production Rate | Training | 2021 (annual) | 2021 (mean daily) | 2021 (mean 5% low) | 2022 (annual) | 2022 (mean daily) | 2022 (mean 5% low) | 2023 (annual) | 2023 (mean daily) | 2023 (mean 5% low) | 2024 (annual) | 2024 (mean daily) | 2024 (mean 5% low) |\n",
    "| :-: | :-: | :-: | :-: | :-: | :-: | :-: | :-: | :-: | :-: | :-: | :-: | :-: | :-: |\n",
    "| hist | .9 |  .8 |  .843 | | .7 | 0.8 | | | | | | | | \n",
    "| hist + xy | .9 |  .8 | .843 | | .7 | 0.8 | | | | | | | | \n",
    "| hist + nitr | .9 |  .8 | .843 | | .7 | 0.8 | | | | | | | | \n",
    "| hist + xy + nitr | .9 |  .8 | .843 | | .7 | 0.8 | | | | | | | | \n",
    "| hist + fun_cl | .9 |  .8 | .843 | | .7 | 0.8 | | | | | | | | \n",
    "| hist + fun_cl + nitr | .9 | .8 | .843 | | .7 | 0.8 | | | | | | | | \n",
    "| func_reg | .9 |.8| .843 | | .7 | 0.8  | | | | | | | |"
   ]
  },
  {
   "cell_type": "code",
   "execution_count": null,
   "metadata": {},
   "outputs": [],
   "source": []
  }
 ],
 "metadata": {
  "kernelspec": {
   "display_name": "analysis-ilias",
   "language": "python",
   "name": "python3"
  },
  "language_info": {
   "codemirror_mode": {
    "name": "ipython",
    "version": 3
   },
   "file_extension": ".py",
   "mimetype": "text/x-python",
   "name": "python",
   "nbconvert_exporter": "python",
   "pygments_lexer": "ipython3",
   "version": "3.11.8"
  }
 },
 "nbformat": 4,
 "nbformat_minor": 2
}
