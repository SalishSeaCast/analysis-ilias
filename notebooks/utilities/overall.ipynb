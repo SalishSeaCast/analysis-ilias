{
 "cells": [
  {
   "cell_type": "markdown",
   "metadata": {},
   "source": [
    "# Overall comparison of the models' performance (Diatom Production Rate)"
   ]
  },
  {
   "cell_type": "markdown",
   "metadata": {},
   "source": [
    "## Importing"
   ]
  },
  {
   "cell_type": "code",
   "execution_count": null,
   "metadata": {},
   "outputs": [],
   "source": [
    "import xarray as xr\n",
    "import numpy as np\n",
    "import pandas as pd\n",
    "import matplotlib.pyplot as plt\n",
    "import xskillscore as xs\n",
    "from sklearn.metrics import root_mean_squared_error as rmse\n",
    "import dill\n"
   ]
  },
  {
   "cell_type": "markdown",
   "metadata": {},
   "source": [
    "## Function for 5% mean"
   ]
  },
  {
   "cell_type": "code",
   "execution_count": null,
   "metadata": {},
   "outputs": [],
   "source": [
    "def low_mean(a):\n",
    "    \n",
    "    return a[0:4].mean(dim=\"time_counter\")\n"
   ]
  },
  {
   "cell_type": "markdown",
   "metadata": {},
   "source": [
    "## Annual calculations"
   ]
  },
  {
   "cell_type": "code",
   "execution_count": null,
   "metadata": {},
   "outputs": [],
   "source": [
    "def annual (targets,predictions):\n",
    "    \n",
    "    r = np.round(np.corrcoef(np.ravel(targets),np.ravel(predictions))[0][1],3)\n",
    "    rms = rmse(np.ravel(targets),np.ravel(predictions))\n",
    "    m,_ = np.polyfit(np.ravel(targets), np.ravel(predictions), deg=1)\n",
    "    slope = np.round(m,3)\n",
    "\n",
    "    return (r,rms,slope)\n"
   ]
  },
  {
   "cell_type": "markdown",
   "metadata": {},
   "source": [
    "## Daily calculations"
   ]
  },
  {
   "cell_type": "code",
   "execution_count": null,
   "metadata": {},
   "outputs": [],
   "source": [
    "def daily(targets_all,predictions_all):\n",
    "\n",
    "    r_days = xr.corr(targets_all,predictions_all, dim=['x','y']).groupby('time_counter.year').mean('time_counter')\n",
    "    rms_days = xs.rmse(targets_all,predictions_all, dim=['x','y'], skipna=True).groupby('time_counter.year').mean('time_counter')\n",
    "    slope_days = xs.linslope(targets_all,predictions_all, dim=['x','y'], skipna=True).groupby('time_counter.year').mean('time_counter')\n",
    "\n",
    "    r = np.zeros(4)\n",
    "    rms = np.zeros(4)\n",
    "    slope = np.zeros(4)\n",
    "\n",
    "    for j in range(0,4):\n",
    "\n",
    "        r[j] = np.round(r_days[j].values,3)\n",
    "        rms[j] = rms_days[j].values\n",
    "        slope[j] =  np.round(slope_days[j].values,3)\n",
    "    \n",
    "    return(r,rms,slope)\n"
   ]
  },
  {
   "cell_type": "markdown",
   "metadata": {},
   "source": [
    "## 5% calculations"
   ]
  },
  {
   "cell_type": "code",
   "execution_count": null,
   "metadata": {},
   "outputs": [],
   "source": [
    "def daily2(targets_all,predictions_all):\n",
    "\n",
    "    r_days = xr.corr(targets_all,predictions_all, dim=['x','y']).sortby(xr.corr(targets_all,predictions_all, dim=['x','y'])).groupby('time_counter.year').map(low_mean)\n",
    "    rms_days = xs.rmse(targets_all,predictions_all, dim=['x','y'], skipna=True).sortby(xs.rmse(targets_all,predictions_all, dim=['x','y'], skipna=True),ascending=False).groupby('time_counter.year').map(low_mean)\n",
    "    slope_days = xs.linslope(targets_all,predictions_all, dim=['x','y'], skipna=True).sortby(xs.linslope(targets_all,predictions_all, dim=['x','y'], skipna=True)).groupby('time_counter.year').map(low_mean)\n",
    "\n",
    "    r = np.zeros(4)\n",
    "    rms = np.zeros(4)\n",
    "    slope = np.zeros(4)\n",
    "\n",
    "    for j in range(0,4):\n",
    "\n",
    "        r[j] = np.round(r_days[j].values,3)\n",
    "        rms[j] = rms_days[j].values\n",
    "        slope[j] =  np.round(slope_days[j].values,3)\n",
    "    \n",
    "    return(r,rms,slope)\n"
   ]
  },
  {
   "cell_type": "markdown",
   "metadata": {},
   "source": [
    "## All calculations"
   ]
  },
  {
   "cell_type": "code",
   "execution_count": null,
   "metadata": {},
   "outputs": [],
   "source": [
    "def calculations(species,category):\n",
    "\n",
    "    r = np.zeros((len(category),4,5)) # First axis is the model categories, second the years, third the calculated metrics\n",
    "    rms = np.zeros((len(category),4,5))\n",
    "    slope = np.zeros((len(category),4,5))\n",
    "\n",
    "    r_train = np.zeros(len(category))\n",
    "    rms_train =  np.zeros(len(category))\n",
    "    slope_train = np.zeros(len(category))\n",
    "\n",
    "    for i in range (0, len(category)):\n",
    "\n",
    "        ds = xr.open_dataset(species+category[i]+'/targets_predictions.nc')\n",
    "        targets_all = ds.Targets\n",
    "        predictions_all = ds.Predictions\n",
    "        mean_targets = targets_all.mean(dim=['x','y'], skipna=True)\n",
    "        mean_predictions = predictions_all.mean(dim=['x','y'], skipna=True)\n",
    "\n",
    "        with open(species+category[i]+ '/metrics.pkl', 'rb') as f:\n",
    "\n",
    "            metrics = dill.load(f)\n",
    "        \n",
    "        r_train[i], rms_train[i], slope_train[i] = metrics[0:3]\n",
    "\n",
    "        # Annual\n",
    "        targets_annual = np.ravel(targets_all.groupby('time_counter.year'))\n",
    "        predictions_annual = np.ravel(predictions_all.groupby('time_counter.year'))\n",
    "        targets_mean_annual = np.ravel(mean_targets.groupby('time_counter.year'))\n",
    "        predictions_mean_annual = np.ravel(mean_predictions.groupby('time_counter.year'))\n",
    "        targets_mean_annual_season = np.ravel((mean_targets-metrics[4][np.where(metrics[3].year==2017)[0][0]:]).groupby('time_counter.year'))\n",
    "        predictions_mean_annual_season = np.ravel((mean_predictions-metrics[4][np.where(metrics[3].year==2017)[0][0]:]).groupby('time_counter.year'))\n",
    "\n",
    "        years = []\n",
    "        for j in range(1,8,2):\n",
    "\n",
    "            years.append(targets_annual[j-1])\n",
    "\n",
    "            idx = np.isfinite(np.ravel(targets_annual[j]))\n",
    "            r[i,len(years)-1,0],rms[i,len(years)-1,0],slope[i,len(years)-1,0] = annual(np.ravel(targets_annual[j])[idx],np.ravel(predictions_annual[j])[idx])\n",
    "            r[i,len(years)-1,3],rms[i,len(years)-1,3],slope[i,len(years)-1,3] = annual(targets_mean_annual[j],predictions_mean_annual[j])\n",
    "            r[i,len(years)-1,4],rms[i,len(years)-1,4],slope[i,len(years)-1,4] = annual(targets_mean_annual_season[j],predictions_mean_annual_season[j])\n",
    "\n",
    "        # Daily means\n",
    "        r[i,:,1],rms[i,:,1],slope[i,:,1] = daily(targets_all,predictions_all)\n",
    "    \n",
    "        # 5% low\n",
    "        r[i,:,2],rms[i,:,2],slope[i,:,2] = daily2(targets_all,predictions_all)\n",
    "\n",
    "    return(years,r,rms,slope,r_train,rms_train,slope_train)\n"
   ]
  },
  {
   "cell_type": "markdown",
   "metadata": {},
   "source": [
    "## Plotting"
   ]
  },
  {
   "cell_type": "code",
   "execution_count": null,
   "metadata": {},
   "outputs": [],
   "source": [
    "def plotting (j,metric,categories,years,quantity,name):\n",
    "\n",
    "    fig,ax = plt.subplots()\n",
    "\n",
    "    for i in range (0,len(categories)):\n",
    "        ax.plot(years,quantity[i,:,j],marker= '*', label=categories[i])\n",
    "    plt.xlabel('Years')\n",
    "    plt.suptitle(metric+ ' ' +name+ ' (15 Feb - 30 Apr)')\n",
    "    plt.legend()\n",
    "    plt.show()\n"
   ]
  },
  {
   "cell_type": "markdown",
   "metadata": {},
   "source": [
    "## Printing"
   ]
  },
  {
   "cell_type": "code",
   "execution_count": null,
   "metadata": {},
   "outputs": [],
   "source": [
    "def printing(metric,years,data,categories,criteria):\n",
    "\n",
    "     temp = pd.DataFrame(data,columns=years,index=categories)\n",
    "     print(metric+ ' ' +criteria)\n",
    "     display(temp)\n",
    "     "
   ]
  },
  {
   "cell_type": "markdown",
   "metadata": {},
   "source": [
    "## Summary"
   ]
  },
  {
   "cell_type": "code",
   "execution_count": null,
   "metadata": {},
   "outputs": [],
   "source": [
    "def summary(quantity,categories,metrics):\n",
    "\n",
    "    years,r,rms,slope,r_train,rms_train,slope_train = calculations(quantity,categories)\n",
    "\n",
    "    print (quantity[36:-1])\n",
    "    print ('\\n')\n",
    "\n",
    "    temp = np.concatenate((r_train,rms_train,slope_train))\n",
    "    temp = temp.reshape(3,len(categories))\n",
    "    \n",
    "    temp = pd.DataFrame(temp.transpose(),columns=['r', 'rms', 'slope'],index=categories)\n",
    "    print('Training')\n",
    "    display(temp)\n",
    "    print ('\\n')\n",
    "\n",
    "    for i in range (0, len(metrics)):\n",
    "\n",
    "        printing(metrics[i],years,r[:,:,i],categories,'Correlation coefficient')\n",
    "        plotting(i,metrics[i],categories,years,r,'correlation coefficient')\n",
    "\n",
    "        printing(metrics[i],years,rms[:,:,i],categories, 'Root mean square error')\n",
    "        plotting(i,metrics[i],categories,years,rms,'root mean square error')\n",
    "\n",
    "        printing(metrics[i],years,slope[:,:,i],categories, 'Slope of the best fitting line')\n",
    "        plotting(i,metrics[i],categories,years,slope,'slope of the best fitting line')\n",
    "    "
   ]
  },
  {
   "cell_type": "markdown",
   "metadata": {},
   "source": [
    "## Main Body"
   ]
  },
  {
   "cell_type": "code",
   "execution_count": null,
   "metadata": {},
   "outputs": [],
   "source": [
    "np.warnings.filterwarnings('ignore', category=np.VisibleDeprecationWarning)\n",
    "\n",
    "# Paths\n",
    "diat = '/data/ibougoudis/MOAD/files/results/Diatom/'\n",
    "diat_pr = '/data/ibougoudis/MOAD/files/results/Diatom_Production_Rate/'\n",
    "flag = '/data/ibougoudis/MOAD/files/results/Flagellate/'\n",
    "flag_pr = '/data/ibougoudis/MOAD/files/results/Flagellate_Production_Rate/'\n",
    "\n",
    "categories = ['hist_xy_ext','func_cl_target_ext','func_cl_drivers_ext']\n",
    "\n",
    "metrics = ['Annual', 'Daily mean', '5% low mean', 'Temporal','Temporal (removed seasonality)']\n",
    "\n",
    "summary(flag,categories,metrics)\n"
   ]
  },
  {
   "cell_type": "code",
   "execution_count": null,
   "metadata": {},
   "outputs": [],
   "source": []
  }
 ],
 "metadata": {
  "kernelspec": {
   "display_name": "analysis-ilias",
   "language": "python",
   "name": "python3"
  },
  "language_info": {
   "codemirror_mode": {
    "name": "ipython",
    "version": 3
   },
   "file_extension": ".py",
   "mimetype": "text/x-python",
   "name": "python",
   "nbconvert_exporter": "python",
   "pygments_lexer": "ipython3",
   "version": "3.11.8"
  }
 },
 "nbformat": 4,
 "nbformat_minor": 2
}
