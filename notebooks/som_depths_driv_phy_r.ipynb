{
 "cells": [
  {
   "cell_type": "markdown",
   "metadata": {},
   "source": [
    "# Importing"
   ]
  },
  {
   "cell_type": "code",
   "execution_count": null,
   "metadata": {},
   "outputs": [],
   "source": [
    "import xarray as xr\n",
    "import numpy as np\n",
    "import pandas as pd\n",
    "import matplotlib.pyplot as plt\n",
    "from sklearn_som.som import SOM\n",
    "import salishsea_tools.viz_tools as sa_vi\n",
    "from sklearn import preprocessing\n",
    "import os\n"
   ]
  },
  {
   "cell_type": "markdown",
   "metadata": {},
   "source": [
    "# Datasets Preparation"
   ]
  },
  {
   "cell_type": "code",
   "execution_count": null,
   "metadata": {},
   "outputs": [],
   "source": [
    "def datasets_preparation(i):\n",
    "\n",
    "    ds_name = ('/results2/SalishSea/nowcast-green.202111/' + i + '/SalishSea_1d_' + '2022'+ str(dict_month[i[2:5]])+str(i[0:2]) + '_' + '2022'+ str(dict_month[i[2:5]]) + str(i[0:2]) + '_grid_T.nc')\n",
    "    \n",
    "    ds_bio_name = ('/results2/SalishSea/nowcast-green.202111/' + i + '/SalishSea_1d_' + '2022'+ str(dict_month[i[2:5]])+str(i[0:2]) + '_' + '2022'+ str(dict_month[i[2:5]]) + str(i[0:2]) + '_biol_T.nc')\n",
    "    \n",
    "    ds = xr.open_dataset (ds_name)\n",
    "    ds_bio = xr. open_dataset (ds_bio_name)\n",
    "\n",
    "    # Variable selection\n",
    "    temp = ds.votemper\n",
    "    saline = ds.vosaline\n",
    "    date = pd.DatetimeIndex(ds['time_counter'].values)\n",
    "\n",
    "    # Phytoplankton variables\n",
    "    flag = ds_bio.flagellates\n",
    "    diat = ds_bio.diatoms\n",
    "\n",
    "    # Open the mesh mask\n",
    "    mesh = xr.open_dataset('/home/sallen/MEOPAR/grid/mesh_mask202108.nc')\n",
    "    mask = mesh.tmask.to_numpy()\n",
    "    \n",
    "    return (ds, temp, saline, date, mask, flag, diat)\n"
   ]
  },
  {
   "cell_type": "markdown",
   "metadata": {},
   "source": [
    "# Masking"
   ]
  },
  {
   "cell_type": "code",
   "execution_count": null,
   "metadata": {},
   "outputs": [],
   "source": [
    "def masking (depth, temp, saline, mask, flag, diat):\n",
    "\n",
    "    temp = temp.where(mask[0,depth]==1)\n",
    "    saline = saline.where(mask[0,depth]==1)\n",
    "\n",
    "    flag = flag.where(mask[0,depth]==1)\n",
    "    diat = diat.where(mask[0,depth]==1)\n",
    "\n",
    "    return (temp, saline, flag, diat)"
   ]
  },
  {
   "cell_type": "markdown",
   "metadata": {},
   "source": [
    "# SOM"
   ]
  },
  {
   "cell_type": "code",
   "execution_count": null,
   "metadata": {},
   "outputs": [],
   "source": [
    "def som (depth, temp, saline):\n",
    "    \n",
    "    # Post processing \n",
    "    inputs = np.stack((temp[0,depth].values.flatten(), saline[0,depth].values.flatten()))\n",
    "    indx = np.argwhere(~np.isnan(inputs[0]) & ~np.isnan(inputs[1])) \n",
    "    inputs2 = inputs[:,indx[:,0]]\n",
    "    inputs3 = preprocessing.normalize(inputs2, norm= 'max')\n",
    "    inputs3 = inputs3.transpose()\n",
    "\n",
    "    # SOM\n",
    "    temp_som = SOM(m=3, n=2, dim= inputs3[0,:].size, lr = 0.1)\n",
    "    temp_som.fit(inputs3, epochs = 5)\n",
    "    predictions = temp_som.predict(inputs3)\n",
    "\n",
    "    # Post processing\n",
    "    unique, counts = np.unique(predictions, return_counts=True)\n",
    "    indx2 = np.full(inputs[0,:].size,np.nan)\n",
    "    indx2[indx[:,0]] = predictions\n",
    "    clusters = np.reshape(indx2,(898,398))   \n",
    "\n",
    "    return (unique, counts, inputs2.transpose(), predictions, clusters)\n"
   ]
  },
  {
   "cell_type": "markdown",
   "metadata": {},
   "source": [
    "# Printing"
   ]
  },
  {
   "cell_type": "code",
   "execution_count": null,
   "metadata": {},
   "outputs": [],
   "source": [
    "def printing (inputs, predictions, unique, counts):\n",
    "\n",
    "    # Preparation of the dataframe\n",
    "    d = {'temperature': inputs[:,0], 'salinity': inputs[:,1], 'cluster': predictions}\n",
    "    df = pd.DataFrame(d) \n",
    "\n",
    "    # Calculating the metrics\n",
    "    mean_temp = np.round(df.groupby('cluster')['temperature'].mean(), 2)\n",
    "    mean_sal = np.round(df.groupby('cluster')['salinity'].mean(), 2)\n",
    "    min_temp = np.round(df.groupby('cluster')['temperature'].min(), 2)\n",
    "    max_temp = np.round(df.groupby('cluster')['temperature'].max(), 2)\n",
    "    min_sal = np.round(df.groupby('cluster')['salinity'].min(), 2)\n",
    "    max_sal = np.round(df.groupby('cluster')['salinity'].max(), 2)\n",
    "\n",
    "    # Printing\n",
    "    lines = []\n",
    "    for i in unique:\n",
    "        lines.append(['The amount of grid boxes for cluster ' + str(i), ' is ' + str(counts[i]),'\\n'])\n",
    "\n",
    "        lines.append(['The minimum temperature for cluster '+ str(i), ' is ' + str(min_temp[i]), ' degrees Celsius'])\n",
    "        lines.append(['The maximum temperature for cluster '+ str(i), ' is ' + str(max_temp[i]), ' degrees Celsius'])\n",
    "        lines.append(['The mean temperature for cluster '+ str(i), ' is ' + str(mean_temp[i]), ' degrees Celsius', '\\n'])\n",
    "\n",
    "        lines.append(['The minimum salinity for cluster '+ str(i), ' is ' + str(min_sal[i]), ' g/kg'])\n",
    "        lines.append(['The maximum salinity for cluster '+ str(i), ' is ' + str(max_sal[i]), ' g/kg'])\n",
    "        lines.append(['The mean salinity for cluster '+ str(i), ' is ' + str(mean_sal[i]), ' g/kg', '\\n'*2])\n",
    "    \n",
    "    f = open(\"Statistics_\" + str(np.round(ds['deptht'][depth].values,2)) + 'm.txt', \"a\")\n",
    "    for line in lines:\n",
    "          f.writelines(line)\n",
    "          f.write('\\n')\n",
    "\n",
    "    f.close()"
   ]
  },
  {
   "cell_type": "markdown",
   "metadata": {},
   "source": [
    "# Plotting"
   ]
  },
  {
   "cell_type": "code",
   "execution_count": null,
   "metadata": {},
   "outputs": [],
   "source": [
    "def plotting (depth, clusters, unique, flag, diat):\n",
    "\n",
    "    # Preparation of the dataarray \n",
    "    map = xr.DataArray(clusters,\n",
    "                    coords = {'y': flag[0,depth].y, 'x': flag[0,depth].x},\n",
    "                    dims = ['y','x'],\n",
    "                    attrs=dict(description=\"Clusters of the performed self organizing map algorithm\",\n",
    "                                long_name =\"Cluster\",\n",
    "                                units=\"count\"),\n",
    "                    ) \n",
    "\n",
    "    cmap = plt.get_cmap('tab10', unique.max()+1)\n",
    "    cmap.set_bad('gray')\n",
    "    fig, ax = plt.subplots(2,2, figsize=(10, 15))\n",
    "    clus = map.plot.pcolormesh(ax=ax[0,0], cmap=cmap, vmin = unique.min(), vmax = unique.max()+1, add_colorbar=False)\n",
    "\n",
    "    cbar = fig.colorbar(clus, ticks = unique+0.5) \n",
    "    cbar.set_ticklabels(unique)\n",
    "    cbar.set_label('Clusters [count]')\n",
    "    \n",
    "    plt.subplots_adjust(left=0.1,\n",
    "        bottom=0.1, \n",
    "        right=0.9, \n",
    "        top=0.95, \n",
    "        wspace=0.15, \n",
    "        hspace=0.15)\n",
    "        \n",
    "    cmap = plt.get_cmap('cubehelix')\n",
    "    cmap.set_bad('gray')\n",
    "    flag[0,depth].plot.pcolormesh(ax=ax[0,1], cmap=cmap) \n",
    "    diat[0,depth].plot.pcolormesh(ax=ax[1,0], cmap=cmap) \n",
    "\n",
    "    sa_vi.set_aspect(ax[0,0])\n",
    "    sa_vi.set_aspect(ax[0,1])\n",
    "    sa_vi.set_aspect(ax[1,0])\n",
    "\n",
    "    ax[0,0].title.set_text('Clustering')\n",
    "    ax[0,1].title.set_text('Flagellates')\n",
    "    ax[1,0].title.set_text('Diatoms')\n",
    "\n",
    "    if date[0].month < 10:\n",
    "        month = '0' + str(date[0].month)\n",
    "    else:\n",
    "        month = str(date[0].month)\n",
    "\n",
    "    if date[0].day < 10:\n",
    "        day = '0' + str(date[0].day)  \n",
    "    else:\n",
    "        day = str(date[0].day) \n",
    "\n",
    "    fig.suptitle('Depth: ' + str(np.round(ds['deptht'][depth].values,2)) + ' meters, ' + str(date[0].year) + '/' + month + '/' + day)\n",
    "\n",
    "    fig.savefig('Depth_' + str(np.round(ds['deptht'][depth].values,2))+ '.png')\n",
    "    plt.close(fig)\n"
   ]
  },
  {
   "cell_type": "markdown",
   "metadata": {},
   "source": [
    "# Main FOR Loop From Where All Functions are Called"
   ]
  },
  {
   "cell_type": "code",
   "execution_count": null,
   "metadata": {},
   "outputs": [],
   "source": [
    "parent_dir = '/data/ibougoudis/MOAD/analysis-ilias/notebooks/som_depths_driv_phy_r'\n",
    "os.makedirs(parent_dir, exist_ok= True)\n",
    "\n",
    "dict_month = {'jan': '01',\n",
    "         'feb': '02',\n",
    "         'mar': '03',\n",
    "         'apr': '04',\n",
    "         'may': '05',\n",
    "         'jun': '06',\n",
    "         'jul': '07',\n",
    "         'aug': '08',\n",
    "         'sep': '09',\n",
    "         'oct': '10',\n",
    "         'nov': '11',\n",
    "         'dec': '12'}\n",
    "\n",
    "path = os.listdir('/results2/SalishSea/nowcast-green.202111/')\n",
    "\n",
    "folders = [x for x in path if (x[5]=='2') and (x[6]=='2') and (x[2:5]=='mar' or x[2:5]=='apr' or x[2:5] == 'may')]\n",
    "folders.sort()\n",
    "\n",
    "for i in folders:\n",
    "\n",
    "    os.makedirs(os.path.join(parent_dir, i), exist_ok= True) \n",
    "    os.chdir(os.path.join(parent_dir, i))\n",
    "\n",
    "    ds, temp, saline, date, mask, flag, diat = datasets_preparation(i)\n",
    "\n",
    "    for depth in range (0, 10):\n",
    "\n",
    "        temp, saline, flag, diat = masking(depth, temp, saline, mask, flag, diat)\n",
    "        unique, counts, inputs, predictions, clusters = som(depth, temp, saline)\n",
    "        printing(inputs, predictions, unique, counts)\n",
    "        plotting (depth, clusters, unique, flag, diat)\n",
    "    \n",
    "    print([i])\n"
   ]
  }
 ],
 "metadata": {
  "kernelspec": {
   "display_name": "analysis-ilias",
   "language": "python",
   "name": "python3"
  },
  "language_info": {
   "codemirror_mode": {
    "name": "ipython",
    "version": 3
   },
   "file_extension": ".py",
   "mimetype": "text/x-python",
   "name": "python",
   "nbconvert_exporter": "python",
   "pygments_lexer": "ipython3",
   "version": "3.11.6"
  }
 },
 "nbformat": 4,
 "nbformat_minor": 2
}
