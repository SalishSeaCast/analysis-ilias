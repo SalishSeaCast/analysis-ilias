{
 "cells": [
  {
   "cell_type": "markdown",
   "metadata": {},
   "source": [
    "## Importing"
   ]
  },
  {
   "cell_type": "code",
   "execution_count": null,
   "metadata": {},
   "outputs": [],
   "source": [
    "import xarray as xr\n",
    "import numpy as np\n",
    "import pandas as pd\n",
    "\n",
    "import os\n",
    "\n",
    "from tqdm import tqdm\n"
   ]
  },
  {
   "cell_type": "markdown",
   "metadata": {},
   "source": [
    "## Datasets Preparation"
   ]
  },
  {
   "cell_type": "code",
   "execution_count": null,
   "metadata": {},
   "outputs": [],
   "source": [
    "def datasets_preparation():\n",
    "\n",
    "    ds_name = ('/results2/SalishSea/nowcast-green.202111/' + i + '/SalishSea_1d_' + '20' + str(i[5:7]) + str(dict_month[i[2:5]])+str(i[0:2]) + '_' + '20' + str(i[5:7]) + str(dict_month[i[2:5]]) + str(i[0:2]) + '_grid_T.nc')\n",
    "\n",
    "    ds_bio_name = ('/results2/SalishSea/nowcast-green.202111/' + i + '/SalishSea_1d_'  + '20' + str(i[5:7]) + str(dict_month[i[2:5]])+str(i[0:2]) + '_' + '20' + str(i[5:7]) + str(dict_month[i[2:5]]) + str(i[0:2]) + '_biol_T.nc')\n",
    "\n",
    "    ds_prod_name = ('/results2/SalishSea/nowcast-green.202111/' + i + '/SalishSea_1d_'  + '20' + str(i[5:7]) + str(dict_month[i[2:5]])+str(i[0:2]) + '_' + '20' + str(i[5:7]) + str(dict_month[i[2:5]]) + str(i[0:2]) + '_prod_T.nc')\n",
    "\n",
    "    ds = xr.open_dataset (ds_name)\n",
    "    ds_bio = xr.open_dataset (ds_bio_name)\n",
    "    ds_prod = xr.open_dataset(ds_prod_name)\n",
    "\n",
    "    temp_i1 = ((ds.votemper.where(mask==1)[0,0:15] * ds.e3t.where(mask==1)\n",
    "        [0,0:15]).sum('deptht', skipna = True, min_count = 15) / mesh.gdepw_0[0,15])\n",
    "\n",
    "    temp_i2 = ((ds.votemper.where(mask==1)[0,15:27] * ds.e3t.where(mask==1)\n",
    "        [0,15:27]).sum('deptht', skipna = True, min_count = 12) / (mesh.gdepw_0\n",
    "        [0,27] - mesh.gdepw_0[0,14]))\n",
    "\n",
    "    saline_i1 = ((ds.vosaline.where(mask==1)[0,0:15] * ds.e3t.where(mask==1)\n",
    "        [0,0:15]).sum('deptht', skipna = True, min_count = 15) / mesh.gdepw_0[0,15])\n",
    "\n",
    "    saline_i2 = ((ds.vosaline.where(mask==1)[0,15:27] * ds.e3t.where(mask==1)\n",
    "        [0,15:27]).sum('deptht', skipna = True, min_count = 12) / (mesh.gdepw_0\n",
    "        [0,27] - mesh.gdepw_0[0,14]))\n",
    "\n",
    "    sil_i = ((ds_bio.silicon.where(mask==1)[0,0:27] * ds.e3t.where(mask==1)\n",
    "        [0,0:27]).sum('deptht', skipna = True, min_count = 27) / mesh.gdepw_0[0,27])\n",
    "\n",
    "    nitr_i1 = (ds_bio.nitrate.where(mask==1)[0,0:15] * ds.e3t.where(mask==1)\n",
    "        [0,0:15]).sum('deptht', skipna = True, min_count = 15) / mesh.gdepw_0[0,15]\n",
    "    nitr_i2 = (ds_bio.nitrate.where(mask==1)[0,15:27] * ds.e3t.where(mask==1)\n",
    "        [0,15:27]).sum('deptht', skipna = True, min_count = 12) / (mesh.gdepw_0[0,27] - mesh.gdepw_0[0,14])\n",
    "\n",
    "    ammo_i = ((ds_bio.ammonium.where(mask==1)[0,0:27] * ds.e3t.where(mask==1)\n",
    "        [0,0:27]).sum('deptht', skipna = True, min_count = 27) / mesh.gdepw_0[0,27])\n",
    "\n",
    "    diat_i = ((ds_bio.diatoms.where(mask==1)[0,0:27] * ds.e3t.where(mask==1)\n",
    "        [0,0:27]).sum('deptht', skipna = True, min_count = 27) / mesh.gdepw_0[0,27])\n",
    "\n",
    "    flag_i = ((ds_bio.flagellates.where(mask==1)[0,0:27] * ds.e3t.where(mask==1)\n",
    "        [0,0:27]).sum('deptht', skipna = True, min_count = 27) / mesh.gdepw_0[0,27])\n",
    "\n",
    "    micro_i = ((ds_bio.microzooplankton.where(mask==1)[0,0:27] * ds.e3t.where(mask==1)\n",
    "        [0,0:27]).sum('deptht', skipna = True, min_count = 27) / mesh.gdepw_0[0,27])\n",
    "\n",
    "    meso_i = ((ds_bio.mesozooplankton.where(mask==1)[0,0:27] * ds.e3t.where(mask==1)\n",
    "        [0,0:27]).sum('deptht', skipna = True, min_count = 27) / mesh.gdepw_0[0,27])\n",
    "\n",
    "    diat_i_prod = ((ds_prod.PPDIAT.where(mask==1)[0,0:27] * ds.e3t.where(mask==1)\n",
    "        [0,0:27]).sum('deptht', skipna = True, min_count = 27) / mesh.gdepw_0[0,27]) / diat_i\n",
    "\n",
    "    return (temp_i1, temp_i2, saline_i1, saline_i2, sil_i, nitr_i1, nitr_i2, ammo_i, diat_i, flag_i, micro_i, meso_i, diat_i_prod)\n"
   ]
  },
  {
   "cell_type": "markdown",
   "metadata": {},
   "source": [
    "## File Creation"
   ]
  },
  {
   "cell_type": "code",
   "execution_count": null,
   "metadata": {},
   "outputs": [],
   "source": [
    "def file_creation(variable, name):\n",
    "\n",
    "    temp = variable.to_dataset(name=name)\n",
    "    temp.to_netcdf(path='/data/ibougoudis/MOAD/analysis-ilias/notebooks/integrated.nc', mode='a', encoding={name:{\"zlib\": True, \"complevel\": 9}})\n"
   ]
  },
  {
   "cell_type": "markdown",
   "metadata": {},
   "source": [
    "## Data Collection"
   ]
  },
  {
   "cell_type": "code",
   "execution_count": null,
   "metadata": {},
   "outputs": [],
   "source": [
    "dict_month = {'jan': '01',\n",
    "    'feb': '02',\n",
    "    'mar': '03',\n",
    "    'apr': '04',\n",
    "    'may': '05',\n",
    "    'jun': '06',\n",
    "    'jul': '07',\n",
    "    'aug': '08',\n",
    "    'sep': '09',\n",
    "    'oct': '10',\n",
    "    'nov': '11',\n",
    "    'dec': '12'}\n",
    "\n",
    "path = os.listdir('/results2/SalishSea/nowcast-green.202111/')\n",
    "\n",
    "folders = [x for x in path if ((x[2:5]=='mar' or x[2:5]=='apr' or (x[2:5]=='feb' and x[0:2] > '14')) and (x[5:7]<'24'))]\n",
    "indx_dates=(np.argsort(pd.to_datetime(folders, format=\"%d%b%y\")))\n",
    "folders = [folders[i] for i in indx_dates]\n",
    "\n",
    "# Open the mesh mask\n",
    "mesh = xr.open_dataset('/home/sallen/MEOPAR/grid/mesh_mask202108.nc')\n",
    "mask = mesh.tmask.to_numpy()\n",
    "\n",
    "for i in tqdm(folders):\n",
    "\n",
    "    temp_i1, temp_i2, saline_i1, saline_i2, sil_i, nitr_i1, nitr_i2, ammo_i, diat_i, flag_i, micro_i, meso_i, diat_i_prod = datasets_preparation()\n",
    "\n",
    "    if i==folders[0]:\n",
    "\n",
    "        temp_i1_all = temp_i1\n",
    "        temp_i2_all = temp_i2\n",
    "        saline_i1_all = saline_i1\n",
    "        saline_i2_all = saline_i2\n",
    "\n",
    "        sil_i_all = sil_i\n",
    "        nitr_i1_all = nitr_i1\n",
    "        nitr_i2_all = nitr_i2\n",
    "        ammo_i_all = ammo_i\n",
    "\n",
    "        diat_i_all = diat_i\n",
    "        flag_i_all = flag_i\n",
    "\n",
    "        micro_i_all = micro_i\n",
    "        meso_i_all = meso_i\n",
    "\n",
    "    else:\n",
    "\n",
    "        temp_i1_all = xr.concat((temp_i1_all, temp_i1), dim='time_counter')\n",
    "        temp_i2_all = xr.concat((temp_i2_all, temp_i2), dim='time_counter')\n",
    "        saline_i1_all = xr.concat((saline_i1_all, saline_i1), dim='time_counter')\n",
    "        saline_i2_all = xr.concat((saline_i2_all, saline_i2), dim='time_counter')\n",
    "\n",
    "        sil_i_all = xr.concat((sil_i_all, sil_i), dim='time_counter')\n",
    "        nitr_i1_all =  xr.concat((nitr_i1_all, nitr_i1), dim='time_counter')\n",
    "        nitr_i2_all =  xr.concat((nitr_i2_all, nitr_i2), dim='time_counter')\n",
    "        ammo_i_all = xr.concat((ammo_i_all, ammo_i), dim='time_counter')\n",
    "\n",
    "        diat_i_all = xr.concat((diat_i_all, diat_i), dim='time_counter')\n",
    "        flag_i_all = xr.concat((flag_i_all, flag_i), dim='time_counter')\n",
    "\n",
    "        micro_i_all = xr.concat((micro_i_all, micro_i), dim='time_counter')\n",
    "        meso_i_all = xr.concat((meso_i_all, meso_i), dim='time_counter')\n",
    "\n",
    "# Calling file creation\n",
    "\n",
    "file_creation(temp_i1_all, 'Temperature (0m-15m)')\n",
    "file_creation(temp_i2_all, 'Temperature (15m-100m)')\n",
    "file_creation(saline_i1_all, 'Salinity (0m-15m)')\n",
    "file_creation(saline_i2_all, 'Salinity (15m-100m)')\n",
    "\n",
    "file_creation(sil_i_all, 'Silicon')\n",
    "file_creation(nitr_i1_all, 'Nitrate (0m-15m)')\n",
    "file_creation(nitr_i2_all, 'Nitrate (15m-100m)')\n",
    "file_creation(ammo_i_all, 'Ammonium')\n",
    "\n",
    "file_creation(diat_i_all, 'Diatom')\n",
    "file_creation(flag_i_all, 'Flagellate')\n",
    "\n",
    "file_creation(micro_i_all, 'Microzooplankton')\n",
    "file_creation(meso_i_all, 'Mesozooplankton')\n"
   ]
  },
  {
   "cell_type": "code",
   "execution_count": null,
   "metadata": {},
   "outputs": [],
   "source": []
  }
 ],
 "metadata": {
  "kernelspec": {
   "display_name": "analysis-ilias",
   "language": "python",
   "name": "python3"
  },
  "language_info": {
   "codemirror_mode": {
    "name": "ipython",
    "version": 3
   },
   "file_extension": ".py",
   "mimetype": "text/x-python",
   "name": "python",
   "nbconvert_exporter": "python",
   "pygments_lexer": "ipython3",
   "version": "3.11.7"
  }
 },
 "nbformat": 4,
 "nbformat_minor": 2
}
