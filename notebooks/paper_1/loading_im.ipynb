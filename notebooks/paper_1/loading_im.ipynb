{
 "cells": [
  {
   "cell_type": "markdown",
   "id": "5214efd5",
   "metadata": {},
   "source": [
    "# Loading radar plots"
   ]
  },
  {
   "cell_type": "markdown",
   "id": "3aacfe51",
   "metadata": {},
   "source": [
    "## Importing"
   ]
  },
  {
   "cell_type": "code",
   "execution_count": null,
   "id": "73fc446e",
   "metadata": {},
   "outputs": [],
   "source": [
    "import xarray as xr\n",
    "import numpy as np\n",
    "import pandas as pd\n",
    "import matplotlib.pyplot as plt\n",
    "import xskillscore as xs\n",
    "\n",
    "import os\n",
    "import lzma\n",
    "import dill\n",
    "\n",
    "import random\n",
    "\n",
    "import cmocean.cm as cm\n",
    "import salishsea_tools.viz_tools as sa_vi\n"
   ]
  },
  {
   "cell_type": "markdown",
   "id": "40365f57",
   "metadata": {},
   "source": [
    "## Figure R (Biomasses)"
   ]
  },
  {
   "cell_type": "code",
   "execution_count": null,
   "id": "085a464b",
   "metadata": {},
   "outputs": [],
   "source": []
  },
  {
   "cell_type": "markdown",
   "id": "1879c0c5",
   "metadata": {},
   "source": [
    "## Figure R (Production Rates)"
   ]
  },
  {
   "cell_type": "code",
   "execution_count": null,
   "id": "c99d0b23",
   "metadata": {},
   "outputs": [],
   "source": [
    "def figure_r_pr(names, boxnames, r_s, r_b):\n",
    "\n",
    "    labels = ['(a)','(b)','(c)','(d)','(e)','(f)','(g)','(h)','(i)']\n",
    "\n",
    "    k,l = 0,0\n",
    "    fig, ax = plt.subplots(2, 5, figsize=(15, 7), layout='constrained', subplot_kw={'projection': 'polar'})\n",
    "\n",
    "    for i in range (0, len(boxnames)):\n",
    "\n",
    "        theta = np.arange(len(names) + 1) / float(len(names)) * 2 * np.pi\n",
    "\n",
    "        values = np.append(r_s[:,i], r_s[:,i][0])\n",
    "        values2 = np.append(r_b[:,i], r_b[:,i][0])\n",
    "\n",
    "        ax[k,l].plot(theta, values, marker='o', label ='Single')\n",
    "        # ax[k,l].plot(theta, values2, marker='o', label = 'Boxes')\n",
    "        ax[k,l].plot(np.linspace(0, 2*np.pi, 100), np.full(100, values[0]), ls = '--')\n",
    "\n",
    "        ax[k,l].annotate(labels[i], (0.02, 1.2), xycoords='axes fraction', fontsize=14)\n",
    "\n",
    "        ax[k,l].set_theta_zero_location('N')\n",
    "        ax[k,l].set_rmax(np.maximum(np.max(values)+0.05, np.max(values)+0.05))\n",
    "        ax[k,l].set_rmin(np.minimum(np.min(values)-0.05, np.min(values)-0.05)) \n",
    "        ax[k,l].set_rticks(np.round(np.linspace(np.round(np.minimum(np.min(values)-0.05, np.min(values2)-0.05),1), np.round(np.maximum(np.max(values)+0.05, np.max(values2)+0.05),1), 4), 2))\n",
    "\n",
    "        ax[k,l].set_rlabel_position(230)\n",
    "        ax[k,l].tick_params(pad = 7)\n",
    "\n",
    "        ax[k,l].set_xticks(theta[:-1], names)\n",
    "        ax[k,l].set_title(boxnames[i], x=0.50, y=1.15)\n",
    "\n",
    "        l=l+1\n",
    "        if l==5:\n",
    "            l=0\n",
    "            k=k+1\n",
    "\n",
    "    fig.legend(['Single', 'Boxes'])\n",
    "    fig.suptitle('Importances of Input Features on ' + name2 + ' (R Testing no Seasonality)')\n",
    "\n",
    "    ax[k,l].remove()\n",
    "    ax[k,l] = fig.add_subplot(2,5,10)\n",
    "\n",
    "    ax[k,l].annotate('(j)', (0.00, 1.2), xycoords='axes fraction', fontsize=14)\n",
    "    r_importance.plot.barh(ax=ax[k,l])\n",
    "\n",
    "    ax[k, l].set_title('Input Feature Importance (Single)')\n",
    "    ax[k,l].set_xlabel('Mean accuracy decrease')\n",
    "\n",
    "    plt.show()\n"
   ]
  },
  {
   "cell_type": "markdown",
   "id": "e4cf4438",
   "metadata": {},
   "source": [
    "## Figure RMS (Biomasses)"
   ]
  },
  {
   "cell_type": "code",
   "execution_count": null,
   "id": "92867d70",
   "metadata": {},
   "outputs": [],
   "source": []
  },
  {
   "cell_type": "markdown",
   "id": "be3589df",
   "metadata": {},
   "source": [
    "## Figure RMS (Production Rates)"
   ]
  },
  {
   "cell_type": "code",
   "execution_count": null,
   "id": "8a5d5832",
   "metadata": {},
   "outputs": [],
   "source": [
    "def figure_rms_pr(names, boxnames, rms_s, rms_b):\n",
    "\n",
    "    labels = ['(a)','(b)','(c)','(d)','(e)','(f)','(g)','(h)','(i)']\n",
    "\n",
    "    k,l = 0,0\n",
    "    fig, ax = plt.subplots(2, 5, figsize=(15, 7), layout='constrained', subplot_kw={'projection': 'polar'})\n",
    "\n",
    "    for i in range (0, len(boxnames)):\n",
    "\n",
    "        theta = np.arange(len(names) + 1) / float(len(names)) * 2 * np.pi\n",
    "\n",
    "        values = np.append(rms_s[:,i], rms_s[:,i][0])\n",
    "        values2 = np.append(rms_b[:,i], rms_b[:,i][0])\n",
    "\n",
    "        ax[k,l].plot(theta, values, marker='o', label ='Single')\n",
    "        # ax[k,l].plot(theta, values2, marker='o', label = 'Boxes')\n",
    "        ax[k,l].plot(np.linspace(0, 2*np.pi, 100), np.full(100, values[0]), ls = '--')\n",
    "\n",
    "        ax[k,l].annotate(labels[i], (0.02, 1.2), xycoords='axes fraction', fontsize=14)\n",
    "\n",
    "        ax[k,l].set_theta_zero_location('N')\n",
    "        # ax[k,l].set_rmax(np.maximum(np.max(values)+0.05, np.max(values)+0.05))\n",
    "        # ax[k,l].set_rmin(np.minimum(np.min(values)-0.05, np.min(values)-0.05)) \n",
    "        # ax[k,l].set_rticks(np.round(np.linspace(np.round(np.minimum(np.min(values)-0.05, np.min(values2)-0.05),1), np.round(np.maximum(np.max(values)+0.05, np.max(values2)+0.05),1), 4), 2))\n",
    "\n",
    "        ax[k,l].set_rlabel_position(230)\n",
    "        ax[k,l].tick_params(pad = 7)\n",
    "\n",
    "        ax[k,l].set_xticks(theta[:-1], names)\n",
    "        ax[k,l].set_title(boxnames[i], x=0.50, y=1.15)\n",
    "\n",
    "        l=l+1\n",
    "        if l==5:\n",
    "            l=0\n",
    "            k=k+1\n",
    "\n",
    "    fig.legend(['Single', 'Boxes'])\n",
    "    fig.suptitle('Importances of Input Features on ' +name2 + ' (RMS Testing)')\n",
    "\n",
    "    ax[k,l].remove()\n",
    "    ax[k,l] = fig.add_subplot(2,5,10)\n",
    "\n",
    "    ax[k,l].annotate('(j)', (0.00, 1.2), xycoords='axes fraction', fontsize=14)\n",
    "    r_importance.plot.barh(ax=ax[k,l])\n",
    "\n",
    "    ax[k, l].set_title('Input Feature Importance (Single)')\n",
    "    ax[k,l].set_xlabel('Mean accuracy decrease')\n",
    "\n",
    "    plt.show()\n"
   ]
  },
  {
   "cell_type": "markdown",
   "id": "63936316",
   "metadata": {},
   "source": [
    "## Loading"
   ]
  },
  {
   "cell_type": "code",
   "execution_count": null,
   "id": "e4e6fe81",
   "metadata": {},
   "outputs": [],
   "source": [
    "name = 'Flagellate_Production_Rate'\n",
    "name2 = 'NPR'\n",
    "id = '1'\n",
    "\n",
    "path = '/data/ibougoudis/MOAD/files/results/' + name + '/single_runs/' + name[0:4].lower() + '_pr_hist' + id + '_f_im/'\n",
    "\n",
    "with open(path + 'importances.pkl', 'rb') as f:\n",
    "    [r_importance, rms_importance] = dill.load(f)\n",
    "\n",
    "if 'Production' in name: \n",
    "    with open(path + 'metrics.pkl', 'rb') as f:\n",
    "        [boxnames, names, r_s, r_b, rms_s, rms_b] = dill.load(f)\n",
    "\n",
    "else:\n",
    "    with open(path + 'metrics.pkl', 'rb') as f:\n",
    "        [boxnames, names, r_s, rms_s] = dill.load(f)\n"
   ]
  },
  {
   "cell_type": "markdown",
   "id": "5f37e1ca",
   "metadata": {},
   "source": [
    "## Figure 1"
   ]
  },
  {
   "cell_type": "code",
   "execution_count": null,
   "id": "46585568",
   "metadata": {},
   "outputs": [],
   "source": [
    "if 'Production' in name: \n",
    "    figure_r_pr(names,boxnames,r_s,r_b)"
   ]
  },
  {
   "cell_type": "markdown",
   "id": "d41da0b5",
   "metadata": {},
   "source": [
    "## Figure 2 (RMS Testing)"
   ]
  },
  {
   "cell_type": "code",
   "execution_count": null,
   "id": "be2170e0",
   "metadata": {},
   "outputs": [],
   "source": [
    "if 'Production' in name: \n",
    "    figure_rms_pr(names,boxnames,rms_s,rms_b)"
   ]
  },
  {
   "cell_type": "code",
   "execution_count": null,
   "id": "bdd54b9a",
   "metadata": {},
   "outputs": [],
   "source": []
  }
 ],
 "metadata": {
  "kernelspec": {
   "display_name": "analysis-ilias",
   "language": "python",
   "name": "python3"
  },
  "language_info": {
   "codemirror_mode": {
    "name": "ipython",
    "version": 3
   },
   "file_extension": ".py",
   "mimetype": "text/x-python",
   "name": "python",
   "nbconvert_exporter": "python",
   "pygments_lexer": "ipython3",
   "version": "3.11.11"
  }
 },
 "nbformat": 4,
 "nbformat_minor": 5
}
