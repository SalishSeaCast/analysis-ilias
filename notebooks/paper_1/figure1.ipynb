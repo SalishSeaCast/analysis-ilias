{
 "cells": [
  {
   "cell_type": "markdown",
   "metadata": {},
   "source": [
    "# Time-series of inputs (Figure 1)"
   ]
  },
  {
   "cell_type": "markdown",
   "metadata": {},
   "source": [
    "## Importing"
   ]
  },
  {
   "cell_type": "code",
   "execution_count": 1,
   "metadata": {},
   "outputs": [],
   "source": [
    "import xarray as xr\n",
    "import numpy as np\n",
    "import matplotlib.pyplot as plt\n",
    "import pandas as pd\n"
   ]
  },
  {
   "cell_type": "markdown",
   "metadata": {},
   "source": [
    "## Calculations"
   ]
  },
  {
   "cell_type": "code",
   "execution_count": 2,
   "metadata": {},
   "outputs": [],
   "source": [
    "def calculations(dataset,name):\n",
    "    \n",
    "    quant = dataset[name].mean(['x','y'])\n",
    "    quant_annual = dataset[name].groupby('time_counter.year').mean('time_counter').mean(['x','y'])\n",
    "\n",
    "    return (quant,quant_annual)\n"
   ]
  },
  {
   "cell_type": "markdown",
   "metadata": {},
   "source": [
    "## Plotting"
   ]
  },
  {
   "cell_type": "code",
   "execution_count": 3,
   "metadata": {},
   "outputs": [],
   "source": [
    "def plotting(ds,quant,quant_annual,title,y_label):\n",
    "\n",
    "    dates = pd.DatetimeIndex(ds['time_counter'].values)\n",
    "\n",
    "    years = np.unique(dates.year)\n",
    "    ticks = [0]\n",
    "\n",
    "    quant =  np.ma.array(quant)\n",
    "    \n",
    "    fig, ax = plt.subplots(figsize=(19,5))\n",
    "\n",
    "    for year in years[:-1]:\n",
    "\n",
    "        ticks.append((np.where(dates.year==year)[0][-1]+1))\n",
    "        quant[(np.where(dates.year==year)[0][-1]+1)] = np.ma.masked\n",
    "    \n",
    "    ax.plot(quant)\n",
    "    plt.ylabel(y_label)\n",
    "    plt.xlabel('Years')\n",
    "    plt.xticks(ticks,years)\n",
    "\n",
    "    ticks = [x+37 for x in ticks]\n",
    "    ax.plot(ticks,quant_annual,color='red',marker='*')\n",
    "\n",
    "    fig.suptitle('Daily Mean ' + title + ' (15 Feb - 30 Apr)')\n",
    "    fig.show()\n",
    "    "
   ]
  },
  {
   "cell_type": "markdown",
   "metadata": {},
   "source": [
    "## Main Body"
   ]
  },
  {
   "cell_type": "code",
   "execution_count": 4,
   "metadata": {},
   "outputs": [],
   "source": [
    "ds = xr.open_dataset('/data/ibougoudis/MOAD/files/integrated_original.nc')\n",
    "ds2 = xr.open_dataset('/data/ibougoudis/MOAD/files/external_inputs.nc')\n",
    "\n",
    "# diat,diat_annual = calculations(ds,'Diatom')\n",
    "# flag,flag_annual = calculations(ds,'Flagellate')\n",
    "\n",
    "# diat_pr,diat_pr_annual = calculations(ds,'Diatom_Production_Rate')\n",
    "# flag_pr,flag_pr_annual = calculations(ds,'Flagellate_Production_Rate')\n",
    "\n",
    "solar,solar_annual = calculations(ds2,'Summation_of_solar_radiation')\n",
    "wind,wind_annual = calculations(ds2,'Mean_wind_speed')\n",
    "temp,temp_annual = calculations(ds2,'Mean_air_temperature')\n"
   ]
  },
  {
   "cell_type": "code",
   "execution_count": null,
   "metadata": {},
   "outputs": [],
   "source": [
    "# plotting(ds, diat, diat_annual, 'Diatom Concentration', 'Diatom Concentration [mmol m-2]')\n",
    "# plotting(ds, flag, flag_annual, 'Flagellate Concentration', 'Flagellate Concentration [mmol m-2]')\n",
    "\n",
    "# plotting(ds, diat_pr, diat_pr_annual, 'Diatom Production Rate', 'Diatom Production Rate [mmol N m-2 s-1]')\n",
    "# plotting(ds, flag_pr, flag_pr_annual, 'Flagellate Production Rate', 'Flagellate Production Rate [mmol N m-2 s-1]')\n",
    "\n",
    "plotting(ds2, solar, solar_annual, 'Summation of Solar Radiation','Solar Radiation [W m-2]')\n",
    "plotting(ds2, wind, wind_annual, 'Mean Wind Speed','Mean Wind Speed [M s-1]')\n",
    "plotting(ds2, temp, temp_annual, 'Mean Air Temperature', 'Mean Air Temperature [K]')\n"
   ]
  },
  {
   "cell_type": "code",
   "execution_count": null,
   "metadata": {},
   "outputs": [],
   "source": []
  }
 ],
 "metadata": {
  "kernelspec": {
   "display_name": "analysis-ilias",
   "language": "python",
   "name": "python3"
  },
  "language_info": {
   "codemirror_mode": {
    "name": "ipython",
    "version": 3
   },
   "file_extension": ".py",
   "mimetype": "text/x-python",
   "name": "python",
   "nbconvert_exporter": "python",
   "pygments_lexer": "ipython3",
   "version": "3.11.8"
  }
 },
 "nbformat": 4,
 "nbformat_minor": 2
}
