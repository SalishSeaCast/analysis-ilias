{
 "cells": [
  {
   "cell_type": "markdown",
   "metadata": {},
   "source": [
    "# Annual Cycles (std)"
   ]
  },
  {
   "cell_type": "markdown",
   "metadata": {},
   "source": [
    "## Importing"
   ]
  },
  {
   "cell_type": "code",
   "execution_count": null,
   "metadata": {},
   "outputs": [],
   "source": [
    "import xarray as xr\n",
    "import numpy as np\n",
    "import pandas as pd\n",
    "import matplotlib.pyplot as plt\n",
    "\n",
    "import os\n",
    "\n",
    "from tqdm import tqdm\n",
    "\n",
    "import cmocean.cm as cm\n",
    "import salishsea_tools.viz_tools as sa_vi\n"
   ]
  },
  {
   "cell_type": "markdown",
   "metadata": {},
   "source": [
    "## Plotting (Regions)"
   ]
  },
  {
   "cell_type": "code",
   "execution_count": null,
   "metadata": {},
   "outputs": [],
   "source": [
    "def plot_shape_from_corners(bathy, corners, g):\n",
    "\n",
    "    c = [(bathy.nav_lon[corners[0],corners[3]].values, bathy.nav_lat[corners[0],corners[3]].values), (bathy.nav_lon[corners[0],corners[2]].values, bathy.nav_lat[corners[0],corners[2]].values), \n",
    "        (bathy.nav_lon[corners[1],corners[2]].values, bathy.nav_lat[corners[1],corners[2]].values),(bathy.nav_lon[corners[1],corners[3]].values, bathy.nav_lat[corners[1],corners[3]].values)]\n",
    "    \n",
    "    x_coords, y_coords = zip(*c)\n",
    "    x_coords = list(x_coords)\n",
    "    y_coords = list(y_coords)\n",
    "    x_coords.append(x_coords[0])\n",
    "    y_coords.append(y_coords[0])\n",
    "\n",
    "    plt.plot(x_coords, y_coords, linestyle='-', color = g)\n"
   ]
  },
  {
   "cell_type": "markdown",
   "metadata": {},
   "source": [
    "## Plotting (Results)\n"
   ]
  },
  {
   "cell_type": "code",
   "execution_count": null,
   "metadata": {},
   "outputs": [],
   "source": [
    "def plotting(name,quant,boxnames,regions0):\n",
    "\n",
    "    print(name)\n",
    "\n",
    "    (quant.std(['y','x'])).plot(aspect=2, size=10,  marker = '*')\n",
    "    plt.show()\n",
    "\n",
    "    labels = np.unique(quant.time_counter.dt.strftime('%d %b'))\n",
    "    indx_labels = np.argsort(pd.to_datetime(labels, format='%d %b'))\n",
    "    labels = labels[indx_labels]\n",
    "\n",
    "    fig, axs = plt.subplots(figsize=(19,10))\n",
    "\n",
    "    for i in range (0, len(boxnames)):\n",
    "\n",
    "        temp = quant.where(regions0==i).mean(['y','x']).groupby(['time_counter.month', 'time_counter.day']).max() - quant.where(regions0==i).mean(['y','x']).groupby(['time_counter.month', 'time_counter.day']).min()\n",
    "        temp = temp.to_numpy()\n",
    "        temp = np.ravel(temp)\n",
    "\n",
    "        axs.plot(labels, temp, label=boxnames[i])\n",
    "        \n",
    "    axs.set_xticks(np.arange(0,len(labels),3))\n",
    "\n",
    "    fig.legend()\n",
    "    plt.show()\n"
   ]
  },
  {
   "cell_type": "markdown",
   "metadata": {},
   "source": [
    "## Regions"
   ]
  },
  {
   "cell_type": "code",
   "execution_count": null,
   "metadata": {},
   "outputs": [],
   "source": [
    "bathy = xr.open_dataset('/home/sallen/MEOPAR/grid/bathymetry_202108.nc')\n",
    "\n",
    "fig, ax = plt.subplots(1, 1, figsize=(7, 9))\n",
    "mycmap = cm.deep\n",
    "mycmap.set_bad('grey')\n",
    "ax.pcolormesh(bathy.nav_lon, bathy.nav_lat, bathy.Bathymetry, cmap=mycmap)\n",
    "\n",
    "ax.set_ylabel('Latitude (oN)', fontsize=11)\n",
    "ax.set_xlabel('Longitude (oE)', fontsize=11)\n",
    "ax.xaxis.set_tick_params(labelsize=11)\n",
    "ax.yaxis.set_tick_params(labelsize=11)\n",
    "\n",
    "fig.text(0.05, 0.92, '(a)', fontsize=14)\n",
    "fig.suptitle('Sub-regions of Salish Sea', fontsize=15, x = 0.5, y=0.92)\n",
    "\n",
    "SoG_north = [650, 730, 100, 200]\n",
    "plot_shape_from_corners(bathy, SoG_north, 'g')\n",
    "\n",
    "SoG_center = [450, 550, 200, 300]\n",
    "plot_shape_from_corners(bathy, SoG_center, 'b')\n",
    "\n",
    "Fraser_plume = [380, 460, 260, 330]\n",
    "plot_shape_from_corners(bathy, Fraser_plume, 'm')\n",
    "\n",
    "SoG_south = [320, 380, 280, 350]\n",
    "plot_shape_from_corners(bathy, SoG_south, 'k')\n",
    "\n",
    "Haro_Boundary = [290, 350, 210, 280]\n",
    "plot_shape_from_corners(bathy, Haro_Boundary, 'm')\n",
    "\n",
    "JdF_west = [250, 425, 25, 125]\n",
    "plot_shape_from_corners(bathy, JdF_west, 'c')\n",
    "\n",
    "JdF_east = [200, 290, 150, 260]\n",
    "plot_shape_from_corners(bathy, JdF_east, 'g')\n",
    "\n",
    "PS_all = [0, 200, 80, 320]\n",
    "plot_shape_from_corners(bathy, PS_all, 'm')\n",
    "\n",
    "PS_main = [20, 150, 200, 280]\n",
    "plot_shape_from_corners(bathy, PS_main, 'r')\n",
    "\n",
    "boxnames = ['Georgia north','Georgia center','Fraser plume','Georgia south', 'Haro Boundary', 'Juan de Fuca west', 'Juan de Fuca east', 'Puget Sound all', 'Puget Sound main']\n",
    "boxes = [SoG_north,SoG_center,Fraser_plume,SoG_south,Haro_Boundary,JdF_west,JdF_east,PS_all,PS_main]\n",
    "fig.legend(boxnames, loc=(0.67, 0.62), fontsize=11)\n",
    "\n",
    "regions0 = np.full((len(bathy.y),len(bathy.x)),np.nan)\n",
    "\n",
    "for i in range (0, len(boxnames)):\n",
    "    regions0[boxes[i][0]:boxes[i][1], boxes[i][2]:boxes[i][3]] = i\n",
    "\n",
    "regions0 = xr.DataArray(regions0,dims = ['y','x'])\n"
   ]
  },
  {
   "cell_type": "markdown",
   "metadata": {},
   "source": [
    "## Results"
   ]
  },
  {
   "cell_type": "code",
   "execution_count": null,
   "metadata": {},
   "outputs": [],
   "source": [
    "ds = xr.open_dataset('/data/ibougoudis/MOAD/files//seasonalities.nc')\n",
    "\n",
    "labels = np.unique(ds.time_counter.dt.strftime('%d %b'))\n",
    "indx_labels = np.argsort(pd.to_datetime(labels, format='%d %b'))\n",
    "labels = labels[indx_labels]\n",
    "\n",
    "fig, axs = plt.subplots(2,2, figsize=(9,9), layout='constrained')\n",
    "fig.text(.01, .99, '(b)', fontsize=14)\n",
    "\n",
    "temp = ds.Diatom.mean(['y','x']).groupby(['time_counter.month', 'time_counter.day']).std()\n",
    "temp = temp.to_numpy()\n",
    "temp = np.ravel(temp)\n",
    "axs[0,0].plot(labels, temp)\n",
    "axs[0,0].fill_between((labels[0],labels[8]), np.max(temp), alpha=0.3, color='grey')\n",
    "axs[0,0].set_ylabel('[mmol / $m^2$]', fontsize=11)\n",
    "axs[0,0].xaxis.set_tick_params(rotation=45, labelsize=11)\n",
    "axs[0,0].set_title('Diatom biomass', fontsize=12)\n",
    "axs[0,0].yaxis.set_tick_params(labelsize=11)\n",
    "\n",
    "temp = ds.Flagellate.mean(['y','x']).groupby(['time_counter.month', 'time_counter.day']).std()\n",
    "temp = temp.to_numpy()\n",
    "temp = np.ravel(temp)\n",
    "axs[0,1].plot(labels, temp, color='orange')\n",
    "axs[0,1].fill_between((labels[7],labels[12]), np.max(temp), alpha=0.3, color='grey')\n",
    "axs[0,1].xaxis.set_tick_params(rotation=45, labelsize=11)\n",
    "axs[0,1].set_title('Nanoflagellate biomass', fontsize=12)\n",
    "axs[0,1].yaxis.set_tick_params(labelsize=11)\n",
    "\n",
    "temp = ds.Diatom_Production_Rate.mean(['y','x']).groupby(['time_counter.month', 'time_counter.day']).std()\n",
    "temp = temp.to_numpy()\n",
    "temp = np.ravel(temp)\n",
    "axs[1,0].plot(labels, temp, color='green')\n",
    "axs[1,0].set_ylabel('[mmol N / $m^2$ / $s$]', fontsize=11)\n",
    "axs[1,0].fill_between((labels[1],labels[6]), np.max(temp), alpha=0.3, color='grey')\n",
    "axs[1,0].xaxis.set_tick_params(rotation=45, labelsize=11)\n",
    "axs[1,0].set_title('Diatom production rate', fontsize=12)\n",
    "axs[1,0].yaxis.set_tick_params(labelsize=11)\n",
    "\n",
    "temp = ds.Flagellate_Production_Rate.mean(['y','x']).groupby(['time_counter.month', 'time_counter.day']).std()\n",
    "temp = temp.to_numpy()\n",
    "temp = np.ravel(temp)\n",
    "axs[1,1].plot(labels, temp, color='red')\n",
    "axs[1,1].fill_between((labels[1],labels[6]), np.max(temp), alpha=0.3, color='grey')\n",
    "axs[1,1].xaxis.set_tick_params(rotation=45, labelsize=11)\n",
    "axs[1,1].set_title('Nanoflagellate production rate', fontsize=12)\n",
    "axs[1,1].yaxis.set_tick_params(labelsize=11)\n",
    "\n",
    "fig.suptitle('Seasonal variabilities (01 and 15 of each month)', fontsize=15)\n",
    "\n",
    "axs[0,0].set_xticks(np.arange(0,len(labels),3))\n",
    "axs[0,1].set_xticks(np.arange(0,len(labels),3))\n",
    "axs[1,0].set_xticks(np.arange(0,len(labels),3))\n",
    "axs[1,1].set_xticks(np.arange(0,len(labels),3))\n",
    "\n",
    "plt.show()\n"
   ]
  },
  {
   "cell_type": "code",
   "execution_count": null,
   "metadata": {},
   "outputs": [],
   "source": []
  }
 ],
 "metadata": {
  "kernelspec": {
   "display_name": "Python 3",
   "language": "python",
   "name": "python3"
  },
  "language_info": {
   "codemirror_mode": {
    "name": "ipython",
    "version": 3
   },
   "file_extension": ".py",
   "mimetype": "text/x-python",
   "name": "python",
   "nbconvert_exporter": "python",
   "pygments_lexer": "ipython3",
   "version": "3.11.11"
  }
 },
 "nbformat": 4,
 "nbformat_minor": 2
}
