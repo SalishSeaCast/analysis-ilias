{
 "cells": [
  {
   "cell_type": "markdown",
   "metadata": {},
   "source": [
    "# Annual Cycles (std)"
   ]
  },
  {
   "cell_type": "markdown",
   "metadata": {},
   "source": [
    "## Importing"
   ]
  },
  {
   "cell_type": "code",
   "execution_count": null,
   "metadata": {},
   "outputs": [],
   "source": [
    "import xarray as xr\n",
    "import numpy as np\n",
    "import pandas as pd\n",
    "import matplotlib.pyplot as plt\n",
    "\n",
    "import os\n",
    "\n",
    "from tqdm import tqdm\n",
    "\n",
    "import cmocean.cm as cm\n",
    "import salishsea_tools.viz_tools as sa_vi\n"
   ]
  },
  {
   "cell_type": "markdown",
   "metadata": {},
   "source": [
    "## Datasets Preparation"
   ]
  },
  {
   "cell_type": "code",
   "execution_count": null,
   "metadata": {},
   "outputs": [],
   "source": [
    "def datasets_preparation(dict_month, i, mask, mesh):\n",
    "\n",
    "    ds_name = ('/results2/SalishSea/nowcast-green.202111/' + i[1] + '/SalishSea_1d_' + '20' + str(i[1][5:7]) + str(dict_month[i[1][2:5]])+str(i[1][0:2]) + '_' + '20' + str(i[1][5:7]) + str(dict_month[i[1][2:5]]) + str(i[1][0:2]) + '_grid_T.nc')\n",
    "    ds_bio_name = ('/results2/SalishSea/nowcast-green.202111/' + i[1] + '/SalishSea_1d_'  + '20' + str(i[1][5:7]) + str(dict_month[i[1][2:5]])+str(i[1][0:2]) + '_' + '20' + str(i[1][5:7]) + str(dict_month[i[1][2:5]]) + str(i[1][0:2]) + '_biol_T.nc')\n",
    "    ds_prod_name = ('/results2/SalishSea/nowcast-green.202111/' + i[1] + '/SalishSea_1d_'  + '20' + str(i[1][5:7]) + str(dict_month[i[1][2:5]])+str(i[1][0:2]) + '_' + '20' + str(i[1][5:7]) + str(dict_month[i[1][2:5]]) + str(i[1][0:2]) + '_prod_T.nc') \n",
    "\n",
    "    ds = xr.open_dataset (ds_name)\n",
    "    ds_bio = xr.open_dataset (ds_bio_name)\n",
    "    ds_prod = xr.open_dataset (ds_prod_name)\n",
    "\n",
    "    diat_i = ((ds_bio.diatoms.where(mask==1)[0,0:27] * ds.e3t.where(mask==1)\n",
    "        [0,0:27]).sum('deptht', skipna = True, min_count = 27) / mesh.gdepw_0[0,27])\n",
    "    \n",
    "    flag_i = ((ds_bio.flagellates.where(mask==1)[0,0:27] * ds.e3t.where(mask==1)\n",
    "        [0,0:27]).sum('deptht', skipna = True, min_count = 27) / mesh.gdepw_0[0,27])\n",
    "    \n",
    "    diat_prod_i = ((ds_prod.PPDIAT.where(mask==1)[0,0:27] * ds.e3t.where(mask==1)\n",
    "        [0,0:27]).sum('deptht', skipna = True, min_count = 27) / mesh.gdepw_0[0,27]) / diat_i  \n",
    "      \n",
    "    flag_prod_i = ((ds_prod.PPPHY.where(mask==1)[0,0:27] * ds.e3t.where(mask==1)\n",
    "        [0,0:27]).sum('deptht', skipna = True, min_count = 27) / mesh.gdepw_0[0,27]) / flag_i\n",
    "\n",
    "\n",
    "    return (diat_i,flag_i,diat_prod_i,flag_prod_i)\n"
   ]
  },
  {
   "cell_type": "markdown",
   "metadata": {},
   "source": [
    "## Datasets Preparation 2"
   ]
  },
  {
   "cell_type": "code",
   "execution_count": null,
   "metadata": {},
   "outputs": [],
   "source": [
    "def datasets_preparation2(name, units, coords):\n",
    "\n",
    "    dataset = xr.DataArray(coords=coords, dims = ['time_counter', 'y', 'x'],\n",
    "        attrs=dict(description='Integrated quantity of interest',\n",
    "        long_name =name,\n",
    "        units=units))\n",
    "        \n",
    "    return (dataset)\n"
   ]
  },
  {
   "cell_type": "markdown",
   "metadata": {},
   "source": [
    "## File Creation"
   ]
  },
  {
   "cell_type": "code",
   "execution_count": null,
   "metadata": {},
   "outputs": [],
   "source": [
    "def file_creation(variable, name):\n",
    "\n",
    "    temp = variable.to_dataset(name=name)\n",
    "    temp.to_netcdf(path='/data/ibougoudis/MOAD/files/seasonalities.nc', mode='a', encoding={name:{\"zlib\": True, \"complevel\": 9}})\n",
    "    temp.close()\n",
    "    "
   ]
  },
  {
   "cell_type": "markdown",
   "metadata": {},
   "source": [
    "## Plotting (Regions)"
   ]
  },
  {
   "cell_type": "code",
   "execution_count": null,
   "metadata": {},
   "outputs": [],
   "source": [
    "def plot_box(ax, corn, colour):\n",
    "\n",
    "    ax.plot([corn[2], corn[3], corn[3], corn[2], corn[2]], \n",
    "    [corn[0], corn[0], corn[1], corn[1], corn[0]], '-', color=colour)\n",
    "    "
   ]
  },
  {
   "cell_type": "markdown",
   "metadata": {},
   "source": [
    "## Plotting (Results)\n"
   ]
  },
  {
   "cell_type": "code",
   "execution_count": null,
   "metadata": {},
   "outputs": [],
   "source": [
    "def plotting(name,quant,boxnames,regions0):\n",
    "\n",
    "    print(name)\n",
    "\n",
    "    (quant.std(['y','x'])).plot(aspect=2, size=10,  marker = '*')\n",
    "    plt.show()\n",
    "\n",
    "    labels = np.unique(quant.time_counter.dt.strftime('%d %b'))\n",
    "    indx_labels = np.argsort(pd.to_datetime(labels, format='%d %b'))\n",
    "    labels = labels[indx_labels]\n",
    "\n",
    "    fig, axs = plt.subplots(figsize=(19,10))\n",
    "\n",
    "    for i in range (0, len(boxnames)):\n",
    "\n",
    "        temp = quant.where(regions0==i).mean(['y','x']).groupby(['time_counter.month', 'time_counter.day']).max() - quant.where(regions0==i).mean(['y','x']).groupby(['time_counter.month', 'time_counter.day']).min()\n",
    "        temp = temp.to_numpy()\n",
    "        temp = np.ravel(temp)\n",
    "\n",
    "        axs.plot(labels, temp, label=boxnames[i])\n",
    "        \n",
    "    axs.set_xticks(np.arange(0,len(labels),3))\n",
    "\n",
    "    fig.legend()\n",
    "    plt.show()\n"
   ]
  },
  {
   "cell_type": "markdown",
   "metadata": {},
   "source": [
    "## Data Collection"
   ]
  },
  {
   "cell_type": "code",
   "execution_count": null,
   "metadata": {},
   "outputs": [],
   "source": [
    "dict_month = {'jan': '01',\n",
    "    'feb': '02',\n",
    "    'mar': '03',\n",
    "    'apr': '04',\n",
    "    'may': '05',\n",
    "    'jun': '06',\n",
    "    'jul': '07',\n",
    "    'aug': '08',\n",
    "    'sep': '09',\n",
    "    'oct': '10',\n",
    "    'nov': '11',\n",
    "    'dec': '12'}\n",
    "\n",
    "path = os.listdir('/results2/SalishSea/nowcast-green.202111/')\n",
    "\n",
    "folders = [x for x in path if ((x[0:2] == '01') or (x[0:2] == '15')) and (x[5:7]< '25')]\n",
    "\n",
    "indx_dates=(np.argsort(pd.to_datetime(folders, format=\"%d%b%y\")))\n",
    "folders = [folders[i] for i in indx_dates]\n",
    "\n",
    "# Open the mesh mask\n",
    "mesh = xr.open_dataset('/home/sallen/MEOPAR/grid/mesh_mask202108.nc')\n",
    "mask = mesh.tmask.to_numpy()\n",
    "\n",
    "coords = dict(time_counter=pd.to_datetime(folders, format=\"%d%b%y\"), y=mesh.y, x=mesh.x) \n",
    "\n",
    "diat_i_all = datasets_preparation2('Diatom Concentration', '[mmol m-2]', coords)\n",
    "flag_i_all = datasets_preparation2('Flagellate Concentration', '[mmol m-2]', coords)\n",
    "\n",
    "diat_prod_i_all = datasets_preparation2('Diatom Production Rate', '[mmol N m-2 s-1]', coords)\n",
    "flag_prod_i_all = datasets_preparation2('Flagellate Production Rate', '[mmol N m-2 s-1]', coords)\n",
    "\n",
    "print(len(folders))\n",
    "\n",
    "for i in tqdm(enumerate(folders)):\n",
    "\n",
    "    diat_i, flag_i, diat_prod_i, flag_prod_i = datasets_preparation(dict_month, i, mask, mesh)\n",
    "\n",
    "    diat_i_all[i[0]] = diat_i\n",
    "    flag_i_all[i[0]] = flag_i\n",
    "\n",
    "    diat_prod_i_all[i[0]] = diat_prod_i\n",
    "    flag_prod_i_all[i[0]] = flag_prod_i\n"
   ]
  },
  {
   "cell_type": "markdown",
   "metadata": {},
   "source": [
    "## Regions"
   ]
  },
  {
   "cell_type": "code",
   "execution_count": null,
   "metadata": {},
   "outputs": [],
   "source": [
    "filename = '/data/ibougoudis/MOAD/files/inputs/jan_apr.nc'\n",
    "ds = xr.open_dataset(filename)\n",
    "\n",
    "name = 'Diatom'\n",
    "\n",
    "fig, ax = plt.subplots(1, 1, figsize=(5, 9))\n",
    "mycmap = cm.deep\n",
    "mycmap.set_bad('grey')\n",
    "ax.pcolormesh(ds[name][0], cmap=mycmap)\n",
    "sa_vi.set_aspect(ax)\n",
    "ax.set_ylabel('y')\n",
    "ax.set_xlabel('x')\n",
    "fig.text(.01, .99, '(a)', fontsize=14)\n",
    "\n",
    "SoG_north = [650, 730, 100, 200]\n",
    "plot_box(ax, SoG_north, 'g')\n",
    "SoG_center = [450, 550, 200, 300]\n",
    "plot_box(ax, SoG_center, 'b')\n",
    "Fraser_plume = [380, 460, 260, 330]\n",
    "plot_box(ax, Fraser_plume, 'm')\n",
    "SoG_south = [320, 380, 280, 350]\n",
    "plot_box(ax, SoG_south, 'k')\n",
    "Haro_Boundary = [290, 350, 210, 280]\n",
    "plot_box(ax, Haro_Boundary, 'm')\n",
    "JdF_west = [250, 425, 25, 125]\n",
    "plot_box(ax, JdF_west, 'c')\n",
    "JdF_east = [200, 290, 150, 260]\n",
    "plot_box(ax, JdF_east, 'w')\n",
    "PS_all = [0, 200, 80, 320]\n",
    "plot_box(ax, PS_all, 'm')\n",
    "PS_main = [20, 150, 200, 280]\n",
    "plot_box(ax, PS_main, 'r')\n",
    "\n",
    "boxnames = ['Georgia north','Georgia center','Fraser plume','Georgia south', 'Haro Boundary', 'Juan de Fuca west', 'Juan de Fuca east', 'Puget Sound all', 'Puget Sound main']\n",
    "fig.legend(boxnames)\n",
    "\n",
    "boxes = [SoG_north,SoG_center,Fraser_plume,SoG_south,Haro_Boundary,JdF_west,JdF_east,PS_all,PS_main]\n",
    "\n",
    "regions0 = np.full((len(ds.y),len(ds.x)),np.nan)\n",
    "\n",
    "for i in range (0, len(boxes)):\n",
    "    regions0[boxes[i][0]:boxes[i][1], boxes[i][2]:boxes[i][3]] = i\n",
    "\n",
    "regions0 = xr.DataArray(regions0,dims = ['y','x'])\n"
   ]
  },
  {
   "cell_type": "markdown",
   "metadata": {},
   "source": [
    "## Results"
   ]
  },
  {
   "cell_type": "code",
   "execution_count": null,
   "metadata": {},
   "outputs": [],
   "source": [
    "labels = np.unique(diat_i_all.time_counter.dt.strftime('%d %b'))\n",
    "indx_labels = np.argsort(pd.to_datetime(labels, format='%d %b'))\n",
    "labels = labels[indx_labels]\n",
    "\n",
    "fig, axs = plt.subplots(2,2, figsize=(10,10), layout='constrained')\n",
    "fig.text(.01, .99, '(b)', fontsize=14)\n",
    "\n",
    "temp = diat_i_all.mean(['y','x']).groupby(['time_counter.month', 'time_counter.day']).std()\n",
    "temp = temp.to_numpy()\n",
    "temp = np.ravel(temp)\n",
    "axs[0,0].plot(labels, temp)\n",
    "axs[0,0].fill_between((labels[0],labels[8]), np.max(temp), alpha=0.3, color='grey')\n",
    "axs[0,0].set_ylabel('[mmol / $m^2$]')\n",
    "axs[0,0].xaxis.set_tick_params(rotation=45)\n",
    "axs[0,0].set_title('Diatom biomass')\n",
    "\n",
    "temp = flag_i_all.mean(['y','x']).groupby(['time_counter.month', 'time_counter.day']).std()\n",
    "temp = temp.to_numpy()\n",
    "temp = np.ravel(temp)\n",
    "axs[0,1].plot(labels, temp, color='orange')\n",
    "axs[0,1].fill_between((labels[7],labels[12]), np.max(temp), alpha=0.3, color='grey')\n",
    "axs[0,1].xaxis.set_tick_params(rotation=45)\n",
    "axs[0,1].set_title('Nanoflagellate biomass')\n",
    "\n",
    "temp = diat_prod_i_all.mean(['y','x']).groupby(['time_counter.month', 'time_counter.day']).std()\n",
    "temp = temp.to_numpy()\n",
    "temp = np.ravel(temp)\n",
    "axs[1,0].plot(labels, temp, color='green')\n",
    "axs[1,0].set_ylabel('[mmol N / $m^2$ / $s$]')\n",
    "axs[1,0].fill_between((labels[1],labels[6]), np.max(temp), alpha=0.3, color='grey')\n",
    "axs[1,0].xaxis.set_tick_params(rotation=45)\n",
    "axs[1,0].set_title('Diatom production rate')\n",
    "\n",
    "temp = flag_prod_i_all.mean(['y','x']).groupby(['time_counter.month', 'time_counter.day']).std()\n",
    "temp = temp.to_numpy()\n",
    "temp = np.ravel(temp)\n",
    "axs[1,1].plot(labels, temp, color='red')\n",
    "axs[1,1].fill_between((labels[1],labels[6]), np.max(temp), alpha=0.3, color='grey')\n",
    "axs[1,1].xaxis.set_tick_params(rotation=45)\n",
    "axs[1,1].set_title('Nanoflagellate production rate')\n",
    "\n",
    "fig.suptitle('Seasonal variabilities (01 and 15 of each month)', fontsize=15)\n",
    "\n",
    "axs[0,0].set_xticks(np.arange(0,len(labels),3))\n",
    "axs[0,1].set_xticks(np.arange(0,len(labels),3))\n",
    "axs[1,0].set_xticks(np.arange(0,len(labels),3))\n",
    "axs[1,1].set_xticks(np.arange(0,len(labels),3))\n",
    "\n",
    "plt.show()\n"
   ]
  },
  {
   "cell_type": "markdown",
   "metadata": {},
   "source": [
    "## Creating the Datasets"
   ]
  },
  {
   "cell_type": "code",
   "execution_count": null,
   "metadata": {},
   "outputs": [],
   "source": [
    "file_creation(diat_i_all, 'Diatom')\n",
    "file_creation(flag_i_all, 'Flagellate')\n",
    "\n",
    "file_creation(diat_prod_i_all, 'Diatom_Production_Rate')\n",
    "file_creation(flag_prod_i_all, 'Flagellate_Production_Rate')\n"
   ]
  },
  {
   "cell_type": "code",
   "execution_count": null,
   "metadata": {},
   "outputs": [],
   "source": []
  }
 ],
 "metadata": {
  "kernelspec": {
   "display_name": "Python 3",
   "language": "python",
   "name": "python3"
  },
  "language_info": {
   "codemirror_mode": {
    "name": "ipython",
    "version": 3
   },
   "file_extension": ".py",
   "mimetype": "text/x-python",
   "name": "python",
   "nbconvert_exporter": "python",
   "pygments_lexer": "ipython3",
   "version": "3.11.11"
  }
 },
 "nbformat": 4,
 "nbformat_minor": 2
}
