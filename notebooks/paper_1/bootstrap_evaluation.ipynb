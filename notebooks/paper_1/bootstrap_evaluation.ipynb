{
 "cells": [
  {
   "cell_type": "markdown",
   "metadata": {},
   "source": [
    "# Bootstrap Evaluation"
   ]
  },
  {
   "cell_type": "markdown",
   "metadata": {},
   "source": [
    "## Importing"
   ]
  },
  {
   "cell_type": "code",
   "execution_count": null,
   "metadata": {},
   "outputs": [],
   "source": [
    "import xarray as xr\n",
    "import numpy as np\n",
    "import pandas as pd\n",
    "import matplotlib.pyplot as plt\n",
    "import scipy\n",
    "\n",
    "import os\n",
    "import lzma\n",
    "import dill\n",
    "\n",
    "from tqdm import tqdm\n",
    "\n",
    "import cmocean.cm as cm\n",
    "import salishsea_tools.viz_tools as sa_vi\n",
    "\n",
    "from scipy import stats as st\n",
    "import seaborn as sb\n"
   ]
  },
  {
   "cell_type": "markdown",
   "metadata": {},
   "source": [
    "## Plotting (regions)"
   ]
  },
  {
   "cell_type": "code",
   "execution_count": null,
   "metadata": {},
   "outputs": [],
   "source": [
    "def plot_box(ax, corn, colour):\n",
    "\n",
    "    ax.plot([corn[2], corn[3], corn[3], corn[2], corn[2]], \n",
    "    [corn[0], corn[0], corn[1], corn[1], corn[0]], '-', color=colour)\n",
    "    "
   ]
  },
  {
   "cell_type": "markdown",
   "metadata": {},
   "source": [
    "## Plotting (histograms)"
   ]
  },
  {
   "cell_type": "code",
   "execution_count": null,
   "metadata": {},
   "outputs": [],
   "source": [
    "def plot_hist (name1, variable1, name2, variable2, title, boxnames):\n",
    "\n",
    "    stats1 = []\n",
    "    stats2 = []\n",
    "\n",
    "    fig, axs = plt.subplots(1,len(boxnames), figsize = (20,6), layout='tight')\n",
    "\n",
    "    for j in range(0, len(boxnames)):\n",
    "\n",
    "        if j == 0: # So that they appear only once\n",
    "        \n",
    "            sb.kdeplot(ax=axs[j], data=variable1[:,j], label=name1)\n",
    "            stats1.append(scipy.stats.describe(variable1[:,j]))\n",
    "\n",
    "            sb.kdeplot(ax=axs[j], data=variable2[:,j], label=name2)\n",
    "            stats2.append(scipy.stats.describe(variable2[:,j]))\n",
    "\n",
    "        else:\n",
    "\n",
    "            sb.kdeplot(ax=axs[j], data=variable1[:,j])\n",
    "            stats1.append(scipy.stats.describe(variable1[:,j]))\n",
    "\n",
    "            sb.kdeplot(ax=axs[j], data=variable2[:,j])\n",
    "            stats2.append(scipy.stats.describe(variable2[:,j]))\n",
    "            \n",
    "        axs[j].set_title(boxnames[j])\n",
    "\n",
    "        fig.suptitle(title)\n",
    "        fig.legend(ncol=2)\n",
    "\n",
    "    stats1 = np.array(stats1, dtype=object)\n",
    "    stats2 = np.array(stats2, dtype=object)\n",
    "\n",
    "    return (stats1,stats2)\n"
   ]
  },
  {
   "cell_type": "markdown",
   "metadata": {},
   "source": [
    "## Plotting (boxplots)"
   ]
  },
  {
   "cell_type": "code",
   "execution_count": null,
   "metadata": {},
   "outputs": [],
   "source": [
    "def plot_boxplots (name1, variable1, name2, variable2, title, boxnames):\n",
    "\n",
    "    fig, axs = plt.subplots(1,len(boxnames), figsize = (20,6), layout='tight')\n",
    "\n",
    "    for j in range(0, len(boxnames)):\n",
    "\n",
    "        if j == 0: # So that they appear only once\n",
    "\n",
    "            temp = pd.DataFrame(np.stack((variable1[:,j], variable2[:,j]),axis=1))\n",
    "            sb.boxplot(ax=axs[j], data=temp)  \n",
    "\n",
    "        else:\n",
    "              \n",
    "            temp = pd.DataFrame(np.stack((variable1[:,j], variable2[:,j]),axis=1))\n",
    "            sb.boxplot(ax=axs[j], data=temp)    \n",
    "       \n",
    "        axs[j].set_title(boxnames[j])\n",
    "\n",
    "        fig.suptitle(title)\n",
    "        fig.legend([name1,name2], ncol=2)\n"
   ]
  },
  {
   "cell_type": "markdown",
   "metadata": {},
   "source": [
    "## Initiation"
   ]
  },
  {
   "cell_type": "code",
   "execution_count": null,
   "metadata": {},
   "outputs": [],
   "source": [
    "name = 'Flagellate_Production_Rate'\n",
    "units = '[mmol N m-2 s-1]'\n",
    "category = 'Production rates'\n",
    "\n",
    "ds = xr.open_dataset('/data/ibougoudis/MOAD/files/inputs/feb_apr.nc') # Only for plotting the regions\n"
   ]
  },
  {
   "cell_type": "markdown",
   "metadata": {},
   "source": [
    "## Regions"
   ]
  },
  {
   "cell_type": "code",
   "execution_count": null,
   "metadata": {},
   "outputs": [],
   "source": [
    "fig, ax = plt.subplots(1, 1, figsize=(5, 9))\n",
    "mycmap = cm.deep\n",
    "mycmap.set_bad('grey')\n",
    "ax.pcolormesh(ds[name][0], cmap=mycmap)\n",
    "sa_vi.set_aspect(ax)\n",
    "\n",
    "SoG_north = [650, 730, 100, 200]\n",
    "plot_box(ax, SoG_north, 'g')\n",
    "SoG_center = [450, 550, 200, 300]\n",
    "plot_box(ax, SoG_center, 'b')\n",
    "Fraser_plume = [380, 460, 260, 330]\n",
    "plot_box(ax, Fraser_plume, 'm')\n",
    "SoG_south = [320, 380, 280, 350]\n",
    "plot_box(ax, SoG_south, 'k')\n",
    "Haro_Boundary = [290, 350, 210, 280]\n",
    "plot_box(ax, Haro_Boundary, 'm')\n",
    "JdF_west = [250, 425, 25, 125]\n",
    "plot_box(ax, JdF_west, 'c')\n",
    "JdF_east = [200, 290, 150, 260]\n",
    "plot_box(ax, JdF_east, 'w')\n",
    "PS_all = [0, 200, 80, 320]\n",
    "plot_box(ax, PS_all, 'm')\n",
    "PS_main = [20, 150, 200, 280]\n",
    "plot_box(ax, PS_main, 'r')\n",
    "\n",
    "boxnames = ['SoG_north','SoG_center','Fraser_plume','SoG_south', 'Haro_Boundary', 'JdF_west', 'JdF_east', 'PS_all', 'PS_main']\n",
    "fig.legend(boxnames)\n",
    "\n",
    "boxes = [SoG_north,SoG_center,Fraser_plume,SoG_south,Haro_Boundary,JdF_west,JdF_east,PS_all,PS_main]\n",
    "\n",
    "regions0 = np.full((len(ds.y),len(ds.x)),np.nan)\n",
    "\n",
    "for i in range (0, len(boxes)):\n",
    "    regions0[boxes[i][0]:boxes[i][1], boxes[i][2]:boxes[i][3]] = i\n",
    "\n",
    "regions0 = xr.DataArray(regions0,dims = ['y','x'])\n",
    "\n",
    "# # Low resolution\n",
    "\n",
    "# temp = []\n",
    "\n",
    "# for i in boxes:\n",
    "#     temp.append([x//5 for x in i])\n",
    "\n",
    "# boxes = temp"
   ]
  },
  {
   "cell_type": "markdown",
   "metadata": {},
   "source": [
    "## Loading"
   ]
  },
  {
   "cell_type": "code",
   "execution_count": null,
   "metadata": {},
   "outputs": [],
   "source": [
    "if name == 'Diatom' or name == 'Flagellate':\n",
    "    path = '/data/ibougoudis/MOAD/files/results/'  + name + '/bootstraps/' + name[0:4].lower() + '_func_reg2_boxes_s3_boot_100/'\n",
    "else:\n",
    "    path = '/data/ibougoudis/MOAD/files/results/' + name + '/bootstraps/' + name[0:4].lower() + '_pr_hist1_boxes_8_boot_100/'\n",
    "\n",
    "with open(path + 'train_metrics.pkl', 'rb') as f:\n",
    "    train1 = dill.load(f)\n",
    "with open(path + 'test_metrics.pkl', 'rb') as f:\n",
    "    test1 = dill.load(f)\n",
    "with open(path + 'readme.txt', 'r') as f:\n",
    "    temp = f.read()\n",
    "    print ('1st run:')\n",
    "    print(temp)\n",
    "    print ('\\n')\n",
    "name1 = 'old'\n",
    "\n",
    "if name == 'Diatom' or name == 'Flagellate':\n",
    "    path = '/data/ibougoudis/MOAD/files/results/'  + name + '/bootstraps/' + name[0:4].lower() + '_func_reg2_boxes_s5_boot_100/'  \n",
    "else:\n",
    "    path = '/data/ibougoudis/MOAD/files/results/' + name + '/bootstraps/' + name[0:4].lower() + '_pr_hist1_boxes_7_boot_100/'\n",
    "\n",
    "with open(path + 'train_metrics.pkl', 'rb') as f:\n",
    "    train2 = dill.load(f)\n",
    "with open(path + 'test_metrics.pkl', 'rb') as f:\n",
    "    test2 = dill.load(f)\n",
    "with open(path + 'readme.txt', 'r') as f:\n",
    "    temp = f.read()\n",
    "    print('2nd run:')\n",
    "    print(temp)\n",
    "    print ('\\n')\n",
    "name2 = 'new dayofyear'\n"
   ]
  },
  {
   "cell_type": "markdown",
   "metadata": {},
   "source": [
    "## Histograms"
   ]
  },
  {
   "cell_type": "code",
   "execution_count": null,
   "metadata": {},
   "outputs": [],
   "source": [
    "r_train1, r_train2 = plot_hist(name1, train1[0], name2, train2[0], 'Correlation Coefficient (Training)', boxnames)\n",
    "rms_train1, rms_train2 = plot_hist(name1, train1[1], name2, train2[1], 'Root Mean Square Error (Training)', boxnames)\n",
    "r_train_season1, r_train_season2 = plot_hist(name1, train1[3], name2, train2[3], 'Correlation Coefficient (Training, no seasonality)', boxnames)\n",
    "\n",
    "r_test1, r_test2 = plot_hist(name1, test1[0], name2, test2[0], 'Correlation Coefficient (Testing)', boxnames)\n",
    "rms_test1, rms_test2 = plot_hist(name1, test1[1], name2, test2[1], 'Root Mean Square Error (Testing)', boxnames)\n",
    "r_test_season1, r_test_season2 = plot_hist(name1, test1[3], name2, test2[3], 'Correlation Coefficient (Testing, no seasonality)', boxnames)\n",
    "spatial_error_test1, spatial_error_test2 = plot_hist(name1, test1[5], name2, test2[5], 'Spatial Error (Testing)', boxnames)\n"
   ]
  },
  {
   "cell_type": "markdown",
   "metadata": {},
   "source": [
    "## Boxplots"
   ]
  },
  {
   "cell_type": "code",
   "execution_count": null,
   "metadata": {},
   "outputs": [],
   "source": [
    "plot_boxplots(name1, train1[0], name2, train2[0], 'Correlation Coefficient (Training)', boxnames)\n",
    "plot_boxplots(name1, train1[1], name2, train2[1], 'Root Mean Square Error (Training)', boxnames)\n",
    "plot_boxplots(name1, train1[3], name2, train2[3], 'Correlation Coefficient (Training, no seasonality)', boxnames)\n",
    "\n",
    "plot_boxplots(name1, test1[0], name2, test2[0], 'Correlation Coefficient (Testing)', boxnames)\n",
    "plot_boxplots(name1, test1[1], name2, test2[1], 'Root Mean Square Error (Testing)', boxnames)\n",
    "plot_boxplots(name1, test1[3], name2, test2[3], 'Correlation Coefficient (Testing, no seasonality)', boxnames)\n",
    "plot_boxplots(name1, test1[5], name2, test2[5], 'Spatial Error (Testing)', boxnames)\n"
   ]
  },
  {
   "cell_type": "markdown",
   "metadata": {},
   "source": [
    "## T-Test"
   ]
  },
  {
   "cell_type": "code",
   "execution_count": null,
   "metadata": {},
   "outputs": [],
   "source": [
    "def statistic(x, y, a=0):\n",
    "    return np.mean(x, axis=a) - np.mean(y, axis=a)"
   ]
  },
  {
   "cell_type": "code",
   "execution_count": null,
   "metadata": {},
   "outputs": [],
   "source": [
    "p_values_train = []\n",
    "train_names = ['Correlation Coefficient (Training)', 'Root Mean Square Error (Training)', 'Slope of the Best Fitting Line (Training)', \n",
    "    'Correlation Coefficient (Training, no seasonality)', 'Slope of the Best Fitting Line (Training, no seasonality)']\n",
    "\n",
    "p_values_test = []\n",
    "test_names = ['Correlation Coefficient (Testing)', 'Root Mean Square Error (Testing)', 'Slope of the Best Fitting Line (Testing)', \n",
    "    'Correlation Coefficient (Testing, no seasonality)', 'Slope of the Best Fitting Line (Testing, no seasonality)', 'Spatial Error (Testing)']\n",
    "\n",
    "for i in range (0, len(train1)):\n",
    "\n",
    "    res = st.permutation_test((train1[i], train2[i]), statistic, alternative='two-sided')\n",
    "    p_values_train.append(res.pvalue)\n",
    "    \n",
    "    res = st.permutation_test((test1[i], test2[i]), statistic, alternative='two-sided')\n",
    "    p_values_test.append(res.pvalue)\n",
    "\n",
    "# One more criterion\n",
    "res = st.permutation_test((test1[-1], test2[-1]), statistic, alternative='two-sided')\n",
    "p_values_test.append(res.pvalue)\n",
    "\n",
    "p_values_train = np.array(p_values_train)\n",
    "p_values_test = np.array(p_values_test)\n",
    "\n",
    "train = np.argwhere(p_values_train < 0.05)\n",
    "\n",
    "if train.shape[0]==0:\n",
    "    print('There are no significant differences for training')\n",
    "elif train.shape[0]==45:\n",
    "    print ('All are significantly different for training')\n",
    "else:\n",
    "    for pair in train:\n",
    "        print ('The '+ train_names[pair[0]] + ' for ' + boxnames[pair[1]] + ' is significantly different')\n",
    "\n",
    "print ('\\n')\n",
    "\n",
    "test = np.argwhere(p_values_test < 0.05)\n",
    "\n",
    "if test.shape[0]==0:\n",
    "    print('There are no significant differences for testing')\n",
    "elif test.shape[0]==54:\n",
    "    print ('All are significantly different for testing')\n",
    "else:\n",
    "    for pair in test:\n",
    "        print ('The '+ test_names[pair[0]] + ' for ' + boxnames[pair[1]] + ' is significantly different')\n",
    "        "
   ]
  },
  {
   "cell_type": "markdown",
   "metadata": {},
   "source": [
    "## Printing"
   ]
  },
  {
   "cell_type": "code",
   "execution_count": null,
   "metadata": {},
   "outputs": [],
   "source": [
    "temp = pd.DataFrame([r_train1[:,2],r_train2[:,2]],columns=boxnames,index=[name1,name2])\n",
    "temp = temp.style.set_caption('Correlation Coefficient (Training)')\n",
    "display(temp)"
   ]
  },
  {
   "cell_type": "code",
   "execution_count": null,
   "metadata": {},
   "outputs": [],
   "source": [
    "temp = pd.DataFrame([r_test1[:,3],r_test2[:,3]],columns=boxnames,index=[name1,name2])\n",
    "temp = temp.style.set_caption('Correlation Coefficient (Testing)')\n",
    "display(temp)"
   ]
  },
  {
   "cell_type": "code",
   "execution_count": null,
   "metadata": {},
   "outputs": [],
   "source": []
  }
 ],
 "metadata": {
  "kernelspec": {
   "display_name": "analysis-ilias",
   "language": "python",
   "name": "python3"
  },
  "language_info": {
   "codemirror_mode": {
    "name": "ipython",
    "version": 3
   },
   "file_extension": ".py",
   "mimetype": "text/x-python",
   "name": "python",
   "nbconvert_exporter": "python",
   "pygments_lexer": "ipython3",
   "version": "3.11.11"
  }
 },
 "nbformat": 4,
 "nbformat_minor": 2
}
