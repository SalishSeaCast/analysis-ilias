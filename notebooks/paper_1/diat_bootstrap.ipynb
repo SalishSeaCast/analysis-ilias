{
 "cells": [
  {
   "cell_type": "markdown",
   "metadata": {},
   "source": [
    "# Bootstrap (Diatom)"
   ]
  },
  {
   "cell_type": "markdown",
   "metadata": {},
   "source": [
    "## Importing"
   ]
  },
  {
   "cell_type": "code",
   "execution_count": null,
   "metadata": {},
   "outputs": [],
   "source": [
    "import xarray as xr\n",
    "import numpy as np\n",
    "import pandas as pd\n",
    "import matplotlib.pyplot as plt\n",
    "\n",
    "from sklearn.compose import make_column_transformer\n",
    "from sklearn.preprocessing import MinMaxScaler\n",
    "from sklearn.preprocessing import StandardScaler\n",
    "from sklearn.feature_selection import r_regression\n",
    "\n",
    "from skfda.representation.grid import FDataGrid\n",
    "\n",
    "from skfda.misc.hat_matrix import LocalLinearRegressionHatMatrix\n",
    "from skfda.preprocessing.smoothing import KernelSmoother\n",
    "\n",
    "from skfda.ml.regression import HistoricalLinearRegression\n",
    "\n",
    "from sklearn.metrics import root_mean_squared_error as rmse\n",
    "\n",
    "import os\n",
    "import dill\n",
    "\n",
    "from tqdm import tqdm\n",
    "\n",
    "import cmocean.cm as cm\n",
    "import salishsea_tools.viz_tools as sa_vi\n",
    "\n",
    "from sklearn.utils import resample\n"
   ]
  },
  {
   "cell_type": "markdown",
   "metadata": {},
   "source": [
    "## Datasets Preparation"
   ]
  },
  {
   "cell_type": "code",
   "execution_count": null,
   "metadata": {},
   "outputs": [],
   "source": [
    "# Creation of the training - testing datasets\n",
    "def datasets_preparation(dataset, boxes, regions, name, inputs_names):\n",
    "    \n",
    "    indx = np.where((dataset.time_counter.dt.month==2) & (dataset.time_counter.dt.day==29))\n",
    "\n",
    "    targets = dataset[name].to_numpy().reshape(*dataset[name].to_numpy().shape[:1],-1)\n",
    "\n",
    "    inputs = []\n",
    "    for i in inputs_names:\n",
    "        inputs.append(dataset[i].to_numpy().reshape(*dataset[i].to_numpy().shape[:1],-1))\n",
    "    inputs = np.array(inputs)\n",
    "\n",
    "    # Deleting 29 of February\n",
    "    inputs = np.delete(inputs,indx,axis=1)\n",
    "    targets = np.delete(targets,indx,axis=0)\n",
    "\n",
    "    # Splitting in years\n",
    "    inputs = np.array(np.split(inputs,len(np.unique(dataset.time_counter.dt.year)),axis=1))\n",
    "    targets = np.array(np.split(targets,len(np.unique(dataset.time_counter.dt.year)),axis=0))\n",
    "\n",
    "    # Transposing\n",
    "    inputs = np.transpose(inputs, (1,2,0,3))\n",
    "    targets = np.transpose(targets, (1,0,2))\n",
    "\n",
    "    indx = np.where(~np.isnan(targets[0]).any(axis=0))\n",
    "    inputs = inputs[:,:,:,indx[0]]\n",
    "    targets = targets[:,:,indx[0]]\n",
    "\n",
    "    regions = np.ravel(regions)\n",
    "    regions = regions[indx[0]]\n",
    "\n",
    "    regions_indiv_t = np.zeros((len(np.unique(dataset.time_counter.dt.dayofyear))-1,len(np.unique(dataset.time_counter.dt.year)),len(boxes)))\n",
    "    regions_indiv_d = np.zeros((len(inputs_names),len(np.unique(dataset.time_counter.dt.dayofyear))-1,len(np.unique(dataset.time_counter.dt.year)),len(boxes)))\n",
    "\n",
    "    for j in range (0,len(boxes)):\n",
    "\n",
    "        regions_indiv_d[:,:,:,j] = np.nanmean(np.where(regions==j, inputs, np.nan),axis=3)\n",
    "        regions_indiv_t[:,:,j] = np.nanmean(np.where(regions==j, targets, np.nan),axis=2)\n",
    "\n",
    "    inputs = regions_indiv_d\n",
    "    targets = regions_indiv_t\n",
    "\n",
    "    return(inputs, targets)\n"
   ]
  },
  {
   "cell_type": "markdown",
   "metadata": {},
   "source": [
    "## Regressor"
   ]
  },
  {
   "cell_type": "code",
   "execution_count": null,
   "metadata": {},
   "outputs": [],
   "source": [
    "def regressor (inputs, targets, n_intervals, lag):\n",
    "\n",
    "    # Printing of the correlation coefficients\n",
    "    temp_inputs = np.reshape(inputs,(len(inputs),inputs.shape[1]*inputs.shape[2]), order='F')\n",
    "    temp_inputs = temp_inputs.transpose()\n",
    "    temp_targets = np.reshape(targets, (targets.shape[0]*targets.shape[1]), order='F')\n",
    "\n",
    "    # Scaling the inputs\n",
    "    scaler_inputs = make_column_transformer((StandardScaler(), np.arange(0,len(inputs))))\n",
    "    temp_inputs = scaler_inputs.fit_transform(temp_inputs)\n",
    "    temp_inputs = temp_inputs.transpose()\n",
    "    inputs = np.reshape(temp_inputs,(len(inputs),inputs.shape[1],inputs.shape[2]), order='F')   \n",
    "    \n",
    "    # Scaling the targets\n",
    "    scaler_targets = StandardScaler()\n",
    "    temp_targets = np.expand_dims(temp_targets,-1)\n",
    "    temp_targets = scaler_targets.fit_transform(temp_targets)\n",
    "    targets = temp_targets.reshape(targets.shape, order='F')\n",
    "\n",
    "    # Final transformations\n",
    "    inputs = np.transpose(inputs,axes=(2,1,0))\n",
    "    targets = targets.transpose()\n",
    "    inputs = FDataGrid(data_matrix=inputs, grid_points=np.arange(0,len(targets[0])))\n",
    "    targets = FDataGrid(data_matrix=targets, grid_points=np.arange(0,len(targets[0])))\n",
    "\n",
    "    # Smoothing\n",
    "    # targets = targets.to_basis(FourierBasis(n_basis=10))\n",
    "    kernel_estimator = LocalLinearRegressionHatMatrix(bandwidth=1)\n",
    "    smoother = KernelSmoother(kernel_estimator=kernel_estimator)\n",
    "    inputs = smoother.fit_transform(inputs)\n",
    "\n",
    "    model = HistoricalLinearRegression(n_intervals=n_intervals, lag=lag)\n",
    "    regr = model.fit(inputs,targets)\n",
    "\n",
    "    return(regr,scaler_inputs,scaler_targets,smoother)\n"
   ]
  },
  {
   "cell_type": "markdown",
   "metadata": {},
   "source": [
    "## Scaling"
   ]
  },
  {
   "cell_type": "code",
   "execution_count": null,
   "metadata": {},
   "outputs": [],
   "source": [
    "def scaling(regr,inputs,scaler_inputs,targets,scaler_targets,smoother):\n",
    "\n",
    "    # Scaling the inputs\n",
    "    temp = np.reshape(inputs,(len(inputs),inputs.shape[1]*inputs.shape[2]), order='F')\n",
    "    temp = temp.transpose()\n",
    "    temp = scaler_inputs.transform(temp)\n",
    "    temp = temp.transpose()        \n",
    "    inputs = np.reshape(temp,(len(inputs),inputs.shape[1],inputs.shape[2]), order='F')\n",
    "        \n",
    "    inputs = np.transpose(inputs,axes=(2,1,0))\n",
    "    inputs = FDataGrid(data_matrix=inputs, grid_points=np.arange(0,len(targets)))\n",
    "\n",
    "    inputs = smoother.transform(inputs)\n",
    "\n",
    "    predictions = regr.predict(inputs)\n",
    "\n",
    "    # Post-processing of predictions\n",
    "    predictions = np.array(predictions.to_grid(np.arange(0,len(targets))).data_matrix)\n",
    "    predictions = np.squeeze(predictions,2)\n",
    "\n",
    "    # Scaling the predictions\n",
    "    temp = np.reshape(predictions, (targets.shape[0]*targets.shape[1]), order='F')\n",
    "    temp = np.expand_dims(temp,axis=-1)\n",
    "    temp = scaler_targets.inverse_transform(temp)\n",
    "    predictions = temp.reshape(predictions.shape, order='F')\n",
    "    predictions = predictions.transpose()\n",
    "\n",
    "    return(predictions)\n"
   ]
  },
  {
   "cell_type": "markdown",
   "metadata": {},
   "source": [
    "## Plotting (regions)"
   ]
  },
  {
   "cell_type": "code",
   "execution_count": null,
   "metadata": {},
   "outputs": [],
   "source": [
    "def plot_box(ax, corn, colour):\n",
    "\n",
    "    ax.plot([corn[2], corn[3], corn[3], corn[2], corn[2]], \n",
    "    [corn[0], corn[0], corn[1], corn[1], corn[0]], '-', color=colour)\n",
    "    "
   ]
  },
  {
   "cell_type": "markdown",
   "metadata": {},
   "source": [
    "## Plotting (histograms)"
   ]
  },
  {
   "cell_type": "code",
   "execution_count": null,
   "metadata": {},
   "outputs": [],
   "source": [
    "def plot_hist (variable,name,boxnames):\n",
    "\n",
    "    fig, axs = plt.subplots(1,len(boxnames), figsize = (20,6), layout='constrained')\n",
    "\n",
    "    for j in range(0,len(boxnames)):\n",
    "\n",
    "        h = axs[j].hist(variable[:,j])\n",
    "        axs[j].set_title(boxnames[j])\n",
    "\n",
    "        axs[j].set_ylabel('Frequency')\n",
    "        fig.suptitle(name)\n",
    "        "
   ]
  },
  {
   "cell_type": "markdown",
   "metadata": {},
   "source": [
    "## Training - Testing"
   ]
  },
  {
   "cell_type": "code",
   "execution_count": null,
   "metadata": {},
   "outputs": [],
   "source": [
    "def train_test(dataset,inputs,targets,dataset_test,inputs_test,targets_test,boxes,n_intervals,lags):\n",
    "\n",
    "    predictions = np.full(targets.shape,np.nan)\n",
    "    predictions_test = np.full(targets_test.shape,np.nan)\n",
    "\n",
    "    for i in range (0,len(boxes)):\n",
    "\n",
    "        inputs2 = inputs[:,:,:,i] # inputs of the i box\n",
    "        targets2 = targets[:,:,i] # targets of the i box\n",
    "        regr, scaler_inputs,scaler_targets,smoother = regressor(inputs2,targets2,n_intervals,lags[i])\n",
    "        predictions[:,:,i] = scaling(regr,inputs2,scaler_inputs,targets2,scaler_targets,smoother) # putting them in the right place\n",
    "\n",
    "        # Testing\n",
    "        inputs2 = inputs_test[:,:,:,i] # inputs of the i box\n",
    "        targets2 = targets_test[:,:,i] # targets of the i box\n",
    "        predictions_test[:,:,i] = scaling(regr,inputs2,scaler_inputs,targets2,scaler_targets,smoother) # putting them in the right place\n",
    "\n",
    "    season = np.mean(targets,axis=1)\n",
    "\n",
    "    season_train = np.tile(season,len(np.unique(dataset.time_counter.dt.year))) # Broadcasting season to all training years\n",
    "    season_train = np.reshape(season_train,targets.shape)\n",
    "\n",
    "    season_test = np.tile(season,len(np.unique(dataset_test.time_counter.dt.year))) # Broadcasting season to all testing years\n",
    "    season_test = np.reshape(season_test,targets_test.shape)\n",
    "\n",
    "    return(predictions,predictions_test,season_train,season_test)\n"
   ]
  },
  {
   "cell_type": "markdown",
   "metadata": {},
   "source": [
    "## Metrics (Training)"
   ]
  },
  {
   "cell_type": "code",
   "execution_count": null,
   "metadata": {},
   "outputs": [],
   "source": [
    "def metrics_train (targets,predictions,season_train,boxes):\n",
    "\n",
    "    r_train = np.full(len(boxes),np.nan)\n",
    "    rms_train = np.full(len(boxes),np.nan)\n",
    "    slope_train = np.full(len(boxes),np.nan)\n",
    "\n",
    "    r_train_season = np.full(len(boxes),np.nan)\n",
    "    slope_train_season = np.full(len(boxes),np.nan)\n",
    "\n",
    "    for i in range (0,len(boxes)):\n",
    "\n",
    "        r_train[i] = np.round(np.corrcoef(np.ravel(targets[:,:,i]),np.ravel(predictions[:,:,i]))[0][1],3)\n",
    "        rms_train[i] = rmse(np.ravel(targets[:,:,i]),np.ravel(predictions[:,:,i])) / np.mean(targets[:,:,i]) * 100\n",
    "        m,_ = np.polyfit(np.ravel(targets[:,:,i]),np.ravel(predictions[:,:,i]), deg=1)\n",
    "        slope_train[i] = np.round(m,3)\n",
    "\n",
    "        r_train_season[i] = np.round(np.corrcoef(np.ravel(targets[:,:,i]-season_train[:,:,i]),np.ravel(predictions[:,:,i]-season_train[:,:,i]))[0][1],3)\n",
    "        m,_ = np.polyfit(np.ravel(targets[:,:,i]-season_train[:,:,i]),np.ravel(predictions[:,:,i]-season_train[:,:,i]), deg=1)\n",
    "        slope_train_season[i] = np.round(m,3)\n",
    "\n",
    "    return (r_train,rms_train,slope_train,r_train_season,slope_train_season)\n"
   ]
  },
  {
   "cell_type": "markdown",
   "metadata": {},
   "source": [
    "## Metrics (Testing)"
   ]
  },
  {
   "cell_type": "code",
   "execution_count": null,
   "metadata": {},
   "outputs": [],
   "source": [
    "def metrics_test (targets_test,predictions_test,season_test,boxes):\n",
    "\n",
    "    r_test = np.full(len(boxes),np.nan)\n",
    "    rms_test = np.full(len(boxes),np.nan)\n",
    "    slope_test = np.full(len(boxes),np.nan)\n",
    "\n",
    "    r_test_season = np.full(len(boxes),np.nan)\n",
    "    slope_test_season = np.full(len(boxes),np.nan)\n",
    "\n",
    "    targets_sum = np.full((len(boxes), targets_test.shape[1]), np.nan)\n",
    "    predictions_sum = np.full((len(boxes), targets_test.shape[1]), np.nan)\n",
    "\n",
    "    rms_test_s = np.full(len(boxes),np.nan)\n",
    "\n",
    "    for i in range (0,len(boxes)):\n",
    "\n",
    "        r_test[i] = np.round(np.corrcoef(np.ravel(targets_test[:,:,i]),np.ravel(predictions_test[:,:,i]))[0][1],3)\n",
    "        rms_test[i] = rmse(np.ravel(targets_test[:,:,i]),np.ravel(predictions_test[:,:,i])) / np.mean(targets_test[:,:,i]) * 100\n",
    "        m,_ = np.polyfit(np.ravel(targets_test[:,:,i]),np.ravel(predictions_test[:,:,i]), deg=1)\n",
    "        slope_test[i] = np.round(m,3)\n",
    "\n",
    "        r_test_season[i] = np.round(np.corrcoef(np.ravel(targets_test[:,:,i]-season_test[:,:,i]),np.ravel(predictions_test[:,:,i]-season_test[:,:,i]))[0][1],3)\n",
    "        m,_ = np.polyfit(np.ravel(targets_test[:,:,i]-season_test[:,:,i]),np.ravel(predictions_test[:,:,i]-season_test[:,:,i]), deg=1)\n",
    "        slope_test_season[i] = np.round(m,3)\n",
    "\n",
    "        rms_test_s[i] = 0\n",
    "\n",
    "        for j in range (0, targets_test.shape[1]):\n",
    "\n",
    "            targets_sum[i,j] = np.sum(targets_test[:,j,i]-season_test[:,j,i])\n",
    "            predictions_sum[i,j] = np.sum(predictions_test[:,j,i]-season_test[:,j,i])\n",
    "        \n",
    "            rms_test_s[i] = rms_test_s[i] + (targets_sum[i,j] - predictions_sum[i,j])**2\n",
    "\n",
    "        rms_test_s[i] = np.sqrt(rms_test_s[i])/2\n",
    "\n",
    "    return (r_test,rms_test,slope_test,r_test_season,slope_test_season,rms_test_s)\n"
   ]
  },
  {
   "cell_type": "markdown",
   "metadata": {},
   "source": [
    "## Initiation"
   ]
  },
  {
   "cell_type": "code",
   "execution_count": null,
   "metadata": {},
   "outputs": [],
   "source": [
    "name = 'Diatom'\n",
    "units = '[mmol m-2]'\n",
    "category = 'Concentrations'\n",
    "\n",
    "filename = '/data/ibougoudis/MOAD/files/inputs/jan_apr.nc'\n",
    "inputs_names = ['Summation_of_solar_radiation','Mean_wind_speed','Mean_air_temperature']\n",
    "n_intervals = 4\n",
    "\n",
    "if filename[35:42] == 'jan_mar': # 75 days, 1st period\n",
    "    if n_intervals==3:\n",
    "        lags = [24.6, 49.3, 49.3, 24.6, 24.6, 24.6, 24.6, 24.6, 24.6]\n",
    "    elif n_intervals==4:\n",
    "        lags = [18.5, 37, 18.5, 18.5, 18.5, 37, 18.5, 18.5, 18.5] \n",
    "    period = '(16 Jan - 31 Mar)'\n",
    "    id = '1'\n",
    "\n",
    "elif filename[35:42] == 'jan_apr': # 120 days, 2nd period\n",
    "    if n_intervals==3:\n",
    "        lags = [39.6, 39.6, 39.6, 39.6, 39.6, 39.6, 39.6, 39.6, 39.6]\n",
    "    elif n_intervals==4:\n",
    "        lags = [29.75, 29.75, 29.75, 29.75, 29.75, 29.75, 29.75, 29.75, 29.75]\n",
    "    elif n_intervals==5:\n",
    "        lags = [47.6, 23.8, 23.8, 47.6, 47.6, 47.6, 47.6, 23.8, 95.2] \n",
    "    period = '(01 Jan - 30 Apr)'\n",
    "    id = '2'\n",
    "\n",
    "elif filename[35:42] == 'feb_apr': # 75 days, 3rd period\n",
    "    if n_intervals==3:\n",
    "        lags = [74, 49.3, 49.3, 74, 49.3, 49.3, 49.3, 24.6, 24.6] \n",
    "    elif n_intervals==4:\n",
    "        lags = [55.5, 55.5, 55.5, 37, 37, 55.5, 55.5, 37, 37] \n",
    "    period = '(15 Feb - 30 Apr)'\n",
    "    id = '3'\n",
    "\n",
    "ds = xr.open_dataset(filename)\n"
   ]
  },
  {
   "cell_type": "markdown",
   "metadata": {},
   "source": [
    "## Regions"
   ]
  },
  {
   "cell_type": "code",
   "execution_count": null,
   "metadata": {},
   "outputs": [],
   "source": [
    "fig, ax = plt.subplots(1, 1, figsize=(5, 9))\n",
    "mycmap = cm.deep\n",
    "mycmap.set_bad('grey')\n",
    "ax.pcolormesh(ds[name][0], cmap=mycmap)\n",
    "sa_vi.set_aspect(ax)\n",
    "\n",
    "SoG_north = [650, 730, 100, 200]\n",
    "plot_box(ax, SoG_north, 'g')\n",
    "SoG_center = [450, 550, 200, 300]\n",
    "plot_box(ax, SoG_center, 'b')\n",
    "Fraser_plume = [380, 460, 260, 330]\n",
    "plot_box(ax, Fraser_plume, 'm')\n",
    "SoG_south = [320, 380, 280, 350]\n",
    "plot_box(ax, SoG_south, 'k')\n",
    "Haro_Boundary = [290, 350, 210, 280]\n",
    "plot_box(ax, Haro_Boundary, 'm')\n",
    "JdF_west = [250, 425, 25, 125]\n",
    "plot_box(ax, JdF_west, 'c')\n",
    "JdF_east = [200, 290, 150, 260]\n",
    "plot_box(ax, JdF_east, 'w')\n",
    "PS_all = [0, 200, 80, 320]\n",
    "plot_box(ax, PS_all, 'm')\n",
    "PS_main = [20, 150, 200, 280]\n",
    "plot_box(ax, PS_main, 'r')\n",
    "\n",
    "boxnames = ['SoG_north','SoG_center','Fraser_plume','SoG_south', 'Haro_Boundary', 'JdF_west', 'JdF_east', 'PS_all', 'PS_main']\n",
    "fig.legend(boxnames)\n",
    "\n",
    "boxes = [SoG_north,SoG_center,Fraser_plume,SoG_south,Haro_Boundary,JdF_west,JdF_east,PS_all,PS_main]\n",
    "\n",
    "regions0 = np.full((len(ds.y),len(ds.x)),np.nan)\n",
    "\n",
    "for i in range (0, len(boxes)):\n",
    "    regions0[boxes[i][0]:boxes[i][1], boxes[i][2]:boxes[i][3]] = i\n",
    "\n",
    "regions0 = xr.DataArray(regions0,dims = ['y','x'])\n",
    "\n",
    "# # Low resolution\n",
    "\n",
    "# temp = []\n",
    "\n",
    "# for i in boxes:\n",
    "#     temp.append([x//5 for x in i])\n",
    "\n",
    "# boxes = temp"
   ]
  },
  {
   "cell_type": "markdown",
   "metadata": {},
   "source": [
    "## Datasets"
   ]
  },
  {
   "cell_type": "code",
   "execution_count": null,
   "metadata": {},
   "outputs": [],
   "source": [
    "# Low resolution\n",
    "\n",
    "# ds = ds.isel(y=(np.arange(ds.y[0], ds.y[-1], 5)), \n",
    "#     x=(np.arange(ds.x[0], ds.x[-1], 5)))\n",
    "\n",
    "# regions0 = regions0.isel(y=(np.arange(regions0.y[0], regions0.y[-1], 5)), \n",
    "#     x=(np.arange(regions0.x[0], regions0.x[-1], 5)))\n",
    "\n",
    "dataset = ds.sel(time_counter = slice('2007', '2020'))\n",
    "inputs,targets = datasets_preparation(dataset,boxes,regions0,name,inputs_names)\n",
    "\n",
    "dataset_test = ds.sel(time_counter = slice('2021', '2024'))\n",
    "inputs_test,targets_test = datasets_preparation(dataset_test,boxes,regions0,name,inputs_names)\n"
   ]
  },
  {
   "cell_type": "markdown",
   "metadata": {},
   "source": [
    "## Bootstrap"
   ]
  },
  {
   "cell_type": "code",
   "execution_count": null,
   "metadata": {},
   "outputs": [],
   "source": [
    "n_resamples = 1000\n",
    "\n",
    "r_train = np.full((n_resamples+1, len(boxes)), np.nan)\n",
    "rms_train = np.full_like(r_train, np.nan)\n",
    "slope_train = np.full_like(r_train, np.nan)\n",
    "\n",
    "r_train_season = np.full_like(r_train, np.nan)\n",
    "slope_train_season = np.full_like(r_train, np.nan)\n",
    "\n",
    "r_test = np.full_like(r_train, np.nan)\n",
    "rms_test = np.full_like(r_train, np.nan)\n",
    "slope_test = np.full_like(r_train, np.nan)\n",
    "\n",
    "r_test_season = np.full_like(r_train, np.nan)\n",
    "slope_test_season = np.full_like(r_train, np.nan)\n",
    "\n",
    "rms_test_s = np.full_like(r_train, np.nan)\n",
    "\n",
    "# For the first (original) training session\n",
    "# predictions0 are the original predictions (needed during the iterations)\n",
    "predictions0,predictions_test,season_train,season_test = train_test(dataset,inputs,targets,dataset_test,inputs_test,targets_test,boxes,n_intervals,lags)\n",
    "r_train[0],rms_train[0],slope_train[0],r_train_season[0],slope_train_season[0] = metrics_train(targets,predictions0,season_train,boxes)\n",
    "r_test[0],rms_test[0],slope_test[0],r_test_season[0],slope_test_season[0],rms_test_s[0] = metrics_test(targets_test,predictions_test,season_test,boxes)\n",
    "\n",
    "errors = targets - predictions0\n",
    "\n",
    "for j in tqdm(range (0, n_resamples)):\n",
    "\n",
    "    temp = resample(errors.transpose(1,0,2))\n",
    "    errors_new = temp.transpose(1,0,2)\n",
    "    targets_new = errors_new + predictions0\n",
    "\n",
    "    predictions,predictions_test,season_train,season_test = train_test(dataset,inputs,targets_new,dataset_test,inputs_test,targets_test,boxes,n_intervals,lags)\n",
    "    r_train[j+1],rms_train[j+1],slope_train[j+1],r_train_season[j+1],slope_train_season[j+1] = metrics_train(targets_new,predictions,season_train,boxes)\n",
    "    r_test[j+1],rms_test[j+1],slope_test[j+1],r_test_season[j+1],slope_test_season[j+1],rms_test_s[j+1] = metrics_test(targets_test,predictions_test,season_test,boxes)\n",
    "    "
   ]
  },
  {
   "cell_type": "markdown",
   "metadata": {},
   "source": [
    "## Histograms"
   ]
  },
  {
   "cell_type": "code",
   "execution_count": null,
   "metadata": {},
   "outputs": [],
   "source": [
    "plot_hist(r_train_season,'Correlation Coefficient (Training, no seasonality)', boxnames)\n",
    "plot_hist(r_test_season,'Correlation Coefficient (Testing, no seasonality)', boxnames)\n",
    "plot_hist(rms_test_s,'Error (Testing)', boxnames)\n"
   ]
  },
  {
   "cell_type": "markdown",
   "metadata": {},
   "source": [
    "## Saving"
   ]
  },
  {
   "cell_type": "code",
   "execution_count": null,
   "metadata": {},
   "outputs": [],
   "source": [
    "path = '/data/ibougoudis/MOAD/files/results/' + name + '/' + name[0:4].lower() +  '_func_reg' + id + '_boxes_s1_boot/'\n",
    "\n",
    "os.makedirs(path, exist_ok=True)\n",
    "\n",
    "with open(path + 'train_metrics.pkl', 'wb') as f:\n",
    "    dill.dump([r_train,rms_train,slope_train,r_train_season,slope_train_season], f)\n",
    "\n",
    "with open(path + 'test_metrics.pkl', 'wb') as f:\n",
    "    dill.dump([r_test,rms_test,slope_test,r_test_season,slope_test_season,rms_test_s], f)\n",
    "\n",
    "with open(path + 'readme.txt', 'w') as f:\n",
    "    f.write ('name: ' + name)\n",
    "    f.write('\\n')\n",
    "    f.write('period: ' + filename[35:42])\n",
    "    f.write ('\\n')\n",
    "    f.write ('input_features: ')\n",
    "    f.write (str([i for i in inputs_names]))\n",
    "    f.write ('\\n')\n",
    "    f.write('n_intervals: ' + str(n_intervals))\n",
    "    f.write ('\\n')\n",
    "    f.write('lags: ')\n",
    "    f.write (str([i for i in lags]))\n",
    "    f.write ('\\n')\n",
    "    f.write('n_resamples: ')\n",
    "    f.write(str(n_resamples))\n",
    "    f.write ('\\n')\n"
   ]
  }
 ],
 "metadata": {
  "kernelspec": {
   "display_name": "analysis-ilias",
   "language": "python",
   "name": "python3"
  },
  "language_info": {
   "codemirror_mode": {
    "name": "ipython",
    "version": 3
   },
   "file_extension": ".py",
   "mimetype": "text/x-python",
   "name": "python",
   "nbconvert_exporter": "python",
   "pygments_lexer": "ipython3",
   "version": "3.11.11"
  }
 },
 "nbformat": 4,
 "nbformat_minor": 2
}
