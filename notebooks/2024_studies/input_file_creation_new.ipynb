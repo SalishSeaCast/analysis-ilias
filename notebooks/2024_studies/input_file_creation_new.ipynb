{
 "cells": [
  {
   "cell_type": "markdown",
   "metadata": {},
   "source": [
    "# Notebook to create netcdf file with integrated parameters (new approach)"
   ]
  },
  {
   "cell_type": "markdown",
   "metadata": {},
   "source": [
    "## Importing"
   ]
  },
  {
   "cell_type": "code",
   "execution_count": null,
   "metadata": {},
   "outputs": [],
   "source": [
    "import xarray as xr\n",
    "import numpy as np\n",
    "import pandas as pd\n",
    "\n",
    "import os\n",
    "\n",
    "from tqdm import tqdm\n"
   ]
  },
  {
   "cell_type": "markdown",
   "metadata": {},
   "source": [
    "## Datasets Preparation"
   ]
  },
  {
   "cell_type": "code",
   "execution_count": null,
   "metadata": {},
   "outputs": [],
   "source": [
    "def datasets_preparation():\n",
    "\n",
    "    ds_name = ('/results2/SalishSea/nowcast-green.202111/' + i[1] + '/SalishSea_1d_' + '20' + str(i[1][5:7]) + str(dict_month[i[1][2:5]])+str(i[1][0:2]) + '_' + '20' + str(i[1][5:7]) + str(dict_month[i[1][2:5]]) + str(i[1][0:2]) + '_grid_T.nc')\n",
    "    ds_bio_name = ('/results2/SalishSea/nowcast-green.202111/' + i[1] + '/SalishSea_1d_'  + '20' + str(i[1][5:7]) + str(dict_month[i[1][2:5]])+str(i[1][0:2]) + '_' + '20' + str(i[1][5:7]) + str(dict_month[i[1][2:5]]) + str(i[1][0:2]) + '_biol_T.nc')\n",
    "\n",
    "    ds = xr.open_dataset (ds_name)\n",
    "    ds_bio = xr.open_dataset (ds_bio_name)\n",
    "\n",
    "    temp_i1 = ((ds.votemper.where(mask==1)[0,0:15] * ds.e3t.where(mask==1)\n",
    "        [0,0:15]).sum('deptht', skipna = True, min_count = 15) / mesh.gdepw_0[0,15])\n",
    "    temp_i2 = ((ds.votemper.where(mask==1)[0,15:27] * ds.e3t.where(mask==1)\n",
    "        [0,15:27]).sum('deptht', skipna = True, min_count = 12) / (mesh.gdepw_0\n",
    "        [0,27] - mesh.gdepw_0[0,14]))\n",
    "\n",
    "    saline_i1 = ((ds.vosaline.where(mask==1)[0,0:15] * ds.e3t.where(mask==1)\n",
    "        [0,0:15]).sum('deptht', skipna = True, min_count = 15) / mesh.gdepw_0[0,15])\n",
    "    saline_i2 = ((ds.vosaline.where(mask==1)[0,15:27] * ds.e3t.where(mask==1)\n",
    "        [0,15:27]).sum('deptht', skipna = True, min_count = 12) / (mesh.gdepw_0\n",
    "        [0,27] - mesh.gdepw_0[0,14]))\n",
    "\n",
    "    sil_i = ((ds_bio.silicon.where(mask==1)[0,0:27] * ds.e3t.where(mask==1)\n",
    "        [0,0:27]).sum('deptht', skipna = True, min_count = 27) / mesh.gdepw_0[0,27])\n",
    "    nitr_i = ((ds_bio.nitrate.where(mask==1)[0,0:27] * ds.e3t.where(mask==1)\n",
    "        [0,0:27]).sum('deptht', skipna = True, min_count = 27) / mesh.gdepw_0[0,27])\n",
    "    ammo_i = ((ds_bio.ammonium.where(mask==1)[0,0:27] * ds.e3t.where(mask==1)\n",
    "        [0,0:27]).sum('deptht', skipna = True, min_count = 27) / mesh.gdepw_0[0,27])\n",
    "\n",
    "    diat_i = ((ds_bio.diatoms.where(mask==1)[0,0:27] * ds.e3t.where(mask==1)\n",
    "        [0,0:27]).sum('deptht', skipna = True, min_count = 27) / mesh.gdepw_0[0,27])\n",
    "    flag_i = ((ds_bio.flagellates.where(mask==1)[0,0:27] * ds.e3t.where(mask==1)\n",
    "        [0,0:27]).sum('deptht', skipna = True, min_count = 27) / mesh.gdepw_0[0,27])\n",
    "\n",
    "    micro_i = ((ds_bio.microzooplankton.where(mask==1)[0,0:27] * ds.e3t.where(mask==1)\n",
    "        [0,0:27]).sum('deptht', skipna = True, min_count = 27) / mesh.gdepw_0[0,27])\n",
    "    meso_i = ((ds_bio.mesozooplankton.where(mask==1)[0,0:27] * ds.e3t.where(mask==1)\n",
    "        [0,0:27]).sum('deptht', skipna = True, min_count = 27) / mesh.gdepw_0[0,27])\n",
    "\n",
    "    return (temp_i1, temp_i2, saline_i1, saline_i2, sil_i, nitr_i, ammo_i, diat_i, flag_i, micro_i, meso_i)\n"
   ]
  },
  {
   "cell_type": "markdown",
   "metadata": {},
   "source": [
    "## Datasets Preparation 2"
   ]
  },
  {
   "cell_type": "code",
   "execution_count": null,
   "metadata": {},
   "outputs": [],
   "source": [
    "def datasets_preparation2(name, units):\n",
    "\n",
    "    dataset = xr.DataArray(coords=coords, dims = ['time_counter', 'y', 'x'],\n",
    "        attrs=dict(description='Integrated quantity of interest',\n",
    "        long_name =name,\n",
    "        units=units))\n",
    "        \n",
    "    return (dataset)"
   ]
  },
  {
   "cell_type": "markdown",
   "metadata": {},
   "source": [
    "## File Creation"
   ]
  },
  {
   "cell_type": "code",
   "execution_count": null,
   "metadata": {},
   "outputs": [],
   "source": [
    "def file_creation(variable, name):\n",
    "\n",
    "    temp = variable.to_dataset(name=name)\n",
    "    temp.to_netcdf(path='/data/ibougoudis/MOAD/analysis-ilias/notebooks/integrated_original.nc', mode='a', encoding={name:{\"zlib\": True, \"complevel\": 9}})\n"
   ]
  },
  {
   "cell_type": "markdown",
   "metadata": {},
   "source": [
    "## Data Collection"
   ]
  },
  {
   "cell_type": "code",
   "execution_count": null,
   "metadata": {},
   "outputs": [],
   "source": [
    "dict_month = {'jan': '01',\n",
    "    'feb': '02',\n",
    "    'mar': '03',\n",
    "    'apr': '04',\n",
    "    'may': '05',\n",
    "    'jun': '06',\n",
    "    'jul': '07',\n",
    "    'aug': '08',\n",
    "    'sep': '09',\n",
    "    'oct': '10',\n",
    "    'nov': '11',\n",
    "    'dec': '12'}\n",
    "\n",
    "path = os.listdir('/results2/SalishSea/nowcast-green.202111/')\n",
    "\n",
    "folders = [x for x in path if ((x[2:5]=='mar' or x[2:5]=='apr' or (x[2:5]=='feb' and x[0:2] > '14')) and (x[5:7]<'24'))]\n",
    "indx_dates=(np.argsort(pd.to_datetime(folders, format=\"%d%b%y\")))\n",
    "folders = [folders[i] for i in indx_dates]\n",
    "\n",
    "# Open the mesh mask\n",
    "mesh = xr.open_dataset('/home/sallen/MEOPAR/grid/mesh_mask202108.nc')\n",
    "mask = mesh.tmask.to_numpy()\n",
    "\n",
    "coords = dict(time_counter=pd.to_datetime(folders, format=\"%d%b%y\"), y=mesh.y, x=mesh.x) \n",
    "\n",
    "temp_i1_all = datasets_preparation2('Conservative Temperature (0-15m)', '[degree_C m-1]')\n",
    "temp_i2_all = datasets_preparation2('Conservative Temperature (15m-100m)', '[degree_C m-1]')\n",
    "saline_i1_all = datasets_preparation2('Reference Salinity (0-15m)', '[g kg-1 m-1]')\n",
    "saline_i2_all = datasets_preparation2('Reference Salinity (15m-100m)', '[g kg-1 m-1]')\n",
    "\n",
    "sil_i_all = datasets_preparation2('Silicon Concentration', '[mmol m-2]')\n",
    "nitr_i_all = datasets_preparation2('Nitrate Concentration', '[mmol m-2]')\n",
    "ammo_i_all = datasets_preparation2('Ammonium Concentration', '[mmol m-2]')\n",
    "\n",
    "diat_i_all = datasets_preparation2('Diatom Concentration', '[mmol m-2]')\n",
    "flag_i_all = datasets_preparation2('Flagellate Concentration', '[mmol m-2]')\n",
    "\n",
    "micro_i_all = datasets_preparation2('Microzooplankton Concentration', '[mmol m-2]')\n",
    "meso_i_all = datasets_preparation2('Mesozooplankton Concentration', '[mmol m-2]')\n",
    "\n",
    "for i in tqdm(enumerate(folders)):\n",
    "\n",
    "    temp_i1, temp_i2, saline_i1, saline_i2, sil_i, nitr_i, ammo_i, diat_i, flag_i, micro_i, meso_i = datasets_preparation()\n",
    "\n",
    "    temp_i1_all[i[0]] = temp_i1\n",
    "    temp_i2_all[i[0]] = temp_i2\n",
    "    saline_i1_all[i[0]] = saline_i1\n",
    "    saline_i2_all[i[0]] = saline_i2\n",
    "\n",
    "    sil_i_all[i[0]] = sil_i\n",
    "    nitr_i_all[i[0]] = nitr_i\n",
    "    ammo_i_all[i[0]] = ammo_i\n",
    "\n",
    "    diat_i_all[i[0]] = diat_i\n",
    "    flag_i_all[i[0]] = flag_i\n",
    "\n",
    "    micro_i_all[i[0]] = micro_i\n",
    "    meso_i_all[i[0]] = meso_i\n",
    "\n",
    "# Calling file creation\n",
    "\n",
    "file_creation(temp_i1_all, 'Temperature_(0m-15m)')\n",
    "file_creation(temp_i2_all, 'Temperature_(15m-100m)')\n",
    "file_creation(saline_i1_all, 'Salinity_(0m-15m)')\n",
    "file_creation(saline_i2_all, 'Salinity_(15m-100m)')\n",
    "\n",
    "file_creation(sil_i_all, 'Silicon')\n",
    "file_creation(nitr_i_all, 'Nitrate')\n",
    "file_creation(ammo_i_all, 'Ammonium')\n",
    "\n",
    "file_creation(diat_i_all, 'Diatom')\n",
    "file_creation(flag_i_all, 'Flagellate')\n",
    "\n",
    "file_creation(micro_i_all, 'Microzooplankton')\n",
    "file_creation(meso_i_all, 'Mesozooplankton')\n"
   ]
  },
  {
   "cell_type": "code",
   "execution_count": null,
   "metadata": {},
   "outputs": [],
   "source": []
  }
 ],
 "metadata": {
  "kernelspec": {
   "display_name": "analysis-ilias",
   "language": "python",
   "name": "python3"
  },
  "language_info": {
   "codemirror_mode": {
    "name": "ipython",
    "version": 3
   },
   "file_extension": ".py",
   "mimetype": "text/x-python",
   "name": "python",
   "nbconvert_exporter": "python",
   "pygments_lexer": "ipython3",
   "version": "3.11.8"
  }
 },
 "nbformat": 4,
 "nbformat_minor": 2
}
