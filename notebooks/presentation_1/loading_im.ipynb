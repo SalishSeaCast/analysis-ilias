{
 "cells": [
  {
   "cell_type": "markdown",
   "id": "5214efd5",
   "metadata": {},
   "source": [
    "# Loading radar plots"
   ]
  },
  {
   "cell_type": "markdown",
   "id": "3aacfe51",
   "metadata": {},
   "source": [
    "## Importing"
   ]
  },
  {
   "cell_type": "code",
   "execution_count": null,
   "id": "73fc446e",
   "metadata": {},
   "outputs": [],
   "source": [
    "import xarray as xr\n",
    "import numpy as np\n",
    "import pandas as pd\n",
    "import matplotlib.pyplot as plt\n",
    "import xskillscore as xs\n",
    "\n",
    "import os\n",
    "import lzma\n",
    "import dill\n",
    "\n",
    "import cmocean as cm\n",
    "import salishsea_tools.viz_tools as sa_vi\n",
    "\n"
   ]
  },
  {
   "cell_type": "markdown",
   "id": "63936316",
   "metadata": {},
   "source": [
    "## Loading"
   ]
  },
  {
   "cell_type": "code",
   "execution_count": null,
   "id": "e4e6fe81",
   "metadata": {},
   "outputs": [],
   "source": [
    "name = 'Diatom'\n",
    "name2 = 'DB'\n",
    "id = '2'\n",
    "\n",
    "if 'Production' in name: \n",
    "\n",
    "    path = '/data/ibougoudis/MOAD/files/results/' + name + '/single_runs/' + name[0:4].lower() + '_pr_hist' + id + '_f_im/'\n",
    "    with open(path + 'importances.pkl', 'rb') as f:\n",
    "        [r_importance, rms_importance] = dill.load(f)\n",
    "    with open(path + 'metrics.pkl', 'rb') as f:\n",
    "        [boxnames, names, r_s, r_b, rms_s, rms_b] = dill.load(f)\n",
    "\n",
    "else:\n",
    "\n",
    "    path = '/data/ibougoudis/MOAD/files/results/' + name + '/single_runs/' + name[0:4].lower() + '_func_reg' + id + '_boxes_s_df_im/'\n",
    "    with open(path + 'importances.pkl', 'rb') as f:\n",
    "        [coef_max] = dill.load(f)\n",
    "    with open(path + 'metrics.pkl', 'rb') as f:\n",
    "        [boxnames, inputs_names2, names, r_b, rms_b] = dill.load(f)\n",
    "    with lzma.open(path + 'regr_all.xz', 'rb') as f:\n",
    "        regr_all = dill.load(f) \n",
    "\n",
    "if name2 == 'DPR':\n",
    "    rms_importance_dpr = rms_importance\n",
    "elif name2 == 'NPR':\n",
    "    rms_importance_npr = rms_importance\n"
   ]
  },
  {
   "cell_type": "markdown",
   "id": "d41da0b5",
   "metadata": {},
   "source": [
    "## Figure 2 (RMS Testing)"
   ]
  },
  {
   "cell_type": "code",
   "execution_count": null,
   "id": "be2170e0",
   "metadata": {},
   "outputs": [],
   "source": [
    "if 'Production' in name: \n",
    "    fig, ax = plt.subplots(layout='constrained', subplot_kw={'projection': 'polar'})\n",
    "\n",
    "    theta = np.arange(len(names) + 1) / float(len(names)) * 2 * np.pi\n",
    "\n",
    "    values = np.append(rms_s[:,3], rms_s[:,3][0])\n",
    "    values2 = np.append(rms_b[:,3], rms_b[:,3][0])\n",
    "\n",
    "    ax.plot(theta, values, marker='o', label ='Single')\n",
    "    ax.plot(theta, values2, marker='o', label = 'Independent')\n",
    "    ax.plot(theta[0], values[0], marker='o', label ='Single', ls = '--', color='tab:green')\n",
    "    ax.plot(np.linspace(0, 2*np.pi, 100), np.full(100, values[0]), ls = '--', marker = 'o', markersize=0, color='tab:green')\n",
    "\n",
    "    ax.set_theta_zero_location('N')\n",
    "    # ax[k,l].set_rmax(np.max(values)+1)\n",
    "    # ax[k,l].set_rmin(5)\n",
    "    ax.set_rticks((10,20,30))\n",
    "\n",
    "    ax.set_rlabel_position(230)\n",
    "    ax.tick_params(pad = 7)\n",
    "    ax.set_xticks(theta[:-1], names)\n",
    "    ax.set_title('Diatom Production Rate, \\n RMS Evaluation [%], Fraser Plume', x=0.50, y=1.15, fontsize=12)\n",
    "    ax.xaxis.set_tick_params(labelsize=11)\n",
    "    ax.yaxis.set_tick_params(labelsize=11)\n",
    "\n",
    "    fig.legend(['single', 'independent', 'proposed'],   fontsize=11, bbox_to_anchor = (0.9, 0.935))\n",
    "\n",
    "elif name == 'Flagellate':\n",
    "\n",
    "    fig, ax = plt.subplots(layout='constrained', subplot_kw={'projection': 'polar'})\n",
    "\n",
    "    theta = np.linspace(0, 2*np.pi, 9)\n",
    "    values = np.append(rms_b[2,:], rms_b[2,:][0])\n",
    "\n",
    "    ax.plot(theta, values, marker='o')\n",
    "    ax.plot(theta[0], values[0],  marker='o', ls = '--')\n",
    "    ax.plot(np.linspace(0, 2*np.pi, 100), np.full(100, values[0]), ls = '--', color = 'tab:orange')\n",
    "\n",
    "    ax.set_theta_zero_location('N')\n",
    "    ax.set_rmax(np.max(values)+1)\n",
    "    ax.set_rmin(5)\n",
    "    ax.set_rticks((10,15,20))\n",
    "    fig.legend(['variations', 'proposed'], fontsize=11, bbox_to_anchor = (0.85, 0.90))\n",
    "\n",
    "    ax.set_rlabel_position(230) # The text\n",
    "    ax.tick_params(pad = 7)\n",
    "    ax.set_xticks(theta[:-1], names[2])\n",
    "    ax.set_title('Nanoflagellate Biomass, \\n RMS Evaluation [%], Fraser Plume', x=0.50, y=1.15, fontsize=12)\n",
    "    ax.yaxis.set_tick_params(labelsize=11)\n",
    "\n",
    "else:\n",
    "\n",
    "    fig, ax = plt.subplots(layout='constrained', subplot_kw={'projection': 'polar'})\n",
    "\n",
    "    theta = np.linspace(0, 2*np.pi, 9)\n",
    "    values = np.append(rms_b[0,:], rms_b[0,:][0])\n",
    "\n",
    "    ax.plot(theta, values, marker='o')\n",
    "    ax.plot(theta[0], values[0],  marker='o', ls = '--')\n",
    "    ax.plot(np.linspace(0, 2*np.pi, 100), np.full(100, values[0]), ls = '--', color = 'tab:orange')\n",
    "\n",
    "    ax.set_theta_zero_location('N')\n",
    "    ax.set_rmax(np.max(values)+1)\n",
    "    ax.set_rmin(5)\n",
    "    ax.set_rticks((10,15,20))\n",
    "    fig.legend(['variations', 'proposed'], fontsize=11, bbox_to_anchor = (0.85, 0.90))\n",
    "\n",
    "    ax.set_rlabel_position(230) # The text\n",
    "    ax.tick_params(pad = 7)\n",
    "    ax.set_xticks(theta[:-1], names[0])\n",
    "    ax.set_title('Diatom Biomass, \\n RMS Evaluation [%], Georgia North', x=0.50, y=1.15, fontsize=12)\n",
    "    ax.yaxis.set_tick_params(labelsize=11)\n",
    "    "
   ]
  },
  {
   "cell_type": "code",
   "execution_count": null,
   "id": "fac7bf10",
   "metadata": {},
   "outputs": [],
   "source": [
    "\n",
    "fig, ax = plt.subplots(figsize = (10,5), layout='constrained')\n",
    "\n",
    "ax.bar(rms_importance_dpr.keys(), rms_importance_dpr)\n",
    "ax.bar(rms_importance_npr.keys(), rms_importance_npr)\n",
    "\n",
    "ax.set_title('Input Feature Importance \\n (Single)', fontsize=12)\n",
    "ax.set_xlabel('Input Features', fontsize=11)\n",
    "ax.set_ylabel('Mean RMS decrease [%]', fontsize=11)\n",
    "ax.xaxis.set_tick_params(labelsize=11)\n",
    "ax.yaxis.set_tick_params(labelsize=11)\n",
    "fig.legend(['Diatom Production Rate', 'Nanoflagellate Production Rate'],   fontsize=11, bbox_to_anchor = (0.6, 0.9))\n",
    "\n",
    "plt.show()\n"
   ]
  },
  {
   "cell_type": "code",
   "execution_count": null,
   "id": "1386cbd5",
   "metadata": {},
   "outputs": [],
   "source": []
  }
 ],
 "metadata": {
  "kernelspec": {
   "display_name": "Python 3",
   "language": "python",
   "name": "python3"
  },
  "language_info": {
   "codemirror_mode": {
    "name": "ipython",
    "version": 3
   },
   "file_extension": ".py",
   "mimetype": "text/x-python",
   "name": "python",
   "nbconvert_exporter": "python",
   "pygments_lexer": "ipython3",
   "version": "3.11.8"
  }
 },
 "nbformat": 4,
 "nbformat_minor": 5
}
