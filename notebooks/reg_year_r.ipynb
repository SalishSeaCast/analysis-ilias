{
 "cells": [
  {
   "cell_type": "markdown",
   "metadata": {},
   "source": [
    "## Importing"
   ]
  },
  {
   "cell_type": "code",
   "execution_count": null,
   "metadata": {},
   "outputs": [],
   "source": [
    "import xarray as xr\n",
    "import numpy as np\n",
    "import matplotlib.pyplot as plt\n",
    "\n",
    "from sklearn.ensemble import BaggingRegressor\n",
    "from sklearn.tree import ExtraTreeRegressor\n",
    "from sklearn.model_selection import train_test_split\n",
    "from sklearn import preprocessing\n",
    "\n",
    "from sklearn.metrics import mean_squared_error as mse\n",
    "\n",
    "import os\n"
   ]
  },
  {
   "cell_type": "markdown",
   "metadata": {},
   "source": [
    "## Datasets Preparation (Training)"
   ]
  },
  {
   "cell_type": "code",
   "execution_count": null,
   "metadata": {},
   "outputs": [],
   "source": [
    "def datasets_preparation ():\n",
    "\n",
    "     # Dataset and date    \n",
    "    ds_name = ('/results2/SalishSea/nowcast-green.202111/' + i + '/SalishSea_1d_' + '20' + str(i[5:7]) + str(dict_month[i[2:5]])+str(i[0:2]) + '_' + '20' + str(i[5:7]) + str(dict_month[i[2:5]]) + str(i[0:2]) + '_grid_T.nc')\n",
    "    \n",
    "    ds_bio_name = ('/results2/SalishSea/nowcast-green.202111/' + i + '/SalishSea_1d_'  + '20' + str(i[5:7]) + str(dict_month[i[2:5]])+str(i[0:2]) + '_' + '20' + str(i[5:7]) + str(dict_month[i[2:5]]) + str(i[0:2]) + '_biol_T.nc')\n",
    "    \n",
    "    ds = xr.open_dataset (ds_name)\n",
    "    ds_bio = xr. open_dataset (ds_bio_name)\n",
    "    \n",
    "    temp_i1 = (ds.votemper.where(mask==1)[0,0:15] * ds.e3t.where(mask==1)\n",
    "               [0,0:15]).sum('deptht', skipna = True, min_count = 15) / mesh.gdepw_0[0,15]\n",
    "\n",
    "    temp_i2 = (ds.votemper.where(mask==1)[0,15:27] * ds.e3t.where(mask==1)\n",
    "               [0,15:27]).sum('deptht', skipna = True, min_count = 12) / (mesh.gdepw_0[0,27] - mesh.gdepw_0[0,14])\n",
    "\n",
    "    saline_i1 = (ds.vosaline.where(mask==1)[0,0:15] * ds.e3t.where(mask==1)\n",
    "                 [0,0:15]).sum('deptht', skipna = True, min_count = 15) / mesh.gdepw_0[0,15]\n",
    "\n",
    "    saline_i2 = (ds.vosaline.where(mask==1)[0,15:27] * ds.e3t.where(mask==1)\n",
    "                 [0,15:27]).sum('deptht', skipna = True, min_count = 12) / (mesh.gdepw_0[0,27] - mesh.gdepw_0[0,14])\n",
    "\n",
    "    diat_i = (ds_bio.diatoms.where(mask==1)[0,0:27] * ds.e3t.where(mask==1)\n",
    "              [0,0:27]).sum('deptht', skipna = True, min_count = 27) / mesh.gdepw_0[0,27]\n",
    "\n",
    "    return (temp_i1, temp_i2, saline_i1, saline_i2, diat_i)\n"
   ]
  },
  {
   "cell_type": "markdown",
   "metadata": {},
   "source": [
    "## Regressor"
   ]
  },
  {
   "cell_type": "code",
   "execution_count": null,
   "metadata": {},
   "outputs": [],
   "source": [
    "def regressor (inputs, targets, variable_name):\n",
    "    \n",
    "    inputs = inputs.transpose()\n",
    "    \n",
    "    # Regressor\n",
    "    scale = preprocessing.StandardScaler()\n",
    "    inputs2 = scale.fit_transform(inputs)\n",
    "    X_train, X_test, y_train, y_test = train_test_split(inputs2, targets)\n",
    "\n",
    "    extra_tree = ExtraTreeRegressor(criterion='poisson')\n",
    "    regr = BaggingRegressor(extra_tree, n_estimators=10, max_features=4, n_jobs=-1).fit(X_train, y_train)\n",
    "\n",
    "    outputs_test = regr.predict(X_test)\n",
    "\n",
    "    m = scatter_plot(y_test, outputs_test, variable_name + ' (Testing dataset)') \n",
    "    r = np.round(np.corrcoef(y_test, outputs_test)[0][1],3)\n",
    "    rms = np.round(mse(y_test, outputs_test),4)\n",
    "    \n",
    "\n",
    "    return (r, rms, m, regr)"
   ]
  },
  {
   "cell_type": "markdown",
   "metadata": {},
   "source": [
    "# Printing"
   ]
  },
  {
   "cell_type": "code",
   "execution_count": null,
   "metadata": {},
   "outputs": [],
   "source": [
    "def printing (targets, outputs, m):\n",
    "\n",
    "    print ('The amount of data points is', outputs.size)\n",
    "    print ('The slope of the best fitting line is ', np.round(m,3))\n",
    "    print ('The correlation coefficient is:', np.round(np.corrcoef(targets, outputs)[0][1],3))\n",
    "    print (' The mean square error is:', np.round(mse(targets,outputs),5))\n"
   ]
  },
  {
   "cell_type": "markdown",
   "metadata": {},
   "source": [
    "## Scatter Plot"
   ]
  },
  {
   "cell_type": "code",
   "execution_count": null,
   "metadata": {},
   "outputs": [],
   "source": [
    "def scatter_plot(targets, outputs, variable_name):\n",
    "\n",
    "    # compute slope m and intercept b\n",
    "    m, b = np.polyfit(targets, outputs, deg=1)\n",
    "\n",
    "    printing (targets, outputs, m)\n",
    "    \n",
    "    fig, ax = plt.subplots()\n",
    "\n",
    "    plt.scatter(targets,outputs, alpha = 0.2, s = 10)\n",
    "    plt.xlabel('targets')\n",
    "    plt.ylabel('outputs')\n",
    "\n",
    "    lims = [\n",
    "        np.min([ax.get_xlim(), ax.get_ylim()]),  # min of both axes\n",
    "        np.max([ax.get_xlim(), ax.get_ylim()]),  # max of both axes\n",
    "    ]\n",
    "\n",
    "    # plot fitted y = m*x + b\n",
    "    plt.axline(xy1=(0, b), slope=m, color='r')\n",
    "\n",
    "    ax.set_aspect('equal')\n",
    "    ax.set_xlim(lims)\n",
    "    ax.set_ylim(lims)\n",
    "\n",
    "    ax.plot(lims, lims,linestyle = '--',color = 'k')\n",
    "\n",
    "    fig.suptitle(str(year) + ', ' + variable_name)\n",
    "\n",
    "    plt.show()\n",
    "\n",
    "    return (m)\n"
   ]
  },
  {
   "cell_type": "markdown",
   "metadata": {},
   "source": [
    "## Main Body"
   ]
  },
  {
   "cell_type": "code",
   "execution_count": null,
   "metadata": {},
   "outputs": [],
   "source": [
    "\n",
    "dict_month = {'jan': '01',\n",
    "         'feb': '02',\n",
    "         'mar': '03',\n",
    "         'apr': '04',\n",
    "         'may': '05',\n",
    "         'jun': '06',\n",
    "         'jul': '07',\n",
    "         'aug': '08',\n",
    "         'sep': '09',\n",
    "         'oct': '10',\n",
    "         'nov': '11',\n",
    "         'dec': '12'}\n",
    "\n",
    "path = os.listdir('/results2/SalishSea/nowcast-green.202111/')\n",
    "\n",
    "years = range (2007,2024)\n",
    "\n",
    "# Open the mesh mask\n",
    "mesh = xr.open_dataset('/home/sallen/MEOPAR/grid/mesh_mask202108.nc')\n",
    "mask = mesh.tmask.to_numpy()\n",
    "\n",
    "r_all = np.array([])\n",
    "rms_all = np.array([])\n",
    "slope_all = np.array([])\n",
    "regr_all = []\n",
    "\n",
    "for year in range (2007,2024):\n",
    "\n",
    "    year_str = str(year)[2:4]\n",
    "    print (year)\n",
    "\n",
    "    folders = [x for x in path if ((x[2:5]=='mar' or x[2:5]=='apr' or (x[2:5]=='feb' and x[0:2] > '14')) and (x[5:7]==year_str))]\n",
    "    folders.sort()\n",
    "\n",
    "    drivers_all = np.array([[],[],[],[]])\n",
    "    diat_all = np.array([])\n",
    "    flag_all = np.array([])\n",
    "\n",
    "    for i in folders:\n",
    "\n",
    "        temp_i1, temp_i2, saline_i1, saline_i2, diat_i, = datasets_preparation()\n",
    "\n",
    "        drivers = np.stack([np.ravel(temp_i1), np.ravel(temp_i2), np.ravel(saline_i1), np.ravel(saline_i2)])\n",
    "        indx = np.where(~np.isnan(drivers).any(axis=0))\n",
    "        drivers = drivers[:,indx[0]]\n",
    "        drivers_all = np.concatenate((drivers_all,drivers),axis=1)\n",
    "\n",
    "        diat = np.ravel(diat_i)\n",
    "        diat = diat[indx[0]]\n",
    "        diat_all = np.concatenate((diat_all,diat))\n",
    "\n",
    "    r, rms, m, regr = regressor(drivers_all, diat_all, 'Diatom')\n",
    "\n",
    "    r_all = np.append(r_all,r)\n",
    "    rms_all = np.append(rms_all,rms)\n",
    "    slope_all = np.append(slope_all,m)\n",
    "    regr_all.append(regr)\n"
   ]
  },
  {
   "cell_type": "code",
   "execution_count": null,
   "metadata": {},
   "outputs": [],
   "source": [
    "plt.plot(slope_all)"
   ]
  },
  {
   "cell_type": "code",
   "execution_count": null,
   "metadata": {},
   "outputs": [],
   "source": []
  }
 ],
 "metadata": {
  "kernelspec": {
   "display_name": "analysis-ilias",
   "language": "python",
   "name": "python3"
  },
  "language_info": {
   "codemirror_mode": {
    "name": "ipython",
    "version": 3
   },
   "file_extension": ".py",
   "mimetype": "text/x-python",
   "name": "python",
   "nbconvert_exporter": "python",
   "pygments_lexer": "ipython3",
   "version": "3.11.6"
  }
 },
 "nbformat": 4,
 "nbformat_minor": 2
}
