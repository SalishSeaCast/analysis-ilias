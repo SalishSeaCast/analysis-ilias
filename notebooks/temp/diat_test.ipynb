{
 "cells": [
  {
   "cell_type": "markdown",
   "metadata": {},
   "source": [
    "# Temporary script for predicting Diatom concenctration"
   ]
  },
  {
   "cell_type": "markdown",
   "metadata": {},
   "source": [
    "## Importing"
   ]
  },
  {
   "cell_type": "code",
   "execution_count": null,
   "metadata": {},
   "outputs": [],
   "source": [
    "import xarray as xr\n",
    "import numpy as np\n",
    "import pandas as pd\n",
    "import matplotlib.pyplot as plt\n",
    "\n",
    "from sklearn.pipeline import make_pipeline\n",
    "from sklearn.compose import TransformedTargetRegressor\n",
    "from sklearn.compose import ColumnTransformer\n",
    "from sklearn.preprocessing import OneHotEncoder\n",
    "from sklearn.preprocessing import MinMaxScaler\n",
    "\n",
    "import xgboost as xgb\n",
    "\n",
    "from sklearn.ensemble import BaggingRegressor\n",
    "\n",
    "from sklearn.metrics import root_mean_squared_error as rmse\n",
    "\n",
    "from tqdm import tqdm\n",
    "\n",
    "import dill\n",
    "import random\n",
    "\n",
    "import salishsea_tools.viz_tools as sa_vi"
   ]
  },
  {
   "cell_type": "markdown",
   "metadata": {},
   "source": [
    "## Datasets Preparation"
   ]
  },
  {
   "cell_type": "code",
   "execution_count": null,
   "metadata": {},
   "outputs": [],
   "source": [
    "def datasets_preparation(dataset, dataset2):\n",
    "    \n",
    "    drivers = np.stack([np.ravel(dataset['Temperature_(0m-15m)']),\n",
    "        np.ravel(dataset['Temperature_(15m-100m)']), \n",
    "        np.ravel(dataset['Salinity_(0m-15m)']),\n",
    "        np.ravel(dataset['Salinity_(15m-100m)']),\n",
    "        np.ravel(dataset2['Summation_of_solar_radiation']),\n",
    "        np.ravel(dataset2['Mean_wind_speed']),\n",
    "        np.ravel(dataset2['Mean_air_temperature']),\n",
    "        np.tile(np.repeat(dataset.y, len(dataset.x)), len(dataset.time_counter)),\n",
    "        np.tile(dataset.x, len(dataset.time_counter)*len(dataset.y)),\n",
    "        np.repeat(dataset.time_counter.dt.dayofyear, len(dataset.x)*len(dataset.y))\n",
    "        ])\n",
    "\n",
    "    indx = np.where(~np.isnan(drivers).any(axis=0) & (drivers[8]>10) & ((drivers[8]>100) | (drivers[7]<880)))\n",
    "    drivers = drivers[:,indx[0]]\n",
    "\n",
    "    diat = np.ravel(dataset['Diatom'])\n",
    "    diat = diat[indx[0]]\n",
    "\n",
    "    drivers = drivers.transpose()\n",
    "\n",
    "    return(drivers, diat, indx)"
   ]
  },
  {
   "cell_type": "markdown",
   "metadata": {},
   "source": [
    "## Regressor"
   ]
  },
  {
   "cell_type": "code",
   "execution_count": null,
   "metadata": {},
   "outputs": [],
   "source": [
    "def regressor (inputs, targets):\n",
    "\n",
    "    model = TransformedTargetRegressor(regressor=make_pipeline(ColumnTransformer(\n",
    "        transformers=[('spatial', OneHotEncoder(), [7,8]), ('temporal', OneHotEncoder(), [9])],remainder=MinMaxScaler()),\n",
    "        xgb.XGBRegressor(n_estimators=1000, max_depth=7, eta=0.1, subsample=0.7, colsample_bytree=0.8)),\n",
    "        transformer=MinMaxScaler())\n",
    "    regr = BaggingRegressor(model, n_estimators=10, n_jobs=-1).fit(inputs,targets)\n",
    "\n",
    "    return(regr)"
   ]
  },
  {
   "cell_type": "markdown",
   "metadata": {},
   "source": [
    "## Scatter Plot"
   ]
  },
  {
   "cell_type": "code",
   "execution_count": null,
   "metadata": {},
   "outputs": [],
   "source": [
    "def scatter_plot(targets, outputs, variable_name):\n",
    "\n",
    "    # compute slope m and intercept b\n",
    "    m, b = np.polyfit(targets, outputs, deg=1)\n",
    "\n",
    "    fig, ax = plt.subplots(2, figsize=(5,10), layout='constrained')\n",
    "\n",
    "    ax[0].scatter(targets,outputs, alpha = 0.2, s = 10)\n",
    "\n",
    "    lims = [np.min([ax[0].get_xlim(), ax[0].get_ylim()]),\n",
    "        np.max([ax[0].get_xlim(), ax[0].get_ylim()])]\n",
    "\n",
    "    # plot fitted y = m*x + b\n",
    "    ax[0].axline(xy1=(0, b), slope=m, color='r')\n",
    "\n",
    "    ax[0].set_xlabel('targets')\n",
    "    ax[0].set_ylabel('outputs')\n",
    "    ax[0].set_xlim(lims)\n",
    "    ax[0].set_ylim(lims)\n",
    "    ax[0].set_aspect('equal')\n",
    "\n",
    "    ax[0].plot(lims, lims,linestyle = '--',color = 'k')\n",
    "\n",
    "    h = ax[1].hist2d(targets,outputs, bins=100, cmap='jet', \n",
    "        range=[lims,lims], cmin=0.1, norm='log')\n",
    "    \n",
    "    ax[1].plot(lims, lims,linestyle = '--',color = 'k')\n",
    "\n",
    "    # plot fitted y = m*x + b\n",
    "    ax[1].axline(xy1=(0, b), slope=m, color='r')\n",
    "\n",
    "    ax[1].set_xlabel('targets')\n",
    "    ax[1].set_ylabel('outputs')\n",
    "    ax[1].set_aspect('equal')\n",
    "\n",
    "    fig.colorbar(h[3],ax=ax[1], location='bottom')\n",
    "\n",
    "    fig.suptitle(variable_name)\n",
    "\n",
    "    plt.show()\n",
    "\n",
    "    return(m)"
   ]
  },
  {
   "cell_type": "markdown",
   "metadata": {},
   "source": [
    "## Plotting (Years)"
   ]
  },
  {
   "cell_type": "code",
   "execution_count": null,
   "metadata": {},
   "outputs": [],
   "source": [
    "def plotting_years(years, variable, name):\n",
    "\n",
    "    fig, ax = plt.subplots()\n",
    "    \n",
    "    ax.plot(years,variable, marker = '.', linestyle = '')\n",
    "    plt.xlabel('Years')\n",
    "    plt.ylabel(name)\n",
    "    fig.show()"
   ]
  },
  {
   "cell_type": "markdown",
   "metadata": {},
   "source": [
    "## Plotting (Days)"
   ]
  },
  {
   "cell_type": "code",
   "execution_count": null,
   "metadata": {},
   "outputs": [],
   "source": [
    "def plotting_days(variable,title):\n",
    "    \n",
    "    fig, ax = plt.subplots()\n",
    "\n",
    "    scatter= ax.scatter(dates,variable, marker='.', c=pd.DatetimeIndex(dates).month)\n",
    "\n",
    "    ax.legend(handles=scatter.legend_elements()[0], labels=['February','March','April'])\n",
    "    fig.suptitle('Daily ' + title + ' (15 Feb - 30 Apr)')\n",
    "    \n",
    "    fig.show()\n"
   ]
  },
  {
   "cell_type": "markdown",
   "metadata": {},
   "source": [
    "## Plotting (Mean Values)"
   ]
  },
  {
   "cell_type": "code",
   "execution_count": null,
   "metadata": {},
   "outputs": [],
   "source": [
    "def plotting_mean_values(mean_targets, mean_predictions):\n",
    "\n",
    "    fig, ax = plt.subplots()\n",
    "    \n",
    "    plt.plot(dates,(mean_targets), marker = '.', linestyle = '', label = 'targets')\n",
    "    plt.plot(dates,(mean_predictions), marker = '.', linestyle = '', label = 'predictions')\n",
    "    plt.xlabel('Years')\n",
    "    plt.ylabel('Diatom Concentration  [mmol m-2]')\n",
    "    plt.suptitle('Daily Time-series')\n",
    "    plt.legend()\n",
    "    fig.show()"
   ]
  },
  {
   "cell_type": "markdown",
   "metadata": {},
   "source": [
    "## Evaluation"
   ]
  },
  {
   "cell_type": "code",
   "execution_count": null,
   "metadata": {},
   "outputs": [],
   "source": [
    "def evaluation (regr, ds, ds2):\n",
    "\n",
    "    years = np.arange (2021,2025)\n",
    "\n",
    "    # For every day of each year\n",
    "    r_days = np.array([])\n",
    "    rms_days = np.array([])\n",
    "    slope_days = np.array([])\n",
    "    mean_targets = np.array([])\n",
    "    mean_predictions = np.array([])\n",
    "\n",
    "    # For every year\n",
    "    r_years = np.array([])\n",
    "    rms_years = np.array([])\n",
    "    slope_years = np.array([])\n",
    "\n",
    "    for year in tqdm(years):\n",
    "\n",
    "        dataset = ds.sel(time_counter=str(year))\n",
    "        dataset2 = ds2.sel(time_counter=str(year))\n",
    "\n",
    "        inputs, targets, _ = datasets_preparation(dataset, dataset2)\n",
    "\n",
    "        predictions = regr.predict(inputs)\n",
    "\n",
    "        m_year = scatter_plot(targets, predictions, 'Diatom for '+ str(year)) \n",
    "        r_year = np.round(np.corrcoef(targets, predictions)[0][1],3)\n",
    "        rms_year = rmse(targets, predictions)\n",
    "\n",
    "        targets = np.reshape(targets,(len(dataset.time_counter), 1838))\n",
    "        predictions = np.reshape(predictions,(len(dataset.time_counter), 1838))\n",
    "\n",
    "        for i in np.arange(0, len(dataset.time_counter)):\n",
    "            r_days = np.append(r_days, np.round(np.corrcoef(targets[i,:], predictions[i,:])[0][1],3))\n",
    "            rms_days = np.append(rms_days, rmse(targets[i,:], predictions[i,:]))\n",
    "            m_day, _ = np.polyfit(targets[i,:], predictions[i,:], deg=1)\n",
    "            slope_days = np.append(slope_days, m_day)\n",
    "\n",
    "            mean_targets = np.append(mean_targets,np.mean(targets[i,:]))\n",
    "            mean_predictions = np.append(mean_predictions,np.mean(predictions[i,:]))\n",
    "\n",
    "        r_years = np.append(r_year,r_years)\n",
    "        rms_years = np.append(rms_year,rms_years)\n",
    "        slope_years = np.append(m_year, slope_years)\n",
    "\n",
    "    plotting_days(r_days, 'Correlation Coefficients')\n",
    "    plotting_days(rms_days, 'Root Mean Square Errors')\n",
    "    plotting_days(slope_days, 'Slopes of the best fitting line')\n",
    "\n",
    "    plotting_years(years,r_years, 'Correlation Coefficients')\n",
    "    plotting_years(years,rms_years, 'Root Mean Square Errors')\n",
    "    plotting_years(years,slope_years, 'Slopes of the best fitting line')\n",
    "\n",
    "    plotting_mean_values(mean_targets, mean_predictions)\n",
    "    "
   ]
  },
  {
   "cell_type": "markdown",
   "metadata": {},
   "source": [
    "## Regressor 4"
   ]
  },
  {
   "cell_type": "code",
   "execution_count": null,
   "metadata": {},
   "outputs": [],
   "source": [
    "def regressor4 (inputs, targets, variable_name):\n",
    "\n",
    "    inputs2 = inputs.transpose()\n",
    "    \n",
    "    outputs = regr.predict(inputs2)\n",
    "\n",
    "    # Post processing\n",
    "    indx2 = np.full((len(diat_i.y)*len(diat_i.x)),np.nan)\n",
    "    indx2[indx[0]] = outputs\n",
    "    model = np.reshape(indx2,(len(diat_i.y),len(diat_i.x)))\n",
    "\n",
    "    m = scatter_plot(targets, outputs, variable_name + str(i.dt.date.values)) \n",
    "\n",
    "    # Preparation of the dataarray \n",
    "    model = xr.DataArray(model,\n",
    "        coords = {'y': diat_i.y, 'x': diat_i.x},\n",
    "        dims = ['y','x'],\n",
    "        attrs=dict( long_name = variable_name + \"Concentration\",\n",
    "        units=\"mmol m-2\"),)\n",
    "                        \n",
    "    plotting3(targets, model, diat_i, variable_name)"
   ]
  },
  {
   "cell_type": "markdown",
   "metadata": {},
   "source": [
    "## Plotting (Maps)"
   ]
  },
  {
   "cell_type": "code",
   "execution_count": null,
   "metadata": {},
   "outputs": [],
   "source": [
    "def plotting_maps(targets, model, variable, variable_name):\n",
    "\n",
    "    fig, ax = plt.subplots(2,2, figsize = (10,15))\n",
    "\n",
    "    cmap = plt.get_cmap('cubehelix')\n",
    "    cmap.set_bad('gray')\n",
    "\n",
    "    variable.plot(ax=ax[0,0], cmap=cmap, vmin = targets.min(), vmax =targets.max(), cbar_kwargs={'label': variable_name + ' Concentration  [mmol m-2]'})\n",
    "    model.plot(ax=ax[0,1], cmap=cmap, vmin = targets.min(), vmax = targets.max(), cbar_kwargs={'label': variable_name + ' Concentration  [mmol m-2]'})\n",
    "    ((variable-model) / variable * 100).plot(ax=ax[1,0], cmap=cmap, cbar_kwargs={'label': variable_name + ' Concentration  [percentage]'})\n",
    "\n",
    "    plt.subplots_adjust(left=0.1,\n",
    "        bottom=0.1, \n",
    "        right=0.95, \n",
    "        top=0.95, \n",
    "        wspace=0.35, \n",
    "        hspace=0.35)\n",
    "\n",
    "    sa_vi.set_aspect(ax[0,0])\n",
    "    sa_vi.set_aspect(ax[0,1])\n",
    "    sa_vi.set_aspect(ax[1,0])\n",
    "\n",
    "\n",
    "    ax[0,0].title.set_text(variable_name + ' (targets)')\n",
    "    ax[0,1].title.set_text(variable_name + ' (outputs)')\n",
    "    ax[1,0].title.set_text('targets - outputs')\n",
    "    ax[1,1].axis('off')\n",
    "\n",
    "    fig.suptitle(str(i.dt.date.values))\n",
    "\n",
    "    plt.show()\n",
    "    "
   ]
  },
  {
   "cell_type": "markdown",
   "metadata": {},
   "source": [
    "## Training (Random Points)"
   ]
  },
  {
   "cell_type": "code",
   "execution_count": null,
   "metadata": {},
   "outputs": [],
   "source": [
    "ds = xr.open_dataset('/data/ibougoudis/MOAD/files/integrated_original.nc')\n",
    "ds2 = xr.open_dataset('/data/ibougoudis/MOAD/files/external_inputs.nc')\n",
    "\n",
    "ds = ds.isel(time_counter = (np.arange(0, len(ds.time_counter),2)), \n",
    "    y=(np.arange(ds.y[0], ds.y[-1], 5)), \n",
    "    x=(np.arange(ds.x[0], ds.x[-1], 5)))\n",
    "\n",
    "ds2 = ds2.isel(time_counter = (np.arange(0, len(ds2.time_counter),2)), \n",
    "    y=(np.arange(ds2.y[0], ds2.y[-1], 5)), \n",
    "    x=(np.arange(ds2.x[0], ds2.x[-1], 5)))\n",
    "\n",
    "dataset = ds.sel(time_counter = slice('2007', '2010'))\n",
    "dataset2 = ds2.sel(time_counter = slice('2007', '2010'))\n",
    "\n",
    "drivers, diat, _ = datasets_preparation(dataset, dataset2)\n",
    "\n",
    "regr = regressor(drivers, diat)\n"
   ]
  },
  {
   "cell_type": "markdown",
   "metadata": {},
   "source": [
    "## Other Years"
   ]
  },
  {
   "cell_type": "code",
   "execution_count": null,
   "metadata": {},
   "outputs": [],
   "source": [
    "\n",
    "ds = ds.sel(time_counter = slice('2021', '2024'))\n",
    "ds2 = ds2.sel(time_counter = slice('2021', '2024'))\n",
    "dates = pd.DatetimeIndex(ds['time_counter'].values)\n",
    "\n",
    "evaluation(regr,ds,ds2)\n"
   ]
  },
  {
   "cell_type": "markdown",
   "metadata": {},
   "source": [
    "## Daily Maps"
   ]
  },
  {
   "cell_type": "code",
   "execution_count": null,
   "metadata": {},
   "outputs": [],
   "source": [
    "\n",
    "\n",
    "maps = random.sample(sorted(ds.time_counter),10)\n",
    "\n",
    "for i in tqdm(maps):\n",
    "\n",
    "    dataset = ds.sel(time_counter=slice(i,i))\n",
    "    dataset2 = ds2.sel(time_counter=slice(i,i))\n",
    "    drivers, diat, indx = datasets_preparation(dataset, dataset2)\n",
    "\n",
    "    diat_i = dataset['Diatom']\n",
    "\n",
    "    regressor4(drivers, diat, 'Diatom ')"
   ]
  },
  {
   "cell_type": "code",
   "execution_count": null,
   "metadata": {},
   "outputs": [],
   "source": []
  }
 ],
 "metadata": {
  "kernelspec": {
   "display_name": "analysis-ilias",
   "language": "python",
   "name": "python3"
  },
  "language_info": {
   "codemirror_mode": {
    "name": "ipython",
    "version": 3
   },
   "file_extension": ".py",
   "mimetype": "text/x-python",
   "name": "python",
   "nbconvert_exporter": "python",
   "pygments_lexer": "ipython3",
   "version": "3.11.8"
  }
 },
 "nbformat": 4,
 "nbformat_minor": 2
}
