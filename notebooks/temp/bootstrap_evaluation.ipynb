{
 "cells": [
  {
   "cell_type": "markdown",
   "metadata": {},
   "source": [
    "# Bootstrap Evaluation (Diatom)"
   ]
  },
  {
   "cell_type": "markdown",
   "metadata": {},
   "source": [
    "## Importing"
   ]
  },
  {
   "cell_type": "code",
   "execution_count": 1,
   "metadata": {},
   "outputs": [],
   "source": [
    "import xarray as xr\n",
    "import numpy as np\n",
    "import pandas as pd\n",
    "import matplotlib.pyplot as plt\n",
    "import scipy\n",
    "\n",
    "import os\n",
    "import lzma\n",
    "import dill\n",
    "\n",
    "from tqdm import tqdm\n",
    "\n",
    "import cmocean.cm as cm\n",
    "import salishsea_tools.viz_tools as sa_vi\n",
    "\n",
    "from sklearn.utils import resample\n"
   ]
  },
  {
   "cell_type": "markdown",
   "metadata": {},
   "source": [
    "## Plotting (regions)"
   ]
  },
  {
   "cell_type": "code",
   "execution_count": 2,
   "metadata": {},
   "outputs": [],
   "source": [
    "def plot_box(ax, corn, colour):\n",
    "\n",
    "    ax.plot([corn[2], corn[3], corn[3], corn[2], corn[2]], \n",
    "    [corn[0], corn[0], corn[1], corn[1], corn[0]], '-', color=colour)\n",
    "    "
   ]
  },
  {
   "cell_type": "markdown",
   "metadata": {},
   "source": [
    "## Plotting (histograms)"
   ]
  },
  {
   "cell_type": "code",
   "execution_count": 3,
   "metadata": {},
   "outputs": [],
   "source": [
    "def plot_hist (name1, variable1, name2, variable2, title, boxnames):\n",
    "\n",
    "    stats1 = []\n",
    "    stats2 = []\n",
    "\n",
    "    fig, axs = plt.subplots(1,len(boxnames), figsize = (20,6), layout='tight')\n",
    "    \n",
    "    for j in range(0, len(boxnames)):\n",
    "\n",
    "        if j == 0: # So that they appear only once\n",
    "        \n",
    "            axs[j].hist(variable1[:,j], histtype='step', label=name1)\n",
    "            stats1.append(scipy.stats.describe(variable1[:,j]))\n",
    "\n",
    "            axs[j].hist(variable2[:,j], histtype='step', label=name2)\n",
    "            stats2.append(scipy.stats.describe(variable2[:,j]))\n",
    "\n",
    "            axs[j].set_ylabel('Frequency')\n",
    "        \n",
    "        else:\n",
    "\n",
    "            axs[j].hist(variable1[:,j], histtype='step')\n",
    "            stats1.append(scipy.stats.describe(variable1[:,j]))\n",
    "\n",
    "            axs[j].hist(variable2[:,j], histtype='step')\n",
    "            stats2.append(scipy.stats.describe(variable2[:,j]))\n",
    "            \n",
    "        axs[j].set_title(boxnames[j])\n",
    "\n",
    "        fig.suptitle(title)\n",
    "        fig.legend(ncol=2)\n",
    "\n",
    "    stats1 = np.array(stats1, dtype=object)\n",
    "    stats2 = np.array(stats2, dtype=object)\n",
    "\n",
    "    return (stats1,stats2)"
   ]
  },
  {
   "cell_type": "markdown",
   "metadata": {},
   "source": [
    "## Initiation"
   ]
  },
  {
   "cell_type": "code",
   "execution_count": 4,
   "metadata": {},
   "outputs": [],
   "source": [
    "name = 'Flagellate'\n",
    "units = '[mmol m-2]'\n",
    "category = 'Concentrations'\n",
    "\n",
    "ds = xr.open_dataset('/data/ibougoudis/MOAD/files/integrated_original.nc')\n",
    "ds2 = xr.open_dataset('/data/ibougoudis/MOAD/files/external_inputs.nc')\n"
   ]
  },
  {
   "cell_type": "markdown",
   "metadata": {},
   "source": [
    "## Regions"
   ]
  },
  {
   "cell_type": "code",
   "execution_count": null,
   "metadata": {},
   "outputs": [],
   "source": [
    "fig, ax = plt.subplots(1, 1, figsize=(5, 9))\n",
    "mycmap = cm.deep\n",
    "mycmap.set_bad('grey')\n",
    "ax.pcolormesh(ds[name][0], cmap=mycmap)\n",
    "sa_vi.set_aspect(ax)\n",
    "\n",
    "SoG_north = [650, 730, 100, 200]\n",
    "plot_box(ax, SoG_north, 'g')\n",
    "SoG_center = [450, 550, 200, 300]\n",
    "plot_box(ax, SoG_center, 'b')\n",
    "Fraser_plume = [380, 460, 260, 330]\n",
    "plot_box(ax, Fraser_plume, 'm')\n",
    "SoG_south = [320, 380, 280, 350]\n",
    "plot_box(ax, SoG_south, 'k')\n",
    "Haro_Boundary = [290, 350, 210, 280]\n",
    "plot_box(ax, Haro_Boundary, 'm')\n",
    "JdF_west = [250, 425, 25, 125]\n",
    "plot_box(ax, JdF_west, 'c')\n",
    "JdF_east = [200, 290, 150, 260]\n",
    "plot_box(ax, JdF_east, 'w')\n",
    "PS_all = [0, 200, 80, 320]\n",
    "plot_box(ax, PS_all, 'm')\n",
    "PS_main = [20, 150, 200, 280]\n",
    "plot_box(ax, PS_main, 'r')\n",
    "\n",
    "boxnames = ['SoG_north','SoG_center','Fraser_plume','SoG_south', 'Haro_Boundary', 'JdF_west', 'JdF_east', 'PS_all', 'PS_main']\n",
    "fig.legend(boxnames)\n",
    "\n",
    "boxes = [SoG_north,SoG_center,Fraser_plume,SoG_south,Haro_Boundary,JdF_west,JdF_east,PS_all,PS_main]\n",
    "\n",
    "regions0 = np.full((len(ds.y),len(ds.x)),np.nan)\n",
    "\n",
    "for i in range (0, len(boxes)):\n",
    "    regions0[boxes[i][0]:boxes[i][1], boxes[i][2]:boxes[i][3]] = i\n",
    "\n",
    "regions0 = xr.DataArray(regions0,dims = ['y','x'])\n",
    "\n",
    "# # Low resolution\n",
    "# temp = []\n",
    "\n",
    "# for i in boxes:\n",
    "#     temp.append([x//5 for x in i])\n",
    "\n",
    "# boxes = temp"
   ]
  },
  {
   "cell_type": "markdown",
   "metadata": {},
   "source": [
    "## Loading"
   ]
  },
  {
   "cell_type": "code",
   "execution_count": 11,
   "metadata": {},
   "outputs": [],
   "source": [
    "path = '/data/ibougoudis/MOAD/files/results/' + name + '/func_reg_boxes_s1_boot/'\n",
    "\n",
    "with open(path + 'train_metrics.pkl', 'rb') as f:\n",
    "    train1 = dill.load(f)\n",
    "with open(path + 'test_metrics.pkl', 'rb') as f:\n",
    "    test1 = dill.load(f)\n",
    "name1 = 'original'\n",
    "\n",
    "path = '/data/ibougoudis/MOAD/files/results/' + name + '/func_reg_boxes_s3_boot/'\n",
    "with open(path + 'train_metrics.pkl', 'rb') as f:\n",
    "    train2 = dill.load(f)\n",
    "with open(path + 'test_metrics.pkl', 'rb') as f:\n",
    "    test2 = dill.load(f)\n",
    "name2 = 'original (Diatom)'"
   ]
  },
  {
   "cell_type": "markdown",
   "metadata": {},
   "source": [
    "## Histograms"
   ]
  },
  {
   "cell_type": "code",
   "execution_count": null,
   "metadata": {},
   "outputs": [],
   "source": [
    "r_train1, r_train2 = plot_hist(name1, train1[0], name2, train2[0], 'Correlation Coefficient (Training)', boxnames)\n",
    "rms_train1, rms_train2 = plot_hist(name1, train1[1], name2, train2[1], 'Root Mean Square Error (Training)', boxnames)\n",
    "r_train_season1, r_train_season2 = plot_hist(name1, train1[3], name2, train2[3], 'Correlation Coefficient (Training, no seasonality)', boxnames)\n",
    "\n",
    "r_test1, r_test2 = plot_hist(name1, test1[0], name2, test2[0], 'Correlation Coefficient (Testing)', boxnames)\n",
    "rms_test1, rms_test2 = plot_hist(name1, test1[1], name2, test2[1], 'Root Mean Square Error (Testing)', boxnames)\n",
    "r_test_season1, r_test_season2 = plot_hist(name1, test1[3], name2, test2[3], 'Correlation Coefficient (Testing, no seasonality)', boxnames)\n",
    "spatial_error_test1, spatial_error_test2 = plot_hist(name1, test1[5], name2, test2[5], 'Spatial Error (Testing)', boxnames)\n"
   ]
  },
  {
   "cell_type": "code",
   "execution_count": null,
   "metadata": {},
   "outputs": [],
   "source": [
    "temp = pd.DataFrame([r_train1[:,2],r_train2[:,2]],columns=boxnames,index=[name1,name2])\n",
    "temp = temp.style.set_caption('Correlation Coefficient (Training)')\n",
    "display(temp)"
   ]
  },
  {
   "cell_type": "code",
   "execution_count": null,
   "metadata": {},
   "outputs": [],
   "source": [
    "temp = pd.DataFrame([r_test1[:,2],r_test2[:,2]],columns=boxnames,index=[name1,name2])\n",
    "temp = temp.style.set_caption('Correlation Coefficient (Testing)')\n",
    "display(temp)"
   ]
  },
  {
   "cell_type": "code",
   "execution_count": null,
   "metadata": {},
   "outputs": [],
   "source": []
  }
 ],
 "metadata": {
  "kernelspec": {
   "display_name": "analysis-ilias",
   "language": "python",
   "name": "python3"
  },
  "language_info": {
   "codemirror_mode": {
    "name": "ipython",
    "version": 3
   },
   "file_extension": ".py",
   "mimetype": "text/x-python",
   "name": "python",
   "nbconvert_exporter": "python",
   "pygments_lexer": "ipython3",
   "version": "3.11.8"
  }
 },
 "nbformat": 4,
 "nbformat_minor": 2
}
