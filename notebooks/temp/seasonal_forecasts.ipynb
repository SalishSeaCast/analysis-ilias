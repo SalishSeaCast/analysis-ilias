{
 "cells": [
  {
   "cell_type": "markdown",
   "id": "98924521",
   "metadata": {},
   "source": [
    "# Seasonal Forecasts"
   ]
  },
  {
   "cell_type": "markdown",
   "id": "414e7bb0",
   "metadata": {},
   "source": [
    "## Importing"
   ]
  },
  {
   "cell_type": "code",
   "execution_count": null,
   "id": "266d56e6",
   "metadata": {},
   "outputs": [],
   "source": [
    "import xarray as xr\n",
    "import numpy as np\n",
    "import pandas as pd\n",
    "import matplotlib.pyplot as plt\n",
    "\n",
    "import cmocean.cm as cm\n",
    "import salishsea_tools.viz_tools as sa_vi\n",
    "\n",
    "import os\n",
    "from salishsea_tools import grid_tools as gt"
   ]
  },
  {
   "cell_type": "markdown",
   "id": "ff7b0907",
   "metadata": {},
   "source": [
    "## Plotting (Regions)"
   ]
  },
  {
   "cell_type": "code",
   "execution_count": null,
   "id": "5b80b1f7",
   "metadata": {},
   "outputs": [],
   "source": [
    "def plot_shape_from_corners(bathy, corners, g):\n",
    "\n",
    "    c = [(bathy.nav_lon[corners[0],corners[3]].values, bathy.nav_lat[corners[0],corners[3]].values), (bathy.nav_lon[corners[0],corners[2]].values, bathy.nav_lat[corners[0],corners[2]].values), \n",
    "        (bathy.nav_lon[corners[1],corners[2]].values, bathy.nav_lat[corners[1],corners[2]].values),(bathy.nav_lon[corners[1],corners[3]].values, bathy.nav_lat[corners[1],corners[3]].values)]\n",
    "    \n",
    "    x_coords, y_coords = zip(*c)\n",
    "    x_coords = list(x_coords)\n",
    "    y_coords = list(y_coords)\n",
    "    x_coords.append(x_coords[0])\n",
    "    y_coords.append(y_coords[0])\n",
    "\n",
    "    plt.plot(x_coords, y_coords, linestyle='-', color = g)\n",
    "    "
   ]
  },
  {
   "cell_type": "markdown",
   "id": "e5d591bc",
   "metadata": {},
   "source": [
    "## Files Loading"
   ]
  },
  {
   "cell_type": "code",
   "execution_count": null,
   "id": "17ba74c9",
   "metadata": {},
   "outputs": [],
   "source": [
    "path = '/data/ibougoudis/MOAD/files/cwao_GEM5.2-NEMO-v20240611_hindcast_S1990010100_atmos_6hr_surface_psl_r01i00p00.nc'\n",
    "ds = xr.open_dataset(path)\n",
    "\n",
    "bathy = xr.open_dataset('/home/sallen/MEOPAR/grid/bathymetry_202108.nc')\n",
    "lat = bathy.nav_lat\n",
    "lon = bathy.nav_lon\n",
    "\n",
    "plt.pcolormesh(ds.lon, ds.lat, ds['psl'][0])\n",
    "plt.show()\n",
    "\n",
    "ds.coords['lon'] = (ds.coords['lon'] + 180) % 360 - 180\n",
    "ds = ds.sortby(ds.lon)\n",
    "\n",
    "plt.pcolormesh(ds.lon, ds.lat, ds['psl'][0])"
   ]
  },
  {
   "cell_type": "code",
   "execution_count": null,
   "id": "e53b5619",
   "metadata": {},
   "outputs": [],
   "source": [
    "ds"
   ]
  },
  {
   "cell_type": "markdown",
   "id": "411f96ea",
   "metadata": {},
   "source": [
    "## Spatial"
   ]
  },
  {
   "cell_type": "code",
   "execution_count": null,
   "id": "66f8f210",
   "metadata": {},
   "outputs": [],
   "source": [
    "dataset = ds.sel(lat = slice(46, 52), lon = slice(-126.5, -121.5))\n",
    "dataset['psl'][0].plot()"
   ]
  },
  {
   "cell_type": "code",
   "execution_count": null,
   "id": "2ef4992e",
   "metadata": {},
   "outputs": [],
   "source": [
    "dataset = ds.sel(lat = slice(46, 52), lon = slice(-126.5, -121.5))\n",
    "\n",
    "fig, ax = plt.subplots(1, 1, figsize=(7, 9))\n",
    "mycmap = cm.deep\n",
    "mycmap.set_bad('grey')\n",
    "ax.pcolormesh(dataset.lon, dataset.lat, dataset['psl'][0], cmap=mycmap)\n",
    "\n",
    "ax.set_ylabel('Latitude (oN)', fontsize=11)\n",
    "ax.set_xlabel('Longitude (oE)', fontsize=11)\n",
    "ax.xaxis.set_tick_params(labelsize=11)\n",
    "ax.yaxis.set_tick_params(labelsize=11)\n",
    "\n",
    "fig.suptitle('Sub-regions of Salish Sea (No Inter.)', fontsize=15, x = 0.5, y=0.92)\n",
    "\n",
    "SoG_north = [650, 730, 100, 200]\n",
    "plot_shape_from_corners(bathy, SoG_north, 'g')\n",
    "\n",
    "SoG_center = [450, 550, 200, 300]\n",
    "plot_shape_from_corners(bathy, SoG_center, 'b')\n",
    "\n",
    "Fraser_plume = [380, 460, 260, 330]\n",
    "plot_shape_from_corners(bathy, Fraser_plume, 'm')\n",
    "\n",
    "SoG_south = [320, 380, 280, 350]\n",
    "plot_shape_from_corners(bathy, SoG_south, 'k')\n",
    "\n",
    "Haro_Boundary = [290, 350, 210, 280]\n",
    "plot_shape_from_corners(bathy, Haro_Boundary, 'm')\n",
    "\n",
    "JdF_west = [250, 425, 25, 125]\n",
    "plot_shape_from_corners(bathy, JdF_west, 'c')\n",
    "\n",
    "JdF_east = [200, 290, 150, 260]\n",
    "plot_shape_from_corners(bathy, JdF_east, 'w')\n",
    "\n",
    "PS_all = [0, 200, 80, 320]\n",
    "plot_shape_from_corners(bathy, PS_all, 'm')\n",
    "\n",
    "PS_main = [20, 150, 200, 280]\n",
    "plot_shape_from_corners(bathy, PS_main, 'r')\n",
    "\n",
    "boxnames = ['Georgia north','Georgia center','Fraser plume','Georgia south', 'Haro Boundary', 'Juan de Fuca west', 'Juan de Fuca east', 'Puget Sound all', 'Puget Sound main']\n",
    "boxes = [SoG_north,SoG_center,Fraser_plume,SoG_south,Haro_Boundary,JdF_west,JdF_east,PS_all,PS_main]\n",
    "fig.legend(boxnames, loc=(0.67, 0.62), fontsize=11)\n"
   ]
  },
  {
   "cell_type": "code",
   "execution_count": null,
   "id": "16d510fa",
   "metadata": {},
   "outputs": [],
   "source": [
    "dataset = ds.interp(lon=lon,lat=lat, method='nearest')\n",
    "\n",
    "fig, ax = plt.subplots(1, 1, figsize=(7, 9))\n",
    "mycmap = cm.deep\n",
    "mycmap.set_bad('grey')\n",
    "ax.pcolormesh(dataset.lon, dataset.lat, dataset['psl'][0], cmap=mycmap)\n",
    "\n",
    "ax.set_ylabel('Latitude (oN)', fontsize=11)\n",
    "ax.set_xlabel('Longitude (oE)', fontsize=11)\n",
    "ax.xaxis.set_tick_params(labelsize=11)\n",
    "ax.yaxis.set_tick_params(labelsize=11)\n",
    "\n",
    "fig.suptitle('Sub-regions of Salish Sea (Nearest Inter.)', fontsize=15, x = 0.5, y=0.92)\n",
    "\n",
    "SoG_north = [650, 730, 100, 200]\n",
    "plot_shape_from_corners(bathy, SoG_north, 'g')\n",
    "\n",
    "SoG_center = [450, 550, 200, 300]\n",
    "plot_shape_from_corners(bathy, SoG_center, 'b')\n",
    "\n",
    "Fraser_plume = [380, 460, 260, 330]\n",
    "plot_shape_from_corners(bathy, Fraser_plume, 'm')\n",
    "\n",
    "SoG_south = [320, 380, 280, 350]\n",
    "plot_shape_from_corners(bathy, SoG_south, 'k')\n",
    "\n",
    "Haro_Boundary = [290, 350, 210, 280]\n",
    "plot_shape_from_corners(bathy, Haro_Boundary, 'm')\n",
    "\n",
    "JdF_west = [250, 425, 25, 125]\n",
    "plot_shape_from_corners(bathy, JdF_west, 'c')\n",
    "\n",
    "JdF_east = [200, 290, 150, 260]\n",
    "plot_shape_from_corners(bathy, JdF_east, 'w')\n",
    "\n",
    "PS_all = [0, 200, 80, 320]\n",
    "plot_shape_from_corners(bathy, PS_all, 'm')\n",
    "\n",
    "PS_main = [20, 150, 200, 280]\n",
    "plot_shape_from_corners(bathy, PS_main, 'r')\n",
    "\n",
    "boxnames = ['Georgia north','Georgia center','Fraser plume','Georgia south', 'Haro Boundary', 'Juan de Fuca west', 'Juan de Fuca east', 'Puget Sound all', 'Puget Sound main']\n",
    "boxes = [SoG_north,SoG_center,Fraser_plume,SoG_south,Haro_Boundary,JdF_west,JdF_east,PS_all,PS_main]\n",
    "fig.legend(boxnames, loc=(0.67, 0.62), fontsize=11)\n",
    "\n",
    "regions0 = np.full((len(bathy.y),len(bathy.x)),np.nan)\n",
    "\n",
    "for i in range (0, len(boxnames)):\n",
    "    regions0[boxes[i][0]:boxes[i][1], boxes[i][2]:boxes[i][3]] = i\n",
    "\n",
    "regions0 = xr.DataArray(regions0,dims = ['y','x'])\n"
   ]
  },
  {
   "cell_type": "code",
   "execution_count": null,
   "id": "37fbe1c2",
   "metadata": {},
   "outputs": [],
   "source": [
    "dataset = ds.interp(lon=lon,lat=lat)\n",
    "\n",
    "fig, ax = plt.subplots(1, 1, figsize=(7, 9))\n",
    "mycmap = cm.deep\n",
    "mycmap.set_bad('grey')\n",
    "ax.pcolormesh(dataset.lon, dataset.lat, dataset['psl'][0], cmap=mycmap)\n",
    "\n",
    "ax.set_ylabel('Latitude (oN)', fontsize=11)\n",
    "ax.set_xlabel('Longitude (oE)', fontsize=11)\n",
    "ax.xaxis.set_tick_params(labelsize=11)\n",
    "ax.yaxis.set_tick_params(labelsize=11)\n",
    "\n",
    "fig.suptitle('Sub-regions of Salish Sea (Linear Inter.)', fontsize=15, x = 0.5, y=0.92)\n",
    "\n",
    "SoG_north = [650, 730, 100, 200]\n",
    "plot_shape_from_corners(bathy, SoG_north, 'g')\n",
    "\n",
    "SoG_center = [450, 550, 200, 300]\n",
    "plot_shape_from_corners(bathy, SoG_center, 'b')\n",
    "\n",
    "Fraser_plume = [380, 460, 260, 330]\n",
    "plot_shape_from_corners(bathy, Fraser_plume, 'm')\n",
    "\n",
    "SoG_south = [320, 380, 280, 350]\n",
    "plot_shape_from_corners(bathy, SoG_south, 'k')\n",
    "\n",
    "Haro_Boundary = [290, 350, 210, 280]\n",
    "plot_shape_from_corners(bathy, Haro_Boundary, 'm')\n",
    "\n",
    "JdF_west = [250, 425, 25, 125]\n",
    "plot_shape_from_corners(bathy, JdF_west, 'c')\n",
    "\n",
    "JdF_east = [200, 290, 150, 260]\n",
    "plot_shape_from_corners(bathy, JdF_east, 'w')\n",
    "\n",
    "PS_all = [0, 200, 80, 320]\n",
    "plot_shape_from_corners(bathy, PS_all, 'm')\n",
    "\n",
    "PS_main = [20, 150, 200, 280]\n",
    "plot_shape_from_corners(bathy, PS_main, 'r')\n",
    "\n",
    "boxnames = ['Georgia north','Georgia center','Fraser plume','Georgia south', 'Haro Boundary', 'Juan de Fuca west', 'Juan de Fuca east', 'Puget Sound all', 'Puget Sound main']\n",
    "boxes = [SoG_north,SoG_center,Fraser_plume,SoG_south,Haro_Boundary,JdF_west,JdF_east,PS_all,PS_main]\n",
    "fig.legend(boxnames, loc=(0.67, 0.62), fontsize=11)\n",
    "\n",
    "regions0 = np.full((len(bathy.y),len(bathy.x)),np.nan)\n",
    "\n",
    "for i in range (0, len(boxnames)):\n",
    "    regions0[boxes[i][0]:boxes[i][1], boxes[i][2]:boxes[i][3]] = i\n",
    "\n",
    "regions0 = xr.DataArray(regions0,dims = ['y','x'])\n"
   ]
  },
  {
   "cell_type": "code",
   "execution_count": null,
   "id": "959c0bbf",
   "metadata": {},
   "outputs": [],
   "source": [
    "dataset"
   ]
  },
  {
   "cell_type": "markdown",
   "id": "b90e534e",
   "metadata": {},
   "source": [
    "## Temporal"
   ]
  },
  {
   "cell_type": "code",
   "execution_count": null,
   "id": "d3458f85",
   "metadata": {},
   "outputs": [],
   "source": [
    "dataset = dataset.sel(leadtime=ds.time.dt.month.isin([1]))\n",
    "dataset = dataset['psl'].groupby(dataset.time.dt.day).mean()\n",
    "dataset"
   ]
  }
 ],
 "metadata": {
  "kernelspec": {
   "display_name": "analysis-ilias",
   "language": "python",
   "name": "python3"
  },
  "language_info": {
   "codemirror_mode": {
    "name": "ipython",
    "version": 3
   },
   "file_extension": ".py",
   "mimetype": "text/x-python",
   "name": "python",
   "nbconvert_exporter": "python",
   "pygments_lexer": "ipython3",
   "version": "3.11.11"
  }
 },
 "nbformat": 4,
 "nbformat_minor": 5
}
