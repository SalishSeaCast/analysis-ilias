{
 "cells": [
  {
   "cell_type": "markdown",
   "id": "98924521",
   "metadata": {},
   "source": [
    "# Seasonal Forecasts (per year)"
   ]
  },
  {
   "cell_type": "markdown",
   "id": "414e7bb0",
   "metadata": {},
   "source": [
    "## Importing"
   ]
  },
  {
   "cell_type": "code",
   "execution_count": 2,
   "id": "266d56e6",
   "metadata": {},
   "outputs": [],
   "source": [
    "import xarray as xr\n",
    "import numpy as np\n",
    "import pandas as pd\n",
    "import matplotlib.pyplot as plt\n",
    "\n",
    "import os\n",
    "from tqdm import tqdm\n"
   ]
  },
  {
   "cell_type": "markdown",
   "id": "2aa38cc1",
   "metadata": {},
   "source": [
    "## File Creation"
   ]
  },
  {
   "cell_type": "code",
   "execution_count": 3,
   "id": "20f7c99c",
   "metadata": {},
   "outputs": [],
   "source": [
    "def file_creation(variable, name, year):\n",
    "\n",
    "    temp = variable.to_dataset(name=name)\n",
    "    temp.to_netcdf(path='C:\\\\Users\\\\Ilias\\\\MOAD\\\\' + year + '.nc', mode='a', encoding={name:{\"zlib\": True, \"complevel\": 9}})\n",
    "    temp.close()\n"
   ]
  },
  {
   "cell_type": "markdown",
   "id": "6996903a",
   "metadata": {},
   "source": [
    "## Files Loading"
   ]
  },
  {
   "cell_type": "code",
   "execution_count": null,
   "id": "8683c58c",
   "metadata": {},
   "outputs": [],
   "source": [
    "bathy = xr.open_dataset('C:\\\\Users\\\\Ilias\\\\Desktop\\\\bathymetry_202108.nc')\n",
    "lat = bathy.nav_lat\n",
    "lon = bathy.nav_lon\n",
    "\n",
    "mask = xr.open_dataset('C:\\\\Users\\\\Ilias\\\\Desktop\\\\2007.nc')\n",
    "mask = mask['Mean_wind_speed'][0,:,:,0].to_numpy()\n",
    "\n",
    "path = 'D:\\\\processed\\\\'\n",
    "months = sorted(os.listdir(path))\n",
    "year = months[0][0:4]\n",
    "\n",
    "# Coordinates\n",
    "daily_dates = pd.date_range(start= months[0]+'01', end=months[-1]+'30', freq='D')\n",
    "coords = dict(time_counter=daily_dates, y=bathy.y, x=bathy.x, member=np.arange(0,20)) \n",
    "\n",
    "# Obtaining the names\n",
    "names = []\n",
    "for i in sorted(os.listdir(path+months[0]))[::2]:\n",
    "    names.append(i[i.index('e_')+2:i.index('_n')])\n"
   ]
  },
  {
   "cell_type": "markdown",
   "id": "e5d591bc",
   "metadata": {},
   "source": [
    "## Calculations (all but wind speed)"
   ]
  },
  {
   "cell_type": "code",
   "execution_count": null,
   "id": "17ba74c9",
   "metadata": {},
   "outputs": [],
   "source": [
    "for name in tqdm(names):\n",
    "    if name != 'uas' and name != 'vas':\n",
    "        \n",
    "        dataset_all = []\n",
    "        for month in months:\n",
    "            folders = sorted(os.listdir(path+month))\n",
    "            m = int(month[-1]) # The current month\n",
    "\n",
    "            for folder in folders:\n",
    "                if name in folder:\n",
    "                    files = sorted(os.listdir(path+month+'/'+folder))\n",
    "                    if 'n1-' in folder: # first 10 members\n",
    "                        i = 0\n",
    "\n",
    "                    for file in files:\n",
    "                        ds = xr.open_dataset(path+month+'/'+folder+'/'+file, decode_timedelta=True)\n",
    "\n",
    "                        ds.coords['lon'] = (ds.coords['lon'] + 180) % 360 - 180\n",
    "                        ds = ds.sortby(ds.lon)\n",
    "\n",
    "                        dataset = ds.sel(leadtime=ds.time.dt.month.isin([m]))\n",
    "                        dataset = dataset.interp(lon=lon,lat=lat, method='nearest')\n",
    "                        dataset = dataset[name].groupby(dataset.time.dt.day).mean()\n",
    "                        dataset = dataset.where(mask>0)\n",
    "\n",
    "                        if i == 0: # first member\n",
    "                            dataset_member = dataset\n",
    "                            units = dataset.attrs['units']\n",
    "                            long_name = dataset.attrs['long_name']\n",
    "                        else:\n",
    "                            dataset_member = xr.concat([dataset_member,dataset], dim='member') # every member\n",
    "                            \n",
    "                        i = i + 1\n",
    "    \n",
    "            dataset_all.append(dataset_member) # every month\n",
    "\n",
    "        temp = np.concatenate(dataset_all[:], axis=1)\n",
    "        temp = np.transpose(temp,(1,2,3,0))\n",
    "        temp = xr.DataArray(temp,coords,dims=('time_counter','y','x','member'), name=long_name, attrs = dict(long_name=long_name, units=units))\n",
    "\n",
    "        del dataset\n",
    "        del dataset_all\n",
    "        del dataset_member\n",
    "\n",
    "        file_creation(temp,long_name,year)\n",
    "        del temp\n"
   ]
  },
  {
   "cell_type": "markdown",
   "id": "5995eca9",
   "metadata": {},
   "source": [
    "## Calculations (Wind Speed)"
   ]
  },
  {
   "cell_type": "code",
   "execution_count": null,
   "id": "c0e70ee4",
   "metadata": {},
   "outputs": [],
   "source": [
    "dataset_all = []\n",
    "\n",
    "for month in months:  \n",
    "    folders = sorted(os.listdir(path+month))\n",
    "    m = int(month[-1]) # The current month\n",
    "\n",
    "    folders_uas = []\n",
    "    folders_vas = []\n",
    "\n",
    "    for folder in folders:\n",
    "\n",
    "        if 'uas' in folder:\n",
    "            folders_uas.append(folder)\n",
    "\n",
    "        elif 'vas' in folder:\n",
    "            folders_vas.append(folder)\n",
    "\n",
    "    for i in range(0, len(folders_uas)):\n",
    "        files_uas = sorted(os.listdir(path+month+'/'+folders_uas[i]))\n",
    "        files_vas = sorted(os.listdir(path+month+'/'+folders_vas[i]))\n",
    "\n",
    "        for j in range(0, len(files_uas)):\n",
    "    \n",
    "            ds = xr.open_dataset(path+month+'/'+folders_uas[i]+'/'+files_uas[j], decode_timedelta=True)\n",
    "            ds2 = xr.open_dataset(path+month+'/'+folders_vas[i]+'/'+files_vas[j], decode_timedelta=True)\n",
    "\n",
    "            ds.coords['lon'] = (ds.coords['lon'] + 180) % 360 - 180\n",
    "            ds = ds.sortby(ds.lon)\n",
    "            ds2.coords['lon'] = (ds2.coords['lon'] + 180) % 360 - 180\n",
    "            ds2 = ds2.sortby(ds2.lon)\n",
    "                \n",
    "            dataset = ds.sel(leadtime=ds.time.dt.month.isin([m]))\n",
    "            dataset2 = ds2.sel(leadtime=ds2.time.dt.month.isin([m]))\n",
    "\n",
    "            ws = np.sqrt(dataset['uas']**2 + dataset2['vas']**2)\n",
    "            ws = ws.interp(lon=lon,lat=lat, method='nearest')\n",
    "            ws = ws.groupby(ws.time.dt.day).mean()\n",
    "            ws = ws.where(mask>0)\n",
    "\n",
    "            if (i == 0) and (j ==0): # first member\n",
    "                dataset_member = ws\n",
    "                units = 'm/s'\n",
    "                long_name = 'Mean_wind_speed'\n",
    "            else:\n",
    "                dataset_member = xr.concat([dataset_member,ws], dim='member') # every member\n",
    "\n",
    "    dataset_all.append(dataset_member) # every month\n",
    "\n",
    "temp = np.concatenate(dataset_all[:], axis=1)\n",
    "temp = np.transpose(temp,(1,2,3,0))\n",
    "temp = xr.DataArray(temp,coords,dims=('time_counter','y','x','member'), name=long_name, attrs = dict(long_name=long_name, units=units))\n",
    "\n",
    "del dataset\n",
    "del dataset2\n",
    "del ws\n",
    "del dataset_all\n",
    "del dataset_member\n",
    "\n",
    "file_creation(temp,long_name,year)\n",
    "del temp\n",
    "       "
   ]
  },
  {
   "cell_type": "code",
   "execution_count": null,
   "id": "6b5c06a5",
   "metadata": {},
   "outputs": [],
   "source": []
  }
 ],
 "metadata": {
  "kernelspec": {
   "display_name": "Python 3",
   "language": "python",
   "name": "python3"
  },
  "language_info": {
   "codemirror_mode": {
    "name": "ipython",
    "version": 3
   },
   "file_extension": ".py",
   "mimetype": "text/x-python",
   "name": "python",
   "nbconvert_exporter": "python",
   "pygments_lexer": "ipython3",
   "version": "3.10.12"
  }
 },
 "nbformat": 4,
 "nbformat_minor": 5
}
