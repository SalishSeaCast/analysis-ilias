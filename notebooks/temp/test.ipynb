{
 "cells": [
  {
   "cell_type": "code",
   "execution_count": 9,
   "metadata": {},
   "outputs": [],
   "source": [
    "import xarray as xr\n",
    "import numpy as np\n",
    "import pandas as pd\n",
    "import matplotlib.pyplot as plt\n",
    "import xskillscore as xs\n",
    "\n",
    "from sklearn.compose import make_column_transformer\n",
    "from sklearn.preprocessing import MinMaxScaler\n",
    "from sklearn.preprocessing import StandardScaler\n",
    "from sklearn.feature_selection import r_regression\n",
    "\n",
    "from skfda.representation.grid import FDataGrid\n",
    "from skfda.ml.clustering import KMeans\n",
    "\n",
    "from skfda.misc.hat_matrix import NadarayaWatsonHatMatrix, LocalLinearRegressionHatMatrix, KNeighborsHatMatrix\n",
    "from skfda.preprocessing.smoothing import KernelSmoother\n",
    "\n",
    "from skfda.ml.regression import HistoricalLinearRegression\n",
    "\n",
    "from sklearn.metrics import root_mean_squared_error as rmse\n",
    "\n",
    "import os\n",
    "import lzma\n",
    "import dill\n",
    "\n",
    "from tqdm import tqdm\n",
    "\n",
    "import cmocean.cm as cm\n",
    "import salishsea_tools.viz_tools as sa_vi\n",
    "\n",
    "np.warnings.filterwarnings('ignore') # For the nan mean warning\n"
   ]
  },
  {
   "cell_type": "code",
   "execution_count": 10,
   "metadata": {},
   "outputs": [],
   "source": [
    "name = 'Diatom'\n",
    "units = '[mmol m-2]'\n",
    "category = 'Concentrations'\n",
    "\n",
    "if name == 'Diatom':\n",
    "    inputs_names = ['Summation_of_solar_radiation','Mean_wind_speed','Mean_air_temperature']\n",
    "else:\n",
    "    inputs_names = ['Summation_of_solar_radiation','Mean_air_temperature','Mean_pressure', 'Mean_precipitation', 'Mean_specific_humidity']\n",
    "\n",
    "ds = xr.open_dataset('/data/ibougoudis/MOAD/files/integrated_original.nc')\n",
    "ds2 = xr.open_dataset('/data/ibougoudis/MOAD/files/external_inputs.nc')\n",
    "\n",
    "# Low resolution\n",
    "\n",
    "ds = ds.isel(y=(np.arange(ds.y[0], ds.y[-1], 5)), \n",
    "    x=(np.arange(ds.x[0], ds.x[-1], 5)))\n",
    "\n",
    "ds2 = ds2.isel(y=(np.arange(ds2.y[0], ds2.y[-1], 5)), \n",
    "    x=(np.arange(ds2.x[0], ds2.x[-1], 5)))\n",
    "\n",
    "dataset = ds.sel(time_counter = slice('2007', '2007'))\n",
    "dataset2 = ds2.sel(time_counter = slice('2007', '2007'))\n"
   ]
  },
  {
   "cell_type": "code",
   "execution_count": 11,
   "metadata": {},
   "outputs": [],
   "source": [
    "targets = dataset[name].to_numpy()\n",
    "\n",
    "targets = np.reshape(targets,(75,180*80))\n",
    "\n",
    "inputs = []\n",
    "for i in inputs_names:\n",
    "    inputs.append(dataset2[i].to_numpy())\n",
    "\n",
    "inputs = np.array(inputs)\n",
    "\n",
    "inputs = np.reshape(inputs,(3,75,180*80))\n",
    "\n",
    "x =  np.tile(dataset2.x, len(dataset2.y))\n",
    "y =  np.tile(np.repeat(dataset2.y, len(dataset2.x)),1)\n",
    "\n",
    "indx = np.where((~np.isnan(targets).any(axis=0)) & (x>10) & ((x>100) | (y<880)))\n",
    "inputs = inputs[:,:,indx[0]]\n",
    "targets = targets[:,indx[0]]\n"
   ]
  },
  {
   "cell_type": "code",
   "execution_count": 12,
   "metadata": {},
   "outputs": [
    {
     "data": {
      "text/plain": [
       "(75, 1838)"
      ]
     },
     "execution_count": 12,
     "metadata": {},
     "output_type": "execute_result"
    }
   ],
   "source": [
    "targets.shape"
   ]
  },
  {
   "cell_type": "code",
   "execution_count": 13,
   "metadata": {},
   "outputs": [],
   "source": [
    "inputs0 = np.transpose(inputs,axes=(2,1,0))\n",
    "targets0 = targets.transpose()\n",
    "inputs0 = FDataGrid(data_matrix=inputs0, grid_points=np.arange(0,len(targets0[0])))\n",
    "targets0 = FDataGrid(data_matrix=targets0, grid_points=np.arange(0,len(targets0[0])))\n",
    "\n",
    "model = HistoricalLinearRegression(n_intervals=3).fit(inputs0,targets0)\n",
    "predictions = model.predict(inputs0)\n",
    "\n",
    "predictions = np.array(predictions.to_grid(np.arange(0,len(targets))).data_matrix)\n",
    "predictions = np.squeeze(predictions,2)\n",
    "\n",
    "predictions = predictions.transpose()\n"
   ]
  },
  {
   "cell_type": "code",
   "execution_count": 14,
   "metadata": {},
   "outputs": [
    {
     "data": {
      "text/plain": [
       "array([0.17161487, 0.16998011, 0.17420622, 0.1761727 , 0.17258373,\n",
       "       0.16868513, 0.16790976, 0.16874997, 0.17552003, 0.18238737,\n",
       "       0.18261328, 0.18067137, 0.18600597, 0.19262919, 0.19711187,\n",
       "       0.21132495, 0.20530919, 0.20863732, 0.21274578, 0.21630125,\n",
       "       0.22845681, 0.24061698, 0.22755136, 0.22426793, 0.21000492,\n",
       "       0.20260459, 0.21227905, 0.21715931, 0.23406759, 0.23420077,\n",
       "       0.23160841, 0.23169077, 0.24658231, 0.241703  , 0.25214858,\n",
       "       0.24841559, 0.23711047, 0.22729613, 0.22201945, 0.23980566,\n",
       "       0.27013782, 0.29760155, 0.32656435, 0.3685128 , 0.37742582,\n",
       "       0.43100808, 0.44953215, 0.5143321 , 0.59721875, 0.61079477,\n",
       "       0.61355388, 0.64280527, 0.57596317, 0.53894825, 0.4982403 ,\n",
       "       0.5056259 , 0.48774568, 0.47653283, 0.39765441, 0.37499431,\n",
       "       0.37553859, 0.32442376, 0.30099847, 0.3214591 , 0.35201092,\n",
       "       0.39033141, 0.40012795, 0.42483878, 0.44711321, 0.43739228,\n",
       "       0.3903652 , 0.35318243, 0.32819392, 0.36167902, 0.39371288])"
      ]
     },
     "execution_count": 14,
     "metadata": {},
     "output_type": "execute_result"
    }
   ],
   "source": [
    "a = np.mean(targets,axis=1)\n",
    "a"
   ]
  },
  {
   "cell_type": "code",
   "execution_count": 15,
   "metadata": {},
   "outputs": [
    {
     "data": {
      "text/plain": [
       "array([0.17161487, 0.16998011, 0.17420622, 0.1761727 , 0.17258373,\n",
       "       0.16868513, 0.16790976, 0.16874997, 0.17552003, 0.18238737,\n",
       "       0.18261328, 0.18067137, 0.18600597, 0.19262919, 0.19711187,\n",
       "       0.21132495, 0.20530919, 0.20863732, 0.21274578, 0.21630125,\n",
       "       0.22845681, 0.24061698, 0.22755136, 0.22426793, 0.21000492,\n",
       "       0.20260459, 0.21227905, 0.21715931, 0.23406759, 0.23420077,\n",
       "       0.23160841, 0.23169077, 0.24658231, 0.241703  , 0.25214858,\n",
       "       0.24841559, 0.23711047, 0.22729613, 0.22201945, 0.23980566,\n",
       "       0.27013782, 0.29760155, 0.32656435, 0.3685128 , 0.37742582,\n",
       "       0.43100808, 0.44953215, 0.5143321 , 0.59721875, 0.61079477,\n",
       "       0.61355388, 0.64280527, 0.57596317, 0.53894825, 0.4982403 ,\n",
       "       0.5056259 , 0.48774568, 0.47653283, 0.39765441, 0.37499431,\n",
       "       0.37553859, 0.32442376, 0.30099847, 0.3214591 , 0.35201092,\n",
       "       0.39033141, 0.40012795, 0.42483878, 0.44711321, 0.43739228,\n",
       "       0.3903652 , 0.35318243, 0.32819392, 0.36167902, 0.39371288])"
      ]
     },
     "execution_count": 15,
     "metadata": {},
     "output_type": "execute_result"
    }
   ],
   "source": [
    "b = np.mean(predictions,axis=1)\n",
    "b"
   ]
  },
  {
   "cell_type": "code",
   "execution_count": 20,
   "metadata": {},
   "outputs": [],
   "source": [
    "dataset = ds.sel(time_counter = slice('2009', '2009'))\n",
    "dataset2 = ds2.sel(time_counter = slice('2009', '2009'))\n",
    "\n",
    "targets = dataset[name].to_numpy()\n",
    "\n",
    "targets = np.reshape(targets,(75,180*80))\n",
    "\n",
    "inputs = []\n",
    "for i in inputs_names:\n",
    "    inputs.append(dataset2[i].to_numpy())\n",
    "\n",
    "inputs = np.array(inputs)\n",
    "\n",
    "inputs = np.reshape(inputs,(3,75,180*80))\n",
    "\n",
    "x =  np.tile(dataset2.x, len(dataset2.y))\n",
    "y =  np.tile(np.repeat(dataset2.y, len(dataset2.x)),1)\n",
    "\n",
    "indx = np.where((~np.isnan(targets).any(axis=0)) & (x>10) & ((x>100) | (y<880)))\n",
    "inputs = inputs[:,:,indx[0]]\n",
    "targets = targets[:,indx[0]]\n"
   ]
  },
  {
   "cell_type": "code",
   "execution_count": 21,
   "metadata": {},
   "outputs": [
    {
     "data": {
      "text/plain": [
       "(75, 1838)"
      ]
     },
     "execution_count": 21,
     "metadata": {},
     "output_type": "execute_result"
    }
   ],
   "source": [
    "targets.shape"
   ]
  },
  {
   "cell_type": "code",
   "execution_count": 22,
   "metadata": {},
   "outputs": [],
   "source": [
    "inputs0 = np.transpose(inputs,axes=(2,1,0))\n",
    "targets0 = targets.transpose()\n",
    "inputs0 = FDataGrid(data_matrix=inputs0, grid_points=np.arange(0,len(targets0[0])))\n",
    "targets0 = FDataGrid(data_matrix=targets0, grid_points=np.arange(0,len(targets0[0])))\n",
    "\n",
    "predictions = model.predict(inputs0)\n",
    "\n",
    "predictions = np.array(predictions.to_grid(np.arange(0,len(targets))).data_matrix)\n",
    "predictions = np.squeeze(predictions,2)\n",
    "\n",
    "predictions = predictions.transpose()\n"
   ]
  },
  {
   "cell_type": "code",
   "execution_count": 23,
   "metadata": {},
   "outputs": [
    {
     "data": {
      "text/plain": [
       "array([0.19228935, 0.20289152, 0.21452206, 0.22683279, 0.24004792,\n",
       "       0.24782262, 0.26266961, 0.26864944, 0.24668963, 0.24150577,\n",
       "       0.22933639, 0.21747264, 0.23027617, 0.24347883, 0.24359234,\n",
       "       0.24056169, 0.2365183 , 0.23305449, 0.24579775, 0.26174459,\n",
       "       0.27879614, 0.27279774, 0.2889902 , 0.299467  , 0.32107366,\n",
       "       0.34814309, 0.37573868, 0.36610999, 0.33234508, 0.29811878,\n",
       "       0.27751935, 0.2660066 , 0.25239842, 0.24521947, 0.238977  ,\n",
       "       0.25736064, 0.26013723, 0.24097879, 0.22869497, 0.23962328,\n",
       "       0.2359469 , 0.24251613, 0.23173801, 0.25081041, 0.25381823,\n",
       "       0.27126792, 0.2468295 , 0.25041458, 0.27261394, 0.29720302,\n",
       "       0.32991429, 0.39229749, 0.47111475, 0.52781998, 0.56278802,\n",
       "       0.62729109, 0.60838219, 0.55144873, 0.55749132, 0.60063272,\n",
       "       0.64911212, 0.6482884 , 0.65062734, 0.63596855, 0.59883971,\n",
       "       0.55154208, 0.52683899, 0.5107316 , 0.50493365, 0.51183969,\n",
       "       0.51917843, 0.53635989, 0.55115316, 0.50280669, 0.51500788])"
      ]
     },
     "execution_count": 23,
     "metadata": {},
     "output_type": "execute_result"
    }
   ],
   "source": [
    "a = np.mean(targets,axis=1)\n",
    "a"
   ]
  },
  {
   "cell_type": "code",
   "execution_count": 24,
   "metadata": {},
   "outputs": [
    {
     "data": {
      "text/plain": [
       "array([0.17161487, 0.18485595, 0.19991011, 0.21702481, 0.23354732,\n",
       "       0.24880706, 0.27137651, 0.28544215, 0.29260786, 0.31103782,\n",
       "       0.31766705, 0.31257382, 0.31858309, 0.33606555, 0.36184044,\n",
       "       0.42018768, 0.45749271, 0.46591296, 0.4752638 , 0.4659125 ,\n",
       "       0.42688761, 0.41038017, 0.38239536, 0.31791505, 0.22671917,\n",
       "       0.15304867, 0.13683454, 0.14820828, 0.1546177 , 0.15044403,\n",
       "       0.14046563, 0.11976943, 0.13572502, 0.13949964, 0.16992326,\n",
       "       0.19232999, 0.19296099, 0.18272059, 0.18175318, 0.20198821,\n",
       "       0.24104311, 0.2997878 , 0.33667978, 0.39728092, 0.43436667,\n",
       "       0.49332037, 0.50589893, 0.56003311, 0.62854073, 0.66031768,\n",
       "       0.68140871, 0.74513874, 0.71857737, 0.7063626 , 0.69785643,\n",
       "       0.70440869, 0.65058994, 0.6213073 , 0.57223695, 0.54876058,\n",
       "       0.54372804, 0.50624499, 0.46173988, 0.44449118, 0.4358337 ,\n",
       "       0.43964037, 0.43063935, 0.37723934, 0.3473195 , 0.33683621,\n",
       "       0.29157051, 0.28341527, 0.25391988, 0.23335767, 0.28116343])"
      ]
     },
     "execution_count": 24,
     "metadata": {},
     "output_type": "execute_result"
    }
   ],
   "source": [
    "b = np.mean(predictions,axis=1)\n",
    "b"
   ]
  },
  {
   "cell_type": "code",
   "execution_count": null,
   "metadata": {},
   "outputs": [],
   "source": []
  }
 ],
 "metadata": {
  "kernelspec": {
   "display_name": "analysis-ilias",
   "language": "python",
   "name": "python3"
  },
  "language_info": {
   "codemirror_mode": {
    "name": "ipython",
    "version": 3
   },
   "file_extension": ".py",
   "mimetype": "text/x-python",
   "name": "python",
   "nbconvert_exporter": "python",
   "pygments_lexer": "ipython3",
   "version": "3.11.8"
  }
 },
 "nbformat": 4,
 "nbformat_minor": 2
}
