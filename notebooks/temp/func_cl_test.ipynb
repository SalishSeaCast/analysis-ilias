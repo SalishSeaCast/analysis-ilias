{
 "cells": [
  {
   "cell_type": "markdown",
   "metadata": {},
   "source": [
    "# Test notebook for functional clustering"
   ]
  },
  {
   "cell_type": "markdown",
   "metadata": {},
   "source": [
    "## Importing"
   ]
  },
  {
   "cell_type": "code",
   "execution_count": 1,
   "metadata": {},
   "outputs": [],
   "source": [
    "import xarray as xr\n",
    "import numpy as np\n",
    "import pandas as pd\n",
    "import matplotlib.pyplot as plt\n",
    "\n",
    "from skfda.ml.clustering import KMeans\n",
    "from sklearn.preprocessing import minmax_scale\n",
    "\n",
    "from skfda.representation.grid import FDataGrid"
   ]
  },
  {
   "cell_type": "markdown",
   "metadata": {},
   "source": [
    "## Files Reading"
   ]
  },
  {
   "cell_type": "code",
   "execution_count": 2,
   "metadata": {},
   "outputs": [],
   "source": [
    "ds = xr.open_dataset('/data/ibougoudis/MOAD/files/integrated_original.nc')\n",
    "ds2 = xr.open_dataset('/data/ibougoudis/MOAD/files/external_inputs.nc')\n",
    "\n",
    "ds = ds.isel(time_counter = (np.arange(0, len(ds.time_counter),2)), \n",
    "    y=(np.arange(ds.y[0], ds.y[-1], 5)), \n",
    "    x=(np.arange(ds.x[0], ds.x[-1], 5)))\n",
    "\n",
    "ds2 = ds2.isel(time_counter = (np.arange(0, len(ds2.time_counter),2)), \n",
    "    y=(np.arange(ds2.y[0], ds2.y[-1], 5)), \n",
    "    x=(np.arange(ds2.x[0], ds2.x[-1], 5)))\n",
    "\n",
    "dataset = ds.sel(time_counter = slice('2007', '2007'))\n",
    "dataset2 = ds2.sel(time_counter = slice('2007', '2007'))\n",
    "\n",
    "dates = pd.DatetimeIndex(dataset['time_counter'].values)\n"
   ]
  },
  {
   "cell_type": "markdown",
   "metadata": {},
   "source": [
    "## Datasets Preparation"
   ]
  },
  {
   "cell_type": "code",
   "execution_count": 3,
   "metadata": {},
   "outputs": [
    {
     "data": {
      "text/plain": [
       "Text(0.5, 1.0, 'Functional Clustering for drivers')"
      ]
     },
     "execution_count": 3,
     "metadata": {},
     "output_type": "execute_result"
    },
    {
     "data": {
      "image/png": "[encoded data removed]",
      "text/plain": [
       "<Figure size 640x480 with 2 Axes>"
      ]
     },
     "metadata": {},
     "output_type": "display_data"
    }
   ],
   "source": [
    "\n",
    "\n",
    "input = np.stack([np.reshape(np.ravel(dataset['Temperature_(0m-15m)']), (len(dataset.time_counter), len(dataset.y) * len(dataset.x))),\n",
    "    np.reshape(np.ravel(dataset['Temperature_(15m-100m)']), (len(dataset.time_counter), len(dataset.y) * len(dataset.x))),\n",
    "    np.reshape(np.ravel(dataset['Salinity_(0m-15m)']), (len(dataset.time_counter), len(dataset.y) * len(dataset.x))),\n",
    "    np.reshape(np.ravel(dataset['Salinity_(15m-100m)']), (len(dataset.time_counter), len(dataset.y) * len(dataset.x))),\n",
    "    np.reshape(np.ravel(dataset2['Summation_of_solar_radiation']), (len(dataset.time_counter), len(dataset.y) * len(dataset.x))),\n",
    "    np.reshape(np.ravel(dataset2['Mean_wind_speed']), (len(dataset.time_counter), len(dataset.y) * len(dataset.x))),\n",
    "    np.reshape(np.ravel(dataset2['Mean_air_temperature']), (len(dataset.time_counter), len(dataset.y) * len(dataset.x))),\n",
    "    ])\n",
    "\n",
    "x =  np.tile(dataset.x, len(dataset.y))\n",
    "y =  np.tile(np.repeat(dataset.y, len(dataset.x)),1)\n",
    "\n",
    "indx = np.where((~np.isnan(input[1]).any(axis=0)) & (x>10) & ((x>100) | (y<880))) # input[1] because this variable is down to 100m\n",
    "input =input[:,:,indx[0]]\n",
    "\n",
    "input = np.transpose(input,axes=(0,2,1)) # this is the right shape for preprocessing the data\n",
    "\n",
    "# Transforming each variable individually\n",
    "input[0] = minmax_scale(input[0])\n",
    "input[1] = minmax_scale(input[1])\n",
    "input[2] = minmax_scale(input[2])\n",
    "input[3] = minmax_scale(input[3])\n",
    "input[4] = minmax_scale(input[4])\n",
    "input[5] = minmax_scale(input[5])\n",
    "input[6] = minmax_scale(input[6])\n",
    "\n",
    "# Converting it to an appropriate format for functional clustering\n",
    "input = np.transpose(input,axes=(1,2,0)) # this is the right shape for converting it to a functional variable\n",
    "input2 = FDataGrid(input, np.arange(0,len(dataset.time_counter)))\n",
    "\n",
    "# Training\n",
    "n_clusters = 6\n",
    "kmeans = KMeans(n_clusters=n_clusters)\n",
    "kmeans.fit(input2)\n",
    "clusters = kmeans.predict(input2)\n",
    "\n",
    "# Creating the map\n",
    "indx2 = np.full(len(dataset.y) * len(dataset.x),np.nan)\n",
    "indx2[indx[0]] = clusters\n",
    "clusters = np.reshape(indx2,(len(dataset.y),len(dataset.x))) \n",
    "\n",
    "# Preparation of the dataarray \n",
    "clusters2 = xr.DataArray(clusters,\n",
    "    coords = {'y': dataset.y, 'x': dataset.x},\n",
    "    dims = ['y','x'],\n",
    "    attrs=dict(description=\"Clusters of the performed functional analysis algorithm\",\n",
    "    long_name =\"Cluster\",\n",
    "    units=\"count\"),)\n",
    "\n",
    "# Plotting\n",
    "clusters2.plot()\n",
    "plt.title('Functional Clustering for drivers')\n"
   ]
  },
  {
   "cell_type": "code",
   "execution_count": 50,
   "metadata": {},
   "outputs": [
    {
     "ename": "AttributeError",
     "evalue": "'KMeans' object has no attribute 'to_basis'",
     "output_type": "error",
     "traceback": [
      "\u001b[0;31m---------------------------------------------------------------------------\u001b[0m",
      "\u001b[0;31mAttributeError\u001b[0m                            Traceback (most recent call last)",
      "Cell \u001b[0;32mIn[50], line 2\u001b[0m\n\u001b[1;32m      1\u001b[0m \u001b[38;5;28;01mfrom\u001b[39;00m \u001b[38;5;21;01mskfda\u001b[39;00m\u001b[38;5;21;01m.\u001b[39;00m\u001b[38;5;21;01mrepresentation\u001b[39;00m\u001b[38;5;21;01m.\u001b[39;00m\u001b[38;5;21;01mbasis\u001b[39;00m \u001b[38;5;28;01mimport\u001b[39;00m FourierBasis\n\u001b[0;32m----> 2\u001b[0m y \u001b[38;5;241m=\u001b[39m \u001b[43mkmeans\u001b[49m\u001b[38;5;241;43m.\u001b[39;49m\u001b[43mto_basis\u001b[49m(FourierBasis(n_basis\u001b[38;5;241m=\u001b[39m\u001b[38;5;241m5\u001b[39m))\n",
      "\u001b[0;31mAttributeError\u001b[0m: 'KMeans' object has no attribute 'to_basis'"
     ]
    }
   ],
   "source": [
    "from skfda.representation.basis import FourierBasis\n",
    "y = kmeans.to_basis(FourierBasis(n_basis=5))"
   ]
  },
  {
   "cell_type": "code",
   "execution_count": 49,
   "metadata": {},
   "outputs": [
    {
     "data": {
      "text/plain": [
       "(1,)"
      ]
     },
     "execution_count": 49,
     "metadata": {},
     "output_type": "execute_result"
    }
   ],
   "source": []
  },
  {
   "cell_type": "code",
   "execution_count": null,
   "metadata": {},
   "outputs": [],
   "source": []
  }
 ],
 "metadata": {
  "kernelspec": {
   "display_name": "analysis-ilias",
   "language": "python",
   "name": "python3"
  },
  "language_info": {
   "codemirror_mode": {
    "name": "ipython",
    "version": 3
   },
   "file_extension": ".py",
   "mimetype": "text/x-python",
   "name": "python",
   "nbconvert_exporter": "python",
   "pygments_lexer": "ipython3",
   "version": "3.11.8"
  }
 },
 "nbformat": 4,
 "nbformat_minor": 2
}
