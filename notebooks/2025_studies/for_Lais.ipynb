{
 "cells": [
  {
   "cell_type": "markdown",
   "metadata": {},
   "source": [
    "## Importing"
   ]
  },
  {
   "cell_type": "code",
   "execution_count": 4,
   "metadata": {},
   "outputs": [],
   "source": [
    "import numpy as np\n",
    "\n",
    "import lzma # You might need to install this package - compressor for files\n",
    "import dill # You might need to install this package - saving & loading of files\n"
   ]
  },
  {
   "cell_type": "markdown",
   "metadata": {},
   "source": [
    "## Loading of files"
   ]
  },
  {
   "cell_type": "code",
   "execution_count": 7,
   "metadata": {},
   "outputs": [
    {
     "name": "stdout",
     "output_type": "stream",
     "text": [
      "name: Flagellate_Production_Rate\n",
      "period: jan_mar\n",
      "input_features: ['Summation_of_solar_radiation', 'Mean_air_temperature', 'Mean_pressure', 'Mean_precipitation', 'Latitude', 'Longitude', 'Day_of_year']\n",
      "n_bins: 255\n",
      "\n",
      "Latitude takes values from 46.859 to 51.105\n",
      "Longitude takes values from -126.400 to -121.318\n",
      "Day of year is the integer for each day (for example 1 is Jan 01, 91 is Mar 31). Feb 29 is removed from leap years\n"
     ]
    }
   ],
   "source": [
    "# Path of the files provided\n",
    "path = '/data/ibougoudis/MOAD/files/results/Flagellate_Production_Rate/single_runs/flag_pr_hist1_boxes0/'\n",
    "\n",
    "# Printing of the readme file\n",
    "readme = open(path+'readme.txt', 'r')\n",
    "print(readme.read())\n",
    "\n",
    "print('Latitude takes values from 46.859 to 51.105')\n",
    "print('Longitude takes values from -126.400 to -121.318')\n",
    "print('Day of year is the integer for each day (for example 1 is Jan 01, 91 is Mar 31). Feb 29 is removed from leap years')\n",
    "\n",
    "# Regressor\n",
    "f = lzma.open(path + 'regr_all.xz', 'rb')\n",
    "regr = dill.load(f)"
   ]
  },
  {
   "cell_type": "markdown",
   "metadata": {},
   "source": [
    "## Dummy example of prediction"
   ]
  },
  {
   "cell_type": "code",
   "execution_count": 6,
   "metadata": {},
   "outputs": [
    {
     "name": "stdout",
     "output_type": "stream",
     "text": [
      "(1, 7)\n",
      "[4.5296814e-07]\n"
     ]
    }
   ],
   "source": [
    "inputs = np.array((0,1,2,3,4,5,6)) # Hypothetical values for each input feature. 0 for solar radiaton, 1 for air temperature etc\n",
    "inputs = np.expand_dims(inputs, -1) # We do this because the regressor accepts arrays of shape (n_samples, n_features)\n",
    "inputs = inputs.transpose() # To bring it in the right format\n",
    "print(inputs.shape)\n",
    "\n",
    "prediction = regr.predict(inputs)\n",
    "print(prediction)"
   ]
  }
 ],
 "metadata": {
  "kernelspec": {
   "display_name": "analysis-ilias",
   "language": "python",
   "name": "python3"
  },
  "language_info": {
   "codemirror_mode": {
    "name": "ipython",
    "version": 3
   },
   "file_extension": ".py",
   "mimetype": "text/x-python",
   "name": "python",
   "nbconvert_exporter": "python",
   "pygments_lexer": "ipython3",
   "version": "3.11.11"
  }
 },
 "nbformat": 4,
 "nbformat_minor": 2
}
