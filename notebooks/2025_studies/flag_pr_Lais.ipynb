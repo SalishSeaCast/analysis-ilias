{
 "cells": [
  {
   "cell_type": "markdown",
   "metadata": {},
   "source": [
    "# Flagellate Production Rate"
   ]
  },
  {
   "cell_type": "markdown",
   "metadata": {},
   "source": [
    "## Importing"
   ]
  },
  {
   "cell_type": "code",
   "execution_count": 1,
   "metadata": {},
   "outputs": [],
   "source": [
    "import numpy as np\n",
    "import pandas as pd\n",
    "\n",
    "import dill # You might need to install this package - saving & loading of files\n"
   ]
  },
  {
   "cell_type": "markdown",
   "metadata": {},
   "source": [
    "## Loading of files"
   ]
  },
  {
   "cell_type": "code",
   "execution_count": 2,
   "metadata": {},
   "outputs": [
    {
     "name": "stdout",
     "output_type": "stream",
     "text": [
      "name: Flagellate_Production_Rate\n",
      "period: jan_apr\n",
      "input_features: ['Summation_of_solar_radiation', 'Mean_precipitation']\n",
      "n_bins: 255\n",
      "\n"
     ]
    }
   ],
   "source": [
    "name = 'Flagellate_Production_Rate'\n",
    "\n",
    "# Path of the files provided\n",
    "path = '/data/ibougoudis/MOAD/analysis-ilias/notebooks/temp/' + name + '/' # Change this to the relative path\n",
    "\n",
    "# Printing of the readme file\n",
    "readme = open(path + name[0:4].lower() + '_pr' + '_readme.txt', 'r')\n",
    "print(readme.read())\n",
    "\n",
    "f = open(path + name[0:4].lower() + '_pr' + '_regressor.pkl', 'rb')\n",
    "regr = dill.load(f)\n"
   ]
  },
  {
   "cell_type": "markdown",
   "metadata": {},
   "source": [
    "## Example of prediction"
   ]
  },
  {
   "cell_type": "code",
   "execution_count": 3,
   "metadata": {},
   "outputs": [
    {
     "name": "stdout",
     "output_type": "stream",
     "text": [
      "(120, 2)\n",
      "The 1 model output of Flagellate_Production_Rate:\n",
      "2.177E-07\n",
      "The 2 model output of Flagellate_Production_Rate:\n",
      "2.177E-07\n",
      "The 3 model output of Flagellate_Production_Rate:\n",
      "2.177E-07\n",
      "The 4 model output of Flagellate_Production_Rate:\n",
      "2.177E-07\n",
      "The 5 model output of Flagellate_Production_Rate:\n",
      "2.177E-07\n",
      "The 6 model output of Flagellate_Production_Rate:\n",
      "2.177E-07\n",
      "The 7 model output of Flagellate_Production_Rate:\n",
      "2.177E-07\n",
      "The 8 model output of Flagellate_Production_Rate:\n",
      "2.177E-07\n",
      "The 9 model output of Flagellate_Production_Rate:\n",
      "2.177E-07\n",
      "The 10 model output of Flagellate_Production_Rate:\n",
      "2.177E-07\n"
     ]
    }
   ],
   "source": [
    "inputs = pd.read_excel(path + name[0:4].lower() + '_pr' +'_inputs.xlsx', sheet_name= name) # Excel file for this variable\n",
    "inputs = inputs.iloc[:,1:3].to_numpy()\n",
    "print(inputs.shape)\n",
    "\n",
    "predictions = regr.predict(inputs)\n",
    "\n",
    "for i in range (0, 10): # Printing the 10 first outputs\n",
    "\n",
    "    print('The ' + str(i+1) + ' model output of ' + name + ':')\n",
    "    print('%.3E' % predictions[i])\n",
    "    "
   ]
  },
  {
   "cell_type": "code",
   "execution_count": null,
   "metadata": {},
   "outputs": [],
   "source": []
  }
 ],
 "metadata": {
  "kernelspec": {
   "display_name": "analysis-ilias",
   "language": "python",
   "name": "python3"
  },
  "language_info": {
   "codemirror_mode": {
    "name": "ipython",
    "version": 3
   },
   "file_extension": ".py",
   "mimetype": "text/x-python",
   "name": "python",
   "nbconvert_exporter": "python",
   "pygments_lexer": "ipython3",
   "version": "3.11.11"
  }
 },
 "nbformat": 4,
 "nbformat_minor": 2
}
