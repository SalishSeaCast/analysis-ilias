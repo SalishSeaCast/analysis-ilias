{
 "cells": [
  {
   "cell_type": "markdown",
   "metadata": {},
   "source": [
    "## Importing"
   ]
  },
  {
   "cell_type": "code",
   "execution_count": 13,
   "metadata": {},
   "outputs": [],
   "source": [
    "import xarray as xr\n",
    "import numpy as np\n",
    "import pandas as pd\n",
    "import matplotlib.pyplot as plt\n",
    "\n",
    "from sklearn.ensemble import BaggingRegressor\n",
    "from sklearn.svm import SVR\n",
    "from sklearn.model_selection import train_test_split\n",
    "from sklearn import preprocessing\n",
    "\n",
    "from sklearn.metrics import mean_squared_error as mse\n",
    "\n",
    "import os\n",
    "\n",
    "from time import sleep\n",
    "from tqdm.auto import tqdm\n",
    "\n",
    "import dill\n",
    "import random\n",
    "\n",
    "import salishsea_tools.viz_tools as sa_vi\n"
   ]
  },
  {
   "cell_type": "markdown",
   "metadata": {},
   "source": [
    "## Datasets Preparation"
   ]
  },
  {
   "cell_type": "code",
   "execution_count": 14,
   "metadata": {},
   "outputs": [],
   "source": [
    "def datasets_preparation ():\n",
    "    \n",
    "     ds_name = ('/results2/SalishSea/nowcast-green.202111/' + i + '/SalishSea_1d_' + '20' + str(i[5:7]) + str(dict_month[i[2:5]])+str(i[0:2]) + '_' + '20' + str(i[5:7]) + str(dict_month[i[2:5]]) + str(i[0:2]) + '_grid_T.nc')\n",
    "\n",
    "     ds_bio_name = ('/results2/SalishSea/nowcast-green.202111/' + i + '/SalishSea_1d_'  + '20' + str(i[5:7]) + str(dict_month[i[2:5]])+str(i[0:2]) + '_' + '20' + str(i[5:7]) + str(dict_month[i[2:5]]) + str(i[0:2]) + '_biol_T.nc')\n",
    "     \n",
    "     ds = xr.open_dataset (ds_name)\n",
    "     ds_bio = xr. open_dataset (ds_bio_name)\n",
    "\n",
    "     date = pd.DatetimeIndex(ds['time_counter'].values)\n",
    "\n",
    "     temp_i1 = (ds.votemper.where(mask==1)[0,0:15] * ds.e3t.where(mask==1)\n",
    "          [0,0:15]).sum('deptht', skipna = True, min_count = 15) / mesh.gdepw_0[0,15]\n",
    "     temp_i2 = (ds.votemper.where(mask==1)[0,15:27] * ds.e3t.where(mask==1)\n",
    "          [0,15:27]).sum('deptht', skipna = True, min_count = 12) / (mesh.gdepw_0[0,27] - mesh.gdepw_0[0,14])\n",
    "     saline_i1 = (ds.vosaline.where(mask==1)[0,0:15] * ds.e3t.where(mask==1)\n",
    "          [0,0:15]).sum('deptht', skipna = True, min_count = 15) / mesh.gdepw_0[0,15]\n",
    "     saline_i2 = (ds.vosaline.where(mask==1)[0,15:27] * ds.e3t.where(mask==1)\n",
    "          [0,15:27]).sum('deptht', skipna = True, min_count = 12) / (mesh.gdepw_0[0,27] - mesh.gdepw_0[0,14])\n",
    "\n",
    "     diat_i = (ds_bio.diatoms.where(mask==1)[0,0:27] * ds.e3t.where(mask==1)\n",
    "          [0,0:27]).sum('deptht', skipna = True, min_count = 27) / mesh.gdepw_0[0,27]\n",
    "     # flag_i = (ds_bio.flagellates.where(mask==1)[0,0:27] * ds.e3t.where(mask==1)\n",
    "     #      [0,0:27]).sum('deptht', skipna = True, min_count = 27) / mesh.gdepw_0[0,27]\n",
    "\n",
    "     return (date, temp_i1, temp_i2, saline_i1, saline_i2, diat_i)\n"
   ]
  },
  {
   "cell_type": "markdown",
   "metadata": {},
   "source": [
    "## Regressor"
   ]
  },
  {
   "cell_type": "code",
   "execution_count": 15,
   "metadata": {},
   "outputs": [],
   "source": [
    "def regressor (inputs, targets, variable_name):\n",
    "    \n",
    "    inputs = inputs.transpose()\n",
    "    \n",
    "    # Regressor\n",
    "    scale = preprocessing.StandardScaler()\n",
    "    inputs2 = scale.fit_transform(inputs)\n",
    "    X_train, X_test, y_train, y_test = train_test_split(inputs2, targets)\n",
    "\n",
    "    model = SVR(epsilon=0.01, shrinking=False, tol=0.005, cache_size=500, verbose=4)\n",
    "    regr = BaggingRegressor(model, n_estimators=10, n_jobs=4, verbose=4).fit(X_train, y_train)\n",
    "\n",
    "    outputs_test = regr.predict(X_test)\n",
    "\n",
    "    m = scatter_plot(y_test, outputs_test, variable_name) \n",
    "    r = np.round(np.corrcoef(y_test, outputs_test)[0][1],3)\n",
    "    rms = np.round(mse(y_test, outputs_test),4)\n",
    "    \n",
    "\n",
    "    return (r, rms, m, regr)"
   ]
  },
  {
   "cell_type": "markdown",
   "metadata": {},
   "source": [
    "# Printing"
   ]
  },
  {
   "cell_type": "code",
   "execution_count": 16,
   "metadata": {},
   "outputs": [],
   "source": [
    "def printing (targets, outputs, m):\n",
    "\n",
    "    print ('The amount of data points is', outputs.size)\n",
    "    print ('The slope of the best fitting line is ', np.round(m,3))\n",
    "    print ('The correlation coefficient is:', np.round(np.corrcoef(targets, outputs)[0][1],3))\n",
    "    print (' The mean square error is:', np.round(mse(targets,outputs),5))\n"
   ]
  },
  {
   "cell_type": "markdown",
   "metadata": {},
   "source": [
    "## Scatter Plot"
   ]
  },
  {
   "cell_type": "code",
   "execution_count": 17,
   "metadata": {},
   "outputs": [],
   "source": [
    "def scatter_plot(targets, outputs, variable_name):\n",
    "\n",
    "    # compute slope m and intercept b\n",
    "    m, b = np.polyfit(targets, outputs, deg=1)\n",
    "\n",
    "    printing(targets, outputs, m)\n",
    "\n",
    "    fig, ax = plt.subplots(2, figsize=(5,10), layout='constrained')\n",
    "\n",
    "    ax[0].scatter(targets,outputs, alpha = 0.2, s = 10)\n",
    "\n",
    "    lims = [np.min([ax[0].get_xlim(), ax[0].get_ylim()]),\n",
    "        np.max([ax[0].get_xlim(), ax[0].get_ylim()]),]\n",
    "\n",
    "    # plot fitted y = m*x + b\n",
    "    ax[0].axline(xy1=(0, b), slope=m, color='r')\n",
    "\n",
    "    ax[0].set_xlabel('targets')\n",
    "    ax[0].set_ylabel('outputs')\n",
    "    ax[0].set_xlim(lims)\n",
    "    ax[0].set_ylim(lims)\n",
    "    ax[0].set_aspect('equal')\n",
    "\n",
    "    ax[0].plot(lims, lims,linestyle = '--',color = 'k')\n",
    "\n",
    "    h = ax[1].hist2d(targets,outputs, bins=100, cmap='jet', \n",
    "        range=[lims,lims], cmin=0.1)\n",
    "    \n",
    "    ax[1].plot(lims, lims,linestyle = '--',color = 'k')\n",
    "\n",
    "    # plot fitted y = m*x + b\n",
    "    ax[1].axline(xy1=(0, b), slope=m, color='r')\n",
    "\n",
    "    ax[1].set_xlabel('targets')\n",
    "    ax[1].set_ylabel('outputs')\n",
    "    ax[1].set_aspect('equal')\n",
    "\n",
    "    fig.colorbar(h[3],ax=ax[1], location='bottom')\n",
    "\n",
    "    fig.suptitle(variable_name)\n",
    "\n",
    "    plt.show()\n",
    "\n",
    "    return (m)\n"
   ]
  },
  {
   "cell_type": "markdown",
   "metadata": {},
   "source": [
    "## Plotting"
   ]
  },
  {
   "cell_type": "code",
   "execution_count": 18,
   "metadata": {},
   "outputs": [],
   "source": [
    "def plotting(variable, name):\n",
    "\n",
    "    plt.plot(years,variable, marker = '.', linestyle = '')\n",
    "    plt.legend(['diatom','flagellate'])\n",
    "    plt.xlabel('Years')\n",
    "    plt.ylabel(name)\n",
    "    plt.show()"
   ]
  },
  {
   "cell_type": "markdown",
   "metadata": {},
   "source": [
    "## Plotting 2"
   ]
  },
  {
   "cell_type": "code",
   "execution_count": 19,
   "metadata": {},
   "outputs": [],
   "source": [
    "def plotting2(variable,title):\n",
    "    \n",
    "    fig, ax = plt.subplots()\n",
    "\n",
    "    scatter= ax.scatter(dates,variable, marker='.', c=pd.DatetimeIndex(dates).month)\n",
    "\n",
    "    ax.legend(handles=scatter.legend_elements()[0], labels=['February','March','April'])\n",
    "    fig.suptitle('Daily ' + title + ' (15 Feb - 30 Apr)')\n",
    "    \n",
    "    fig.show()"
   ]
  },
  {
   "cell_type": "markdown",
   "metadata": {},
   "source": [
    "## Plotting 3"
   ]
  },
  {
   "cell_type": "code",
   "execution_count": 20,
   "metadata": {},
   "outputs": [],
   "source": [
    "def plotting3(targets, model, variable, variable_name):\n",
    "\n",
    "    fig, ax = plt.subplots(2,2, figsize = (10,15))\n",
    "\n",
    "    cmap = plt.get_cmap('cubehelix')\n",
    "    cmap.set_bad('gray')\n",
    "\n",
    "    variable.plot(ax=ax[0,0], cmap=cmap, vmin = targets.min(), vmax =targets.max(), cbar_kwargs={'label': variable_name + ' Concentration  [mmol m-2]'})\n",
    "    model.plot(ax=ax[0,1], cmap=cmap, vmin = targets.min(), vmax = targets.max(), cbar_kwargs={'label': variable_name + ' Concentration  [mmol m-2]'})\n",
    "    ((variable-model) / variable * 100).plot(ax=ax[1,0], cmap=cmap, cbar_kwargs={'label': variable_name + ' Concentration  [percentage]'})\n",
    "\n",
    "    plt.subplots_adjust(left=0.1,\n",
    "        bottom=0.1, \n",
    "        right=0.95, \n",
    "        top=0.95, \n",
    "        wspace=0.35, \n",
    "        hspace=0.35)\n",
    "\n",
    "    sa_vi.set_aspect(ax[0,0])\n",
    "    sa_vi.set_aspect(ax[0,1])\n",
    "    sa_vi.set_aspect(ax[1,0])\n",
    "\n",
    "\n",
    "    ax[0,0].title.set_text(variable_name + ' (targets)')\n",
    "    ax[0,1].title.set_text(variable_name + ' (outputs)')\n",
    "    ax[1,0].title.set_text('targets - outputs')\n",
    "    ax[1,1].axis('off')\n",
    "\n",
    "    fig.suptitle(str(date.date[0]))\n",
    "\n",
    "    plt.show()\n",
    "    "
   ]
  },
  {
   "cell_type": "markdown",
   "metadata": {},
   "source": [
    "## Regressor 2"
   ]
  },
  {
   "cell_type": "code",
   "execution_count": 21,
   "metadata": {},
   "outputs": [],
   "source": [
    "def regressor2 (inputs, targets, variable_name):\n",
    "    \n",
    "    inputs = inputs.transpose()\n",
    "    \n",
    "    # Regressor\n",
    "    scale = preprocessing.StandardScaler()\n",
    "    inputs2 = scale.fit_transform(inputs)\n",
    "\n",
    "    outputs_test = regr.predict(inputs2)\n",
    "   \n",
    "    m = scatter_plot(targets, outputs_test, variable_name) \n",
    "    r = np.round(np.corrcoef(targets, outputs_test)[0][1],3)\n",
    "    rms = np.round(mse(targets, outputs_test),4)\n",
    "\n",
    "    return (r, rms, m)"
   ]
  },
  {
   "cell_type": "markdown",
   "metadata": {},
   "source": [
    "## Regressor 3"
   ]
  },
  {
   "cell_type": "code",
   "execution_count": 22,
   "metadata": {},
   "outputs": [],
   "source": [
    "def regressor3 (inputs, targets, variable_name):\n",
    "    \n",
    "    inputs = inputs.transpose()\n",
    "    \n",
    "    # Regressor\n",
    "    scale = preprocessing.StandardScaler()\n",
    "    inputs2 = scale.fit_transform(inputs)\n",
    "\n",
    "    outputs = regr.predict(inputs2)\n",
    "\n",
    "    # Post processing\n",
    "    indx2 = np.full((898*398),np.nan)\n",
    "    indx2[indx[0]] = outputs\n",
    "    model = np.reshape(indx2,(898,398)) \n",
    "\n",
    "    m = scatter_plot(targets, outputs, variable_name + ' (Testing dataset)') \n",
    "\n",
    "    # Preparation of the dataarray \n",
    "    model = xr.DataArray(model,\n",
    "        coords = {'y': diat_i.y, 'x': diat_i.x},\n",
    "        dims = ['y','x'],\n",
    "        attrs=dict( long_name = variable_name + \" Concentration\",\n",
    "        units=\"mmol m-2\"),)\n",
    "                        \n",
    "    plotting3(targets, model, diat_i, variable_name)"
   ]
  },
  {
   "cell_type": "markdown",
   "metadata": {},
   "source": [
    "## Regressor 4"
   ]
  },
  {
   "cell_type": "code",
   "execution_count": 23,
   "metadata": {},
   "outputs": [],
   "source": [
    "def regressor4 (inputs, targets, variable_name):\n",
    "    \n",
    "    inputs = inputs.transpose()\n",
    "    \n",
    "    # Regressor\n",
    "    scale = preprocessing.StandardScaler()\n",
    "    inputs2 = scale.fit_transform(inputs)\n",
    "\n",
    "    outputs_test = regr.predict(inputs2)\n",
    "   \n",
    "    # compute slope m and intercept b\n",
    "    m, b = np.polyfit(targets, outputs_test, deg=1)\n",
    "    \n",
    "    r = np.round(np.corrcoef(targets, outputs_test)[0][1],3)\n",
    "    rms = np.round(mse(targets, outputs_test),4)\n",
    "\n",
    "    return (r, rms, m)"
   ]
  },
  {
   "cell_type": "markdown",
   "metadata": {},
   "source": [
    "## Training (Random Days)"
   ]
  },
  {
   "cell_type": "code",
   "execution_count": 24,
   "metadata": {},
   "outputs": [
    {
     "name": "stdout",
     "output_type": "stream",
     "text": [
      "Gathering days for the model\n"
     ]
    },
    {
     "data": {
      "application/vnd.jupyter.widget-view+json": {
       "model_id": "cf353f3fb8864073983b8e9363803a93",
       "version_major": 2,
       "version_minor": 0
      },
      "text/plain": [
       "  0%|          | 0/447 [00:00<?, ?it/s]"
      ]
     },
     "metadata": {},
     "output_type": "display_data"
    },
    {
     "name": "stdout",
     "output_type": "stream",
     "text": [
      "Done gathering, building the prediction model\n",
      "\n",
      "\n"
     ]
    },
    {
     "name": "stderr",
     "output_type": "stream",
     "text": [
      "[Parallel(n_jobs=4)]: Using backend LokyBackend with 4 concurrent workers.\n"
     ]
    },
    {
     "name": "stdout",
     "output_type": "stream",
     "text": [
      "Building estimator 1 of 3 for this parallel run (total 10)...\n",
      "Building estimator 1 of 3 for this parallel run (total 10)...\n",
      "Building estimator 1 of 2 for this parallel run (total 10)...\n",
      "Building estimator 1 of 2 for this parallel run (total 10)...\n",
      "[LibSVM][LibSVM][LibSVM][LibSVM].............................................................................................................................................................................................................................................................................................................................................................................................................................................................................................................................................................................................................................................."
     ]
    },
    {
     "ename": "KeyboardInterrupt",
     "evalue": "",
     "output_type": "error",
     "traceback": [
      "\u001b[0;31m---------------------------------------------------------------------------\u001b[0m",
      "\u001b[0;31mKeyboardInterrupt\u001b[0m                         Traceback (most recent call last)",
      "Cell \u001b[0;32mIn[24], line 49\u001b[0m\n\u001b[1;32m     46\u001b[0m \u001b[38;5;28mprint\u001b[39m (\u001b[38;5;124m'\u001b[39m\u001b[38;5;124mDone gathering, building the prediction model\u001b[39m\u001b[38;5;124m'\u001b[39m)\n\u001b[1;32m     47\u001b[0m \u001b[38;5;28mprint\u001b[39m (\u001b[38;5;124m'\u001b[39m\u001b[38;5;130;01m\\n\u001b[39;00m\u001b[38;5;124m'\u001b[39m)\n\u001b[0;32m---> 49\u001b[0m r, rms, m, regr \u001b[38;5;241m=\u001b[39m \u001b[43mregressor\u001b[49m\u001b[43m(\u001b[49m\u001b[43mdrivers_all\u001b[49m\u001b[43m,\u001b[49m\u001b[43m \u001b[49m\u001b[43mdiat_all\u001b[49m\u001b[43m,\u001b[49m\u001b[43m \u001b[49m\u001b[38;5;124;43m'\u001b[39;49m\u001b[38;5;124;43mDiatom (Training with Random Days, Testing Dataset)\u001b[39;49m\u001b[38;5;124;43m'\u001b[39;49m\u001b[43m)\u001b[49m\n",
      "Cell \u001b[0;32mIn[15], line 11\u001b[0m, in \u001b[0;36mregressor\u001b[0;34m(inputs, targets, variable_name)\u001b[0m\n\u001b[1;32m      8\u001b[0m X_train, X_test, y_train, y_test \u001b[38;5;241m=\u001b[39m train_test_split(inputs2, targets)\n\u001b[1;32m     10\u001b[0m model \u001b[38;5;241m=\u001b[39m SVR(epsilon\u001b[38;5;241m=\u001b[39m\u001b[38;5;241m0.01\u001b[39m, shrinking\u001b[38;5;241m=\u001b[39m\u001b[38;5;28;01mFalse\u001b[39;00m, tol\u001b[38;5;241m=\u001b[39m\u001b[38;5;241m0.005\u001b[39m, cache_size\u001b[38;5;241m=\u001b[39m\u001b[38;5;241m500\u001b[39m, verbose\u001b[38;5;241m=\u001b[39m\u001b[38;5;241m4\u001b[39m)\n\u001b[0;32m---> 11\u001b[0m regr \u001b[38;5;241m=\u001b[39m \u001b[43mBaggingRegressor\u001b[49m\u001b[43m(\u001b[49m\u001b[43mmodel\u001b[49m\u001b[43m,\u001b[49m\u001b[43m \u001b[49m\u001b[43mn_estimators\u001b[49m\u001b[38;5;241;43m=\u001b[39;49m\u001b[38;5;241;43m10\u001b[39;49m\u001b[43m,\u001b[49m\u001b[43m \u001b[49m\u001b[43mn_jobs\u001b[49m\u001b[38;5;241;43m=\u001b[39;49m\u001b[38;5;241;43m4\u001b[39;49m\u001b[43m,\u001b[49m\u001b[43m \u001b[49m\u001b[43mverbose\u001b[49m\u001b[38;5;241;43m=\u001b[39;49m\u001b[38;5;241;43m4\u001b[39;49m\u001b[43m)\u001b[49m\u001b[38;5;241;43m.\u001b[39;49m\u001b[43mfit\u001b[49m\u001b[43m(\u001b[49m\u001b[43mX_train\u001b[49m\u001b[43m,\u001b[49m\u001b[43m \u001b[49m\u001b[43my_train\u001b[49m\u001b[43m)\u001b[49m\n\u001b[1;32m     13\u001b[0m outputs_test \u001b[38;5;241m=\u001b[39m regr\u001b[38;5;241m.\u001b[39mpredict(X_test)\n\u001b[1;32m     15\u001b[0m m \u001b[38;5;241m=\u001b[39m scatter_plot(y_test, outputs_test, variable_name) \n",
      "File \u001b[0;32m~/conda_envs/analysis-ilias/lib/python3.11/site-packages/sklearn/base.py:1351\u001b[0m, in \u001b[0;36m_fit_context.<locals>.decorator.<locals>.wrapper\u001b[0;34m(estimator, *args, **kwargs)\u001b[0m\n\u001b[1;32m   1344\u001b[0m     estimator\u001b[38;5;241m.\u001b[39m_validate_params()\n\u001b[1;32m   1346\u001b[0m \u001b[38;5;28;01mwith\u001b[39;00m config_context(\n\u001b[1;32m   1347\u001b[0m     skip_parameter_validation\u001b[38;5;241m=\u001b[39m(\n\u001b[1;32m   1348\u001b[0m         prefer_skip_nested_validation \u001b[38;5;129;01mor\u001b[39;00m global_skip_validation\n\u001b[1;32m   1349\u001b[0m     )\n\u001b[1;32m   1350\u001b[0m ):\n\u001b[0;32m-> 1351\u001b[0m     \u001b[38;5;28;01mreturn\u001b[39;00m \u001b[43mfit_method\u001b[49m\u001b[43m(\u001b[49m\u001b[43mestimator\u001b[49m\u001b[43m,\u001b[49m\u001b[43m \u001b[49m\u001b[38;5;241;43m*\u001b[39;49m\u001b[43margs\u001b[49m\u001b[43m,\u001b[49m\u001b[43m \u001b[49m\u001b[38;5;241;43m*\u001b[39;49m\u001b[38;5;241;43m*\u001b[39;49m\u001b[43mkwargs\u001b[49m\u001b[43m)\u001b[49m\n",
      "File \u001b[0;32m~/conda_envs/analysis-ilias/lib/python3.11/site-packages/sklearn/ensemble/_bagging.py:334\u001b[0m, in \u001b[0;36mBaseBagging.fit\u001b[0;34m(self, X, y, sample_weight)\u001b[0m\n\u001b[1;32m    325\u001b[0m \u001b[38;5;66;03m# Convert data (X is required to be 2d and indexable)\u001b[39;00m\n\u001b[1;32m    326\u001b[0m X, y \u001b[38;5;241m=\u001b[39m \u001b[38;5;28mself\u001b[39m\u001b[38;5;241m.\u001b[39m_validate_data(\n\u001b[1;32m    327\u001b[0m     X,\n\u001b[1;32m    328\u001b[0m     y,\n\u001b[0;32m   (...)\u001b[0m\n\u001b[1;32m    332\u001b[0m     multi_output\u001b[38;5;241m=\u001b[39m\u001b[38;5;28;01mTrue\u001b[39;00m,\n\u001b[1;32m    333\u001b[0m )\n\u001b[0;32m--> 334\u001b[0m \u001b[38;5;28;01mreturn\u001b[39;00m \u001b[38;5;28;43mself\u001b[39;49m\u001b[38;5;241;43m.\u001b[39;49m\u001b[43m_fit\u001b[49m\u001b[43m(\u001b[49m\u001b[43mX\u001b[49m\u001b[43m,\u001b[49m\u001b[43m \u001b[49m\u001b[43my\u001b[49m\u001b[43m,\u001b[49m\u001b[43m \u001b[49m\u001b[38;5;28;43mself\u001b[39;49m\u001b[38;5;241;43m.\u001b[39;49m\u001b[43mmax_samples\u001b[49m\u001b[43m,\u001b[49m\u001b[43m \u001b[49m\u001b[43msample_weight\u001b[49m\u001b[38;5;241;43m=\u001b[39;49m\u001b[43msample_weight\u001b[49m\u001b[43m)\u001b[49m\n",
      "File \u001b[0;32m~/conda_envs/analysis-ilias/lib/python3.11/site-packages/sklearn/ensemble/_bagging.py:469\u001b[0m, in \u001b[0;36mBaseBagging._fit\u001b[0;34m(self, X, y, max_samples, max_depth, sample_weight, check_input)\u001b[0m\n\u001b[1;32m    466\u001b[0m seeds \u001b[38;5;241m=\u001b[39m random_state\u001b[38;5;241m.\u001b[39mrandint(MAX_INT, size\u001b[38;5;241m=\u001b[39mn_more_estimators)\n\u001b[1;32m    467\u001b[0m \u001b[38;5;28mself\u001b[39m\u001b[38;5;241m.\u001b[39m_seeds \u001b[38;5;241m=\u001b[39m seeds\n\u001b[0;32m--> 469\u001b[0m all_results \u001b[38;5;241m=\u001b[39m \u001b[43mParallel\u001b[49m\u001b[43m(\u001b[49m\n\u001b[1;32m    470\u001b[0m \u001b[43m    \u001b[49m\u001b[43mn_jobs\u001b[49m\u001b[38;5;241;43m=\u001b[39;49m\u001b[43mn_jobs\u001b[49m\u001b[43m,\u001b[49m\u001b[43m \u001b[49m\u001b[43mverbose\u001b[49m\u001b[38;5;241;43m=\u001b[39;49m\u001b[38;5;28;43mself\u001b[39;49m\u001b[38;5;241;43m.\u001b[39;49m\u001b[43mverbose\u001b[49m\u001b[43m,\u001b[49m\u001b[43m \u001b[49m\u001b[38;5;241;43m*\u001b[39;49m\u001b[38;5;241;43m*\u001b[39;49m\u001b[38;5;28;43mself\u001b[39;49m\u001b[38;5;241;43m.\u001b[39;49m\u001b[43m_parallel_args\u001b[49m\u001b[43m(\u001b[49m\u001b[43m)\u001b[49m\n\u001b[1;32m    471\u001b[0m \u001b[43m\u001b[49m\u001b[43m)\u001b[49m\u001b[43m(\u001b[49m\n\u001b[1;32m    472\u001b[0m \u001b[43m    \u001b[49m\u001b[43mdelayed\u001b[49m\u001b[43m(\u001b[49m\u001b[43m_parallel_build_estimators\u001b[49m\u001b[43m)\u001b[49m\u001b[43m(\u001b[49m\n\u001b[1;32m    473\u001b[0m \u001b[43m        \u001b[49m\u001b[43mn_estimators\u001b[49m\u001b[43m[\u001b[49m\u001b[43mi\u001b[49m\u001b[43m]\u001b[49m\u001b[43m,\u001b[49m\n\u001b[1;32m    474\u001b[0m \u001b[43m        \u001b[49m\u001b[38;5;28;43mself\u001b[39;49m\u001b[43m,\u001b[49m\n\u001b[1;32m    475\u001b[0m \u001b[43m        \u001b[49m\u001b[43mX\u001b[49m\u001b[43m,\u001b[49m\n\u001b[1;32m    476\u001b[0m \u001b[43m        \u001b[49m\u001b[43my\u001b[49m\u001b[43m,\u001b[49m\n\u001b[1;32m    477\u001b[0m \u001b[43m        \u001b[49m\u001b[43msample_weight\u001b[49m\u001b[43m,\u001b[49m\n\u001b[1;32m    478\u001b[0m \u001b[43m        \u001b[49m\u001b[43mseeds\u001b[49m\u001b[43m[\u001b[49m\u001b[43mstarts\u001b[49m\u001b[43m[\u001b[49m\u001b[43mi\u001b[49m\u001b[43m]\u001b[49m\u001b[43m \u001b[49m\u001b[43m:\u001b[49m\u001b[43m \u001b[49m\u001b[43mstarts\u001b[49m\u001b[43m[\u001b[49m\u001b[43mi\u001b[49m\u001b[43m \u001b[49m\u001b[38;5;241;43m+\u001b[39;49m\u001b[43m \u001b[49m\u001b[38;5;241;43m1\u001b[39;49m\u001b[43m]\u001b[49m\u001b[43m]\u001b[49m\u001b[43m,\u001b[49m\n\u001b[1;32m    479\u001b[0m \u001b[43m        \u001b[49m\u001b[43mtotal_n_estimators\u001b[49m\u001b[43m,\u001b[49m\n\u001b[1;32m    480\u001b[0m \u001b[43m        \u001b[49m\u001b[43mverbose\u001b[49m\u001b[38;5;241;43m=\u001b[39;49m\u001b[38;5;28;43mself\u001b[39;49m\u001b[38;5;241;43m.\u001b[39;49m\u001b[43mverbose\u001b[49m\u001b[43m,\u001b[49m\n\u001b[1;32m    481\u001b[0m \u001b[43m        \u001b[49m\u001b[43mcheck_input\u001b[49m\u001b[38;5;241;43m=\u001b[39;49m\u001b[43mcheck_input\u001b[49m\u001b[43m,\u001b[49m\n\u001b[1;32m    482\u001b[0m \u001b[43m    \u001b[49m\u001b[43m)\u001b[49m\n\u001b[1;32m    483\u001b[0m \u001b[43m    \u001b[49m\u001b[38;5;28;43;01mfor\u001b[39;49;00m\u001b[43m \u001b[49m\u001b[43mi\u001b[49m\u001b[43m \u001b[49m\u001b[38;5;129;43;01min\u001b[39;49;00m\u001b[43m \u001b[49m\u001b[38;5;28;43mrange\u001b[39;49m\u001b[43m(\u001b[49m\u001b[43mn_jobs\u001b[49m\u001b[43m)\u001b[49m\n\u001b[1;32m    484\u001b[0m \u001b[43m\u001b[49m\u001b[43m)\u001b[49m\n\u001b[1;32m    486\u001b[0m \u001b[38;5;66;03m# Reduce\u001b[39;00m\n\u001b[1;32m    487\u001b[0m \u001b[38;5;28mself\u001b[39m\u001b[38;5;241m.\u001b[39mestimators_ \u001b[38;5;241m+\u001b[39m\u001b[38;5;241m=\u001b[39m \u001b[38;5;28mlist\u001b[39m(\n\u001b[1;32m    488\u001b[0m     itertools\u001b[38;5;241m.\u001b[39mchain\u001b[38;5;241m.\u001b[39mfrom_iterable(t[\u001b[38;5;241m0\u001b[39m] \u001b[38;5;28;01mfor\u001b[39;00m t \u001b[38;5;129;01min\u001b[39;00m all_results)\n\u001b[1;32m    489\u001b[0m )\n",
      "File \u001b[0;32m~/conda_envs/analysis-ilias/lib/python3.11/site-packages/sklearn/utils/parallel.py:67\u001b[0m, in \u001b[0;36mParallel.__call__\u001b[0;34m(self, iterable)\u001b[0m\n\u001b[1;32m     62\u001b[0m config \u001b[38;5;241m=\u001b[39m get_config()\n\u001b[1;32m     63\u001b[0m iterable_with_config \u001b[38;5;241m=\u001b[39m (\n\u001b[1;32m     64\u001b[0m     (_with_config(delayed_func, config), args, kwargs)\n\u001b[1;32m     65\u001b[0m     \u001b[38;5;28;01mfor\u001b[39;00m delayed_func, args, kwargs \u001b[38;5;129;01min\u001b[39;00m iterable\n\u001b[1;32m     66\u001b[0m )\n\u001b[0;32m---> 67\u001b[0m \u001b[38;5;28;01mreturn\u001b[39;00m \u001b[38;5;28;43msuper\u001b[39;49m\u001b[43m(\u001b[49m\u001b[43m)\u001b[49m\u001b[38;5;241;43m.\u001b[39;49m\u001b[38;5;21;43m__call__\u001b[39;49m\u001b[43m(\u001b[49m\u001b[43miterable_with_config\u001b[49m\u001b[43m)\u001b[49m\n",
      "File \u001b[0;32m~/conda_envs/analysis-ilias/lib/python3.11/site-packages/joblib/parallel.py:1952\u001b[0m, in \u001b[0;36mParallel.__call__\u001b[0;34m(self, iterable)\u001b[0m\n\u001b[1;32m   1946\u001b[0m \u001b[38;5;66;03m# The first item from the output is blank, but it makes the interpreter\u001b[39;00m\n\u001b[1;32m   1947\u001b[0m \u001b[38;5;66;03m# progress until it enters the Try/Except block of the generator and\u001b[39;00m\n\u001b[1;32m   1948\u001b[0m \u001b[38;5;66;03m# reach the first `yield` statement. This starts the aynchronous\u001b[39;00m\n\u001b[1;32m   1949\u001b[0m \u001b[38;5;66;03m# dispatch of the tasks to the workers.\u001b[39;00m\n\u001b[1;32m   1950\u001b[0m \u001b[38;5;28mnext\u001b[39m(output)\n\u001b[0;32m-> 1952\u001b[0m \u001b[38;5;28;01mreturn\u001b[39;00m output \u001b[38;5;28;01mif\u001b[39;00m \u001b[38;5;28mself\u001b[39m\u001b[38;5;241m.\u001b[39mreturn_generator \u001b[38;5;28;01melse\u001b[39;00m \u001b[38;5;28;43mlist\u001b[39;49m\u001b[43m(\u001b[49m\u001b[43moutput\u001b[49m\u001b[43m)\u001b[49m\n",
      "File \u001b[0;32m~/conda_envs/analysis-ilias/lib/python3.11/site-packages/joblib/parallel.py:1595\u001b[0m, in \u001b[0;36mParallel._get_outputs\u001b[0;34m(self, iterator, pre_dispatch)\u001b[0m\n\u001b[1;32m   1592\u001b[0m     \u001b[38;5;28;01myield\u001b[39;00m\n\u001b[1;32m   1594\u001b[0m     \u001b[38;5;28;01mwith\u001b[39;00m \u001b[38;5;28mself\u001b[39m\u001b[38;5;241m.\u001b[39m_backend\u001b[38;5;241m.\u001b[39mretrieval_context():\n\u001b[0;32m-> 1595\u001b[0m         \u001b[38;5;28;01myield from\u001b[39;00m \u001b[38;5;28mself\u001b[39m\u001b[38;5;241m.\u001b[39m_retrieve()\n\u001b[1;32m   1597\u001b[0m \u001b[38;5;28;01mexcept\u001b[39;00m \u001b[38;5;167;01mGeneratorExit\u001b[39;00m:\n\u001b[1;32m   1598\u001b[0m     \u001b[38;5;66;03m# The generator has been garbage collected before being fully\u001b[39;00m\n\u001b[1;32m   1599\u001b[0m     \u001b[38;5;66;03m# consumed. This aborts the remaining tasks if possible and warn\u001b[39;00m\n\u001b[1;32m   1600\u001b[0m     \u001b[38;5;66;03m# the user if necessary.\u001b[39;00m\n\u001b[1;32m   1601\u001b[0m     \u001b[38;5;28mself\u001b[39m\u001b[38;5;241m.\u001b[39m_exception \u001b[38;5;241m=\u001b[39m \u001b[38;5;28;01mTrue\u001b[39;00m\n",
      "File \u001b[0;32m~/conda_envs/analysis-ilias/lib/python3.11/site-packages/joblib/parallel.py:1707\u001b[0m, in \u001b[0;36mParallel._retrieve\u001b[0;34m(self)\u001b[0m\n\u001b[1;32m   1702\u001b[0m \u001b[38;5;66;03m# If the next job is not ready for retrieval yet, we just wait for\u001b[39;00m\n\u001b[1;32m   1703\u001b[0m \u001b[38;5;66;03m# async callbacks to progress.\u001b[39;00m\n\u001b[1;32m   1704\u001b[0m \u001b[38;5;28;01mif\u001b[39;00m ((\u001b[38;5;28mlen\u001b[39m(\u001b[38;5;28mself\u001b[39m\u001b[38;5;241m.\u001b[39m_jobs) \u001b[38;5;241m==\u001b[39m \u001b[38;5;241m0\u001b[39m) \u001b[38;5;129;01mor\u001b[39;00m\n\u001b[1;32m   1705\u001b[0m     (\u001b[38;5;28mself\u001b[39m\u001b[38;5;241m.\u001b[39m_jobs[\u001b[38;5;241m0\u001b[39m]\u001b[38;5;241m.\u001b[39mget_status(\n\u001b[1;32m   1706\u001b[0m         timeout\u001b[38;5;241m=\u001b[39m\u001b[38;5;28mself\u001b[39m\u001b[38;5;241m.\u001b[39mtimeout) \u001b[38;5;241m==\u001b[39m TASK_PENDING)):\n\u001b[0;32m-> 1707\u001b[0m     time\u001b[38;5;241m.\u001b[39msleep(\u001b[38;5;241m0.01\u001b[39m)\n\u001b[1;32m   1708\u001b[0m     \u001b[38;5;28;01mcontinue\u001b[39;00m\n\u001b[1;32m   1710\u001b[0m \u001b[38;5;66;03m# We need to be careful: the job list can be filling up as\u001b[39;00m\n\u001b[1;32m   1711\u001b[0m \u001b[38;5;66;03m# we empty it and Python list are not thread-safe by\u001b[39;00m\n\u001b[1;32m   1712\u001b[0m \u001b[38;5;66;03m# default hence the use of the lock\u001b[39;00m\n",
      "\u001b[0;31mKeyboardInterrupt\u001b[0m: "
     ]
    }
   ],
   "source": [
    "dict_month = {'jan': '01',\n",
    "         'feb': '02',\n",
    "         'mar': '03',\n",
    "         'apr': '04',\n",
    "         'may': '05',\n",
    "         'jun': '06',\n",
    "         'jul': '07',\n",
    "         'aug': '08',\n",
    "         'sep': '09',\n",
    "         'oct': '10',\n",
    "         'nov': '11',\n",
    "         'dec': '12'}\n",
    "\n",
    "path = os.listdir('/results2/SalishSea/nowcast-green.202111/')\n",
    "\n",
    "# Open the mesh mask\n",
    "mesh = xr.open_dataset('/home/sallen/MEOPAR/grid/mesh_mask202108.nc')\n",
    "mask = mesh.tmask.to_numpy()\n",
    "\n",
    "folders = [x for x in path if ((x[2:5]=='mar' or x[2:5]=='apr' or (x[2:5]=='feb' and x[0:2] > '14')))]\n",
    "indx_dates=(np.argsort(pd.to_datetime(folders, format=\"%d%b%y\")))\n",
    "folders = [folders[i] for i in indx_dates]\n",
    "\n",
    "train_folders = random.sample(folders,int(len(folders)*0.35))\n",
    "\n",
    "drivers_all = np.array([[],[],[],[]])\n",
    "diat_all = np.array([])\n",
    "\n",
    "print ('Gathering days for the model')\n",
    "\n",
    "for i in tqdm(train_folders):\n",
    "\n",
    "    date, temp_i1, temp_i2, saline_i1, saline_i2, diat_i = datasets_preparation()\n",
    "\n",
    "    drivers = np.stack([np.ravel(temp_i1), np.ravel(temp_i2), np.ravel(saline_i1), np.ravel(saline_i2)])\n",
    "    indx = np.where(~np.isnan(drivers).any(axis=0))\n",
    "    drivers = drivers[:,indx[0]]\n",
    "    drivers_all = np.concatenate((drivers_all,drivers),axis=1)\n",
    "\n",
    "    diat = np.ravel(diat_i)\n",
    "    diat = diat[indx[0]]\n",
    "    diat_all = np.concatenate((diat_all,diat))\n",
    "\n",
    "    sleep(0.1)\n",
    "\n",
    "print ('Done gathering, building the prediction model')\n",
    "print ('\\n')\n",
    "\n",
    "r, rms, m, regr = regressor(drivers_all, diat_all, 'Diatom (Training with Random Days, Testing Dataset)')\n"
   ]
  },
  {
   "cell_type": "markdown",
   "metadata": {},
   "source": [
    "## Other Years (Anually)"
   ]
  },
  {
   "cell_type": "code",
   "execution_count": null,
   "metadata": {},
   "outputs": [],
   "source": [
    "years = range (2007,2024)\n",
    "\n",
    "r_all = []\n",
    "rms_all = []\n",
    "slope_all = []\n",
    "\n",
    "for year in range (2007,2024):\n",
    "\n",
    "    year_str = str(year)[2:4]\n",
    "\n",
    "    folders = [x for x in path if ((x[2:5]=='mar' or x[2:5]=='apr' or (x[2:5]=='feb' and x[0:2] > '14')) and (x[5:7]==year_str))]\n",
    "    indx_dates=(np.argsort(pd.to_datetime(folders, format=\"%d%b%y\")))\n",
    "    folders = [folders[i] for i in indx_dates]\n",
    "\n",
    "    drivers_all = np.array([[],[],[],[]])\n",
    "    diat_all = np.array([])\n",
    "\n",
    "    print ('Gathering days for year ' + str(year))\n",
    "    for i in tqdm(folders):\n",
    "\n",
    "        if i not in train_folders:\n",
    "\n",
    "            date, temp_i1, temp_i2, saline_i1, saline_i2, diat_i = datasets_preparation()\n",
    "\n",
    "            drivers = np.stack([np.ravel(temp_i1), np.ravel(temp_i2), np.ravel(saline_i1), np.ravel(saline_i2)])\n",
    "            indx = np.where(~np.isnan(drivers).any(axis=0))\n",
    "            drivers = drivers[:,indx[0]]\n",
    "            drivers_all = np.concatenate((drivers_all,drivers),axis=1)\n",
    "\n",
    "            diat = np.ravel(diat_i)\n",
    "            diat = diat[indx[0]]\n",
    "            diat_all = np.concatenate((diat_all,diat))\n",
    "\n",
    "    r, rms, m = regressor2(drivers_all, diat_all, 'Diatom ' + str(year))\n",
    "    \n",
    "    r_all.append(r)\n",
    "    rms_all.append(rms)\n",
    "    slope_all.append(m)\n",
    "    \n",
    "plotting(np.transpose(r_all), 'Correlation Coefficient')\n",
    "plotting(np.transpose(rms_all), 'Mean Square Error')\n",
    "plotting (np.transpose(slope_all), 'Slope of the best fitting line')\n"
   ]
  },
  {
   "cell_type": "markdown",
   "metadata": {},
   "source": [
    "## Other Years (Daily)"
   ]
  },
  {
   "cell_type": "code",
   "execution_count": null,
   "metadata": {},
   "outputs": [],
   "source": [
    "dates = np.array([])\n",
    "r_all2 = np.array([])\n",
    "rms_all2 = np.array([])\n",
    "slope_all2 = np.array([])\n",
    "\n",
    "folders = [x for x in path if ((x[2:5]=='mar' or x[2:5]=='apr' or (x[2:5]=='feb' and x[0:2] > '14')))]\n",
    "indx_dates=(np.argsort(pd.to_datetime(folders, format=\"%d%b%y\")))\n",
    "folders = [folders[i] for i in indx_dates]\n",
    "\n",
    "for i in tqdm(folders, colour = 'green'):\n",
    "    \n",
    "    date, temp_i1, temp_i2, saline_i1, saline_i2, diat_i, = datasets_preparation()\n",
    "\n",
    "    drivers = np.stack([np.ravel(temp_i1), np.ravel(temp_i2), np.ravel(saline_i1), np.ravel(saline_i2)])\n",
    "    indx = np.where(~np.isnan(drivers).any(axis=0))\n",
    "    drivers = drivers[:,indx[0]]\n",
    "\n",
    "    diat = np.ravel(diat_i)\n",
    "    diat = diat[indx[0]]\n",
    "\n",
    "    r, rms, m = regressor4(drivers, diat, 'Diatom')\n",
    "\n",
    "    dates = np.append(dates,date.date) \n",
    "    r_all2 = np.append(r_all2,r)\n",
    "    rms_all2 = np.append(rms_all2,rms)\n",
    "    slope_all2 = np.append(slope_all2,m)\n",
    "\n",
    "plotting2(r_all2, 'Correlation Coefficients')\n",
    "plotting2(rms_all2, 'Mean Square Errors')\n",
    "plotting2(slope_all2, 'Slope of the best fitting line')\n"
   ]
  },
  {
   "cell_type": "markdown",
   "metadata": {},
   "source": [
    "# Daily Maps"
   ]
  },
  {
   "cell_type": "code",
   "execution_count": null,
   "metadata": {},
   "outputs": [],
   "source": [
    "maps = random.sample(folders,10)\n",
    "\n",
    "for i in tqdm(maps):\n",
    "\n",
    "    if i not in train_folders:\n",
    "    \n",
    "        date, temp_i1, temp_i2, saline_i1, saline_i2, diat_i, = datasets_preparation()\n",
    "\n",
    "        drivers = np.stack([np.ravel(temp_i1), np.ravel(temp_i2), np.ravel(saline_i1), np.ravel(saline_i2)])\n",
    "        indx = np.where(~np.isnan(drivers).any(axis=0))\n",
    "        drivers = drivers[:,indx[0]]\n",
    "\n",
    "        diat = np.ravel(diat_i)\n",
    "        diat = diat[indx[0]]\n",
    "\n",
    "        regressor3(drivers, diat, 'Diatom')\n"
   ]
  },
  {
   "cell_type": "code",
   "execution_count": null,
   "metadata": {},
   "outputs": [],
   "source": []
  }
 ],
 "metadata": {
  "kernelspec": {
   "display_name": "analysis-ilias",
   "language": "python",
   "name": "python3"
  },
  "language_info": {
   "codemirror_mode": {
    "name": "ipython",
    "version": 3
   },
   "file_extension": ".py",
   "mimetype": "text/x-python",
   "name": "python",
   "nbconvert_exporter": "python",
   "pygments_lexer": "ipython3",
   "version": "3.11.7"
  }
 },
 "nbformat": 4,
 "nbformat_minor": 2
}
